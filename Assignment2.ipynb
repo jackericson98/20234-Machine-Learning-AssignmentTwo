{
  "cells": [
    {
      "cell_type": "markdown",
      "metadata": {
        "id": "view-in-github",
        "colab_type": "text"
      },
      "source": [
        "<a href=\"https://colab.research.google.com/github/jackericson98/20234-Machine-Learning-AssignmentTwo/blob/main/Assignment2.ipynb\" target=\"_parent\"><img src=\"https://colab.research.google.com/assets/colab-badge.svg\" alt=\"Open In Colab\"/></a>"
      ]
    },
    {
      "cell_type": "markdown",
      "metadata": {
        "id": "Uc3L9tKWVV4g"
      },
      "source": [
        "# CSC 4850 / 6850 / DSCI 4850 - Assisgment 2 - (350/400 points)\n",
        "\n",
        "**Total points (350 undergraduate / 400 graduate)**\n",
        "\n",
        "**Student Name: (write your name here)**\n",
        "\n",
        "**Graduate / Undergraduate (select one)**\n",
        "\n",
        "## Instructions:\n",
        "\n",
        "You are to make a copy of this notebook on your own Google Drive (if you don't have one, get one, it is free), and use the exact format provided. Any code needs to go in the code cells, and any 'text' answer/description needs to go in the proper text cell. We will not be looking for answers randomly placed so please read the instructions.\n",
        "\n",
        "You are to use only the libraries provided in the next code cell. Any additional library is NOT allowed and will cause you to lose all the points that use said library's functions/functionality. You can use any functions given in the class code examples, but be very very careful of lifting anything \n",
        "'as-is' from the internet as it will be considerered plagiarism. \n",
        "\n",
        "**IMPORTANT: Make sure you use 1234 for your randomseed/random state. Failure to do so will make your answers not comparable to the answer key and you will get a zero on the whole assignment.**\n",
        "\n",
        "## Submission format:\n",
        "\n",
        "The submission for Assignment two will have two components:\n",
        "\n",
        "1) You are to create a PDF from the PRINT out of this notebook with all cells executed sequentially. It is the student's responsibility to be able to do this and no excuses will be accepted, no legible PDF = zero grade. So practice and test before submission time. This PDF should be named LastName_FirstName-Assignment2.PDF\n",
        "\n",
        "2) The student should create a GitHub repository for this assignment and properly title the repository Class_CODE-ClassName-AssignmentTwo. This repository should have a readme file and the Google Colab notebook in it. Note that colab can save a copy directly to GitHub so make sure you test this. Downloading the notebook file and uploading it directly will result in 200 points deduction. The link to your GitHub repository should be included as text/message in the iCollege submission drop, failure to include this link will result in a 100 point penalty. \n",
        "\n",
        "## Extra Credit for all:\n",
        "\n",
        "Any student can get 50 extra credit points by doing two simple things (you need to do BOTH):\n",
        "\n",
        "1) Make nice and pretty plots (only using the provided packages!)\n",
        "\n",
        "2) Make your GitHub repo professional (this includes your own landing page as well). Examples: https://github.com/abhisheknaiidu/awesome-github-profile-readme\n",
        "\n",
        "\n",
        "Remember that you will need a portfolio for your job search, and a professional looking repo will certainly impress recruiters/interviewers. So this is more of a favor to yourself! (yes, I follow this myself: https://github.com/jmbanda)\n"
      ]
    },
    {
      "cell_type": "code",
      "execution_count": null,
      "metadata": {
        "id": "PjGD5VGFVS-s"
      },
      "outputs": [],
      "source": [
        "############## These are the only imports allowed to solve this homework, so make sure you do not add anything else down below\n",
        "\n",
        "%matplotlib inline\n",
        "\n",
        "import numpy as np\n",
        "import pandas as pd\n",
        "import sklearn \n",
        "import numpy as np\n",
        "import matplotlib.pyplot as plt\n",
        "import seaborn as sns; sns.set()\n"
      ]
    },
    {
      "cell_type": "markdown",
      "metadata": {
        "id": "bwD8O4pok73c"
      },
      "source": [
        "## Renaming imported functions"
      ]
    },
    {
      "cell_type": "code",
      "execution_count": null,
      "metadata": {
        "id": "NG7ViQ3wk73c"
      },
      "outputs": [],
      "source": [
        "from sklearn.model_selection import train_test_split as tts\n",
        "from sklearn.linear_model import Perceptron as ptron, LogisticRegression as l_r\n",
        "from sklearn.metrics import accuracy_score as a_s, classification_report as c_r, confusion_matrix as c_m\n",
        "from sklearn.tree import DecisionTreeClassifier as dtc"
      ]
    },
    {
      "cell_type": "markdown",
      "metadata": {
        "id": "89_ilQegV-MS"
      },
      "source": [
        "Using the Wine dataset from sklearn:"
      ]
    },
    {
      "cell_type": "code",
      "execution_count": null,
      "metadata": {
        "id": "J_sakm7HV90A"
      },
      "outputs": [],
      "source": [
        "#get the wine dataset from sklearn and take a look at the description provided\n",
        "from sklearn import datasets\n",
        "wine = datasets.load_wine()"
      ]
    },
    {
      "cell_type": "markdown",
      "metadata": {
        "id": "0TLvYCXVbHN9"
      },
      "source": [
        "# Question 1 (10 points)\n",
        "\n",
        "What can you say about the dataset (use code to descirbe it)? any particular things of interest? Find at least two things that you find interesting."
      ]
    },
    {
      "cell_type": "code",
      "execution_count": null,
      "metadata": {
        "id": "ZIxSrPxmbGYZ",
        "outputId": "39d518a3-95c5-4231-8390-50fd9687ac6e"
      },
      "outputs": [
        {
          "name": "stdout",
          "output_type": "stream",
          "text": [
            "\n",
            "\n",
            "General Description of the data provided by the set:\n",
            "\n",
            " .. _wine_dataset:\n",
            "\n",
            "Wine recognition dataset\n",
            "------------------------\n",
            "\n",
            "**Data Set Characteristics:**\n",
            "\n",
            "    :Number of Instances: 178 (50 in each of three classes)\n",
            "    :Number of Attributes: 13 numeric, predictive attributes and the class\n",
            "    :Attribute Information:\n",
            " \t\t- Alcohol\n",
            " \t\t- Malic acid\n",
            " \t\t- Ash\n",
            "\t\t- Alcalinity of ash  \n",
            " \t\t- Magnesium\n",
            "\t\t- Total phenols\n",
            " \t\t- Flavanoids\n",
            " \t\t- Nonflavanoid phenols\n",
            " \t\t- Proanthocyanins\n",
            "\t\t- Color intensity\n",
            " \t\t- Hue\n",
            " \t\t- OD280/OD315 of diluted wines\n",
            " \t\t- Proline\n",
            "\n",
            "    - class:\n",
            "            - class_0\n",
            "            - class_1\n",
            "            - class_2\n",
            "\t\t\n",
            "    :Summary Statistics:\n",
            "    \n",
            "    ============================= ==== ===== ======= =====\n",
            "                                   Min   Max   Mean     SD\n",
            "    ============================= ==== ===== ======= =====\n",
            "    Alcohol:                      11.0  14.8    13.0   0.8\n",
            "    Malic Acid:                   0.74  5.80    2.34  1.12\n",
            "    Ash:                          1.36  3.23    2.36  0.27\n",
            "    Alcalinity of Ash:            10.6  30.0    19.5   3.3\n",
            "    Magnesium:                    70.0 162.0    99.7  14.3\n",
            "    Total Phenols:                0.98  3.88    2.29  0.63\n",
            "    Flavanoids:                   0.34  5.08    2.03  1.00\n",
            "    Nonflavanoid Phenols:         0.13  0.66    0.36  0.12\n",
            "    Proanthocyanins:              0.41  3.58    1.59  0.57\n",
            "    Colour Intensity:              1.3  13.0     5.1   2.3\n",
            "    Hue:                          0.48  1.71    0.96  0.23\n",
            "    OD280/OD315 of diluted wines: 1.27  4.00    2.61  0.71\n",
            "    Proline:                       278  1680     746   315\n",
            "    ============================= ==== ===== ======= =====\n",
            "\n",
            "    :Missing Attribute Values: None\n",
            "    :Class Distribution: class_0 (59), class_1 (71), class_2 (48)\n",
            "    :Creator: R.A. Fisher\n",
            "    :Donor: Michael Marshall (MARSHALL%PLU@io.arc.nasa.gov)\n",
            "    :Date: July, 1988\n",
            "\n",
            "This is a copy of UCI ML Wine recognition datasets.\n",
            "https://archive.ics.uci.edu/ml/machine-learning-databases/wine/wine.data\n",
            "\n",
            "The data is the results of a chemical analysis of wines grown in the same\n",
            "region in Italy by three different cultivators. There are thirteen different\n",
            "measurements taken for different constituents found in the three types of\n",
            "wine.\n",
            "\n",
            "Original Owners: \n",
            "\n",
            "Forina, M. et al, PARVUS - \n",
            "An Extendible Package for Data Exploration, Classification and Correlation. \n",
            "Institute of Pharmaceutical and Food Analysis and Technologies,\n",
            "Via Brigata Salerno, 16147 Genoa, Italy.\n",
            "\n",
            "Citation:\n",
            "\n",
            "Lichman, M. (2013). UCI Machine Learning Repository\n",
            "[https://archive.ics.uci.edu/ml]. Irvine, CA: University of California,\n",
            "School of Information and Computer Science. \n",
            "\n",
            ".. topic:: References\n",
            "\n",
            "  (1) S. Aeberhard, D. Coomans and O. de Vel, \n",
            "  Comparison of Classifiers in High Dimensional Settings, \n",
            "  Tech. Rep. no. 92-02, (1992), Dept. of Computer Science and Dept. of  \n",
            "  Mathematics and Statistics, James Cook University of North Queensland. \n",
            "  (Also submitted to Technometrics). \n",
            "\n",
            "  The data was used with many others for comparing various \n",
            "  classifiers. The classes are separable, though only RDA \n",
            "  has achieved 100% correct classification. \n",
            "  (RDA : 100%, QDA 99.4%, LDA 98.9%, 1NN 96.1% (z-transformed data)) \n",
            "  (All results using the leave-one-out technique) \n",
            "\n",
            "  (2) S. Aeberhard, D. Coomans and O. de Vel, \n",
            "  \"THE CLASSIFICATION PERFORMANCE OF RDA\" \n",
            "  Tech. Rep. no. 92-01, (1992), Dept. of Computer Science and Dept. of \n",
            "  Mathematics and Statistics, James Cook University of North Queensland. \n",
            "  (Also submitted to Journal of Chemometrics).\n",
            "\n",
            "====================================================================================================\n",
            "\n",
            "\n",
            "The data (178 rows x 13 columns)\n",
            "\n",
            " [[1.423e+01 1.710e+00 2.430e+00 ... 1.040e+00 3.920e+00 1.065e+03]\n",
            " [1.320e+01 1.780e+00 2.140e+00 ... 1.050e+00 3.400e+00 1.050e+03]\n",
            " [1.316e+01 2.360e+00 2.670e+00 ... 1.030e+00 3.170e+00 1.185e+03]\n",
            " ...\n",
            " [1.327e+01 4.280e+00 2.260e+00 ... 5.900e-01 1.560e+00 8.350e+02]\n",
            " [1.317e+01 2.590e+00 2.370e+00 ... 6.000e-01 1.620e+00 8.400e+02]\n",
            " [1.413e+01 4.100e+00 2.740e+00 ... 6.100e-01 1.600e+00 5.600e+02]]\n",
            "\n",
            "====================================================================================================\n",
            "\n",
            "\n",
            "The classification of the data (our goal)\n",
            "\n",
            " [0 0 0 0 0 0 0 0 0 0 0 0 0 0 0 0 0 0 0 0 0 0 0 0 0 0 0 0 0 0 0 0 0 0 0 0 0\n",
            " 0 0 0 0 0 0 0 0 0 0 0 0 0 0 0 0 0 0 0 0 0 0 1 1 1 1 1 1 1 1 1 1 1 1 1 1 1\n",
            " 1 1 1 1 1 1 1 1 1 1 1 1 1 1 1 1 1 1 1 1 1 1 1 1 1 1 1 1 1 1 1 1 1 1 1 1 1\n",
            " 1 1 1 1 1 1 1 1 1 1 1 1 1 1 1 1 1 1 1 2 2 2 2 2 2 2 2 2 2 2 2 2 2 2 2 2 2\n",
            " 2 2 2 2 2 2 2 2 2 2 2 2 2 2 2 2 2 2 2 2 2 2 2 2 2 2 2 2 2 2]\n",
            "\n",
            "\n",
            "\n"
          ]
        }
      ],
      "source": [
        "print(\"\\n\\nGeneral Description of the data provided by the set:\\n\\n\", wine['DESCR'])\n",
        "print(\"=\"*100)\n",
        "print(\"\\n\\nThe data (178 rows x 13 columns)\\n\\n\", wine['data'])\n",
        "print(\"\\n\" + \"=\"*100)\n",
        "print(\"\\n\\nThe classification of the data (our goal)\\n\\n\", wine['target'])\n",
        "print(\"\\n\\n\")"
      ]
    },
    {
      "cell_type": "markdown",
      "metadata": {
        "id": "Od1B4oGdbaSC"
      },
      "source": [
        "#### Answer:\n",
        "This data set describes the 13 different numerical chemical attributes of 178 different wines grown in the same region of Italy in 1988. Three different cultivators were involved in the production of the wines, each with their own unique methods (presumably). "
      ]
    },
    {
      "cell_type": "markdown",
      "metadata": {
        "id": "Hl5dZFu7lDg5"
      },
      "source": [
        "# Question 2 (10 points)\n",
        "\n",
        "Remove class_2, so it becomes a binary problem now. Split the dataset into a testing and a training set using 65% of the data for training and the rest for testing. Use the built-in sklearn functionality for this, any other way will not be graded."
      ]
    },
    {
      "cell_type": "code",
      "execution_count": null,
      "metadata": {
        "id": "QDAUtNuAlUyI"
      },
      "outputs": [],
      "source": [
        "# Get the data and the targets \n",
        "my_data = [wine['data'][i] for i in range(len(wine['data'])) if wine['target'][i] != 2]\n",
        "my_target = [_ for _ in wine['target'] if _ != 2]\n",
        "# Split the data using sklearn\n",
        "x_trn, x_tst, y_trn, y_tst = tts(my_data, my_target, test_size=.35)"
      ]
    },
    {
      "cell_type": "markdown",
      "metadata": {
        "id": "V6grDh8FlVtS"
      },
      "source": [
        "# Question 3 (30 points)\n",
        "\n",
        "Use the perceptron algorithm (with default settings and the correct seed) to build a model on the training set and report the model's accuracy."
      ]
    },
    {
      "cell_type": "code",
      "execution_count": null,
      "metadata": {
        "id": "OAmTADedkDN0",
        "outputId": "5ab6d591-f50f-4fce-8864-652ebdfb09a1"
      },
      "outputs": [
        {
          "name": "stdout",
          "output_type": "stream",
          "text": [
            "\n",
            "Perceptron Results:\n",
            "\n",
            "  Train data accuracy: 0.92 %\n",
            "  Test data accuracy:  0.85 %\n"
          ]
        }
      ],
      "source": [
        "# Create the perceptron with the random state '1234'\n",
        "my_ptron = ptron(random_state=1234)\n",
        "# Fit the data using the built in .fit() method\n",
        "my_ptron.fit(x_trn, y_trn)\n",
        "# Create the test and train predictions from the newly fitted model\n",
        "trn_preds = my_ptron.predict(x_trn)\n",
        "tst_preds = my_ptron.predict(x_tst)\n",
        "# Test the predictions against the real classifiers using sklearns accurracy score function\n",
        "trn_acc = a_s(trn_preds, y_trn)\n",
        "tst_acc = a_s(tst_preds, y_tst)\n",
        "# Present the results\n",
        "print(\"\\nPerceptron Results:\\n\\n  Train data accuracy: {:.2f} %\\n  Test data accuracy:  {:.2f} %\".format(trn_acc, tst_acc))"
      ]
    },
    {
      "cell_type": "markdown",
      "metadata": {
        "id": "UDBERCfzkTIK"
      },
      "source": [
        "# Question 4 (20 points)\n",
        "\n",
        "Show the classification report for the built model. In the text cell, following the code block for question 4, descibe what findings can be infered from the classification report. Mention at least 3 observations."
      ]
    },
    {
      "cell_type": "code",
      "execution_count": null,
      "metadata": {
        "id": "OlQED2C0kSQ-",
        "outputId": "4d70d12a-379d-4db5-b457-20fbe84a2d55"
      },
      "outputs": [
        {
          "name": "stdout",
          "output_type": "stream",
          "text": [
            "              precision    recall  f1-score   support\n",
            "\n",
            "     Class 0       0.86      0.83      0.84        23\n",
            "     Class 1       0.83      0.87      0.85        23\n",
            "\n",
            "    accuracy                           0.85        46\n",
            "   macro avg       0.85      0.85      0.85        46\n",
            "weighted avg       0.85      0.85      0.85        46\n",
            "\n"
          ]
        }
      ],
      "source": [
        "# Print out the classification report for the perceptron model\n",
        "print(c_r(y_tst, tst_preds, target_names=[\"Class 0\", \"Class 1\"]))\n",
        "# Save a dictionary of values for the model\n",
        "p_c_r = c_r(y_tst, tst_preds, target_names=[\"Class 0\", \"Class 1\"], output_dict=True)"
      ]
    },
    {
      "cell_type": "markdown",
      "metadata": {
        "id": "axlGZ10EkumL"
      },
      "source": [
        "#### Answer:\n",
        "As predicted by the accuracy score, we have a general score of 0.85. Interestingly the precision of class 0 is 100%, which means there were no False Positives. Intuitively, this implies that there were no false negativees for class 1 and this can be verified by observing the 100% recall for class 1. Lastly, the support value for 24 represents the number of wines classified in class 0. With 29 predicted in class 0, we can surmize that the only issue with this model is that it predicted 5 wines as class 0 that were supposed to be class 1."
      ]
    },
    {
      "cell_type": "markdown",
      "metadata": {
        "id": "D5FbmbFolUE-"
      },
      "source": [
        "# Question 5 (30 points)\n",
        "\n",
        "Use the trained model to make predictions on the test set. Output AND plot the confusion matrix from the model's predictions. \n",
        "\n",
        "In the second code cell, plot side by side: On the left side, the test set and its labels (using features Alcohol as the X axis and Alcalinity of Ash as the Y axis) with each point colored depending its class label. On the right side, the actual predictions (use the same Alcohol as the X axis and Alcalinity of Ash as the Y axis) with each point colored depending on its class label."
      ]
    },
    {
      "cell_type": "code",
      "execution_count": null,
      "metadata": {
        "id": "7-wRvWY7mvJ4",
        "outputId": "bee9e27f-f2cc-4b93-ffe2-5645e1bb24ff"
      },
      "outputs": [
        {
          "data": {
            "image/png": "[encoded data removed]",
            "text/plain": [
              "<Figure size 504x360 with 2 Axes>"
            ]
          },
          "metadata": {},
          "output_type": "display_data"
        }
      ],
      "source": [
        "# Create the confusion matrix for the perceptron model\n",
        "cnf_mtx = c_m(y_tst, tst_preds)\n",
        "plt.figure(figsize=(7,5))\n",
        "plt.title(\"Confusion Matrix for Perceptron Model\")\n",
        "sns.heatmap(cnf_mtx, annot=True)\n",
        "plt.xlabel(\"Predicted Class\")\n",
        "plt.ylabel(\"True Class\")\n",
        "plt.show()"
      ]
    },
    {
      "cell_type": "code",
      "execution_count": null,
      "metadata": {
        "id": "y-pa14x0myPD",
        "outputId": "2e988920-7d0c-44fc-ea45-bc76f04498ff"
      },
      "outputs": [
        {
          "name": "stdout",
          "output_type": "stream",
          "text": [
            "\n",
            "\n",
            "\n"
          ]
        },
        {
          "data": {
            "image/png": "[encoded data removed]",
            "text/plain": [
              "<Figure size 1080x360 with 2 Axes>"
            ]
          },
          "metadata": {},
          "output_type": "display_data"
        },
        {
          "name": "stdout",
          "output_type": "stream",
          "text": [
            "\n",
            "\n",
            "\n"
          ]
        }
      ],
      "source": [
        "# Create space for the plot\n",
        "print(\"\\n\\n\")\n",
        "\n",
        "# Get the Alcohol and Alcininity of Ash values and seperate them\n",
        "p_alc_tst = [[x_tst[j][0] for j in range(len(x_tst)) if tst_preds[j] == i] for i in range(2)]\n",
        "p_aoa_tst = [[x_tst[j][3] for j in range(len(x_tst)) if tst_preds[j] == i] for i in range(2)]\n",
        "\n",
        "y_alc_tst = [[x_tst[j][0] for j in range(len(x_tst)) if y_tst[j] == i] for i in range(2)]\n",
        "y_aoa_tst = [[x_tst[j][3] for j in range(len(x_tst)) if y_tst[j] == i] for i in range(2)]\n",
        "\n",
        "# Create the figure\n",
        "fig = plt.figure(figsize=(15, 5))\n",
        "\n",
        "# Create the subplots\n",
        "ax0 = fig.add_subplot(121)\n",
        "ax1 = fig.add_subplot(122)\n",
        "\n",
        "# Set the main title\n",
        "fig.suptitle(\"Alcohol vs. Alkalinity of Ash\")\n",
        "\n",
        "# Plot the data and set the legend, axis labels, and title for the predicted classes\n",
        "for i in range(2):\n",
        "    ax0.scatter(p_alc_tst[i], p_aoa_tst[i])\n",
        "    ax1.scatter(y_alc_tst[i], y_aoa_tst[i])\n",
        "    \n",
        "# Set the legend\n",
        "fig.legend(labels=[\"Class 0\", \"Class 1\" ], loc='center right')\n",
        "\n",
        "# Set the legend, axis labels, and title \n",
        "ax0.set_xlabel(\"Alcohol\")\n",
        "ax0.set_ylabel(\"Alkalinity of Ash\")\n",
        "ax0.set_title(\"Predicted Classification\")\n",
        "ax1.set_xlabel(\"Alcohol\")\n",
        "ax1.set_ylabel(\"Alkalinity of Ash\")\n",
        "ax1.set_title(\"Real Classification\")\n",
        "\n",
        "# Show the plot and create space\n",
        "plt.show()\n",
        "print(\"\\n\\n\")"
      ]
    },
    {
      "cell_type": "markdown",
      "metadata": {
        "id": "d0uKcXIWm2gZ"
      },
      "source": [
        "# Question 6 (10 points) \n",
        "\n",
        "a) Do the plot right plot on Question 5 - part 2 match the confusion matrix of part 1?\n",
        "\n",
        "b) Any interesting observations from the predictions and the model performance? (write at least 2)"
      ]
    },
    {
      "cell_type": "markdown",
      "metadata": {
        "id": "fUv67lIDnQVt"
      },
      "source": [
        "#### Answer:\n",
        "Yes the number of points classified as classes 1 and 2 correspond to the values in the confusion matrix"
      ]
    },
    {
      "cell_type": "markdown",
      "metadata": {
        "id": "vekeBSBBnS8d"
      },
      "source": [
        "#### Answer:\n",
        "Interestingly, in this comparison of variables it is possible to see the line where the points are classified. While this line doesn't perfectly classify the points it gets pretty close. On the other hand it is also interesting that the predicted classification incorrectly classified a point as being class 1 deep into class 0 'territory'."
      ]
    },
    {
      "cell_type": "markdown",
      "metadata": {
        "id": "5FAvUA_LptZA"
      },
      "source": [
        "# Question 7 (10 points)\n",
        "\n",
        "Reload the Wine dataset and split the dataset into a testing and a training set using 65% of the data for training and the rest for testing. Use the built-in sklearn functionality for this, any other way will not be graded."
      ]
    },
    {
      "cell_type": "code",
      "execution_count": null,
      "metadata": {
        "id": "OVEa6yRHpsVp"
      },
      "outputs": [],
      "source": [
        "# Load the data set again\n",
        "wine = datasets.load_wine()\n",
        "\n",
        "# Split the data using sklearn\n",
        "x_trn, x_tst, y_trn, y_tst = tts(wine['data'], wine['target'], test_size=.35)"
      ]
    },
    {
      "cell_type": "markdown",
      "metadata": {
        "id": "7GCTkGwOqFP7"
      },
      "source": [
        "# Question 8 (30 points)\n",
        "\n",
        "Use the Decision Tree algorithm (with default settings and the correct seed) to build a model on the training set and report the model's accuracy."
      ]
    },
    {
      "cell_type": "code",
      "execution_count": null,
      "metadata": {
        "id": "io8-k2M-prgl",
        "outputId": "38e21084-fe67-4e5f-cd4a-bb3e5e575172"
      },
      "outputs": [
        {
          "name": "stdout",
          "output_type": "stream",
          "text": [
            "\\Decision Tree Results:\n",
            "\n",
            "  Train data accuracy: 1.00 %\n",
            "  Test data accuracy:  0.94 %\n"
          ]
        }
      ],
      "source": [
        "# Create the tree and fit it to the train data\n",
        "my_tree = dtc(random_state=1234)\n",
        "my_tree.fit(x_trn, y_trn)\n",
        "# Create the test and train predictions from the newly fitted model\n",
        "trn_preds = my_tree.predict(x_trn)\n",
        "tst_preds = my_tree.predict(x_tst)\n",
        "# Test the predictions against the real classifiers using sklearns accurracy score function\n",
        "trn_acc = a_s(trn_preds, y_trn)\n",
        "tst_acc = a_s(tst_preds, y_tst)\n",
        "# Present the results\n",
        "print(\"\\Decision Tree Results:\\n\\n  Train data accuracy: {:.2f} %\\n  Test data accuracy:  {:.2f} %\".format(trn_acc, tst_acc))"
      ]
    },
    {
      "cell_type": "markdown",
      "metadata": {
        "id": "3VYbQk6ZqsjC"
      },
      "source": [
        "# Question 9 (20 points)\n",
        "\n",
        "Show the classification report for the built model. In the text cell, following the code block for question 9, descibe what findings can be infered from the classification report. Mention at least 3 observations."
      ]
    },
    {
      "cell_type": "code",
      "execution_count": null,
      "metadata": {
        "id": "qRZWpYIBq0aA",
        "outputId": "3a206237-4e36-4c3a-dd5d-cc6a0b88c817"
      },
      "outputs": [
        {
          "name": "stdout",
          "output_type": "stream",
          "text": [
            "              precision    recall  f1-score   support\n",
            "\n",
            "     Class 0       1.00      1.00      1.00        18\n",
            "     Class 1       0.90      0.97      0.93        29\n",
            "     Class 2       0.93      0.81      0.87        16\n",
            "\n",
            "    accuracy                           0.94        63\n",
            "   macro avg       0.94      0.93      0.93        63\n",
            "weighted avg       0.94      0.94      0.94        63\n",
            "\n"
          ]
        }
      ],
      "source": [
        "# Print out the classification report for the perceptron model\n",
        "print(c_r(y_tst, tst_preds, target_names=[\"Class 0\", \"Class 1\", \"Class 2\"]))\n",
        "# Save a dictionary of values for the model\n",
        "dt_c_r = c_r(y_tst, tst_preds, target_names=[\"Class 0\", \"Class 1\", \"Class 2\"], output_dict=True)"
      ]
    },
    {
      "cell_type": "markdown",
      "metadata": {
        "id": "HeH9Cdnzq1QF"
      },
      "source": [
        "#### Answer:\n",
        "This seems to be more accurate than the perceptron. Class 0 has perfect recall and class 2 has perfect precision. "
      ]
    },
    {
      "cell_type": "markdown",
      "metadata": {
        "id": "CIqq_7v0rIhB"
      },
      "source": [
        "# Question 10 (30 points)\n",
        "\n",
        "Use the trained model to make predictions on the test set. Output AND plot the confusion matrix from the model's predictions. \n",
        "\n",
        "In the second code cell, plot side by side: On the left side, the test set and its labels (using features Alcohol as the X axis and Alcalinity of Ash as the Y axis) with each point colored depending its class label. On the right side, the actual predictions (use the same Alcohol as the X axis and Alcalinity of Ash as the Y axis) with each point colored depending on its class label."
      ]
    },
    {
      "cell_type": "code",
      "execution_count": null,
      "metadata": {
        "id": "GFT8khVUrQ_2",
        "outputId": "dbbea75a-7ac8-4a38-bbc8-51a49bcee44a"
      },
      "outputs": [
        {
          "data": {
            "image/png": "[encoded data removed]",
            "text/plain": [
              "<Figure size 504x360 with 2 Axes>"
            ]
          },
          "metadata": {},
          "output_type": "display_data"
        }
      ],
      "source": [
        "# Create the confusion matrix for the perceptron model\n",
        "cnf_mtx = c_m(y_tst, tst_preds)\n",
        "plt.figure(figsize=(7,5))\n",
        "plt.title(\"Confusion Matrix for Decision Tree Model\")\n",
        "sns.heatmap(cnf_mtx, annot=True)\n",
        "plt.xlabel(\"Predicted Class\")\n",
        "plt.ylabel(\"True Class\")\n",
        "plt.show()"
      ]
    },
    {
      "cell_type": "code",
      "execution_count": null,
      "metadata": {
        "id": "Zoh1vJDArQ_3",
        "outputId": "a7c0ce37-6720-4263-cf1b-b7d08650056a"
      },
      "outputs": [
        {
          "name": "stdout",
          "output_type": "stream",
          "text": [
            "\n",
            "\n",
            "\n"
          ]
        },
        {
          "data": {
            "image/png": "[encoded data removed]",
            "text/plain": [
              "<Figure size 1080x360 with 2 Axes>"
            ]
          },
          "metadata": {},
          "output_type": "display_data"
        },
        {
          "name": "stdout",
          "output_type": "stream",
          "text": [
            "\n",
            "\n",
            "\n"
          ]
        }
      ],
      "source": [
        "# Create space for the plot\n",
        "print(\"\\n\\n\")\n",
        "\n",
        "# Get the Alcohol and Alcininity of Ash values and seperate them\n",
        "p_alc_tst = [[x_tst[j][0] for j in range(len(x_tst)) if tst_preds[j] == i] for i in range(3)]\n",
        "p_aoa_tst = [[x_tst[j][3] for j in range(len(x_tst)) if tst_preds[j] == i] for i in range(3)]\n",
        "\n",
        "y_alc_tst = [[x_tst[j][0] for j in range(len(x_tst)) if y_tst[j] == i] for i in range(3)]\n",
        "y_aoa_tst = [[x_tst[j][3] for j in range(len(x_tst)) if y_tst[j] == i] for i in range(3)]\n",
        "\n",
        "# Create the figure\n",
        "fig = plt.figure(figsize=(15, 5))\n",
        "\n",
        "# Create the subplots\n",
        "ax0 = fig.add_subplot(121)\n",
        "ax1 = fig.add_subplot(122)\n",
        "\n",
        "# Set the main title\n",
        "fig.suptitle(\"Decision Tree Classification (Alcohol vs. Alkalinity of Ash)\")\n",
        "\n",
        "# Plot the data\n",
        "for i in range(3):\n",
        "    ax0.scatter(p_alc_tst[i], p_aoa_tst[i])\n",
        "    ax1.scatter(y_alc_tst[i], y_aoa_tst[i])\n",
        "\n",
        "# Set the legend\n",
        "fig.legend(labels=[\"Class 0\", \"Class 1\", \"Class 2\"], loc='center right')\n",
        "\n",
        "# Set the legend, axis labels, and title \n",
        "ax0.set_xlabel(\"Alcohol\")\n",
        "ax0.set_ylabel(\"Alkalinity of Ash\")\n",
        "ax0.set_title(\"Predicted Classification\")\n",
        "ax1.set_xlabel(\"Alcohol\")\n",
        "ax1.set_ylabel(\"Alkalinity of Ash\")\n",
        "ax1.set_title(\"Real Classification\")\n",
        "\n",
        "# Show the plot and create space\n",
        "plt.show()\n",
        "print(\"\\n\\n\")"
      ]
    },
    {
      "cell_type": "markdown",
      "metadata": {
        "id": "MoOX9SsqrY1m"
      },
      "source": [
        "# Question 11 (30 points) \n",
        "\n",
        "a) Do the plot right plot on Question 10 - part 2 match the confusion matrix of part 1?\n",
        "\n",
        "b) Any interesting observations from the predictions and the model performance? (write at least 2)\n",
        "\n",
        "c) Plot the figure from question 10 - part 2 using the `visualize_classifier` function given during the class example from 2/20/2023."
      ]
    },
    {
      "cell_type": "markdown",
      "metadata": {
        "id": "qDsw0eoyrY1n"
      },
      "source": [
        "#### Answer:\n",
        "Yes, the two plots are nearly identical, which the confusion matrix predicted. "
      ]
    },
    {
      "cell_type": "markdown",
      "metadata": {
        "id": "5CBnH3bQrY1o"
      },
      "source": [
        "#### Answer:\n",
        "It looks like one of the two incorrect classifications is a class 1 wine predicted as a class 0 wine at ~(13.1, 15) there is a blue point that should be orange. Similarly at ~(22, 12.7) there is an orange point that should be green corresponding to the class 2 wine incorrectly classified as a class 1 wine."
      ]
    },
    {
      "cell_type": "code",
      "execution_count": null,
      "metadata": {
        "id": "JU01ze5mryO5"
      },
      "outputs": [],
      "source": [
        "\n",
        "def visualize_classifier(model, X, y, ax=None, cmap='rainbow'):\n",
        "    ax = ax or plt.gca()\n",
        "    \n",
        "    # Plot the training points\n",
        "    ax.scatter(X[:, 0], X[:, 1], c=y, s=30, cmap=cmap,\n",
        "               clim=(y.min(), y.max()), zorder=3)\n",
        "    ax.axis('tight')\n",
        "    ax.axis('off')\n",
        "    xlim = ax.get_xlim()\n",
        "    ylim = ax.get_ylim()\n",
        "    \n",
        "    # fit the estimator\n",
        "    model.fit(X=X, y=y)\n",
        "    xx, yy = np.meshgrid(np.linspace(*xlim, num=200),\n",
        "                         np.linspace(*ylim, num=200))\n",
        "    Z = model.predict(np.c_[xx.ravel(), yy.ravel()]).reshape(xx.shape)\n",
        "\n",
        "    # Create a color plot with the results\n",
        "    n_classes = len(np.unique(y))\n",
        "    contours = ax.contourf(xx, yy, Z, alpha=0.3,\n",
        "                           levels=np.arange(n_classes + 1) - 0.5,\n",
        "                           cmap=cmap, zorder=1)\n",
        "\n",
        "    ax.set(xlim=xlim, ylim=ylim)\n",
        "    \n",
        "# visualize_classifier(model=dtc(), X=x_trn, y=y_trn)"
      ]
    },
    {
      "cell_type": "markdown",
      "metadata": {
        "id": "VyZzK3XpsBgd"
      },
      "source": [
        "# Question 12 (10 points)\n",
        "\n",
        "Reload the Wine dataset and split the dataset into a testing and a training set using 65% of the data for training and the rest for testing. Use the built-in sklearn functionality for this, any other way will not be graded."
      ]
    },
    {
      "cell_type": "code",
      "execution_count": null,
      "metadata": {
        "id": "hGTZs31MsBge"
      },
      "outputs": [],
      "source": [
        "# Load the data set again\n",
        "wine = datasets.load_wine()\n",
        "\n",
        "# Split the data using sklearn\n",
        "x_trn, x_tst, y_trn, y_tst = tts(wine['data'], wine['target'], test_size=.35)"
      ]
    },
    {
      "cell_type": "markdown",
      "metadata": {
        "id": "FTWIgD0rsBge"
      },
      "source": [
        "# Question 13 (30 points)\n",
        "\n",
        "Use the Logistic Regression (with as this is a multi-class problem, use the **One Vs Rest algorithm** we must use `liblinear` solver and the correct seed) to build a model on the training set and report the model's accuracy."
      ]
    },
    {
      "cell_type": "code",
      "execution_count": null,
      "metadata": {
        "id": "7uu_vP4OsBgf",
        "outputId": "5ff20157-7349-4e49-e3e6-6de22a574580"
      },
      "outputs": [
        {
          "name": "stdout",
          "output_type": "stream",
          "text": [
            "Logistic Regression Results:\n",
            "\n",
            "  Train data accuracy: 0.97 %\n",
            "  Test data accuracy:  0.98 %\n"
          ]
        }
      ],
      "source": [
        "# Create the tree and fit it to the train data\n",
        "my_lr = l_r(random_state=1234, multi_class='ovr', solver='liblinear')\n",
        "my_lr.fit(x_trn, y_trn)\n",
        "# Create the test and train predictions from the newly fitted model\n",
        "trn_preds = my_tree.predict(x_trn)\n",
        "tst_preds = my_tree.predict(x_tst)\n",
        "# Test the predictions against the real classifiers using sklearns accurracy score function\n",
        "trn_acc = a_s(trn_preds, y_trn)\n",
        "tst_acc = a_s(tst_preds, y_tst)\n",
        "# Present the results\n",
        "print(\"Logistic Regression Results:\\n\\n  Train data accuracy: {:.2f} %\\n  Test data accuracy:  {:.2f} %\".format(trn_acc, tst_acc))"
      ]
    },
    {
      "cell_type": "markdown",
      "metadata": {
        "id": "nU8SRq6TsBgf"
      },
      "source": [
        "# Question 14 (20 points)\n",
        "\n",
        "Show the classification report for the built model. In the text cell, following the code block for question 14, descibe what findings can be infered from the classification report. Mention at least 3 observations."
      ]
    },
    {
      "cell_type": "code",
      "execution_count": null,
      "metadata": {
        "id": "pXIQ7hO6sBgf",
        "outputId": "f34c4ca9-2b54-43e2-ba10-0e1a8fc3e17d"
      },
      "outputs": [
        {
          "name": "stdout",
          "output_type": "stream",
          "text": [
            "              precision    recall  f1-score   support\n",
            "\n",
            "     Class 0       1.00      1.00      1.00        23\n",
            "     Class 1       0.96      1.00      0.98        22\n",
            "     Class 2       1.00      0.94      0.97        18\n",
            "\n",
            "    accuracy                           0.98        63\n",
            "   macro avg       0.99      0.98      0.98        63\n",
            "weighted avg       0.98      0.98      0.98        63\n",
            "\n"
          ]
        }
      ],
      "source": [
        "# Print out the classification report for the perceptron model\n",
        "print(c_r(y_tst, tst_preds, target_names=[\"Class 0\", \"Class 1\", \"Class 2\"]))\n",
        "# Save a dictionary of values for the model\n",
        "lr_c_r = c_r(y_tst, tst_preds, target_names=[\"Class 0\", \"Class 1\", \"Class 2\"], output_dict=True)"
      ]
    },
    {
      "cell_type": "markdown",
      "metadata": {
        "id": "LVep3OJ1sBgf"
      },
      "source": [
        "#### Answer:\n",
        "This model seems to be more accurate than either the perceptron or the decision tree. Class 2 has perfect precision, class 1 has perfect recall, and class 0 has a perfect f1-score. "
      ]
    },
    {
      "cell_type": "markdown",
      "metadata": {
        "id": "1DQxkgAbsBgg"
      },
      "source": [
        "# Question 15 (30 points)\n",
        "\n",
        "Use the trained model to make predictions on the test set. Output AND plot the confusion matrix from the model's predictions. \n",
        "\n",
        "In the second code cell, plot side by side: On the left side, the test set and its labels (using features Alcohol as the X axis and Alcalinity of Ash as the Y axis) with each point colored depending its class label. On the right side, the actual predictions (use the same Alcohol as the X axis and Alcalinity of Ash as the Y axis) with each point colored depending on its class label."
      ]
    },
    {
      "cell_type": "code",
      "execution_count": null,
      "metadata": {
        "id": "l9A4AifNsBgg",
        "outputId": "cd30430f-dd0f-49cf-fa3a-12d536dad660"
      },
      "outputs": [
        {
          "data": {
            "image/png": "[encoded data removed]",
            "text/plain": [
              "<Figure size 504x360 with 2 Axes>"
            ]
          },
          "metadata": {},
          "output_type": "display_data"
        }
      ],
      "source": [
        "# Create the confusion matrix for the perceptron model\n",
        "cnf_mtx = c_m(y_tst, tst_preds)\n",
        "plt.figure(figsize=(7,5))\n",
        "plt.title(\"Confusion Matrix for Decision Tree Model\")\n",
        "sns.heatmap(cnf_mtx, annot=True)\n",
        "plt.xlabel(\"Predicted Class\")\n",
        "plt.ylabel(\"True Class\")\n",
        "plt.show()"
      ]
    },
    {
      "cell_type": "code",
      "execution_count": null,
      "metadata": {
        "id": "wF7X9vnGsBgg",
        "outputId": "f4150ffa-7196-41d9-db27-128c98a45246"
      },
      "outputs": [
        {
          "name": "stdout",
          "output_type": "stream",
          "text": [
            "\n",
            "\n",
            "\n"
          ]
        },
        {
          "data": {
            "image/png": "[encoded data removed]",
            "text/plain": [
              "<Figure size 1080x360 with 2 Axes>"
            ]
          },
          "metadata": {},
          "output_type": "display_data"
        },
        {
          "name": "stdout",
          "output_type": "stream",
          "text": [
            "\n",
            "\n",
            "\n"
          ]
        }
      ],
      "source": [
        "# Create space for the plot\n",
        "print(\"\\n\\n\")\n",
        "\n",
        "# Get the Alcohol and Alkalinity of Ash values and seperate them\n",
        "p_alc_tst = [[x_tst[j][0] for j in range(len(x_tst)) if tst_preds[j] == i] for i in range(3)]\n",
        "p_aoa_tst = [[x_tst[j][3] for j in range(len(x_tst)) if tst_preds[j] == i] for i in range(3)]\n",
        "\n",
        "y_alc_tst = [[x_tst[j][0] for j in range(len(x_tst)) if y_tst[j] == i] for i in range(3)]\n",
        "y_aoa_tst = [[x_tst[j][3] for j in range(len(x_tst)) if y_tst[j] == i] for i in range(3)]\n",
        "\n",
        "# Create the figure\n",
        "fig = plt.figure(figsize=(15, 5))\n",
        "\n",
        "# Create the subplots\n",
        "ax0 = fig.add_subplot(121)\n",
        "ax1 = fig.add_subplot(122)\n",
        "\n",
        "# Set the main title\n",
        "fig.suptitle(\"Logistic Regression Classification (Alcohol vs. Alkalinity of Ash)\")\n",
        "\n",
        "# Plot the data\n",
        "for i in range(3):\n",
        "    ax0.scatter(p_alc_tst[i], p_aoa_tst[i])\n",
        "    ax1.scatter(y_alc_tst[i], y_aoa_tst[i])\n",
        "\n",
        "# Set the legend\n",
        "fig.legend(labels=[\"Class 0\", \"Class 1\", \"Class 2\"], loc='center right')\n",
        "\n",
        "# Set the legend, axis labels, and title \n",
        "ax0.set_xlabel(\"Alcohol\")\n",
        "ax0.set_ylabel(\"Alkalinity of Ash\")\n",
        "ax0.set_title(\"Predicted Classification\")\n",
        "ax1.set_xlabel(\"Alcohol\")\n",
        "ax1.set_ylabel(\"Alkalinity of Ash\")\n",
        "ax1.set_title(\"Real Classification\")\n",
        "\n",
        "# Show the plot and create space\n",
        "plt.show()\n",
        "print(\"\\n\\n\")"
      ]
    },
    {
      "cell_type": "markdown",
      "metadata": {
        "id": "7Fh0OKRzsBgh"
      },
      "source": [
        "# Question 16 (20 points) \n",
        "\n",
        "a) Do the plot right plot on Question 15 - part 2 match the confusion matrix of part 1?\n",
        "\n",
        "b) Any interesting observations from the predictions and the model performance? (write at least 2)"
      ]
    },
    {
      "cell_type": "markdown",
      "metadata": {
        "id": "67skrMZwsBgh"
      },
      "source": [
        "Textual answer to question 16 a goes here."
      ]
    },
    {
      "cell_type": "markdown",
      "metadata": {
        "id": "bWus1xG9sBgh"
      },
      "source": [
        "Textual answer to question 16 b goes here."
      ]
    },
    {
      "cell_type": "markdown",
      "metadata": {
        "id": "W888Kt2Btame"
      },
      "source": [
        "# Question 17 (10 points)\n",
        "\n",
        "Create AND display dataframe containing in each row the accruacy, precision, recall for each of the models built. \n",
        "\n",
        "In the textual answer cell, discuss which one is the best performing model and why?"
      ]
    },
    {
      "cell_type": "code",
      "execution_count": null,
      "metadata": {
        "id": "WdrGJIy3tZlc",
        "outputId": "e2d6d142-53d4-4316-f617-38c17856ce08"
      },
      "outputs": [
        {
          "data": {
            "text/html": [
              "<div>\n",
              "<style scoped>\n",
              "    .dataframe tbody tr th:only-of-type {\n",
              "        vertical-align: middle;\n",
              "    }\n",
              "\n",
              "    .dataframe tbody tr th {\n",
              "        vertical-align: top;\n",
              "    }\n",
              "\n",
              "    .dataframe thead th {\n",
              "        text-align: right;\n",
              "    }\n",
              "</style>\n",
              "<table border=\"1\" class=\"dataframe\">\n",
              "  <thead>\n",
              "    <tr style=\"text-align: right;\">\n",
              "      <th></th>\n",
              "      <th>Accuracy</th>\n",
              "      <th>Precision</th>\n",
              "      <th>Recall</th>\n",
              "    </tr>\n",
              "  </thead>\n",
              "  <tbody>\n",
              "    <tr>\n",
              "      <th>Perceptron</th>\n",
              "      <td>0.847826</td>\n",
              "      <td>0.848485</td>\n",
              "      <td>0.847826</td>\n",
              "    </tr>\n",
              "    <tr>\n",
              "      <th>Decision Tree</th>\n",
              "      <td>0.936508</td>\n",
              "      <td>0.937313</td>\n",
              "      <td>0.936508</td>\n",
              "    </tr>\n",
              "    <tr>\n",
              "      <th>Logistic Regression</th>\n",
              "      <td>0.984127</td>\n",
              "      <td>0.984817</td>\n",
              "      <td>0.984127</td>\n",
              "    </tr>\n",
              "  </tbody>\n",
              "</table>\n",
              "</div>"
            ],
            "text/plain": [
              "                     Accuracy  Precision    Recall\n",
              "Perceptron           0.847826   0.848485  0.847826\n",
              "Decision Tree        0.936508   0.937313  0.936508\n",
              "Logistic Regression  0.984127   0.984817  0.984127"
            ]
          },
          "execution_count": 23,
          "metadata": {},
          "output_type": "execute_result"
        }
      ],
      "source": [
        "# Get the values from the dictionaries saved from eariler\n",
        "my_vals = [[p_c_r['accuracy'], p_c_r['weighted avg']['precision'], p_c_r['weighted avg']['recall']], \n",
        "           [dt_c_r['accuracy'], dt_c_r['weighted avg']['precision'], dt_c_r['weighted avg']['recall']], \n",
        "           [lr_c_r['accuracy'], lr_c_r['weighted avg']['precision'], lr_c_r['weighted avg']['recall']]]\n",
        "# Create the data frame\n",
        "my_df = pd.DataFrame(my_vals, index=[\"Perceptron\", \"Decision Tree\", \"Logistic Regression\"], columns=[\"Accuracy\", \"Precision\", \"Recall\"])\n",
        "my_df.head()"
      ]
    },
    {
      "cell_type": "markdown",
      "metadata": {
        "id": "VEnK8F_Lt5V8"
      },
      "source": [
        "The logistic regression classifier seems to be the best classifire for the data because it scores higher in accuracy, precision and recall than the decision tree classifier and the perceptron"
      ]
    },
    {
      "cell_type": "markdown",
      "metadata": {
        "id": "ziqaH6VEuBJK"
      },
      "source": [
        "# Graduate Student Question: (50 points)\n",
        "\n",
        "Modify the `visualize_classifier` function provided during the 2/20/2023 class to be able to work in 3 dimensions (currently only works in two dimensions). Take the Decision Tree classifier model from Question 8 and plot the separation of the classes using the following axes: (Alcohol as the X axis and Alcalinity of Ash as the Y axis, and Ash as the Z axis).\n"
      ]
    },
    {
      "cell_type": "code",
      "execution_count": null,
      "metadata": {
        "id": "a17SE-ZcuALz",
        "outputId": "72379eab-660d-457a-c53e-e5b85b1ff3d9"
      },
      "outputs": [
        {
          "name": "stdout",
          "output_type": "stream",
          "text": [
            "\n",
            "\n",
            "\n"
          ]
        },
        {
          "data": {
            "application/javascript": [
              "/* Put everything inside the global mpl namespace */\n",
              "/* global mpl */\n",
              "window.mpl = {};\n",
              "\n",
              "mpl.get_websocket_type = function () {\n",
              "    if (typeof WebSocket !== 'undefined') {\n",
              "        return WebSocket;\n",
              "    } else if (typeof MozWebSocket !== 'undefined') {\n",
              "        return MozWebSocket;\n",
              "    } else {\n",
              "        alert(\n",
              "            'Your browser does not have WebSocket support. ' +\n",
              "                'Please try Chrome, Safari or Firefox ≥ 6. ' +\n",
              "                'Firefox 4 and 5 are also supported but you ' +\n",
              "                'have to enable WebSockets in about:config.'\n",
              "        );\n",
              "    }\n",
              "};\n",
              "\n",
              "mpl.figure = function (figure_id, websocket, ondownload, parent_element) {\n",
              "    this.id = figure_id;\n",
              "\n",
              "    this.ws = websocket;\n",
              "\n",
              "    this.supports_binary = this.ws.binaryType !== undefined;\n",
              "\n",
              "    if (!this.supports_binary) {\n",
              "        var warnings = document.getElementById('mpl-warnings');\n",
              "        if (warnings) {\n",
              "            warnings.style.display = 'block';\n",
              "            warnings.textContent =\n",
              "                'This browser does not support binary websocket messages. ' +\n",
              "                'Performance may be slow.';\n",
              "        }\n",
              "    }\n",
              "\n",
              "    this.imageObj = new Image();\n",
              "\n",
              "    this.context = undefined;\n",
              "    this.message = undefined;\n",
              "    this.canvas = undefined;\n",
              "    this.rubberband_canvas = undefined;\n",
              "    this.rubberband_context = undefined;\n",
              "    this.format_dropdown = undefined;\n",
              "\n",
              "    this.image_mode = 'full';\n",
              "\n",
              "    this.root = document.createElement('div');\n",
              "    this.root.setAttribute('style', 'display: inline-block');\n",
              "    this._root_extra_style(this.root);\n",
              "\n",
              "    parent_element.appendChild(this.root);\n",
              "\n",
              "    this._init_header(this);\n",
              "    this._init_canvas(this);\n",
              "    this._init_toolbar(this);\n",
              "\n",
              "    var fig = this;\n",
              "\n",
              "    this.waiting = false;\n",
              "\n",
              "    this.ws.onopen = function () {\n",
              "        fig.send_message('supports_binary', { value: fig.supports_binary });\n",
              "        fig.send_message('send_image_mode', {});\n",
              "        if (fig.ratio !== 1) {\n",
              "            fig.send_message('set_dpi_ratio', { dpi_ratio: fig.ratio });\n",
              "        }\n",
              "        fig.send_message('refresh', {});\n",
              "    };\n",
              "\n",
              "    this.imageObj.onload = function () {\n",
              "        if (fig.image_mode === 'full') {\n",
              "            // Full images could contain transparency (where diff images\n",
              "            // almost always do), so we need to clear the canvas so that\n",
              "            // there is no ghosting.\n",
              "            fig.context.clearRect(0, 0, fig.canvas.width, fig.canvas.height);\n",
              "        }\n",
              "        fig.context.drawImage(fig.imageObj, 0, 0);\n",
              "    };\n",
              "\n",
              "    this.imageObj.onunload = function () {\n",
              "        fig.ws.close();\n",
              "    };\n",
              "\n",
              "    this.ws.onmessage = this._make_on_message_function(this);\n",
              "\n",
              "    this.ondownload = ondownload;\n",
              "};\n",
              "\n",
              "mpl.figure.prototype._init_header = function () {\n",
              "    var titlebar = document.createElement('div');\n",
              "    titlebar.classList =\n",
              "        'ui-dialog-titlebar ui-widget-header ui-corner-all ui-helper-clearfix';\n",
              "    var titletext = document.createElement('div');\n",
              "    titletext.classList = 'ui-dialog-title';\n",
              "    titletext.setAttribute(\n",
              "        'style',\n",
              "        'width: 100%; text-align: center; padding: 3px;'\n",
              "    );\n",
              "    titlebar.appendChild(titletext);\n",
              "    this.root.appendChild(titlebar);\n",
              "    this.header = titletext;\n",
              "};\n",
              "\n",
              "mpl.figure.prototype._canvas_extra_style = function (_canvas_div) {};\n",
              "\n",
              "mpl.figure.prototype._root_extra_style = function (_canvas_div) {};\n",
              "\n",
              "mpl.figure.prototype._init_canvas = function () {\n",
              "    var fig = this;\n",
              "\n",
              "    var canvas_div = (this.canvas_div = document.createElement('div'));\n",
              "    canvas_div.setAttribute(\n",
              "        'style',\n",
              "        'border: 1px solid #ddd;' +\n",
              "            'box-sizing: content-box;' +\n",
              "            'clear: both;' +\n",
              "            'min-height: 1px;' +\n",
              "            'min-width: 1px;' +\n",
              "            'outline: 0;' +\n",
              "            'overflow: hidden;' +\n",
              "            'position: relative;' +\n",
              "            'resize: both;'\n",
              "    );\n",
              "\n",
              "    function on_keyboard_event_closure(name) {\n",
              "        return function (event) {\n",
              "            return fig.key_event(event, name);\n",
              "        };\n",
              "    }\n",
              "\n",
              "    canvas_div.addEventListener(\n",
              "        'keydown',\n",
              "        on_keyboard_event_closure('key_press')\n",
              "    );\n",
              "    canvas_div.addEventListener(\n",
              "        'keyup',\n",
              "        on_keyboard_event_closure('key_release')\n",
              "    );\n",
              "\n",
              "    this._canvas_extra_style(canvas_div);\n",
              "    this.root.appendChild(canvas_div);\n",
              "\n",
              "    var canvas = (this.canvas = document.createElement('canvas'));\n",
              "    canvas.classList.add('mpl-canvas');\n",
              "    canvas.setAttribute('style', 'box-sizing: content-box;');\n",
              "\n",
              "    this.context = canvas.getContext('2d');\n",
              "\n",
              "    var backingStore =\n",
              "        this.context.backingStorePixelRatio ||\n",
              "        this.context.webkitBackingStorePixelRatio ||\n",
              "        this.context.mozBackingStorePixelRatio ||\n",
              "        this.context.msBackingStorePixelRatio ||\n",
              "        this.context.oBackingStorePixelRatio ||\n",
              "        this.context.backingStorePixelRatio ||\n",
              "        1;\n",
              "\n",
              "    this.ratio = (window.devicePixelRatio || 1) / backingStore;\n",
              "\n",
              "    var rubberband_canvas = (this.rubberband_canvas = document.createElement(\n",
              "        'canvas'\n",
              "    ));\n",
              "    rubberband_canvas.setAttribute(\n",
              "        'style',\n",
              "        'box-sizing: content-box; position: absolute; left: 0; top: 0; z-index: 1;'\n",
              "    );\n",
              "\n",
              "    // Apply a ponyfill if ResizeObserver is not implemented by browser.\n",
              "    if (this.ResizeObserver === undefined) {\n",
              "        if (window.ResizeObserver !== undefined) {\n",
              "            this.ResizeObserver = window.ResizeObserver;\n",
              "        } else {\n",
              "            var obs = _JSXTOOLS_RESIZE_OBSERVER({});\n",
              "            this.ResizeObserver = obs.ResizeObserver;\n",
              "        }\n",
              "    }\n",
              "\n",
              "    this.resizeObserverInstance = new this.ResizeObserver(function (entries) {\n",
              "        var nentries = entries.length;\n",
              "        for (var i = 0; i < nentries; i++) {\n",
              "            var entry = entries[i];\n",
              "            var width, height;\n",
              "            if (entry.contentBoxSize) {\n",
              "                if (entry.contentBoxSize instanceof Array) {\n",
              "                    // Chrome 84 implements new version of spec.\n",
              "                    width = entry.contentBoxSize[0].inlineSize;\n",
              "                    height = entry.contentBoxSize[0].blockSize;\n",
              "                } else {\n",
              "                    // Firefox implements old version of spec.\n",
              "                    width = entry.contentBoxSize.inlineSize;\n",
              "                    height = entry.contentBoxSize.blockSize;\n",
              "                }\n",
              "            } else {\n",
              "                // Chrome <84 implements even older version of spec.\n",
              "                width = entry.contentRect.width;\n",
              "                height = entry.contentRect.height;\n",
              "            }\n",
              "\n",
              "            // Keep the size of the canvas and rubber band canvas in sync with\n",
              "            // the canvas container.\n",
              "            if (entry.devicePixelContentBoxSize) {\n",
              "                // Chrome 84 implements new version of spec.\n",
              "                canvas.setAttribute(\n",
              "                    'width',\n",
              "                    entry.devicePixelContentBoxSize[0].inlineSize\n",
              "                );\n",
              "                canvas.setAttribute(\n",
              "                    'height',\n",
              "                    entry.devicePixelContentBoxSize[0].blockSize\n",
              "                );\n",
              "            } else {\n",
              "                canvas.setAttribute('width', width * fig.ratio);\n",
              "                canvas.setAttribute('height', height * fig.ratio);\n",
              "            }\n",
              "            canvas.setAttribute(\n",
              "                'style',\n",
              "                'width: ' + width + 'px; height: ' + height + 'px;'\n",
              "            );\n",
              "\n",
              "            rubberband_canvas.setAttribute('width', width);\n",
              "            rubberband_canvas.setAttribute('height', height);\n",
              "\n",
              "            // And update the size in Python. We ignore the initial 0/0 size\n",
              "            // that occurs as the element is placed into the DOM, which should\n",
              "            // otherwise not happen due to the minimum size styling.\n",
              "            if (fig.ws.readyState == 1 && width != 0 && height != 0) {\n",
              "                fig.request_resize(width, height);\n",
              "            }\n",
              "        }\n",
              "    });\n",
              "    this.resizeObserverInstance.observe(canvas_div);\n",
              "\n",
              "    function on_mouse_event_closure(name) {\n",
              "        return function (event) {\n",
              "            return fig.mouse_event(event, name);\n",
              "        };\n",
              "    }\n",
              "\n",
              "    rubberband_canvas.addEventListener(\n",
              "        'mousedown',\n",
              "        on_mouse_event_closure('button_press')\n",
              "    );\n",
              "    rubberband_canvas.addEventListener(\n",
              "        'mouseup',\n",
              "        on_mouse_event_closure('button_release')\n",
              "    );\n",
              "    rubberband_canvas.addEventListener(\n",
              "        'dblclick',\n",
              "        on_mouse_event_closure('dblclick')\n",
              "    );\n",
              "    // Throttle sequential mouse events to 1 every 20ms.\n",
              "    rubberband_canvas.addEventListener(\n",
              "        'mousemove',\n",
              "        on_mouse_event_closure('motion_notify')\n",
              "    );\n",
              "\n",
              "    rubberband_canvas.addEventListener(\n",
              "        'mouseenter',\n",
              "        on_mouse_event_closure('figure_enter')\n",
              "    );\n",
              "    rubberband_canvas.addEventListener(\n",
              "        'mouseleave',\n",
              "        on_mouse_event_closure('figure_leave')\n",
              "    );\n",
              "\n",
              "    canvas_div.addEventListener('wheel', function (event) {\n",
              "        if (event.deltaY < 0) {\n",
              "            event.step = 1;\n",
              "        } else {\n",
              "            event.step = -1;\n",
              "        }\n",
              "        on_mouse_event_closure('scroll')(event);\n",
              "    });\n",
              "\n",
              "    canvas_div.appendChild(canvas);\n",
              "    canvas_div.appendChild(rubberband_canvas);\n",
              "\n",
              "    this.rubberband_context = rubberband_canvas.getContext('2d');\n",
              "    this.rubberband_context.strokeStyle = '#000000';\n",
              "\n",
              "    this._resize_canvas = function (width, height, forward) {\n",
              "        if (forward) {\n",
              "            canvas_div.style.width = width + 'px';\n",
              "            canvas_div.style.height = height + 'px';\n",
              "        }\n",
              "    };\n",
              "\n",
              "    // Disable right mouse context menu.\n",
              "    this.rubberband_canvas.addEventListener('contextmenu', function (_e) {\n",
              "        event.preventDefault();\n",
              "        return false;\n",
              "    });\n",
              "\n",
              "    function set_focus() {\n",
              "        canvas.focus();\n",
              "        canvas_div.focus();\n",
              "    }\n",
              "\n",
              "    window.setTimeout(set_focus, 100);\n",
              "};\n",
              "\n",
              "mpl.figure.prototype._init_toolbar = function () {\n",
              "    var fig = this;\n",
              "\n",
              "    var toolbar = document.createElement('div');\n",
              "    toolbar.classList = 'mpl-toolbar';\n",
              "    this.root.appendChild(toolbar);\n",
              "\n",
              "    function on_click_closure(name) {\n",
              "        return function (_event) {\n",
              "            return fig.toolbar_button_onclick(name);\n",
              "        };\n",
              "    }\n",
              "\n",
              "    function on_mouseover_closure(tooltip) {\n",
              "        return function (event) {\n",
              "            if (!event.currentTarget.disabled) {\n",
              "                return fig.toolbar_button_onmouseover(tooltip);\n",
              "            }\n",
              "        };\n",
              "    }\n",
              "\n",
              "    fig.buttons = {};\n",
              "    var buttonGroup = document.createElement('div');\n",
              "    buttonGroup.classList = 'mpl-button-group';\n",
              "    for (var toolbar_ind in mpl.toolbar_items) {\n",
              "        var name = mpl.toolbar_items[toolbar_ind][0];\n",
              "        var tooltip = mpl.toolbar_items[toolbar_ind][1];\n",
              "        var image = mpl.toolbar_items[toolbar_ind][2];\n",
              "        var method_name = mpl.toolbar_items[toolbar_ind][3];\n",
              "\n",
              "        if (!name) {\n",
              "            /* Instead of a spacer, we start a new button group. */\n",
              "            if (buttonGroup.hasChildNodes()) {\n",
              "                toolbar.appendChild(buttonGroup);\n",
              "            }\n",
              "            buttonGroup = document.createElement('div');\n",
              "            buttonGroup.classList = 'mpl-button-group';\n",
              "            continue;\n",
              "        }\n",
              "\n",
              "        var button = (fig.buttons[name] = document.createElement('button'));\n",
              "        button.classList = 'mpl-widget';\n",
              "        button.setAttribute('role', 'button');\n",
              "        button.setAttribute('aria-disabled', 'false');\n",
              "        button.addEventListener('click', on_click_closure(method_name));\n",
              "        button.addEventListener('mouseover', on_mouseover_closure(tooltip));\n",
              "\n",
              "        var icon_img = document.createElement('img');\n",
              "        icon_img.src = '_images/' + image + '.png';\n",
              "        icon_img.srcset = '_images/' + image + '_large.png 2x';\n",
              "        icon_img.alt = tooltip;\n",
              "        button.appendChild(icon_img);\n",
              "\n",
              "        buttonGroup.appendChild(button);\n",
              "    }\n",
              "\n",
              "    if (buttonGroup.hasChildNodes()) {\n",
              "        toolbar.appendChild(buttonGroup);\n",
              "    }\n",
              "\n",
              "    var fmt_picker = document.createElement('select');\n",
              "    fmt_picker.classList = 'mpl-widget';\n",
              "    toolbar.appendChild(fmt_picker);\n",
              "    this.format_dropdown = fmt_picker;\n",
              "\n",
              "    for (var ind in mpl.extensions) {\n",
              "        var fmt = mpl.extensions[ind];\n",
              "        var option = document.createElement('option');\n",
              "        option.selected = fmt === mpl.default_extension;\n",
              "        option.innerHTML = fmt;\n",
              "        fmt_picker.appendChild(option);\n",
              "    }\n",
              "\n",
              "    var status_bar = document.createElement('span');\n",
              "    status_bar.classList = 'mpl-message';\n",
              "    toolbar.appendChild(status_bar);\n",
              "    this.message = status_bar;\n",
              "};\n",
              "\n",
              "mpl.figure.prototype.request_resize = function (x_pixels, y_pixels) {\n",
              "    // Request matplotlib to resize the figure. Matplotlib will then trigger a resize in the client,\n",
              "    // which will in turn request a refresh of the image.\n",
              "    this.send_message('resize', { width: x_pixels, height: y_pixels });\n",
              "};\n",
              "\n",
              "mpl.figure.prototype.send_message = function (type, properties) {\n",
              "    properties['type'] = type;\n",
              "    properties['figure_id'] = this.id;\n",
              "    this.ws.send(JSON.stringify(properties));\n",
              "};\n",
              "\n",
              "mpl.figure.prototype.send_draw_message = function () {\n",
              "    if (!this.waiting) {\n",
              "        this.waiting = true;\n",
              "        this.ws.send(JSON.stringify({ type: 'draw', figure_id: this.id }));\n",
              "    }\n",
              "};\n",
              "\n",
              "mpl.figure.prototype.handle_save = function (fig, _msg) {\n",
              "    var format_dropdown = fig.format_dropdown;\n",
              "    var format = format_dropdown.options[format_dropdown.selectedIndex].value;\n",
              "    fig.ondownload(fig, format);\n",
              "};\n",
              "\n",
              "mpl.figure.prototype.handle_resize = function (fig, msg) {\n",
              "    var size = msg['size'];\n",
              "    if (size[0] !== fig.canvas.width || size[1] !== fig.canvas.height) {\n",
              "        fig._resize_canvas(size[0], size[1], msg['forward']);\n",
              "        fig.send_message('refresh', {});\n",
              "    }\n",
              "};\n",
              "\n",
              "mpl.figure.prototype.handle_rubberband = function (fig, msg) {\n",
              "    var x0 = msg['x0'] / fig.ratio;\n",
              "    var y0 = (fig.canvas.height - msg['y0']) / fig.ratio;\n",
              "    var x1 = msg['x1'] / fig.ratio;\n",
              "    var y1 = (fig.canvas.height - msg['y1']) / fig.ratio;\n",
              "    x0 = Math.floor(x0) + 0.5;\n",
              "    y0 = Math.floor(y0) + 0.5;\n",
              "    x1 = Math.floor(x1) + 0.5;\n",
              "    y1 = Math.floor(y1) + 0.5;\n",
              "    var min_x = Math.min(x0, x1);\n",
              "    var min_y = Math.min(y0, y1);\n",
              "    var width = Math.abs(x1 - x0);\n",
              "    var height = Math.abs(y1 - y0);\n",
              "\n",
              "    fig.rubberband_context.clearRect(\n",
              "        0,\n",
              "        0,\n",
              "        fig.canvas.width / fig.ratio,\n",
              "        fig.canvas.height / fig.ratio\n",
              "    );\n",
              "\n",
              "    fig.rubberband_context.strokeRect(min_x, min_y, width, height);\n",
              "};\n",
              "\n",
              "mpl.figure.prototype.handle_figure_label = function (fig, msg) {\n",
              "    // Updates the figure title.\n",
              "    fig.header.textContent = msg['label'];\n",
              "};\n",
              "\n",
              "mpl.figure.prototype.handle_cursor = function (fig, msg) {\n",
              "    var cursor = msg['cursor'];\n",
              "    switch (cursor) {\n",
              "        case 0:\n",
              "            cursor = 'pointer';\n",
              "            break;\n",
              "        case 1:\n",
              "            cursor = 'default';\n",
              "            break;\n",
              "        case 2:\n",
              "            cursor = 'crosshair';\n",
              "            break;\n",
              "        case 3:\n",
              "            cursor = 'move';\n",
              "            break;\n",
              "    }\n",
              "    fig.rubberband_canvas.style.cursor = cursor;\n",
              "};\n",
              "\n",
              "mpl.figure.prototype.handle_message = function (fig, msg) {\n",
              "    fig.message.textContent = msg['message'];\n",
              "};\n",
              "\n",
              "mpl.figure.prototype.handle_draw = function (fig, _msg) {\n",
              "    // Request the server to send over a new figure.\n",
              "    fig.send_draw_message();\n",
              "};\n",
              "\n",
              "mpl.figure.prototype.handle_image_mode = function (fig, msg) {\n",
              "    fig.image_mode = msg['mode'];\n",
              "};\n",
              "\n",
              "mpl.figure.prototype.handle_history_buttons = function (fig, msg) {\n",
              "    for (var key in msg) {\n",
              "        if (!(key in fig.buttons)) {\n",
              "            continue;\n",
              "        }\n",
              "        fig.buttons[key].disabled = !msg[key];\n",
              "        fig.buttons[key].setAttribute('aria-disabled', !msg[key]);\n",
              "    }\n",
              "};\n",
              "\n",
              "mpl.figure.prototype.handle_navigate_mode = function (fig, msg) {\n",
              "    if (msg['mode'] === 'PAN') {\n",
              "        fig.buttons['Pan'].classList.add('active');\n",
              "        fig.buttons['Zoom'].classList.remove('active');\n",
              "    } else if (msg['mode'] === 'ZOOM') {\n",
              "        fig.buttons['Pan'].classList.remove('active');\n",
              "        fig.buttons['Zoom'].classList.add('active');\n",
              "    } else {\n",
              "        fig.buttons['Pan'].classList.remove('active');\n",
              "        fig.buttons['Zoom'].classList.remove('active');\n",
              "    }\n",
              "};\n",
              "\n",
              "mpl.figure.prototype.updated_canvas_event = function () {\n",
              "    // Called whenever the canvas gets updated.\n",
              "    this.send_message('ack', {});\n",
              "};\n",
              "\n",
              "// A function to construct a web socket function for onmessage handling.\n",
              "// Called in the figure constructor.\n",
              "mpl.figure.prototype._make_on_message_function = function (fig) {\n",
              "    return function socket_on_message(evt) {\n",
              "        if (evt.data instanceof Blob) {\n",
              "            var img = evt.data;\n",
              "            if (img.type !== 'image/png') {\n",
              "                /* FIXME: We get \"Resource interpreted as Image but\n",
              "                 * transferred with MIME type text/plain:\" errors on\n",
              "                 * Chrome.  But how to set the MIME type?  It doesn't seem\n",
              "                 * to be part of the websocket stream */\n",
              "                img.type = 'image/png';\n",
              "            }\n",
              "\n",
              "            /* Free the memory for the previous frames */\n",
              "            if (fig.imageObj.src) {\n",
              "                (window.URL || window.webkitURL).revokeObjectURL(\n",
              "                    fig.imageObj.src\n",
              "                );\n",
              "            }\n",
              "\n",
              "            fig.imageObj.src = (window.URL || window.webkitURL).createObjectURL(\n",
              "                img\n",
              "            );\n",
              "            fig.updated_canvas_event();\n",
              "            fig.waiting = false;\n",
              "            return;\n",
              "        } else if (\n",
              "            typeof evt.data === 'string' &&\n",
              "            evt.data.slice(0, 21) === 'data:image/png;base64'\n",
              "        ) {\n",
              "            fig.imageObj.src = evt.data;\n",
              "            fig.updated_canvas_event();\n",
              "            fig.waiting = false;\n",
              "            return;\n",
              "        }\n",
              "\n",
              "        var msg = JSON.parse(evt.data);\n",
              "        var msg_type = msg['type'];\n",
              "\n",
              "        // Call the  \"handle_{type}\" callback, which takes\n",
              "        // the figure and JSON message as its only arguments.\n",
              "        try {\n",
              "            var callback = fig['handle_' + msg_type];\n",
              "        } catch (e) {\n",
              "            console.log(\n",
              "                \"No handler for the '\" + msg_type + \"' message type: \",\n",
              "                msg\n",
              "            );\n",
              "            return;\n",
              "        }\n",
              "\n",
              "        if (callback) {\n",
              "            try {\n",
              "                // console.log(\"Handling '\" + msg_type + \"' message: \", msg);\n",
              "                callback(fig, msg);\n",
              "            } catch (e) {\n",
              "                console.log(\n",
              "                    \"Exception inside the 'handler_\" + msg_type + \"' callback:\",\n",
              "                    e,\n",
              "                    e.stack,\n",
              "                    msg\n",
              "                );\n",
              "            }\n",
              "        }\n",
              "    };\n",
              "};\n",
              "\n",
              "// from http://stackoverflow.com/questions/1114465/getting-mouse-location-in-canvas\n",
              "mpl.findpos = function (e) {\n",
              "    //this section is from http://www.quirksmode.org/js/events_properties.html\n",
              "    var targ;\n",
              "    if (!e) {\n",
              "        e = window.event;\n",
              "    }\n",
              "    if (e.target) {\n",
              "        targ = e.target;\n",
              "    } else if (e.srcElement) {\n",
              "        targ = e.srcElement;\n",
              "    }\n",
              "    if (targ.nodeType === 3) {\n",
              "        // defeat Safari bug\n",
              "        targ = targ.parentNode;\n",
              "    }\n",
              "\n",
              "    // pageX,Y are the mouse positions relative to the document\n",
              "    var boundingRect = targ.getBoundingClientRect();\n",
              "    var x = e.pageX - (boundingRect.left + document.body.scrollLeft);\n",
              "    var y = e.pageY - (boundingRect.top + document.body.scrollTop);\n",
              "\n",
              "    return { x: x, y: y };\n",
              "};\n",
              "\n",
              "/*\n",
              " * return a copy of an object with only non-object keys\n",
              " * we need this to avoid circular references\n",
              " * http://stackoverflow.com/a/24161582/3208463\n",
              " */\n",
              "function simpleKeys(original) {\n",
              "    return Object.keys(original).reduce(function (obj, key) {\n",
              "        if (typeof original[key] !== 'object') {\n",
              "            obj[key] = original[key];\n",
              "        }\n",
              "        return obj;\n",
              "    }, {});\n",
              "}\n",
              "\n",
              "mpl.figure.prototype.mouse_event = function (event, name) {\n",
              "    var canvas_pos = mpl.findpos(event);\n",
              "\n",
              "    if (name === 'button_press') {\n",
              "        this.canvas.focus();\n",
              "        this.canvas_div.focus();\n",
              "    }\n",
              "\n",
              "    var x = canvas_pos.x * this.ratio;\n",
              "    var y = canvas_pos.y * this.ratio;\n",
              "\n",
              "    this.send_message(name, {\n",
              "        x: x,\n",
              "        y: y,\n",
              "        button: event.button,\n",
              "        step: event.step,\n",
              "        guiEvent: simpleKeys(event),\n",
              "    });\n",
              "\n",
              "    /* This prevents the web browser from automatically changing to\n",
              "     * the text insertion cursor when the button is pressed.  We want\n",
              "     * to control all of the cursor setting manually through the\n",
              "     * 'cursor' event from matplotlib */\n",
              "    event.preventDefault();\n",
              "    return false;\n",
              "};\n",
              "\n",
              "mpl.figure.prototype._key_event_extra = function (_event, _name) {\n",
              "    // Handle any extra behaviour associated with a key event\n",
              "};\n",
              "\n",
              "mpl.figure.prototype.key_event = function (event, name) {\n",
              "    // Prevent repeat events\n",
              "    if (name === 'key_press') {\n",
              "        if (event.key === this._key) {\n",
              "            return;\n",
              "        } else {\n",
              "            this._key = event.key;\n",
              "        }\n",
              "    }\n",
              "    if (name === 'key_release') {\n",
              "        this._key = null;\n",
              "    }\n",
              "\n",
              "    var value = '';\n",
              "    if (event.ctrlKey && event.key !== 'Control') {\n",
              "        value += 'ctrl+';\n",
              "    }\n",
              "    else if (event.altKey && event.key !== 'Alt') {\n",
              "        value += 'alt+';\n",
              "    }\n",
              "    else if (event.shiftKey && event.key !== 'Shift') {\n",
              "        value += 'shift+';\n",
              "    }\n",
              "\n",
              "    value += 'k' + event.key;\n",
              "\n",
              "    this._key_event_extra(event, name);\n",
              "\n",
              "    this.send_message(name, { key: value, guiEvent: simpleKeys(event) });\n",
              "    return false;\n",
              "};\n",
              "\n",
              "mpl.figure.prototype.toolbar_button_onclick = function (name) {\n",
              "    if (name === 'download') {\n",
              "        this.handle_save(this, null);\n",
              "    } else {\n",
              "        this.send_message('toolbar_button', { name: name });\n",
              "    }\n",
              "};\n",
              "\n",
              "mpl.figure.prototype.toolbar_button_onmouseover = function (tooltip) {\n",
              "    this.message.textContent = tooltip;\n",
              "};\n",
              "\n",
              "///////////////// REMAINING CONTENT GENERATED BY embed_js.py /////////////////\n",
              "// prettier-ignore\n",
              "var _JSXTOOLS_RESIZE_OBSERVER=function(A){var t,i=new WeakMap,n=new WeakMap,a=new WeakMap,r=new WeakMap,o=new Set;function s(e){if(!(this instanceof s))throw new TypeError(\"Constructor requires 'new' operator\");i.set(this,e)}function h(){throw new TypeError(\"Function is not a constructor\")}function c(e,t,i,n){e=0 in arguments?Number(arguments[0]):0,t=1 in arguments?Number(arguments[1]):0,i=2 in arguments?Number(arguments[2]):0,n=3 in arguments?Number(arguments[3]):0,this.right=(this.x=this.left=e)+(this.width=i),this.bottom=(this.y=this.top=t)+(this.height=n),Object.freeze(this)}function d(){t=requestAnimationFrame(d);var s=new WeakMap,p=new Set;o.forEach((function(t){r.get(t).forEach((function(i){var r=t instanceof window.SVGElement,o=a.get(t),d=r?0:parseFloat(o.paddingTop),f=r?0:parseFloat(o.paddingRight),l=r?0:parseFloat(o.paddingBottom),u=r?0:parseFloat(o.paddingLeft),g=r?0:parseFloat(o.borderTopWidth),m=r?0:parseFloat(o.borderRightWidth),w=r?0:parseFloat(o.borderBottomWidth),b=u+f,F=d+l,v=(r?0:parseFloat(o.borderLeftWidth))+m,W=g+w,y=r?0:t.offsetHeight-W-t.clientHeight,E=r?0:t.offsetWidth-v-t.clientWidth,R=b+v,z=F+W,M=r?t.width:parseFloat(o.width)-R-E,O=r?t.height:parseFloat(o.height)-z-y;if(n.has(t)){var k=n.get(t);if(k[0]===M&&k[1]===O)return}n.set(t,[M,O]);var S=Object.create(h.prototype);S.target=t,S.contentRect=new c(u,d,M,O),s.has(i)||(s.set(i,[]),p.add(i)),s.get(i).push(S)}))})),p.forEach((function(e){i.get(e).call(e,s.get(e),e)}))}return s.prototype.observe=function(i){if(i instanceof window.Element){r.has(i)||(r.set(i,new Set),o.add(i),a.set(i,window.getComputedStyle(i)));var n=r.get(i);n.has(this)||n.add(this),cancelAnimationFrame(t),t=requestAnimationFrame(d)}},s.prototype.unobserve=function(i){if(i instanceof window.Element&&r.has(i)){var n=r.get(i);n.has(this)&&(n.delete(this),n.size||(r.delete(i),o.delete(i))),n.size||r.delete(i),o.size||cancelAnimationFrame(t)}},A.DOMRectReadOnly=c,A.ResizeObserver=s,A.ResizeObserverEntry=h,A}; // eslint-disable-line\n",
              "mpl.toolbar_items = [[\"Home\", \"Reset original view\", \"fa fa-home icon-home\", \"home\"], [\"Back\", \"Back to previous view\", \"fa fa-arrow-left icon-arrow-left\", \"back\"], [\"Forward\", \"Forward to next view\", \"fa fa-arrow-right icon-arrow-right\", \"forward\"], [\"\", \"\", \"\", \"\"], [\"Pan\", \"Left button pans, Right button zooms\\nx/y fixes axis, CTRL fixes aspect\", \"fa fa-arrows icon-move\", \"pan\"], [\"Zoom\", \"Zoom to rectangle\\nx/y fixes axis, CTRL fixes aspect\", \"fa fa-square-o icon-check-empty\", \"zoom\"], [\"\", \"\", \"\", \"\"], [\"Download\", \"Download plot\", \"fa fa-floppy-o icon-save\", \"download\"]];\n",
              "\n",
              "mpl.extensions = [\"eps\", \"jpeg\", \"pgf\", \"pdf\", \"png\", \"ps\", \"raw\", \"svg\", \"tif\"];\n",
              "\n",
              "mpl.default_extension = \"png\";/* global mpl */\n",
              "\n",
              "var comm_websocket_adapter = function (comm) {\n",
              "    // Create a \"websocket\"-like object which calls the given IPython comm\n",
              "    // object with the appropriate methods. Currently this is a non binary\n",
              "    // socket, so there is still some room for performance tuning.\n",
              "    var ws = {};\n",
              "\n",
              "    ws.binaryType = comm.kernel.ws.binaryType;\n",
              "    ws.readyState = comm.kernel.ws.readyState;\n",
              "    function updateReadyState(_event) {\n",
              "        if (comm.kernel.ws) {\n",
              "            ws.readyState = comm.kernel.ws.readyState;\n",
              "        } else {\n",
              "            ws.readyState = 3; // Closed state.\n",
              "        }\n",
              "    }\n",
              "    comm.kernel.ws.addEventListener('open', updateReadyState);\n",
              "    comm.kernel.ws.addEventListener('close', updateReadyState);\n",
              "    comm.kernel.ws.addEventListener('error', updateReadyState);\n",
              "\n",
              "    ws.close = function () {\n",
              "        comm.close();\n",
              "    };\n",
              "    ws.send = function (m) {\n",
              "        //console.log('sending', m);\n",
              "        comm.send(m);\n",
              "    };\n",
              "    // Register the callback with on_msg.\n",
              "    comm.on_msg(function (msg) {\n",
              "        //console.log('receiving', msg['content']['data'], msg);\n",
              "        var data = msg['content']['data'];\n",
              "        if (data['blob'] !== undefined) {\n",
              "            data = {\n",
              "                data: new Blob(msg['buffers'], { type: data['blob'] }),\n",
              "            };\n",
              "        }\n",
              "        // Pass the mpl event to the overridden (by mpl) onmessage function.\n",
              "        ws.onmessage(data);\n",
              "    });\n",
              "    return ws;\n",
              "};\n",
              "\n",
              "mpl.mpl_figure_comm = function (comm, msg) {\n",
              "    // This is the function which gets called when the mpl process\n",
              "    // starts-up an IPython Comm through the \"matplotlib\" channel.\n",
              "\n",
              "    var id = msg.content.data.id;\n",
              "    // Get hold of the div created by the display call when the Comm\n",
              "    // socket was opened in Python.\n",
              "    var element = document.getElementById(id);\n",
              "    var ws_proxy = comm_websocket_adapter(comm);\n",
              "\n",
              "    function ondownload(figure, _format) {\n",
              "        window.open(figure.canvas.toDataURL());\n",
              "    }\n",
              "\n",
              "    var fig = new mpl.figure(id, ws_proxy, ondownload, element);\n",
              "\n",
              "    // Call onopen now - mpl needs it, as it is assuming we've passed it a real\n",
              "    // web socket which is closed, not our websocket->open comm proxy.\n",
              "    ws_proxy.onopen();\n",
              "\n",
              "    fig.parent_element = element;\n",
              "    fig.cell_info = mpl.find_output_cell(\"<div id='\" + id + \"'></div>\");\n",
              "    if (!fig.cell_info) {\n",
              "        console.error('Failed to find cell for figure', id, fig);\n",
              "        return;\n",
              "    }\n",
              "    fig.cell_info[0].output_area.element.on(\n",
              "        'cleared',\n",
              "        { fig: fig },\n",
              "        fig._remove_fig_handler\n",
              "    );\n",
              "};\n",
              "\n",
              "mpl.figure.prototype.handle_close = function (fig, msg) {\n",
              "    var width = fig.canvas.width / fig.ratio;\n",
              "    fig.cell_info[0].output_area.element.off(\n",
              "        'cleared',\n",
              "        fig._remove_fig_handler\n",
              "    );\n",
              "    fig.resizeObserverInstance.unobserve(fig.canvas_div);\n",
              "\n",
              "    // Update the output cell to use the data from the current canvas.\n",
              "    fig.push_to_output();\n",
              "    var dataURL = fig.canvas.toDataURL();\n",
              "    // Re-enable the keyboard manager in IPython - without this line, in FF,\n",
              "    // the notebook keyboard shortcuts fail.\n",
              "    IPython.keyboard_manager.enable();\n",
              "    fig.parent_element.innerHTML =\n",
              "        '<img src=\"' + dataURL + '\" width=\"' + width + '\">';\n",
              "    fig.close_ws(fig, msg);\n",
              "};\n",
              "\n",
              "mpl.figure.prototype.close_ws = function (fig, msg) {\n",
              "    fig.send_message('closing', msg);\n",
              "    // fig.ws.close()\n",
              "};\n",
              "\n",
              "mpl.figure.prototype.push_to_output = function (_remove_interactive) {\n",
              "    // Turn the data on the canvas into data in the output cell.\n",
              "    var width = this.canvas.width / this.ratio;\n",
              "    var dataURL = this.canvas.toDataURL();\n",
              "    this.cell_info[1]['text/html'] =\n",
              "        '<img src=\"' + dataURL + '\" width=\"' + width + '\">';\n",
              "};\n",
              "\n",
              "mpl.figure.prototype.updated_canvas_event = function () {\n",
              "    // Tell IPython that the notebook contents must change.\n",
              "    IPython.notebook.set_dirty(true);\n",
              "    this.send_message('ack', {});\n",
              "    var fig = this;\n",
              "    // Wait a second, then push the new image to the DOM so\n",
              "    // that it is saved nicely (might be nice to debounce this).\n",
              "    setTimeout(function () {\n",
              "        fig.push_to_output();\n",
              "    }, 1000);\n",
              "};\n",
              "\n",
              "mpl.figure.prototype._init_toolbar = function () {\n",
              "    var fig = this;\n",
              "\n",
              "    var toolbar = document.createElement('div');\n",
              "    toolbar.classList = 'btn-toolbar';\n",
              "    this.root.appendChild(toolbar);\n",
              "\n",
              "    function on_click_closure(name) {\n",
              "        return function (_event) {\n",
              "            return fig.toolbar_button_onclick(name);\n",
              "        };\n",
              "    }\n",
              "\n",
              "    function on_mouseover_closure(tooltip) {\n",
              "        return function (event) {\n",
              "            if (!event.currentTarget.disabled) {\n",
              "                return fig.toolbar_button_onmouseover(tooltip);\n",
              "            }\n",
              "        };\n",
              "    }\n",
              "\n",
              "    fig.buttons = {};\n",
              "    var buttonGroup = document.createElement('div');\n",
              "    buttonGroup.classList = 'btn-group';\n",
              "    var button;\n",
              "    for (var toolbar_ind in mpl.toolbar_items) {\n",
              "        var name = mpl.toolbar_items[toolbar_ind][0];\n",
              "        var tooltip = mpl.toolbar_items[toolbar_ind][1];\n",
              "        var image = mpl.toolbar_items[toolbar_ind][2];\n",
              "        var method_name = mpl.toolbar_items[toolbar_ind][3];\n",
              "\n",
              "        if (!name) {\n",
              "            /* Instead of a spacer, we start a new button group. */\n",
              "            if (buttonGroup.hasChildNodes()) {\n",
              "                toolbar.appendChild(buttonGroup);\n",
              "            }\n",
              "            buttonGroup = document.createElement('div');\n",
              "            buttonGroup.classList = 'btn-group';\n",
              "            continue;\n",
              "        }\n",
              "\n",
              "        button = fig.buttons[name] = document.createElement('button');\n",
              "        button.classList = 'btn btn-default';\n",
              "        button.href = '#';\n",
              "        button.title = name;\n",
              "        button.innerHTML = '<i class=\"fa ' + image + ' fa-lg\"></i>';\n",
              "        button.addEventListener('click', on_click_closure(method_name));\n",
              "        button.addEventListener('mouseover', on_mouseover_closure(tooltip));\n",
              "        buttonGroup.appendChild(button);\n",
              "    }\n",
              "\n",
              "    if (buttonGroup.hasChildNodes()) {\n",
              "        toolbar.appendChild(buttonGroup);\n",
              "    }\n",
              "\n",
              "    // Add the status bar.\n",
              "    var status_bar = document.createElement('span');\n",
              "    status_bar.classList = 'mpl-message pull-right';\n",
              "    toolbar.appendChild(status_bar);\n",
              "    this.message = status_bar;\n",
              "\n",
              "    // Add the close button to the window.\n",
              "    var buttongrp = document.createElement('div');\n",
              "    buttongrp.classList = 'btn-group inline pull-right';\n",
              "    button = document.createElement('button');\n",
              "    button.classList = 'btn btn-mini btn-primary';\n",
              "    button.href = '#';\n",
              "    button.title = 'Stop Interaction';\n",
              "    button.innerHTML = '<i class=\"fa fa-power-off icon-remove icon-large\"></i>';\n",
              "    button.addEventListener('click', function (_evt) {\n",
              "        fig.handle_close(fig, {});\n",
              "    });\n",
              "    button.addEventListener(\n",
              "        'mouseover',\n",
              "        on_mouseover_closure('Stop Interaction')\n",
              "    );\n",
              "    buttongrp.appendChild(button);\n",
              "    var titlebar = this.root.querySelector('.ui-dialog-titlebar');\n",
              "    titlebar.insertBefore(buttongrp, titlebar.firstChild);\n",
              "};\n",
              "\n",
              "mpl.figure.prototype._remove_fig_handler = function (event) {\n",
              "    var fig = event.data.fig;\n",
              "    if (event.target !== this) {\n",
              "        // Ignore bubbled events from children.\n",
              "        return;\n",
              "    }\n",
              "    fig.close_ws(fig, {});\n",
              "};\n",
              "\n",
              "mpl.figure.prototype._root_extra_style = function (el) {\n",
              "    el.style.boxSizing = 'content-box'; // override notebook setting of border-box.\n",
              "};\n",
              "\n",
              "mpl.figure.prototype._canvas_extra_style = function (el) {\n",
              "    // this is important to make the div 'focusable\n",
              "    el.setAttribute('tabindex', 0);\n",
              "    // reach out to IPython and tell the keyboard manager to turn it's self\n",
              "    // off when our div gets focus\n",
              "\n",
              "    // location in version 3\n",
              "    if (IPython.notebook.keyboard_manager) {\n",
              "        IPython.notebook.keyboard_manager.register_events(el);\n",
              "    } else {\n",
              "        // location in version 2\n",
              "        IPython.keyboard_manager.register_events(el);\n",
              "    }\n",
              "};\n",
              "\n",
              "mpl.figure.prototype._key_event_extra = function (event, _name) {\n",
              "    var manager = IPython.notebook.keyboard_manager;\n",
              "    if (!manager) {\n",
              "        manager = IPython.keyboard_manager;\n",
              "    }\n",
              "\n",
              "    // Check for shift+enter\n",
              "    if (event.shiftKey && event.which === 13) {\n",
              "        this.canvas_div.blur();\n",
              "        // select the cell after this one\n",
              "        var index = IPython.notebook.find_cell_index(this.cell_info[0]);\n",
              "        IPython.notebook.select(index + 1);\n",
              "    }\n",
              "};\n",
              "\n",
              "mpl.figure.prototype.handle_save = function (fig, _msg) {\n",
              "    fig.ondownload(fig, null);\n",
              "};\n",
              "\n",
              "mpl.find_output_cell = function (html_output) {\n",
              "    // Return the cell and output element which can be found *uniquely* in the notebook.\n",
              "    // Note - this is a bit hacky, but it is done because the \"notebook_saving.Notebook\"\n",
              "    // IPython event is triggered only after the cells have been serialised, which for\n",
              "    // our purposes (turning an active figure into a static one), is too late.\n",
              "    var cells = IPython.notebook.get_cells();\n",
              "    var ncells = cells.length;\n",
              "    for (var i = 0; i < ncells; i++) {\n",
              "        var cell = cells[i];\n",
              "        if (cell.cell_type === 'code') {\n",
              "            for (var j = 0; j < cell.output_area.outputs.length; j++) {\n",
              "                var data = cell.output_area.outputs[j];\n",
              "                if (data.data) {\n",
              "                    // IPython >= 3 moved mimebundle to data attribute of output\n",
              "                    data = data.data;\n",
              "                }\n",
              "                if (data['text/html'] === html_output) {\n",
              "                    return [cell, data, j];\n",
              "                }\n",
              "            }\n",
              "        }\n",
              "    }\n",
              "};\n",
              "\n",
              "// Register the function which deals with the matplotlib target/channel.\n",
              "// The kernel may be null if the page has been refreshed.\n",
              "if (IPython.notebook.kernel !== null) {\n",
              "    IPython.notebook.kernel.comm_manager.register_target(\n",
              "        'matplotlib',\n",
              "        mpl.mpl_figure_comm\n",
              "    );\n",
              "}\n"
            ],
            "text/plain": [
              "<IPython.core.display.Javascript object>"
            ]
          },
          "metadata": {},
          "output_type": "display_data"
        },
        {
          "data": {
            "text/html": [
              "<img src=\"data:image/png;base64,iVBORw0KGgoAAAANSUhEUgAAA6gAAAGwCAYAAACkW0j3AAAAAXNSR0IArs4c6QAAIABJREFUeF7sfQeYJEd59lc9s/F2LyjrJODQbdfsnUBgBIiMwIAxBkwQDiSTTLBNcAIDBixysDHJGDDZYJLJxtiAsTBgbH6DQYLTTs1KOrBQOOl0+W53Z6brf97urt3e3g7VMz07M7tfPY8eSTvVVdVvVVd9b31JEBdGgBFgBBgBRoARYAQYAUaAEWAEGAFGYAAQEAMwBh4CI8AIMAKMACPACDACjAAjwAgwAowAI0BMUHkRMAKMACPACDACjAAjwAgwAowAI8AIDAQCTFAHYhp4EIwAI8AIMAKMACPACDACjAAjwAgwAkxQeQ0wAowAI8AIMAKMACPACDACjAAjwAgMBAJMUAdiGngQjAAjwAgwAowAI8AIMAKMACPACDACTFB5DTACjAAjwAgwAowAI8AIMAKMACPACAwEAkxQB2IaeBCMACPACDACjAAjwAgwAowAI8AIMAJMUHkNMAKMACPACDACjAAjwAgwAowAI8AIDAQCTFAHYho2/iCklH9BRK/SWj+90Wh8uB9vPDs7e6nnef+utX57o9F4UdExzMzMPMxxnENKqf+HZ7ttL6l/KaVOGVebiI4SkdJa/0Oj0fgbIsLfNmWp1WpXaK0fuLS0tGP//v2H+wnCnj173Ha7/RwiejgR3UEI4Wit60T0mfHx8XdceeWVJ8z4Zmdnd3medx0RfVEp9Zh+jht9u677NCHEh4QQf1iv19+Gv1166aXVG2+88Q1a66cQ0XasOcdxXtDNt1PkPaWU9/A8b8f8/PzXwu9sYDDbu3fvaKvV+iERfVAp9db4e7mue4kQ4r/Cv9/T7BXxelLK/cBWKQV8e1J6udbWY/xlgiKlvBpbNhG9Wyn1+yl7r39GEdFjlVJfQJ1evGd87+p2nszZGh03EVWklM8bHx//UHT/KRPTrLaS9hCl1EVZz8zMzIw5jnMTvgut9YsbjcZbuhlvCi7dNNm3Z23Wr+3gkvb8tGellGcQUYOInqSU+mfbPrgeI1AGAkxQy0CR28hFYEAIKgRdCOT/Va/X/yV30JEKtVrteVrrd0eFgFCw6Ki9jAMBBPUIEflkIVJGiegCIgKpGRNCvKderz+vyDtspLrhIbtraWnpjfv371/o17uF6wJzVSUiEKqrhRATWutLQ4F4n+d5l87Pz9+CMXYrjJb9nq7r3lUI8RjP8/5lfn7eJ1au6z4H64uI6lrrLwghDjiO87lOv50iY3Zd99eEEF8SQvyxIcy7du3aPjo6igulOaXUJ4u0V3ZdKeXlRPSUarU6u2/fvqV4+1JKXBw9A98oEf2dUgoXF2tKL4hPvJNerrX1GH9Zc4cLDyL6vhDipNZ66eTJkzuvv/76Uwlz1xeC2u36Di9Ksd98Uik1h/eSUn6KiH6jXxd4SXtI0oVOdA5qtdoTtNafDufp/5RSuFDouGwUgmq7fm2BKkJQ0WatVnsxEf1+pVK5cN++fcdt++F6jEC3CDBB7RZBft4KgUEgqFYDTam0XoddqEH9mVJqV9JQ9uzZc6d2u/19IhoXQuyp1+vQ1HHpAwK1Wu3JWuu/J6J5InqUEQ7DoVRc132dEOIlRPTfSql74e+9JA1lQSClfC8RPVtr/dBGo/GNstq1aaeo8GTTZll1Qk35T7TWz200Gh+KtxtqV28AGSKi04loz/j4+LlJGqz1IHi9XGvrMf6y5k1K+U4I2ET06lBD+lSlFL7bVSVpj+/Fe66H9cd69JE1P53sIVLKLxPRA3GxQ0R/REQPUEp9u9N1sF5ndqfjs33Odv3atld0jz3//PMnJicnryWijyul/sS2H67HCHSLABPUbhHk560QYIJqBRNuvqFBTSWoaEVK+REieqoQ4vfq9frf2rXMtcpEINR6wExzQggxW6/XYba7pkgpv0tE9xFC/Cq09r0kDWW9n5QSJvi/o7X+pUaj8aOy2rVpp6jwZNNmWXVqtdp7tNaXeZ533vz8/GICwXksEX0OwrUQYlRr/Uat9TOSyGwviE98PL1ca+sx/jLm7eKLLx45duwYLg1uqFQqD2+329cT0XeUUiBCqwoT1DIQD9oouofMzMyc6TjODVprmJG+PjST/6hS6nc6HdVGIKhF1q8tTp3ssbVa7bVa6xeNjY3d7qqrrjpk2xfXYwS6QYAJajfo8bPWCBQlqBdccMG2kZGRl2utH09EtyOiQ0KIbwghLp+bm1PRjvfu3TvVbDZfIYT4TSI6Wwixr91u/4XjOL9ORM9USvnrPMlnNHz2NSAQRAStJfw8v+N53mvn5+fhawYTF9/fMdon2kzzQQ0Fwz8PfRJPIyKQlw9OT0+/4wc/+EEzCzQbglqr1d6itf6TqN8g2ty7d+85zWbzlUKIRxPRmRDKYDLlOM5r6/X6sWi/MzMzu/F3InowEW0hov/QWv+xEOLLQojr6/U6TMaWBQ0iuicRgRhfIIT4Yb1evy8R6d27d884jvMXQoiHhv6KuGn96PT09F9G39UG5/AdMJeZ8xGdk5gJm1Or1Z6jtX52aF4LE8zva63f3Gg0vm7ePyK4X4530Vpjru5MRMDoi0T0UqXUrTnz9Czc9MN/s16vw6QzsUgp76e1htb7n6+99tqfp5GGPXv23MHzvD/TWj+MiM4jopYQou553t81Gg2Y2y4X13V/WwjxB5hyIhoJzYo/WK/XUW/Zh9mmXlRYEUJ8IfSPXfUujuM8CH9I8kG1Xeu1Wu2+WF9EdO9Quwi/3P8RQry+Xq//e2ytLffvOM4dw77X+O3u2bPnXM/z4Nf+a/juiehmIcRXHMe5/Oqrr77RNBIRVPfgYoeInhzWn9davzOOb9JEzs7Onu553v8JIT6SZlovpfw8TPA9z7uwUqmc0lrjW/hPpRS+lVUljeC5rvt0IcRzw7kFRv8lhHhlvV6/MtJA0XWONf0+InolEd0F61wI8U/w84uv89Cc8OVEdP9wX8A7fMzzvL+KknIbghpqxB4ZXuCssvSQUv4WEX3C+Bra7g9Z32TSb7Va7ddDM/W31Ov1F5u93HGcWvwcsSWo4TfzQSK6cmRk5ME//elPbwv3pNw1nrR3Je0JhuCNjY2dtrS09HqtNS4/4Jv5EyJ6Q6PR+GzC+vZ9Z+NxDIQQ39JafwD7shDidfV6Hfvdctm5c+fk1NTUzUT0Y6XU/bIwdl33oUIImHxeYvYeInq/Ugp7jxd5lzV7yNzc3BVpbddqtRdqreEq8ftKqXdLKfG9n91qtc699tpr4fKyqriu+3xcogkhauGe92MhxDvq9fpnEnDBfnlh6FN/Ds7jsG7m5e6wrV+8d5E9n4iwH6PADQGyzy+01h8877zz3njFFVe0ooC7rrsHchURvUwp9Yai3yHXZwQ6QYAJaieo8TOFEShCUENhEJonHD7wi/te6H/5KCI6DiG+0Wj8NwYRmtX9R3hg/qcQ4j+11hcj1gs0kdh4swiqlBI3tiCnENh+KoTAAfabQgiPiO4GE1oIJI7jPC0kqfDtgS/cXyQR1NAE91tEtIOIviKEmAv9Ee8OASHvRtiCoDpSyv8loouEEA82wv0FF1xw+2q1CszO01rDVApBQeBf+CtE9L/j4+P3N6aGIJWVSuU/Q6IAH8NrtdbAFqTWEUL8OIGgQvj/vud51zqOcxxCzszMzN0cx/kmtIjQHGmtfyaEgGB7HyL6F6XUI00gJxucMZ+29RJM2IAL/BOfQEQQquFjPEVEuKTYSkR/AMEHfRghKiSnd9Va/xPmVAgBcnhXIvo3pdRDsha5lBIC4uOI6LeUUlgTViVJGA3/hsBbW7TWnxNC/F9IUi8LsX2+UupdIT64hPmk1hqBK7C+sE7xjrtDIvOaIvWiBHVxcfHDoa8n/JzvIoR4r9b6JsdxoFGF//aqAGO2az0kCcDrAMhCSJDuFH53ba31PaCplVKi36fhfbTW/wotytLS0tvGx8e3xwNLhRcsWO8gpjBDBoFDEBbM241a6/s1Gg2sA6wpE6DtB0IIBLH6rNYaAhiI6jYhxFPq9frHsiawVqs9U2v9/lggmuVHLrzwwtOazSZIcUMphXdDv9i7LtFa7200Gvgel0sSwTNmkdi3oEmCFpaInohvSAhx35CkFl7nRITLFgRjwnpBkDVcONxda/2DRqMB/0z/UiPEHwI+gq99AXNPRL8shMD7fNvzvIcakmpJUP21Gl2XBgApJdbBoz3Pu/38/Pz1tt+91Ue2Gmf/O3Uc5+5zc3M/cF33uUKIvw0vrWB+H52TXB/UEKN/xH7hed6DjG+57RpHZzZBkiIaSKxZBKr5ktZ6ixDiSUSEdfFAY/4aJ9bh/+M7uoPW+k0Y68TExGcWFhYwnweUUruj7+267hOFEB8PTddh3p9YQApB7MIYCbj0gD8iAsMhNsKnlFK/vWvXrm1pe8jc3BwsThJLrVb7gdb6Ls1m87zrrrvuZtd13wj3iCQroVqt9hJYJ4T7Ny63gAf2fZzdy+bbEVwO4FzTWn8m3C/xTe3QWr+w0WjgfRKLlHLY1q/V2WD2fKwFIprEJXa4J0MZcD4R/bVSCibWq4qU8udEdDgv2FXRb5TrMwJpCDBB5bWxLggUIaiu635ACPEMIQQ0f6+ICDWPCInkfKPRgDakLaXELeBfEtG7lFIvMMKW0TLi2TSCGgrYV8WJY61Wuyw8zP6yXq//KdpIul1PIqhSSpBlaM0uazQaMPdDEa7rfhVk0fO8i41mNgn4NIK6a9eu8Wq1ChLy0lBI+bZS6gERbL4CgV9r/ehGowHC5RfXdV8ghHi7EMLXIITvAgILzcYT6vU6hC0KIyhC0L8fbtwTCOrnlFI4wEzBO10phIAG9X4Q/iJjQXTTPzS34bY429ZDP3EhT0qJiLMfBbGZmJh4vCHjrutC4/sdkG+tdQ2kJXrLL4T4DXPrHppTgfxf6HnezPz8/DVpH4eUEhck9/Q8727z8/N4xqokEdTQdBSa31U+n1JKaK3/WwjxvXq9DtKP+YTWcVYIca7Ris/MzGx1HAfBUapKKRA2XaDemii+SeZ53ax1KSXGdkaz2bwQwqcBCsE3QgH6DUqpl4Xvt2Y8KRqmfwu1/7+rlAJx9EskmNk3lVK/HK53Qzz2e553z0jAqvt4ngeSu+pbSvku4bP4ZM/zbgdCFa8jpYSPIy4RXq6Uen302yOityqljLbCfzRO8Gq12oO11ngnEMFHzs/Pw5IDlykY43eg8azX64/udJ1rrZ/UaDT+IRx3pVarwbLgbmb9hmsIBKISEi/fegTRWH/xi198GHtO7AIkNwox9qzR0VHMNwLe+KQdBdYx1Wr1Zq319xqNxoOKfPdWH1lY6c53vvOOxcVFXFb8vNFoyBBPaMJxkXDbzp07z49qivI0qOEc4UJzf7VavXTfvn0gfGY+rdd4EYIKC5Dx8fEHR/Yzn0wS0d8rpWANkHg2JfmgGtcQrfW9zAVv+DzOjoeMjY2dk2a+Ge6jdSHEDVgf5vLnoosu2rKwsPCl8FuMkkNrN4GZmZm9juP8lIi+rpTCJSG+44u01tCKwloHF87LRUqJC5fDO3funDXzNzMzc77jOIgFcJVSCpcuUVz+r9ls3sPsPTMzM7/kOA7OK9SFRUFiGbb1W3TPxwWDEOLuJo5FrVbbqbUGhotKKfjQ4/IzijvkGVwinpVnYVTkO+W6jEAaAkxQeW2sCwK2BDXUiCJtCG56cTO7apN0XRe3oJfB7BAmQ1JKaE7u2Gq1zo+aAsFkrNVq4cZvRxpBNYcgTA1HRkZ+xZhqhSHyb1ev1/G8n8rFhqCGhyS0X8sHrQE31DZCY/CZ+fl5HMaJJSPNjKkPbccXPc97thG0YerYbrd/QUT/HGoto21D4+L7SiqlzgzDxkNo/G6U4OKBUBj+bhJB1Vo/sdFofCLyPvdyHAea7b9RSsHcdLmEQgvM3q6EsGCLs209dJRAUH3CorXebYQnM6AIebg81HybtCXXJmgT3iaEeKHxGc2YJ5gsyna77V5zzTU41K1KCtnCpYCs1+swG1xVpJQnYaqtlJoJ1yGIw108z3vw/Pw8NPV+wdqbnJw8ZARZKaVVvSR/JBuCWmCtXy2lhIYXQs+qNAWGgBPRB5RSMJlOTHsTxyzSdyKxlFIiSNE9YB4MrY35dlM0efCnwtigfUktUkp8s7dTSkEbv6ZEtKXL6++Od7zj2SMjI/guD1Wr1fOiUX/jBFVKicAwz3Ic575zc3Owblgu0Bh5nneo0Wi8T0pZyjqv1WqvgWl7eJH22QjxfU2j0YAp8HIJ/QNhjYI92Q/eZqNBDeshmNTTPM+7k9n3pJTwKwSB8S8Xinz3Vh9ZWMloSxEcSSmF9DF+kVLiAg9m4Y9TSsEs2/w9VYNKRCBOwB57J7SXmFdTsMdar/GCBHVVQKfQ9x1rdjnwWtLZlERQzSVIaN76Qgze+H5CQxu7gFwFda1We4XW+tVCiGfG96mZmZkLHcf5Scq5kevHbrSlcX9t13WvgvY+fgkopcTZgouU+0TPUuwT0BKbqO453z3OaaR5ms5aU1LKYVq/hfZ8mPM2Go1nRt9fSomgVPdzHOeMubm5g7F9yOwZsGBbdpkp8k1yXUagCAJMUIugxXU7RsCWoM7Ozt7Z87wrtdYfbzQaMMGLH5S+r4oQ4kWLi4vvHR0dha8XTNVgQruquK7770KISzNMfEWtVvuu1hp+cUg7AF/Tr1YqlS/HzZFsCKqUEhpe3EavEoiKgBYS1OU0M0KIqtYa2jOY5V0rhHhszB8NQj1Sc0Dogknhvyb0Bxxh1oVbZhz4MH/9q4SIfMidtyCE+G5cgxoKAyCkRpgzGiO05ZtbxwpI61alFNJtgFDa4Gw9HwkEFYfpKaUUTJRWFSklbskR7OcLSqnHRggPzJBh3r1cwjQi8ON9TL1ehxlbYqnVajAlx7pJzXWZ9GBW4BqYibZarbtCexv6ViHyL/pA0CzfFzOSvgH/i+/kq7iYaDQa0BIvX+YUqNeRBrWTtQ4/21arBU0a/J/3hqam0Gx9WCn19PD9cjWoMzMzj3IcB6lo1vjThW38NfYHM4eRb3eNOXatVoM5LdYpTPJTi5QSaYKOhZdmq+rNzs5Kz/NwYbFMGkyFWq32r3BJiGrq8VsCQQWpvtv09PRElp+6lLLwOodVQaPRgCnmcqnVai/SWv81yKNS6iNSyr9CcKe0yM2hW8FdW63WdlwEFiCo0GJ/Q2u9THyllFizD1paWjonzGFs/d1nzVH8t8g3uicaYTv004M2GRd6IKp+ydCgnhv6p58O8/B6vQ7T+8Ris8aLENS4thPWOFJKfOc/Ukr9Utq4U6L4Auf9WuvRcJ+EBRL2aUQ5Xs79mvRixqUh7UJOSukHzjHfUYEgSSD3uPw4s9VqnR29ZJZSvhQBk+K5a6WU8IH8s3C/g2sErJO+Uq/X/yc69sh8/nY8PZWUEufBXYxskDafUsqhWb9F9/ww1sIbY5jB9P7XK5XKrquvvhrzEt0zfNkrZo1R5JPkuoxAIQSYoBaCiyt3ioAtQQ2DqUDYTkyobnKlwVkfJp1EBHO7ryRoDkGK4FfzRIsgSS8WQoDE+SQgLN9wHOd3DVG1Iai1Wu1JWmv4sv2JUgoCX+GSZuIbESTmq9Xq/aPmZZF+M/tzHAdmU/jnY1rrP200GjCNXlWklL8QQjTiBDUe0dV13ZfDBDvvBYUQW2GKGgZBycXZtl4CQUXwKaWUujA+plBLcEAI8bV6vf4rWSTRNvKj67ofg9ljXLOc0PdYpVLZaaL8JvUdmiKCLMA3CkGPoCWH1hv+vfA5uzmadkhK+VitNUy34e9bCfvEvP1RvV6HP5FfbOp1qkEtstZx6dRut9+By6JwaJirfUKInwI/BN9SSsFnzkqDavo2AXbimLuu+6dCiDebucma0wJECwG3sL6WTVVNv2GESwQWSi1m7UXmZpWJrJQSPsXnWGh0SlnnhqBqrZ/eaDQ+bDS4aRcuUkpcvD0CaxkBqGxxg+9f6Lt2QilVC+MLwDR2lcbO9rvP22/M76GfPTDNKm3P83YZk+0MgnoH+DWHZ8094K8fdaNAB0XWeEGCukYDGZ4RCGgEf3lrE9+wLgjfS81FRKj5d6vV6rlJeX0j6xUas4d4nneWsdyJAhtaGMyYC0lbguq67kOEEHnauMOx3LUg2k+Hzyx8qUHaw7HABBmR7bFvJuISeR8rgjpM67ebPT+Ci09QjfVJbI79wIBhPAfke+bCCPQUASaoPYWXG49sfCZQiS8QpSETMffytV3xeq7rPjsM3gKfvU86jgNtY5qpn+9rmUVQo+2HmhCYcoEUQHv1faUUohVamfiaiJFE5JuSxsbunH/++WNJCeJjh0Bqmhlz6IdpEiDs++bHpt+oliINX6N9SqsrpTwa+v2siuIbJ6gm6mKSyVfeqs/C2XY+EggqzL5EkiYsouH6hFLqiWUQ1EgO1GXtX9J7Ry5UPqaUekqKia8v/Ash3iOE+Hut9VXGv1RKCc3+KoJq+gnN/aBZR9RmEL1qpVK5y9VXX41In8slq14XBNWPjpq31mu12nQY0GkbEf05hNFKpTIHYdh13UvCdBJFCeqjtdZfxG1+o9GAr/OqIqX0hXDP835lfn7+ayURVJCqplIKEcWjBRotRBzF398vhFiOomwqQeOAYCSVSuUCo5VI0KDCj/nOO3fuHI9H0ESU1RtuuAGm3tiHSlnnCQTV9xtPsxww2kjP88YRKKkAQcX+5EcdRwAyrTXmHMG3Hh/x0V8FqO3+kLXPuK4Lc1TEL/gmLtzidT3Pu7sQ4uKYX22aie+5WmuMXTiO8yMhxI2VSuXCffv2IUgQ3q/QGu8nQa3VajWtNfxl/65Sqbyu3W7joiTxMjh2LsH/EOfxXZVSP0745pDKBzc4O8N1auWDKqXEJTPiB3xRCLHs0xv5drC/wcoiMXft7t27z3IcB4HRHiuEeLwQAhZVd4CPZM53b0tQh2b9drPnm2fD4GWJBNV1XWQOeEsnZ36eTMC/MwJJCDBB5XWxLgjYalBDH1SQzts8z7sgnm/QaK6EEPer1+vfdV1XCSHODm92o7kJYa4K7Sq0EolpZmD6Cc1pu93+7Pz8PMxjTam4rnu1EAI3y2MQpqWU8GGCALNsChUPHBMGkkBgna8qpWDuu1xCzfC3tdavaDQar0sDPSuKbxjIBOTjdohwWK/X3xwKSHcMU1qs6TcUFi6H+Wu1Wn1rq9VCpN7/01p/LW72Z4JV2PgS1Wq1B2mtv6m1/ttGo/F70fcJgw0hB+T+RqPxTlucW60WQtlbzUcCQcWt+YMqlcqd4wRNSunf/MLnDtiXQVDDQC+IEjultd4T93sN8YD2CKkVoOn8HaXUR+N9R3zK/scE9zBYRqIN/7xer98B30az2YR28KRSChrX6PryfcS01s8ZGRn5sE09+DR2SlBt1zp808I0H8sBx8ygI9Ekl6NbG//EaAqlOGZhxGqY5iaa9kspYYGB4EImQuwa4hERyHKD/YTfEAhkTSk1GcXd7AFZkZ+llAjiBF+vZdP/BIJqBPVLlFIw910uUkpomO5x/PjxnVNTUzDl73qdJxBUBNxBGqk1pv/hvgPy8AullBviYYVbuD+ZgDev1FojsNvdPc87JxIR2HoftjyscGmAfXhXq9XahfRO8eeQ/gkXm7BUCM22dV6QJLThuu6bkGYlejkSSWVjtcbXg6Aa95ZYGi4fhjDAGy5UcA69y/O8e8fOvzUwSynhl4xzZDmiuKkU0VZ/QymFdGNWeVDDWAXw6fVOnjx5dtLlbeQi8D+QuzbUwCPFzHUwTY8O1ARXtLyYKkJQB3797t27d6SbPT+yH6ZqUCO+wuyDarkRcbXuEGCC2h1+/LQlArYENRRoPgjTM0T4bDQa8DXxS61We3iYQgVCBW5VIVQYP5U3KqXw335xXRfaGj/lRgZB9aOkRoIL+dqP0OQSuVZbSin4H+HAhUnx65Br1ZhRJkU2DTUNlziO84i5uTnjD4q8hUjbgFQuawTQKIR5aWZc10X0XeQqhUblTsZ0VEqJgDkPiEbmDcftR7eNks7QLw63zo8ygWvCKL5IyQB/1jVRfOMaVJiWhmaJ53med+n8/Pyyf6oJqGFMNyPBcEwQp0ScbeuFa8HPTWsEMCmlEbC/OT4+/mgTLKhWq4G8A5tzPM/bg8i8ZRDUcI35KSuwxJB71kRDxG+IADkyMvJWIcTzkOZn586d94RmLN53mIMQ+Vevq1are42Z3fnnnz8xOTmJlB/wkbsxoplAsJ7bIyVDlBQb4cxxnIdj3YUmd7n1OiWo4RzADzdzrTuOsyP0eV6OOopnQ5KJeUHQHV+zHWLqRymNXsCkaJ39Cwmt9fOieUzNZQQ0ZwlRfNf42dlqAqWUfhTfeBCuWq1m9qpnNBoNBFRZUyJuC4hmi/f14v3OzMw8zHEc7BdfP3ny5K8bYX1mZubejuMgMjgCrz2irHUeJ6ghCQWRG/U8734m0jgCxt1www0w64NvMPKxmjRG1gQ13IcQzA7m6CC40Jj/rgGqyHdvc9y4rot9EGvLJzVpz4SXm26YtuzrNgQ1JFVIGbTTcZxLEL18dnYW0dnhi2+1xteDoEopv0ZED22322dfc801SCeyXCJB4+BjCKsA/9Ihq5govkR0S5jyCFYDBDwWFxeRYgyWR4Wi+EbWcmr6tXAfxOUIIpXXHMfZ32q1QGpPjIyMXGQCG4ZrDFHokRZpFntxWRrUIVq/VmdD0p4f+RazTHz94GLNZvOcaDT2vLXDvzMCnSLABLVT5Pi5QghEDgv4iawx5QkbexfSnoSRZpH+ASQUmk1EtUREX5gyHtNa/4oJkx+GgsfvCBgBzQm0D/hv3NRD8EcAFN9PL4VQ/iPMzcIgOhB64QOIUOrQUi5HLIxEnkRamq8sLS1dPj4+fq94bsgwyBMEymkhBEgpBLkHY0xa67c3Go0XZQGXR1DDw9LP7RcNfhJKnsDHAAAgAElEQVSabkEjAA0pgkb8xPO8mhACuUgPe553//n5eSTaBtGHmRdw9cfoed71YQ5QPIuce1HhPtVUK9RCQDAbE0IgsvA1CFsfvu91lUrlvvBXC/u0wrlWq9nWW0VQYd5bq9U+E84lNJsIxGLyoMK8dE0eVJiVKaUw11HhLVXbljRvEVNCmFsjdycwRoj+X9Za3x45CNvt9sOuueYaRI1czsEa7dtEpiYipFX4mud5U0IIXGYgsizW8LhSCu/i1Wo1mLdCiEAaErzvbQbz8GIBa826XjcE1WathwI9tP4gZpiTH2ut8W0h6ukCsILZL3yDgc/MzMwDHceB1hnBXD7lOA58V0GaIBAvz9eePXvcdruN9R7Ng3pnCOWIeux53gNMmqCSTHx/C0TaaMIx1ojwjPGdbVLDJK0TKaUf9Rmm3EqpryYRY3PJAJNoIQS+K0QYRb+nYI4aXkaVss7jBBVjdl33cUII5PTFWv681hq5j7GegOu3q9XqQ8wFii2xN1iY3JX4fxOBPYqT7XcfXlYgJzWsMxJdRSIa62crpUCuE4u5dCSiTyulftOGoEZwwh78v7B6uOiii8YXFhas1/g6EVQ/+izOqtBaZjnfZyRnL/KHvkop9Wqbw9ykLAvzoGIPgokzgszhbP4k8qCadmx8UKWUPqE0FwQZ8/Q+RHw2uWsj+Vhxtnwel7VhjnKkl8lMvxMZn7UGNTy//Nyrg7x+bc+GDgkqrBKQ3uf6rNQ8NuuI6zACtggwQbVFiut1hUDk8E9tJ2rWF2oxEXgE5BF+Lbi5/Vq73X5dPD9lWBcBex5HRKfBh09r/TLHcXDbv9cEHkkiqKGQieh0yPMHIVrDdFBr/db5+Xn4sPolJMIfAeHTWreEEPdELso4QUXdUHiGORSEZZAjEKb3KqXeHk+bEwfDhqCG+cpwi78VJrH1eh158Wj37t23q1Qq8LuCeTHIJg5wELlXx01QYc4rhHiDEOKBQogRmOs6jvMyRFBGrlmlFAhSrqlWaBb85xA0wncF2QWBf330ltUWZ9t6KVEqHdd1fx8XC+DhRAQtM/KIIgcsErr7pSwNqmlvZmYGKXcQ1RgC0vkC2eA972rHcT594sSJd0ZN15L6hvZKCHE5IjSHhAvzBgHqDQj0g4i0CFCilEKaCxCJh0LDCA06UiUgyi8ExOPHj7/J+Cra1uuGoNqu9dAE8E1IX0BEW4jo5yDTjuO8ut1uI/VMrVqtnhX69EEQQlRRaP4rWuvHVCqV+ThBRd9huhmYHkLLjIuVG4QQX2q1Wq+Lao3KIKihKfZNWut/NNHFI9FgfYKTtUFGLD38fMIpBA/k87kw08YyDQk8Ls1eFo1CC47X7TpPIqjhmoGPKL5nzBUicM9rrT+6devWt0ejCxclqOFcYZ0iZRKCDq1KH2b73Zs9PGrlEcU93KdxAToeiRKcODVSyvOwFmEpQ0T4b0S0hSvHsqY97T2llFi3IGd+QLwia3w9CGo4HgTsw8Xoz0weWAOEGX9SWq6sdRxaMSE3OPY6B8HOiOh9SqkPmBzkNudGBHv418Pc2I+nkFRCKwJcQt88PT19O6xDKSW+N+Q9xz6PPQUWTx/euXPnO40Pd5ka1GFYv/C7tTkbOiGoUkrM9/eFEH9Wr9exl3NhBHqOABPUnkPMHfQSAQj8o6OjtxiTzmhfYQoJRI/c28sxDFnbzu7duy/Yvn37z+LpLEJz2GuT/EqH7B15uIxA6QjUarX3aK2fGvpPQoPNhREYRgRMahe4ysA/ngsjkImA67rvxmX42NjYHa666io/pRAXRqDXCDBB7TXC3H5PEQiTrv+q1tqNaglrtdpvwETQJkJhTwc4eI1DQwXh+hfVavWiaGqB8BB6Xjxn4+C9Ao+IEVh/BELtNyLCvlAp9e71HwH3yAh0j4CJhB81V+++VW5hoyIQumlcr7V+bzQmyEZ9X36vwUGACergzAWPpAMEwrQpX0TUXyJCKHwkst+D9DIwcW232xfHg0R00M2GeiSS9qGutYa/Ksyr7ovUOqFfK0zX1qTL2FAg8MswAh0gEEayfNLS0pK7f/9++NByYQSGAgEpJS5sLwrNYuvT09MXxa1ohuJFeJDrikAYwfk5S0tLF+7fv//wunbOnW1qBJigburp3xgvH6Y8QZ69uxHRjtD38p/a7fZrmJwmzjGiCiNKMiJpwocHgaGuRfTUqampt7LQsjG+C36L8hEIo13/rxDiwybNU/m9cIuMQPkIhL7d8M+/0nGcp87NzcFvkwsjkIpAGLASbj9PbDQaiOLLhRFYNwSYoK4b1NwRI8AIMAKMACPACDACjAAjwAgwAoxAFgJMUHl9MAKMACPACDACjAAjwAgwAowAI8AIDAQCTFAHYhp4EIwAI8AIMAKMACPACDACjAAjwAgwAkxQeQ0wAowAI8AIMAKMACPACDACjAAjwAgMBAJMUAdiGngQjAAjwAgwAowAI8AIMAKMACPACDACTFB5DTACjAAjwAgwAowAI8AIMAKMACPACAwEAkxQB2IaeBCMACPACDACjAAjwAgwAowAI8AIMAJMUHkNMAKMACPACDACjAAjwAgwAowAI8AIDAQCTFAHYhp4EIwAI8AIMAKMACPACDACjAAjwAgwAkxQeQ0wAowAI8AIMAKMACPACDACjAAjwAgMBAJMUAdiGngQmwWB2dnZXZ7nXUNEV0XeWQgh3l6v1z/YDQ5Syn/SWv9jo9H4sJTyR0tLS5fu37//cFKbF1xwwbZqtfp5pdSDi/RZq9UuI6I/qNfrlyY8V5FSvlBr/UQhRJWIRrXWX9Zav3J+fn5RSvlhrfVPGo3GXxbpM6turVZ7tNb6IUqpF7iue1chxGeFEIc9z/uIEGIGf++kLynl3zmO8565ubkfSCnfr7X+ZKPR+EYnbfEzjAAjwAisFwJSSo19VgjRJiJNRJNEdFQI8bx6vf4/nYwjPLd+opSaSnpeSvk7RPRcIprAvk9E31laWnoxzh8p5V8Q0RlKqT/opO+kZ2q12t2J6M/q9fplu3fvvl2lUvkqEbWI6PlCiBfi7530JaV8pRDix/V6/Yuu675aCDGvlPpoJ23xM4wAI9AdAkxQu8OPn2YECiGQdNBLKc8jIggUD6zX61cWajBSOUpQ89rIEzjSns8iqFLK92mtd7Tb7Wdde+21Ry666KItCwsLHyeiY0qpp/SCoEbHCeGCiG6vlHpW3vvn/S6l3C+EuKxTgS6vff6dEWAEGIFeIACCSkRnKqVuNe27rvsnQojHK6Xu3UmfWeeFlPJlRPSrzWbzsuuuu+7miy++eOTYsWNvI6KLlFL37wVBje37TyWipyqlHtLJu0WfqdVqVxDRu+r1+j922xY/zwgwAt0hwAS1O/z4aUagEAJpB72U8vtCiDd7njclhHgmEW3RWh9pNBoPqtVq+P/f01o7RHQQGkyl1FytVtuptf4IEe0kop9prc/C4RpqUJeFFCnlS4kIN9y4YW60Wq2nVSqVLwghHgBNrlLqYtd1JbS4QojTtdYVIcQ7jEY3vEl+EvoWQjSI6Ly4BhXvpbX+abvdPnd+fv6oAWXv3r3nNJvN+zYajc9GCWqtVnuG1vo5uG0XQpxGRG+s1+t/i/qtVgs31megDSHEV+r1+ivS/u667tNAJIUQn9Ba/xURYexf8zzv6/i7UuqR4bPvIaJZIvK01u9pNBrvmJmZuZfjOG8mojEiOldr/fVGo/FMKeXriOhPieg6rfVTHcd5kxFapJSPIaJXERHm4hgR/ZFS6vuhELZLCIF27kBEv6hUKk+++uqrbyy0QLgyI8AIMAJdIBAnqJdeemn1hhtueCsR7VZK/Rqadl335SCs4T6Gy7jfq9frN6TtiWnnVngJeVOlUrnb1VdfjbPBLzt37pycnp5+bKVS+Uyr1QKB9TWorus+0nGcl3meh33/LCHER8L9farZbH5ICOFijyaiHyilnrN3797JpL/Pzs4+wPO8dwkhnh+egdu01j+sVCqX4+9KqTvt3bt3qtVqvVNrfV8hBM6+LyilXj47O+t6nvc3RDSN/drzvB81m83fHB0dxTmLvf4W7OtE9OvG4kdKeX8iegu00VrrJcdx/rxer/8Lzh8ieqwQAmPG2E9qrX+n0Whc3cUU8qOMACMA+Y9RYAQYgfVDIOmgn5mZubfjOF9pt9t3cRznl4UQb/U8bxeI3szMzAMdx3nN8ePHH37DDTecnJmZeZjjOG9XSu2RUn5eCPETHPC7d++eqVQqP9Ja/0GUoAoh7qO1fsvY2Ni9rrrqqkNSyrdqrQ9WKpWPe57nm2yFAsyPPc97yvz8/A9D89/veZ73jEqlcrbW+vVCiHude+65p2644QYQ26k4QXVd9/FCiJcope6ZhqYhqCMjI+9ptVpfdxznkXNzcwdDoejrSqnpWq32ipAAPzcUfj7QarWeMzIyAlNdEONVf69UKhAOfCIavak3xDX8++dgqlWv118cvtt32+32YyqVymscx3nv3NzcFaEwc53jOA8PzXqXNajmVh3CChFdobW+T6PRuLZWqz1Yaw0ca47jQKB5iud5v4R5q9VqX9Ja/69SCmSWCyPACDAC64JAxMQXl5S46Fsgon9qt9uvveaaaw5IKaFxfMTOnTuffMUVV7Rc1322EOIxSqlHSCk/kbQn4nLSnBfRl5idnb3Y87yvKqVwOZpYIvvy813X/Wa1Wn02yGx4wfpzIjoHGlit9ZMajcbDcckopXxPu91+U6VSuXfS30dGRs43RDS618/Ozl5q/o6zDhePSqkn7927txKeOa/SWoOkw4z3Y6G29wda68txiRrVoJrzqlKpfMjzvH1a60c3Go3/npmZudBxnG8JIe7hed4DhRBv8zzvTvPz89dLKd9JRFuVUrgQ5sIIMAJdIMAEtQvw+FFGoCgCCT6oVSHErVrrNymlvorD1nGcpxkCWKvV3qy1fjIRHYj0dc7IyMjeZrP5M8/z7jo/Pw+fVgIp8jzvc1GCSkTwqTlar9f/PCZYwBfWJ6gzMzN7Hcf5IRHNRepsg0ZXa70XPp0gwfjNdd3HOY7zgjhBlVI+Vmv98kajAd+gNEFl2Qd1dnb2dM/zfg035lrruxLRI5VSQkp5DyL6ZyL6f0T0DcdxPjc3N7c/7e8xIrrs6xT7+9F2u323a665Zj46sL179462Wq1HENHeULv6OIxpfn7+W1ET3whBxY3/fev1OrTJfpFS/lgI8SKt9QO11reDBjb8++VEdJpS6vlF1wjXZwQYAUagUwSiGtSZmZm7OY6D/fR5SqnPh3vTp4kIF4l+fILQYmZSKbU7bU+sVqs4a9b4oM7MzPyS4zi4XPQtXpJK9OIwvAh8JI4rItpDRE+oVCoXeJ7naK3/QwhxDaxftNZfmJ+f/2mtVrtj0t+jRDSDoF6ptf6jhNgBzuzs7EO11nfRWksiglXMHyulPpJEUIUQ+4jo5Uqp+5r3c133i9DIAj4hxFOUUr8cno9PF0I8Tin1qE7nj59jBBiBAAEmqLwSGIF1RCDP9zN62IbCxF9prVuNRuMl4TCdmZmZnfPz87+QUh6JEi8p5ee01l+KEdSXCSFOGIK5a9eu7ePj49vRlhE4Zmdn7+x53jeUUmcbKO54xztCc3pkdHT0LUKII4bgIigRzJ/iBBW34TAfxm14vV6H6atfQv/a9508efKyycnJv4UWEgGHHMf5nhDifUKI73uedxMR/QgEFc+EQgz8iRDA6bccx/lVaDWT/t5ut+9soUG9zfO8exgi77ruBVrrWx3H+RoRQYj5F8/zrqxUKl9xHOc50KgmEVTP884loksajQYuDPziuu5VWus/dhznPtFAIL32u1rHJctdMQKMwBAhEDfxdV33t4UQ73Ec5y7hZR8CyX0DLhV4rZmZmbHR0dEd+/btu0lK+V9JeyIR7U8hqGOO4xyoVCp3j5r47tq1a3x0dBSWK8/SWj8be+P4+PhLFhYWfiSE+Hy73f621vpHlUql4TjOLMaFcVSr1Uvb7faDhRBP9Tzv2fPz819O+nu1Wj1moUHFpeufKqX+De+JYEojIyMnPc97NxEhiN+n8U6O4/y11vofcG4mEVStdd1xHFgH3S9yriH435eJaMmcP+F54LucwHJniJYMD5URGEgEmKAO5LTwoDYqAkUJamjS+/5KpXIJ/BmllL9HRC9USs1KKT8lhNgfmq7evlqt/lhr/Ycxgoqb8rd4nndvmJ66rvs2IYTjed6bHcdpKKUm9+7dO9JqtZQQAn41HwujIv4QZl9a621E9NdLS0uX7N+/H89/ynGcM5Oi+JogSVrrZ4bmyVuFEH8PgquUeqoxmYK5LTS78H0ND3WQ6Ncqpaqu68L/U4SEXMAkTAgBzStu25P+jgjIeSa+nxZCKJDs0MT3R47jXOZ53vfHxsbOgOlzeCMPQeZhEGiklPOhyfP3jNDSbrf3wbRLaw2Sakx8P9dqte5QrVb/kAnqRv1q+b0YgeFBIClIkpTy60R0XCn1WJj04iKu3W4/KDwT3iSEuNvS0tITRkdHDybtiY7jQLOZGMU3DJL08Gaz+QQESQKhrFQqb4P1jVLqgeayTmv9fiHEv1ar1dvt27dvSUr5FCL6qOd5cE95mNb6/kopWKdonBWIASCEOJD0d+zDeQQ1tD46Ryn1tJmZmRHHcf4DlkpCCETLf6BS6sehue5/CiFw6foBKeU3tNYfaDQan4icVxgLrIsegXgD5hnHce7RbrfvwwR1eL4NHulwIcAEdbjmi0c75AgUJah4XSnl78NEKwwecdTzvOfA/GlmZuZMx3E+hMthIrpea41b4Y/EgyQhgmMYJAlBh34qhPjder1+Ukr5TUR7dBzn/p7nnY8gSVprBCwa0Vq/vdFoILAQTIdforX+XSI6BN8dpG9JIqihLytMgRF8A0EpEHzoC9Vq9VWhQOKb+J44ceLd09PTn/Q8bzYMLvGtMNDE/SuVCrTCH9FanyeEWER/7Xb7ebjhT/q7EALagUyCunv37rMqlQq0BQhiAVOydzQajffVarXXwr+JiE5ora8XQiAAxscbjcZ7Q+Hm8Z7nPa9SqSDIhx/ZsVarPQGmzOEN/MnQNOzbcY0pa1CH/EPl4TMCQ4pAEkGt1Wo1rfWVjuM8em5u7utSSvjGPyFMQwM/0GcppX6RtidWKpV/TSOo4RmB9GJPDyEbF0Jcsbi4+GexNDNIBfZ3QogHERH2dqRagz/nH42Ojn5nYWEBxPEiIQQCDf18bGzsGUKIpaS/N5vNu+QR1DCGAc60S4QQFSL6lFLq8vCS90+01idweSqEuA0B/pRSL3Vd9wUgq2EgvAeZIEm1Wg3//Uat9STOrNBn9XNxi6f4/w/pEuJhMwIDgQAT1IGYBh4EI8AIMAKMACPACDACjAAjwAgwAowAE1ReA4wAI8AIMAKMACPACDACjAAjwAgwAgOBABPUgZgGHgQjwAh0ggDMmm+88cbt55577m2huXAnzfAzjAAjwAgwAowAI8AIMAIDggAT1AGZCB4GI8AI2COgtRY33XTTXviQIife6Ojo17Zu3foJIUTbvhWuyQgwAowAI8AIMAKMACMwaAgwQR20GeHxMAKMQCYC119//fmVSuU3tdYXIXDTyMgIAmrchYi+Mz09/WEhRJMhZAQYAUaAEWAEGAFGgBEYTgSYoA7nvPGoGYFNh8DPfvazHaOjo4/SWiM/6oLW+mZEoRwdHT2MKL9CiDtorX+wdetW5FdFlEgujAAjwAgwAowAI8AIMAJDhgAT1CGbsCLDPXDgqC5Sn+syAoOIgNaatG6R1oH1rtaEdDnLQ61UqlStIotAUPB7mw19B3EqB2JMZ521lc+92EzwWTEQS5MHwQgwAgOGAJ8X/ZsQPqj7h33Pe2aho+cQcwc9RCAgpm2fnCYRU9N1nKAySe3hpGyAplngWDuJfFZsgIXNr8AIMAKlI8DnRemQWjfIBNUaquGryELH8M0ZjxgaUBBTLySm+LdYpTGNY5REUE2dVsBtuTACywiwwMEElT8HRoARYARsEODzwgal3tRhgtobXAeiVSaoAzENPIgCCICYeh5YJYjpalPetGayCCqeYZJaYAI2QVUWOJigboJlzq/ICDACJSDA50UJIHbYBBPUDoEbhseYoA7DLPEYgYDxM52cHCPP8+jkyYVMrWkUtSyCGpBcJqm8ylYQYIGDCSp/D4wAI8AI2CDA54UNSr2pwwS1N7gORKtMUAdiGngQGQjE/UynprYsE1Rb4PI0qKYd1qTaIrqx67HAwQR1Y69wfjtGgBEoCwE+L8pCsng7TFCLYzY0TzBBHZqp2nQDTQuAND29hdrttq9BtS22BBXtIbovtKpcNi8CLHAwQd28q5/fnBFgBIogwOdFEbTKrcsEtVw8B6o1JqgDNR08mNCUl0iT5zXxf2v8THtNUJmk8jJkgYMJKn8FjAAjwAjYIMDnhQ1KvanDBLU3uA5Eq0xQB2IaeBAhAvEASPhzNJ8p/n89CCqT1M29JFngYIK6ub8AfntGgBGwRYDPC1ukyq/HBLV8TAemRSaoAzMVm3ogJgAScpqiZEXnLUJQHceh6elJGh0dpRMnTlG77RXCmc19C8G1YSqzwMEEdcMsZn4RRoAR6CkCfF70FN7Mxpmg9g/7nvfMBLXnEHMHGQik+ZlmgWZDUBGVd8uWSZqcHPd9VdttTdPTE3TixAK1WgEJti0gyyCqXDYPAixwMEHdPKud35QRYAS6QYDPi27Q6+5ZJqjd4TfQTzNBHejp2bCD64SYGjDyCOrExBhNTU3S0lKTjh076Uf8RZCk8fFR2rIlIKzNph3jHBmp0thYlY4eXSCvmPJ1w87dZngxFjiYoG6Gdc7vyAgwAt0jwOdF9xh22gIT1E6RG4LnmKAOwSRtsCEGfqbJAZBsXnXr1i2+FjQexXd0dMT3TwX5PXbsBDWbreXmTBTfSsWhqakJOnlycdXvaf2CoI6OVn3NKwgqk1SbGRr+OixwMEEd/lXMb8AIMALrgQCfF+uBcnIfTFD7h33Pe2aC2nOIuYMQARBHzwNpbJHWwbYSD4BkAxYIKjSgp04FaWYqlYpPTKvVik9MFxeX1jRTrY4QyClK4Jc6QadOLfla1qwSJaioxyTVZoaGvw4LHExQh38V8xswAozAeiDA58V6oMwEtX8o96lnJqh9An4TdVskAJINLIagLiws+qa8MOk9fvwUnTx5KvXxKEENSKrwnwWZXVxMJ6nQnlar1VXaWiapNrM03HVY4GCCOtwrmEfPCDAC64UAnxfrhfTafliD2j/se94zE9SeQ7xpO+jGzzQLNBBUIRwaGxuhU6cW6fjxk75Zb1aJE1TUhfYWEX6hRV1YWKt1RR2YDVerjm8SHC0cOGljL2sWOJigbuwVzm/HCDACZSHA50VZSBZvhwlqccyG5gkmqEMzVUMz0ICYejQyInxyB//NTkx5k154bGyUtm2b8tPFHD58jNqW4XWTCKohqfBJhU8ryG68gATDJDjpNyapQ7MkCw+UBQ4mqIUXDT/ACDACmxIBPi/6N+1MUPuHfc97ZoLac4g3VQdBACT4mXo0Pj5GIJRHjhzvGgP4gsLPFEQX5HRxcTGRNKZ1lEZQA5JKvrkvyG5cU5pFUPEsk9Sup3YgG2CBgwnqQC5MHhQjwAgMHAJ8XvRvSpig9g/7nvfMBLXnEG+KDlYCILV90oYyMTHum+F2Q1CDgEaTvqktTHmhydy6dYqazWZpBNVMEDSpnqdX+ZuCYMNfNUmDGp3Y1krA4E0x3xv9JVngYIK60dc4vx8jwAiUgwCfF+Xg2EkrTFA7QW1InmGCOiQTNaDDzAqAFGhQOyOo0JRu2TJBk5NB3tITJ+BnGoDQCUEdGQlMdfMK+iTSvlkyCnKnoqT5qDJJzUN0OH9ngYMJ6nCuXB41I8AIrDcCfF6sN+Ir/TFB7R/2Pe+ZCWrPId6QHdgEQAK5GxsboyNHjhXCAFF5p6a20NLSEh07dpK8WPLRXhJUDHTLlnHflBiRgW0JKsgzTIVZk1poqge2MgscTFAHdnHywBgBRmCgEODzon/TwQS1f9j3vGcmqD2HeEN1YAIgaR34mSKfaVoApKIEFWa88DNFH0ePHvcDFyUVBElC5N08s9vos7YaVPPM5OSYn1+12Qxsd200qOZZxG3KCSq8odbERnwZFjiYoG7Edc3vxAgwAuUjwOdF+ZjatsgE1RapIazHBHUIJ61PQ44GQAo0htlbA/w3oQ1FtN2sUq1WfGIKQnjs2Ak/N2lWWQ+Civ4xduRBBTnNypWaNFYmqX1apCV1ywIHE9SSlhI3wwgwAhscAT4v+jfBTFD7h33Pe2aC2nOIh76DqJ+p0QzmkVO8dB5BRfAhRM+FGTB8TOFralNAUEEYFxbWpoVJe76oBtW0gwBNGOfRo/m5VuN9M0m1mc3BrMMCBxPUwVyZPCpGgBEYNAT4vOjfjDBB7R/2Pe+ZCWrPIR7aDmz8TLNeLougIhgR/oGZLqLzoi/bUpSgVioOjY6O+hF6ixaY+oKMQ7uLcRZtg0lqUcQHoz4LHExQB2MlDuYoYE1DlO7eMZij5lExAr1BgM+L3uBq0yoTVBuUhrQOE9QhnbgeDrtbYmqGFhDUcTp8+OjyaOGXigBIrVbLN+dFTtOixZagglhCQwtTXRSQ4aWlYvlgEEXY+MJOTIzSsWOn1gRtShs/NK94/6NHT7FPatFJ7nN9FjiYoPZ5CQ5s99Uq0dLSYnipCJLq+P8Q4d8sLg7sxPHAeoYAnxc9gza3Yd5xciEa3gpMUId37soeeZEASDZ9I+gRtKSHDh2lkZGq72cKAQYBkEzwIZt24nVsCCqI5ZYtk7S4GGhoR0bGaNu2ycL+pAFBbfnEFv6oILuI7mtDrKG5xfNBJGLy/+EyHAiwwMEEdThW6vqNEtyzUgn6a7WakSB22o9gDgbB1fEAACAASURBVI1qoFVlwrp+s8I9DQICfF70bxaYoPYP+573zAS15xAPRQfxAEi+uNHlbbghqDCLBbkDUSviN5oG3LZt034gpaS2kHcVRBgEEhpao/0cGRmlatXxNarwX80LxGT6RsoZkFNDqEG0YfZ7/PgCtWG/m1GiBBVQojqT1KH4HIgFDiaow7FS12eUIKbR4wAENX5Jt+KmwYR1fWaFexkUBPi86N9MMEHtH/Y975kJas8hHugOIFQ4DlR7nk/mbKLz2rwQyC3ylcKkFxrMEydO2TxmVScgqIurUr+sRAJ26OjRE34ammgBQYXJLcY1PT3hk06b1DFxgoo20Rf+fuLEQmoqHFMveP+Vd2dNqtUU970SCxxMUPu+CAdgAFGtaXQ4sCrJu6AzhNUQW7h24CwINKxQxbIP6wBMMQ+hBAT4vCgBxA6bYILaIXDD8BgT1GGYpfLHGPUzhRkuhAYID2UU+F1CUwmtI4QTmPiWWaIE1TYSsCGoGEfgmzrhk8u8XKrAZmlpiZrN1dpSBE2amhqnkycXU82VQWTjBBX9M0ktczX0pi0WOJig9mZlDU+rca1pUYIaf9Ozzz6dbr751tifjUkwE9bhWRk80jgCfF70b00wQe0f9j3vmQlqzyEeqA6SAiCBhJkcpN0MFia9W7eumNc6TmBSe9ttR7ppds2zhqBizLaRgKMENSCp5I8NWgCQzLQCIgtNqzEVjtaDCS9+Twu+BHNgmDZD0xovTFJLXRKlN8YCBxPU0hfVEDUIcrp166Sf+ivJ377dbmVajyS96llnnU633HJwOWBcXMMaPMOEdYiWCQ81RIDPi/4tBSao/cO+5z0zQe05xAPTQeBnCtNXvcqUFxrPkZGKbxrbSYma18LvEz6eKCYwUtkE9bTTtvmEutlsWkcCjhNU854gmPCRTcvBmkVQ0QZIOEyGT51aWmNWDHIKDJIIKp6FOXWOG2sn08HPlIAACxxMUEtYRkPXhDHpxd5UPkE9jW655VBqSrFkwhoEXAqiBLNJ8NAtqE0yYD4v+jfRTFD7h33Pe2aC2nOI+95BXgAkRKYdGRnxo+sWKYF57RZCOpkTJ06uIXllE1TTHggxfFqL+LWmEVS8L0gohKMkIjk9DS3CYqa/lTEzjgdfgkYZY00jv0xSi6y29a3LAgcT1PVdcf3vzXGCKL0mJXWw95WpQc0mqHEEmLD2f03wCOwQ4PPCDqde1GKC2gtUB6RNJqgDMhE9GEZgztsirQP/ybQASOPjY4Tot0eO2BNUmNYG5rULfhCglQiOKy9SFkENtJSTBMIHP1kQYpjV2kbixYiyCCp+R9Aj+KZGAxrh71lCWnTKkoIvAVOMPc/PlTWpPVj8XTbJAgcT1C6X0FA9jtym8QLLkJMnlxIv5zoz8S1GUJmwDtUS2tSD5fOif9PPBLV/2Pe8ZyaoPYd43TtI8jPNShmDQD5jY2N05Mix3LGCzIK0IQru8eMnMvOBgqDCJ/Xgwc58UGFuhlymyCWKm3xoaUHmtm+fLp2g4sXRD7ShUZJqS1DxfDz4ki1BNaC3Wrnwc4V1QoAFDiao67TU+tpNWpReDCrLvaEfBDWLsG7fvpUOH0YwPjYJ7uuC2qSd83nRv4lngto/7HveMxPUnkO8bh0UJaZmYNBIwsz38OF0gmrIJggi/ExNXtCsl6tWq7Rt2xQdPHi4MAYYD4IYIV0M8qd6kQSivSKoAUkd8/1boak1fljIeRrtP+tlguBLE9Ru6+VnbNLZBNptIiaphZdKTx5ggYMJak8W1gA1CpNe/JNWyiaoZ555Gh08eMj3+S+7nHXWaXTgwG2+Jc/q9N1MWMvGmttbiwCfF/1bFUxQ+4d9z3tmgtpziNelg7QASDadQ9M3MTER3kCvfgKRaqent/jBfkBMbciWaQH+l4i4W4SgBkR4yhc00ohwLwkqxg5yjLFDkwoNKshqUaEKwh00qiDytpgxSbVZretThwUOJqjrs9LWv5csrWl0NMNGUOMBmNiHdf3X1mbtkc+L/s08E9T+Yd/znpmg9hzinnaAQ9jzYBsKX9PgU80y500aDHw74U8azVcamKtO+mStaECiTghqESLca4KK8cPsGVF4ETmyE4KKNmDejIjJR48Wzy+L6L4mWElPFxA3nogACxxMUDfip5GnNe09QT1sbY1SBH9oULMiBKMtJqxFEOW6RRDg86IIWuXWZYJaLp4D1RoT1IGaDuvB2AZAsmkwHswIvpjw/VxcXOyYnKFfGw2q8dtEqhtbIgx/IwRnKjNIUhJOgWZ5zDcxTsoFmIet0cRiruLBl/Kexe9MUm1Q6k0dFjiYoPZmZfWvVUToXW3+mj0WXFouLS1RsxkE2YuWTnxQzzxzhx+PwNZdoghSNgQ13l4aYXWcin8xyWltiszA5q7L50X/5p8Jav+w73nPTFB7DnGpHXTqZ5o1CENQQRBh0goyBvPaVmutYFLkZeDLuWPHNN16a7IPKkgptLQgmgi4ZGtG2wlBHR0dLaxZxrtu2wYtKPxuTxUWrODP2mp5VK06q/xabTHEvCwutq1xsW2X6+UjwAIHE9T8VTIcNUBKR0YcmpoaL2TNgcjmCIaXFG9gIxBUO8Ja8SOxM2EdjrXer1HyedEv5IMvk8sGRYAJ6nBMbEBMPT9tDBH+XV7ScgRJQjAjQ0wRmKiMEhDUrXTrrYdWNQeTYvi14ia9EyIcENRThLyjecVEHYa5rAl8lPdM9Pft26f8CMLQhkILWkSTCk10q9XyhbyoX2tSSp6kMW3dCv/XBWo2Md9FRs11u0WABQ4mqN2uoUF43pj0gmTBp/To0RPWw0ojqHDHgHUJiCvOCtvzYtA0qHlAmH0al7Z4V1ykClEhIUBYg+hSRd1p8vrk34cTAT4v+jdvTFD7h33Pe2aC2nOIu+4gCIDUoh07pujIEWgava7bRAOB0DLp+1viMIYPT5kFgsyOHduWCSpMfkFM8XeYzRYx0Y2OC6T35Mlsgmq0wngOxHRycmI58JEtQcSzIKiHDx/3g0RBI1qEpMYFvMCvdcR/d5sxQHsbRDDWbO5b5sK0aIsFDiaoFstkoKtETXqRPgt7fbcEFcQU+xgu7VCwn2Ffj5LVtAjvZ5yxgw4dOlLoks8W4E5MfG3bxuUtLkPhVhKQ0pUnmbDaorix6/F50b/5ZYLaP+x73jMT1J5D3HEHKwGQ2r4G7fTTt/sCBrRy3RQcsCBs8DGCoLGwsEDbt68QyW7ajj5rCCqi+OIWGrlWkcvUCDed9gOCCnPkpJt7kG70ZYjgwsKif8sNE18T+AjmujYEMUpQ8d8QxEA6T5xYsDJ/hsYCJDzqwwUBDxprm8BLEIww32asuJco6W6iU+g3zXMscDBBHdbFbqL0mqjgeA8QVOyLuOC0LVELkODMQJ5ox997m83m8h4Y7K9Vf4/Fvot9H1YjgXZ1abnesBNUnCWmRM+PNMLK2lXblTb89fi86N8cMkHtH/Y975kJas8hLtxBWgCk007bZp2DNK3TaH5RkCSYrELoOP30baVrUNHuGWds94dy6lQQcMmWGGaBlkRQISQgsBOEKBBgEGFjFmsIKto0WkwbghgnqEVJalqaBghzNibDRntrsMA7InASk9TCn1ThB1jgYIJaeNEMwANpUXqxB8JloBOCijMCl5nQjGIfR/G8dmou7GC/xUXciP9vnAMgqyMjI3TkyFGfvJZdeqtBnfYDBmalC1s515CH1YjMcMMJ8rDCJJgJa9mzPjjt8XnRv7lggto/7HveMxPUnkNs3UFeAKQszWFeJ8bvMym/KG7XTz99B91yy215zVj/Di0h0qxAOEGQpDaYVUkljoPxM4UQFJjErjaBjhJUDKGIFjNOEvE8NAQgnydPLqYKaagHjQXqJL27jclwUt+BcMgktaSllNoMCxxMUHu9xspsPy+3aacEFWMcGams2euyCGr8vXAG4PzBeWCInPFdxb+L+PWnYdZvghof12rCil9NVGAmrGWu+0Fpi8+L/s0EE9T+Yd/znpmg9hzi3A5sAyB1kv/T5BetVqt+pNykW2AILwhgceBA9wQVZrBbt075t8XQUkIoKdu31RBU4BYIPYiyeyLnRn901TxAYJqYGM2NzptGEg1JhUYhTSMQENSFVAEsz2Q4rW8mqbmfVNcVWOBggtr1IlqnBmxym4LAYl8+cuS41ahQH/ECUJKsTYoQVNMhrGkOHTrm54bG/hv8E8Q/WCGsSx1FLR80gsqE1WqZbZhKfF70byqZoPYP+573zAS15xBndmACIAWRebOjAppgDVFfmLTGg/yik8umpAgqlFX3zDNPowMHDnYMxorvJ/wrT/imYL3QzGKAIKgoIHjQmObhEdegmpfMM7XNE+qCd56gU6eWEv1hTRTerKBWaSTVRuPBmtSOl2vugyxwMEHNXSQDUKFIbtOsC6/oqyD6OlLSIDgbiGNStPROCerhw8fW+O+jP2MODNKK/RJ9GtJq4xbSS4LaycVw3tKI5mCF9dLBgwhQaEyCgzysbBKch+Lg/M7nRf/mgglq/7Dvec9MUHsOcWIHUT/TqK9k1migLUTAHRNNMK0u/DBBTov4fZ599ul0882dEVT4J5mASwigsXL4lqeZxbviwDZ94d2OHrXVBgRBkpJKlqmtDUk00TERDCkuyGG+bHxdk0yGbaNuYu2UaD3dn49hAHtlgYMJ6gAuy+Uh5Zn0Jo3dhqDCRx9kEYHgsDcashhvrxOCiiB/R46sJajxtnFph/0a48AYYAKMYEvYX+EHm0RYh42gRt8ZZ+9NN93q/ykacIkJ6yB/gavHxudF/+aKCWr/sO95z0xQew7xqg7y/EyzRgOTK/gzpkXBhd8n6rRabd/ktYjf5znnnLF8SNoisuL72fK1pnFfojJNh6PBnUwkSdv8e2kaVPOe8LECqY9H57WNfIn2Yc6L8URNqJEm5uhRu8BQcZNh/D8iBuP5vMIkNQ+h4r+zwMEEtfiqWZ8nYNI7PT3u7zVF/DezCGpw+TfuvwD2QZxT2HP7QVDjKIKkGpNgBFoKckuvaFhRf9gJavxyOKphXcGDNazr84UV74XPi+KYlfUEE9SykBzAdpigrs+kdENMzQihFUU70FJGC/xLoa2DkAFiakvcom0U0aBGc4zm+X5269uKvuA7FQ3uVDRYVB5BBQ5Jpra2Wkw8H5BUE+lyyYc2SBNzfDmacN5Ki2pjcckA0gwTZpvCJNUGJfs6LHAwQbVfLetX05j05vm3J41ox47p0Ad09a9m74OGMnrBNigENf4uK/6ryMFa9VPe4JyA+XAnZ1/e7PXCxNf0CY3pmWeenutek0xYg4BLQZRgNgnOm8de/s7nRS/RzW6bCWr/sO95z0xQewuxbQAkm1HAvNUEH0L9aM5PmJKaFAA2bcXrnHXW6X4U3yx/n0DLt8XPeWfr+9kpQTXBnSB4gARHBSek28H72gojNgQ1SlKhoYYpNfCFL5aNFjMgqeSbVoNcYi5sTOri82BIKrQE6P/48XTf4aR57jJFbidLZ0M+wwIHE9RBWtjx3KZpKayyxpy0H0VNerFvRQuCyMHPHe4L8dJLE98iuJscrNu3b/X3XZwbMAMOfFhXcrAWaTNeF22fOnUq0Re3m3aDM6MzNxgmrN0iX+7zfF6Ui2eR1pigFkFryOoyQe3dhMUDIJkDqdMeoVFDQAmY067O+bni99lp21kmUsb3MzCDPbVGg5vWp+3tcPR5m756RVAxjqg/KMzbimgxzXtAeESAERD5w4ft/GTjGEBDgnL06AnrKQ2CbBExSbWGLLUiCxxMULtfReW0AJNeaE5NrAK02i1BTTLpjY8W5BUlKfJ7ZwR1m5+HFZdvZRdzfqFdo2GFD6vJwWqCPRVxezFjhMUOggwmBYvq9j06JajxfpmwdjsT3T3P50V3+HXzNBPUbtAb8GeZoJY/QdEASGg9Lzqv7QgmJsYJfp/VapD4PCnnp21b8XqI4otIgiBW0YI+oRXELXoQ8Gd1jtG8/oqYDgd+plty+wJBzTItjo/JVoNqnjMkFe8MnydbM9tovxAgYTrXCUFFOyZ4E7QByKVqW5ik2iKVXY8FjrX48FlRztoq0kq1mly7G4KaZtIb76lsglp03y6CU9oFq8nBCtIKwgpTWGhWjQ+rjQ9vUZeSIuPuVaR7Q1hxubFt21Y6fPgobK7YJLjI5BSoy+dFAbBKrsoEtWRAB6k5FjrKmw0cCkKAwLX94BVlEVOMEAcsfBpxwB46dLT0W2iY4h48eGSZgKI/BFzCO8GPMm7+ZYuaDUFd3Vf+DXtRQacoQcW7mRQymMMiWswoLjCpg6lw3GfYBjtggosIjAOXBmmBsbLaQnTfqNbFpl+uEyDAAgcT1H5+C3lRehHQCPmXcYFlW3B+gJxhb4kHhEtqYyMQ1Ph74fIxPQdrM/ECtrcE1aHTT99Weq5w895GQ2uCMK2OEsyE1fbbyavH50UeQr37nQlq77Dte8tMULufgmgApMnJCd9MtBOtW9JIYNILoohbb+T7DLRySHZebjnjjB106NARnwCb/qClTPI/KtJzFkE1fqYIdFGkr6IEFSQPmtCiBVpMCILwJy1q3mVS1IDYB37DxXxJjXka+oa2JAiOtWD9CkYQO358kUmqNWorFVngYILawbIp5RGb3KZFCSo0dQikh/3IROnNG+xGJKhrCWt+DtZhJqg4+5DeB/ElooVNgvNWf7Hf+bwohleZtZmglonmgLXFBLW7CQn8TJsw5PWJAHwWQYZsc3Sm9Q5SA9NamL3CtBYaNNz8IlASNKhlFxxi8A1CqhrTXxl9JKWvsfEzzeq7CEEN8qYicFGrEMFD/7gMgJBm/JiSfLHSxhmNADw5ORZeWtiTVPSL2+5Tp4IAJRBIixBdpM5BLkFob1mTWnwls8DBBLX4qunuiTytabR1nDNBupV8DapxF8DztmmvUBdnAUxEzR4U7b8TH9Qi+3ZRJMtKM2NysAZa1iAHK/Zd5B7HGZwVRLDomFEfF4k7dmyjW2891Mnjuc8EBDVfQ8uENRfKzAp8XnSHXzdPM0HtBr0Bf5YJamcTFBBTRD1E4vDgE8FBhkMdpLIbLSe0sNCaQXsGsmgOD5Pe5bbboOksr0DYgdYUGlqYs5Z5CMcJ6mqf1hNrfF5t3spG0FnJCRsQU2gPimohQfLQDp5HChkIg7YkNZ6iBmsCwg80qTb4JmkvgiBZSCWUT3SD3IHVZVLOJNVmZa3UYYGDCWqxFdNdbRBB/GNbbAkq9h3sBbiowmVdEEdgdZyBtD6jVhzxOhuVoMbfE9jBNBqXzyCT0EDHc7DazllSvV4T1E7bZ8JabFb5vCiGV5m1maCWieaAtcUEtdiE5AVA6kbLGSVVMHmNB3CAKey2bVt8X9Eyykp/SKkS5FAt4tNkMwZj4luWTyv6zCKoIIEg27g5NjlhkScumBckohfWPqFRkhdotCeWU8jkvTsEg3gEYJDOIEVPPklNy0FoS3SND2s0wBKT1LxZY4KahRCfFfbrp0jN8fGK7/toSxzRNqwyWi0vNdUW9nMQUrQbaP7Iv6RjglpkZoK60ajxSTlYDWHt5OyECw/y09566+HiA7N4Auch8rh2234yYa345yzO1M2eh5UJqsVi7FEVJqg9AnYQmmWhw24Won6meCItAFInWk7zDEiQIVXJt63lHGZJJM5GK2mH1OpaIKjwYy3qZ5rVV9JYgR1Ss4yNjdGJE4FJtCmGoOL/i5jKxrWQ8TynWWNMIqioH5DUkVxBMUsAtSG6SdoPjB8ktWAg5k6mfeifYYFj7RTyWVHusjYmvbjIArkpQnDSLrAwQmPSC2uPqO/81q2TdPz4gnUk9mwNqkfNJlxb7EsvfTnLMvFNepu0sxFnDrAGTnCn6CQHK87ibdum6eDB3hHUXrQfJay4CIH1VbstQsIamAIAn81S+Lzo30xvnlXWP4z71jMLHdnQ2xJT00qRG9EgUuzkMmGBSW8e6cFhecstnfmrBGanW5b9TOFXY0rZwoPxoYXwhVv7TiLZpmERFxjQB/x14ybRSQQVf0N9YJEXuAjaThDreARdk+c0K7Ku8V9N6gMCjfH1TdOa5Jnw4Xm0k6YRyQ5wwiQ1b8NlgYMJat4a6eb3aG7TvG89qZ80goqLLexZge/56pRgOGuwZ9mkVkGf2F9AupLSXEEzu9kJanxegmjxIKtBSptoDlZoWZMi4feaoHZyYV50XSN+BVya4BMd5aRCVPy0Nkhvs9EJK58XRVdNefWZoJaH5cC1xAQ1fUriAZBsbgRtghLEgwQhCbhNOpBucqYFwYImfAEFwkvcD3L79q106lQ5ychX/EwXaXx8nG655aDV+9l+HAj6AF9Z4AFzXghc+P+0JOxJUXyDwEXwCYWPb3LPaQQVtfMi62YRVDwPIWZiYtQ3903KLWsTpRNCEIhoUhtZGhb0Dy0qa1LTVxwLHExQbfejovXiuU3zzHXTCapejrKOPQ57BvaStGjfRQlqkpsAxoJ9F/sL9lsQL2hpbfJjl30JGsWlHxrUvHkHTtCsGtKKcz+egxUEEqbXZbntxMe0HgT1jDO206FDx5bP36hssVkIK58XeV9D735ngto7bPveMhPUtVOADdbzEB1xdQAkm8kyeccOHFgd1t08uzpIEAJWrL7lzuoDm/2ZZ55OBw4ctBmKX2d8fMzX0sJ8LMmv1TQEP5UgnUoQNbaTYvxM8U7oCzfGvRAcQFBBKiEAgJhCSMoqaWlmVvw5k0lqmoBm+gLhR/TmJIEwbh6cND5jigcta1yrAQIME728/LMg0UGk59Vt2GhlmKQyQS3ynfNZUQSttXXTovTmXSYl9Rq1kDB7AKLtZu2FnRHUyioLEgSOw96Cvlqtpk/AcFEGSxCQL5BVjCEpENxmI6jxeVudgzVIe4ZzGZeZt912tJAsYLsSu4mJYduHSVGXpplPJqzC164aDavN5b/tePpRjwlqP1AP+mSC2j/se94zCx0rEOcFQLKdjKTcn0nkzba9aL2svKLReit+rUgtkB/8CH4qi4uL1lFqo31Fc7XG85mWSVCjZsPQAkP7aVOy8qBCiwmTuKToulk+WCskNTn9iw1BRRsrJBWmd4gKHZRAmIRfz8rf0t41iejaaGDRHpPUZFRZ4FiLC58VNrtNcp2sKL3dEFTsbdWq41+S5ZnuFtlT8BZxCxLslYH//IJv3hs18TXpWbBnYj/CvmXIqiHNm52gxlcGzk3MPQh/sBcHQa+ySH7RFbgeBPXMM3f4GmDby/YVwqojfqrDTVj5vCi6MsurzwS1PCwHriUWOhDwCDlM26R1kFMuLQCS7eRFSZkJSITDKE7ebNsrQlADv9YtYbTYk37wApuCUPo4GG3ro83VuVpPEUyV46UsgopDHPlMMT4cukeOwOcln7xhPFkEFb+nBR2yIah4PsmnNcs8OI4R1ggIJYRM805FtR3xNmw1sGa9W/Bgm2W0YeqwwMEEtYzFbJPbFMQPF0VFrFdAbLDHNJvtNT7yaeMusidECSosa4II6OTvUYGFUbYPahA8KCC0uAAEmQ38WYN8omWXss6ZpHHBYufIEVgE5eecLfpeUQIZkPwg4JLJwRpECIZmHNZcdumBomMI0t6N0+HD5edON/10i/1qwupLFmFU4OHRsPJ5UXTll1efCWp5WA5cS5uZoAbE1AuJKf6NW7zulztuFGGyg0M9KapsN4sg7TCI+rUGfqbpvpVJ/W/dOuULEXmBmsyzhjBC63rs2Equ1iSCiiTkRVIoRNvAgQ0fHWgHjNkwgjKUSVBXSOrIqnfJSlQff8+4T2ueeXAaScXcQegsmhIC7RmSCs0rSHeRgCiQfZikrswKCxxMULvZp/GsbW7TrIBmSWPA3oL9BvtEkeBzRQmqiVALYhlcXq64f4CgwsTXhjMFwYOqND095QfRCXwxA1NgtGtjJZI3F92SpKz2i543eWONn29wFTl0aC2BDKxwgqBL+O9OcrCWkZc9731g1QW3I5u1kNcWfo+ntDHBp5aW2oTAS4OY0obPC5uZ7U2d7iX23oyLWy0Bgc1KUIMASLgRBTEtNyQ6CCo21bSost1MW5I5DW7TEcUWBz7Ioq2pTXQcIEQQeKKRfdOEozhhzHqfM888jQ4eLE5Qs8yGiwoMeRpUM/54dN2igmM0RykEMvRrS/gxBgiCECJBMCGAHj2aTvzTMDdt4Pe0AExZ89UDJUE3y71vz7LAwQS1m8VXqeBMsWuhyD6DS0/sK/BdNGeMXS9BYDcbv3bTHi4hsY/B/SFurYLzExeaRUiJiXOA50zwIOy5KFHT1k7Or41IUOPzGs/BCo0utO7ALi1FEdYWLslxodurYut21Gn/uHjFBfptt0VT8RiT4MEgrHxedDq73T9nuc123xG3sP4IbDaCits5ITyqVsXyjXAZWlPMHA4DmNeivSNHjhcy2bKd+SAgwVH/1tn4teKd4GfajQlSEA033VwMhBHENDBVxrvZ5cAr6p9iYzbcK4KKOViJrnvS/2+UqOYgb56MuTBMsoo+GyWpZg0VEQDN2CDAIudhEPTKbp6i78UklYgFDiaoed960u82Jr3x52xcCXDxBE0b9nhcYBW10ECfeB7moriIzCqBNU6QiguWK0lB4LohqHFT5iB4UBBsCe8Fghr1X7UxbR1Wgop3npiYKGyCm5aD1RB9IwsgSCL6gDzSq9JrghqPRBzXsAbv1V/CyudFr1ZXfrtMUPMxGtoam4WgRgMgrfhllHOrGA9IBG0mTK/yost2smhAzmDqittt+PaU4deKcWDMwChuMraaMJ4s7D9UhKCujnB8ItUsuDhBrfgmUrbFRMXErXS7vZLKwfb54NZ6xJ9/RLssWiAY4jKgU4KJ/uBTjPmEMFiEpAbWBESbnaSywMEEtfh3i+BmE74VShGXhjyCatJJgZgaTVlAUFdH2M0br03gNFxAO9cUVQAAIABJREFUTk2NL5vegjgmmRGXSVDj48Z7Gf9VW9PW4SWo8BEd8/OIdlOiOVixNkD6V6Ip48K8u/bTxhZkLTitUGaBou+ZF+gpmbDCfxWkdX00rHxeFJ3V8uozQS0Py4FraaMT1KQASEbzeNttR7qaj8Cccm1AojJStiQNDBsuco7h3zC7SgpK1OkLJRHUaGCiIF9o8SANgT/ukcwIk6s1wcdzgx/1mqACQwhGEOigPS2iQTX4w5zOBMYqIqya57dvn/KFXJDLIsFTos8jsAcEZmhzi7wDk1TWoCbtIxv9rOh078RzxqS3aHAzPJumDcVFURCADVF6kS95Zf8tEoTNvFceQTVE2ARry8rl3EuCGp+H1aatFZ+kxzWFm52gxjELcrDCV3nCv8jAnr4ScAl+v/bp7bK+i7y0et18U+bZon606YTVBF0qJ9ZI9N2YoJYx0521wQS1M9yG4qmNKnRkBUDCho20KgcPRn0a7KcrGpAIgkP8hrlowCGbng1ZRN5NmPN2Qlqy+oH5V0B8T/rav8DkdyUwkc0Yk+pk5UgDwUc/RTXBRQkqNLOdkEQIdCCq8OsteqDjVhxCAtZaUV9QCKZYQ5jnTggm5gEE9/Dh42GkZZgGwr/YLqIznscawHo4cWKpkJ9Zp+tk0J5jgWPtjGzUs6KbtWdMes2lTtFULgFBrfp7YDS6rTHpBRlL+m5t01hF3w37WUDuVkejDYjwhL9fRYlw2QS1m1Rm5j3SNIUgY7gItY3sXmTOcSl86NCxUoI5xfvttY8o5AZclOIyO0r0MY6oGXUnfr9oA5cniHJ8yy2HikBaqG63ZsrrQVj5vCg0paVWZoJaKpyD1dhGFDryAiB1s6muRK9douPHk81Q8/w5i6yAOFmEpjMw/SxuOppHUCEU4TDDv0GOyjBRTiKoeQQ/Dx8IDDCJyhNGTARg9AeCCq1zkYJARRA8g0Ahq/OU5rWDZ1st3FJr34QLfduSXIwXPqTQgAYm1sUIZvR5jBMCKNZN4GNsR1KjqS8Q3bcD5XkeRAP9OwscTFDzFmhSlN6igYgMQQXhNL6eSSa98bF0QlBxdsE3MUpQs4jwIBLUOA44y7HPw6XBkKyVgEtLHV1MxvvoLUHtrY8oLh4qFeFfskYLznngFvX77SQHK9bPjh3bCJH6e1Vwfo6MjNDRo+X40SYRVljCLS15vktPJ4XPi05QK+cZJqjl4DiQrWwkghr1MzUCdVoApKKO/UW0imn+nEUWwEr+1NVksYxb6Pg4gBGSqAfawhOF/Uyz3it+uAcRh7f4BDuN4OfhlCcwBJrZqVB7eZyaTY+2bdvi3/YWIalGoAO5jecpzRtjVBgEriCstiQVmgysIVwSdEIw48+bsUJ4DvyM8/MQGoJtLik2G0llgYMJato3nhUIqROCashmEL07CE4UN+ldS1BBMJL9Q9PGHf+m84hwbwgqXCbsLsny9tjo78bENzBtXQm4hEtBk9JmxSezSMtEWVZAxVpaW7tb7WBe/1HLqKy66TlYg3RAae493Vqj5Y0fvxstMGSTXhS8G/xo8f0tLtrlVo+Pg8+LXsyMXZtMUO1wGspaG4GgJvmZ5kXmtSWoaUQxa7LTbi1tFoghF2n5U8s2H8bmDzIE0y9oJMs+BAyZDAL/BIF7cBOap/0sQnpNXaNthElv1EfXcYIgSfFcpXnzESWZJseo8c/Kezbu7zUyUvEPWhtNLAg26sZvvSH8giznJbpPex5jhsCCkpc/MclfbTORVBY4mKAmfeN5uU3z/DyT2sTeAD+7ILBNsklv/Lks8mhDUE26miwijD5gSQEXhXjBPt5sFjP/h5YzyKfaO4IaJ1IwnTZaQtuAS/F37SVBLVs7GB87znYUuO4UKbY5WNeDoNqS7CLvF68LgoqzGblWOyl8XnSCWjnPMEEtB8eBbGWYCWonxNRMQl502YAobvEFB2zueflBo5Pb6aGDjRj/ZOVPLct8GO+FtgwphRlrmWY0Bg/4i8L0KvDFPFEoWE/aB5OkQc3SzBqCivZWcpUi6FP2JxkXNlfylC7kpmpISulgS3KzBEMbLWie8Ir3MoG20hBI0wRtFpLKAgcT1DgCNrlN0/w8s3YaXJzB3DIp32jac3nfeNJz2PtwZqIvk64ma1xZF13DQlDj75cecGkp9dJ02AlqUnT+osJoWg5WnO24EO424GTWeMqwSMt737POOt3POw5rq04KnxedoFbOM0xQy8FxIFsZRoIa3JJq8jzkeNQ+0cjTmMbBzwq0Y4giNFW4YS4avbZo4APUBxmG0AASl+Wr2O1mnaYRLtvUyPiZAkvgWKZmNpoLFje9eZrZKEFdTVKz5zZJG7JCUldSPiR92GkEz4ak5gmfeQTTxj8tT5ucFo0U5o0gqV5n5/hA7oFJg2KBgwmqQaBIbtMkP8+0RW/yjeLfOGOKuB/Ah3ByMlm7mXXpZFLTxAMlJT2zEQlq9D2jAZdMqp+o/6o5h20i0Xe6sYHcQYNu3Dk6bSftOezj8KssM+I/vgdcZoO0QnbBWjRm1NCQd5OPPek9TMDGMt8h3s8555xBhw4hl3xnBxufF2WvXPv2mKDaYzV0NYeNoMYDIAHwouQUz5x22jZfMxoNBASShg0dhzf8I22D2iTd0oKYHTp0NHM9rORPRRADu6BEnZq75JkOFyXVWS8WaDOBY9OPTokcbN2Y9Mb7AkFFmzClhuY3TzMbJ6hoD+8bPJtOUtNIpiGp0HSnCXpZvmh5JNeOYAa+aklCrW0KihVt8loMkIcV30da9GMQ1I1MUlngYIIKBPJMeuMo4eIH50Ze7mFzUYV6cK9IMunP2mOzyGPSc2gf+0oRE9uyCWrZ7inR9ywjzYwJuGRMgtE+8MJZcfAgUqV1Zv6ZNY+99q8sy+Iq7R1MjlJcQhstq8nBakhrt2c/zqJmE1Ho82MndCKAQ36Ey9dttx3nIEmdANjnZ5ig9nkCetn9sBDUaAAk4NGJ1jSKYzRXaaCF2+K3CbJjkqF3irshnmlmLzgIQYQDsy6YD9v75HTi34pnQJiyTIeL5hpLwiYJR4SgRzTaMm9VIYygJKX4SRpXEkG1IalZJDOYwwDTJJKalw8xi6TaEsw0LajRBtisq4Coj/j+rlFLAQSVgslTlvXARiapTFCZoNqY9MZRwqUPzB6zCGpwGTjiByuD8F6UbKJP22eCi0lEAfeWo9za5kTebAQ1PpfQDJrgiNgHVwIuLfl7flHLqrSLA5Mvu1N5I+u5XpO7JLnB5GBFsCqcLSCA3eRghe8ynrc5zzrBEOOFie/Bg8c7jvrM50UnyJfzDBPUcnAcyFYGnaB242eavXFPUbvd8k1VTPRa24M7byLTAgfANGbLlkn/tjwwH873g4z3VeTGdcXPNN90GAfxxMQEHT6crfVNJoBBPtNAI3lyVRAMaKrLIP2GUKIfHHjQTtteJKQRVLQJjPDucYKG3/IicuJgAxHFuokLpEgTg6ALWfnlVkguBB6YqwcFh3q16lilhEnSguKdoPk5dcouFRHe3/haG42pyaOat9Y3KkllgWPzElTs02NjFV9zVsTs1uxR+HfSWWJMeoPLtYVlgoN9YGpq3L8Qsi02z5jAcNgHsL/gfdLGlravp42rEx/UsjSoPjFcOkkkKiRGx/2hl6FBTcPexKsAYTdaQsgNQcqeph+R3vYsWnueJ6eBsV0HefXKwjytn8A1aNS3aEorWKtGKw38UKIpbfJysPYic0F0rIag3nrrsdy4FGnvyOdF3krs3e9MUHuHbd9bHlSC2itiCsBNWhWYn4Ik5kU0LTpJOMhAzKLJq6NmryBDeZtyWp82AZiMnykOBlvTYWOqk2eWHB2XDeEug6DifXDQYt4QARgH1qFDMLmy8xfJIqh4nySChr/naUFRx5hOQ0iJktQ8E1mDY9LzRTSgaCdurlxUEEUbmH8TsRNr05ag4lnIiz2wfiv62ZVanwWOtXAO6llR5sTjYgeaU+ydRc1uzbeIf8cJatSkN/5bWlqorPfKeyY4J3C+reRfLrovBCR4ItE/sjOC2r2ppm4tUevqb5F36AYfnsp5e6hywT18E02ct2VoNeO4I8LrwYOH1mjXDFnFfg0tKEgqzoClpfSAS/G2O3XZsV3zvYycjDHYyCPxsQZEP9CuAjtcigIzYxIcdyvZvn2rb95bdu53My6MB3PMBNV2VQ1WPSaogzUfpY5mEIUO+JlWqxB8sXE1O/IxTQMJQge0mPAnaTaba1J5lAEuiBRuXQ8cuM0XEkwQnzI0iVm+ot1EHs4zS47jEvXXxXulEe5uCOrq9/n/7L0JmBxXdTZ8qtfp2Tct1r7M9Miy5E1ekW28AbYxBGzAmCXGOIHAH7aQmP//AwF/fAkJ+AMDJsZADCZAnNgYMJgQMN5lvMi7jTQ9WqzFWmYfzUz39Ex31/e8986drq6uqntvdbUsiS4ePUbqqrucunXvec/ynsm5EB9d0goZQHUDqSoAFc/iffPcZZRQ4F5LlRDZcpDKrfG6iqR9/LBoy8IMnda58LjAuwMiJoRmq17HGkitAdQ/PYCKM8eqtPoBqE7RCzD8QBl3K1ElA5tO36DbM/h3gB58//Z6x9hXYFRUjazwGtdrBVBz256g/L6tFGrqIOgJ5vgQRdZeQMedcOphB6jW9yIIl4SnEOBegFWcC27G1OoD1CbKZrOBsOc7rcMgSJ6KNVg58ZK9di3SsWBosUYZqZ5LKvehf/BaDAy4e4Fl7dTOC5mEqvd7DaBWT7avectHEkDlBEggIgBpRMMsCYx62JOXMEW4K4ApABWU8WqUVRFjgEUXYCPo8GGe81FXFopbLFEzxcLSdC3JqgC1SOxEzLIuC23yC1CLebPl89EFqLBuw1suu+xeRFWAWgSpCZabBJCqA1Dtz0OJROisrsVYjB95bXgvKkyddpnweq0JpvzphByinWMJpNYUjj8dgOrE0usHNApDEcAJ8uUEWORlPoohvXbJAtwgJUDHIOT0jDAwOaUc2Mcm2wvxu5sM4HESwAphrtinAB5kZwGiSrA3yeo4e41t+plfEuWyZER5aG9hcpR5URed+YaqAVQ/4cOlYa2xOWM7PIUAruJ8rpSVX/YerVwbsnv9/K6TcqTavr0GK57DGsM3BaeCrDycaj/iPvQHPWVwcEL30bn7a+eFb9FV/GANoFYswiO3gSMBoDoRIHHWwSgL6azksoaHWsNdgyAFchoXFAeERUHJBwFS0OHD9lBcnTxTLznKCm77JXZyYkv2GkdpfVaw6pWH8cpq2NrbD4cjrA6ryoU8WoQtgd0X+VeyPFJrm+LdQwmDJX10VG/tiufRpsjRURmz9R6MH98ODnMZk6hb2zwfOa5Vl9HaVi6nO+oj7/6awlH+To6EsyLoleJGhOQHNGJsIn8crKMgMXMDi6X7BrEom7Ex9f3CPj6nkF67rHRTB5xkIIxgANyZTJoiEZ6/jn8X7K3Cc2jfu4NglJ1JbaLCwe0UamxnIM8cH6Rwzzm06MQzjyiAape9m5cQRgCcF0HrCaL/aofHVtsDjHmg7rmoCABDcxC5v9b3g+8CaUNDQ+oRQ/b3Wzsvgt6Z1durAVR1WR11d76WSodXnqmbp1BVwEVABaKLYnioeN5PzqWsbxE+DGsfxu+UtyJrQ/a78GACuIu8TNU8U78AtZK6sG1tzUrhOfBywsIOJQeeWa9wnmoCVMhIeCJgqfUqteIkT3hjYBXHPHQBKtrD85ADlDtdghYxHnh+sf4xdtU8XetcMH+eV8WJmmSeESc5HO0gtaZwHNsAVVbb1D9AxbeDUFqjJP9Ttq/r5HyLfQL5hfC6wiDKvbSInHHvqVKAivMN5G3Yl7CvzMxMl/RXWqZFeA25xxD7OfZFRDBV4kE1pzM089LvyJwYZTXQQ/NWUKTnXFqwsPOIBqj2tyK8hJAp5MbzV9U80bK1ZP1d9fzVadN6L94pLpw11bp43XPOOWGtwWrN/RUGXT/VAhD6DuPJ8LD/OdTOi2q9fXm7NYAql9FRe8drAVCLwBThvAUyTaMsz1Q15NQu+HLiHudwV5nHUOeFAuwKUAGwCIuodVPVaUt2L+SCQ4eDp3LgLXve7XeAkbY2hLmMzN0iNm4cnpiXH7AjOyC517B+1mOXVlJeqg1QBUhFHiaUMT913KBw4tAEwNO90C/eBw+H039e5MPi/bnlvXmNSZS5gcIkyhPphAvzElBERzNIrSkcxy5AVa1tqgsaRUgs1j6MbDqhiLp94e3gGZylvLapnLFbhx2cg2AeegxSPxgpsf8LcKmSgyq8hgDsOLcgDwCISvMJzUKezMlRVqTWqG9l4/QThqu6L1ezbezV+bzJ5MJJg2KznmikaHDA6uf8EXOTnb+qMnC7r9ohyujX67wXub+V1GBF9AGvW5/xLY7aeeFbdBU/WAOoFYvwyG3gcANUnmeKGEAAU34IOl1OTLgyKeow5cJqiRqdVqZdWfv23wVbLsaKQ9yaM1iN+p/Ck4lxBM1YaJW3nTXXjwdN5YBELi0OOJA4OJV5cXsfqgCVl3VAuDUP1dUttI48UlzCY6CzPqA8QrEAI6GuxwBjhnICZUXkr+n0LUrc8By4Om2QavW0iFI4KqGK1jHy+ncop1Esn6Mzh9f63prCcWwCVJ3apjqgUURdYK/k3tMprSXc1gZmcnWSFhifRBkcVQCjWl9ZDJxHczQyT6X9+1cBqHYBIIwSexLkgzPG6jVUnYObUKsJIittG15fyueIYgkywqVcCE5hz6WES9wb77eOqF8OCNXFG0TYtqwvHfkXa7CCcMkqO86u7GRkh37AeT1qAFX2Lo7E32sA9Uh8KwGN6XABVBxoHJiiwDVfUm7glP+G2mYddPDgkHSmUIaxUaIPVaZctD9vXgf198vbtw9AsLbG43FWpsYJgARpubR6MmF9BvFBJcDaSaACsMMaz2tiBuOdhRzS6UxJPqR4X2CaFB5n6Uu23KACUIWxAvOB8gNPoK43ESF0GDsOMJ1nreGBxfA7dYXVWn/Vz/NWgiYYHtCGTqiunUVYeIasLMWy9wX5A5zDaIMSNDreJFnbh+P3GkA9tgCqCOkV3n2VNaQKUJFrykuWZdiZ5qd+qmpf1lqqAMU6oFYXoAoQDOOhXbH3A1CFtxB7qjMIK4YD65Zh0wExKu/eeg/0kIGBIV97WH5gJxUGd3GFJhynyLL1ZMS54ROXCsCz1l8F6OLVDYqy8iJEhKFchcxQVybifkSOId8aZWCqdYFwUkUPdNNrRDkbtxqsMAjzWq56c7jttu/Q/fffx7rdtWvnV3p7e6+3jqGrq+vUUCh0K1LTiWjP9PT0+1555RXEpteuACVQA6gBCvNIa6raANWJAMkLmOocDMhbxKEH5QBAR5f11M/GV2SXzbK8C7fDIQj2PMwLBwDkhZxTYZ0XJWwqXUsYu3gX2KThzYSSxXOZPJKZNDq2kjTgoMWB7Pd9iW7d6tLhdxEajv8vjBUgSYKypetNFEqjqGGoClLt+WuQLbwQql4VO3swxo02VXNS7cquAKkgTlIJ1eXgslBiVOBGmSJLsWwJQGnP5QpzucRHG0itAdRjB6CK2qa6W5oMNMKoh2/TWtIFe0W1AKq9lqpsfPY3yPMeAaS9FXErCEafTrn0wFuIfNGRqVc4qKiNKcq0iFIjONNVmFurCVD96AmQvZkeo9wrzxA1IAw5RGY2TUY0TpEVp869Gj8Ar0i4BHKqyGxZFg5Y7bLq6GilsbHxisKEvfZ6eNjRJ86Wal1+5e80HmsNVuRTv/Wtb6X58+fTGWecSSeccAr19KxRYvx/6qkn6LbbbqVvfONWdjaff/5Z9xPRzalU6mei32Qy+QgR/VMqlfrvZDL5fwzDyPT29n62WnL6U223BlCP4TdfLYDqRYCkKk63PM7SvMUM83L5ubyAjr29UrZcWJSRP+t+VVIgW8aYW+mGPXQoS3fct4P2Daeps6WOPvz2k2hRZz077FC7NchLAHUeAgdPJAfAlVxO780qM1j8p6aKB6Zg8dUFmlYFUOdZp/IMOiBThOhavQicTEMNpDopriJUFzUQZfXk0BdnSiyl4xUsw/BIyxQSzBfPW8PDjyaQWgOoxwZARXUpXSAnZu5VKkqwfdu/JxhNYZzBHqRzycpS8frXpbVUdeelAlCFMUvktXr1AZIkREmoXjr5ioJECOeuYG71IhE6EgFq4dAA5V/9IxkNrUxESG+izDhF15xnAaiVAzwvWUEPgZddpq+ovkP7fQjbxnuxnrd+23J6TieSzk+/zz//LD3xxOP05JNPUF9fHytv+Fd/9dd0xRXv9Gxux47tlE6nad269ey+c8457VuGYfT19vZ+XTzY09PzmGmaX0+lUv/Z09NzS6FQ2NvX1/ePfsZZe8ZdAjWAegyvjqABKgemyC8VeablBEiq4nTKn1D1YKr0Afry0VFv66JbmRpZ+yqhO05tqDDmVgJQc/kCfe3Ol+nQ5Aw11ccoM52jSMigT73rBFq5bIHvUBo3eeAdQoY4xKC06YZuObVrB6gymVnLzECBRPkYFW+oPS9M9VmAQfRhryOqClJhVXdiD4biizHIlF83pVIAZ7wLrxI0PAfWva4hQoZlubXwtkJ5t+eWHS0gtQZQj26AamXphZKOCBQdbx9m7/4dCjbbqbL9DAAPBh7ZN1qu6Dew/cIeucJJ/xJzERTW32XzAplQ/uAOMmeyFO5cQvGWTk8PKgAwgDBSVhC2ieu1AqhW+QjmVq9yNtUEqA2tdfTirhR7Bwvr51Eiwmuwyi5zaoJyOzYTJZp47mlmnKi+hSJLOajha6xygOolK5y9nOG2csIlp/kGESnmJUfIPKiIMbd+8B0RGbRnzwF65pmnaenSpZRMrpG93rnf9+zZTVdffcVAOBzeuGXLlj7xQ1dX11mhUOi3RIT6NZOhUOjMrVu36ueUKY/kT/PGGkA9ht97kABVlQBJVZzW8NDS+phglPX2YKr04UUgICtTI2tfx1qMtkSeKbxOyP/0Ysyt5DAemcjS1+/aQo2JGJMhgMbUdI6uvaybzjp5JR04MCibmtLvItQWByRCU/16uZ06w/zBNow6uTAEwNvnxTJsr4NazMssKmLOh29jWXibSk6nl5Kq4gn18qYg/JbLFMps+ahl5TFE/rRXPqk1B9btZctyY528wKKtowGk1gBq+ZsP8qxQ2kR83mRn6ZV5J926sa9hYXhC6Lob8ZmbcUo2FScwjH0E4BRRCE4RC17zMvM5Sj/8Q8r37+T5j6EItbzhL6hh8WrHVAHsS+gP0S1Wr6gXeVM1Pahe8nIqZ4Oxo44sgFhQ6SkYw6HpcfrD4GYamTjE2m2I1tPFy86l+gjSNuRXfvQAFQ70EZkFMuqaKLzkBBbmK65KIq3kvXMGXJy/wsvKCZc4WIWRslKDsRPHhMq4VO8JgsxS1hdAdqEAQj85E7a9LXhSr7/+k3TgwP4PpFKp28XvS5YsSdTX128momtTqdSTyWTyb4joolQq9WbZeGq/60mgBlD15HVU3R2E0mHNMxVKs2qeqZewYF0sFPJzbGxB1Pu09udk/cNZDi8tFAMoIX7zMVULWAsgZ80zlS0gndBka1uYFyy5n/7GwxSLhChsGFQwTcpkc/TxK9fS+jVLKvag2kNtYVhArpJKGQTZvMXvAKhQ2lRqpuIZO0Dl/yYnD3LzHsieleWhCU+oG8iUhe4lEjzsDYqHXRlTUZBFPilXfMsPZXsOrNt78fIIeynP+MYAUqEUHKlXDaCWv5kgzopqvm+32qZunlDZWKzfAQhW8N3J8ridwvtl/eB3OxguejPd6xB7fWMzrzxH6cfvIiPRzDx/yH8MN3fSgiv/tgSg8vEmWL64E+g+EjyoMvlhv4WxGfsZzlNEbXDWW/6nkuuJA8/QUH6Eovkoa2Z4apTWtnfT+s7jlZuFJ5vwJwxm81J1uvoAtb2kHnuRcImHjMMYoUq45DThIMkgndpHxBCMJIOD1eMWwhz4+tdbKy+88Bx99rOfoY9//G/oPe95Z8mLTSaTp5umeUtfX99pmNeJJ57YkM1m+3t7e4sMWcorqHajlwRqAPUYXh+VKh2mCSsc92Z6lY3RFSEUbWwcvIRLMIyy9jHgcMABJqzTdXVxRrqk4sWUzQe05dFomDHoOV1eOZOytnVrrNq9z/c/vZd+t3k/I+7Bdebx8+gtG5cx1mS/bIVoxynUNsgcFZF7zMvGpJVzWZ0AKsbrBTShR2B9OBGEWJ91UlhlABXPFz2h5SBTBlDxPDzuyIMbHy99XjXEEPODl98pn1TH4+TmEVaZAwDqkQpSawC1fBeq9KyQ7WuV/O5V21TV4GLvnz+Xpbq6KGG/RlqAzOMki2Bwm6N1jDD88P5KvZn2Z72Ad3brJpp67tcUqp/Nf8znyCCTjnv/F+cAqiiN45WXfjQAVMjFGlUkamLyuq+VlbN5aO/jNBOdJnOW0uDQ9AQtb1pMpy04qZLlOvcsPx+DNeBaByaLtuKESxysYj0gqgqeVVVwX+0yNkHWq3d7YZgDdL5MppRzwesFHzx4gK677n10ww1fog0bTif7ebF+/fq2bDa71TCM83p7e3u7u7vfEwqFPtTb23t+IAun1sicBGoA9RheDJUoHU1NYOqcYfk2QXhMIWbOIMhrV8IiCgUaALUaF88TLTAWOhz2ANiqZWpk4wHYxaaPsCPrxXOK6tn8uIfWOVTTq31VZj5rnVYAZas1edfBCeofyVBbY5xWL26qqNh5KYFUaXhyUBZiXjamgYVwAZzp1IF1A6heIFVF0SwSD5Wy48IwgUNfRgblBDILmXFqoDRN5qMUamz3XGZYX7wkEHJ7ubFBBRxbG3XKJ1UBl9Y27GHHon6ife07TeZIBak1gHr0AFRZbVMBNHXTQvBtwOCDcwhAVeVS2Tec2sEYEWWCb8ktpNcZoALEloci5AZHlm4oAAAgAElEQVR20eT93yMjlmDhvWbmEMVXnESdF/85A6joB4AEe5RXOkmQAFU1qkhFzvZ73IBYpeVsdoztohfGtlA0HyGTTBqfnqTzF59NxzUu8DPMsmeqncMpA6j2AWFNiFxfAe4FWHWqh66qi/gVlogwGx4e89uE9DnMYWpqhqam1AHqTTfdSPfeew8tXryEtb9tW+p50zS/bRjGWw3D+Ife3t7NyWTyUiL6Z5bgStRvGMZf9vb27pQOqHaDlgRqAFVLXEfXzZUA1IYGFEI2y0CYXwmI2pXYEAF6ef0q1KdSL2Cu0zc8SAAJOMTszK867Tjdi3FjPiBhEpfVQwsgLLPGu41BVttMeBrRn1udVqe2dUOHBQAGUHMLv64UoOKAQqg3QllBdAKDhe6h6wVQIQcnoKmqaCJEDsql1QuhwpZZXBNFT+j03q2U2fRjxtabz+Wo7uRLKb7mHM+lKEIBOQGVOZtrJC8lYW3Unk+qC1DRFsIfMW94dIV31i16wD6hIxGk1gBq+bKr5KyodD91et4tpNd+r0pOtf0ZfFfYv2EQcwqD95qPn+8Hewj2IU5QpKYoe+V5Y3zTO56mqad/RWZhhiILk9R4zlXU2No2lxbA01e838zRDlDts9MtZ4NzZyg0TI9vf4aVijmhI0krmpcGtpyrDVArIVTk4B6liXBGRZmxRoBVeFlh8Kk2QEW/MGyMjBwKTOb2hhCRBgNUNuuf16R2XlTt9UgbrgFUqYiO3hsqUToSCV5XrVLrFjYheDM5CJlkpDe4qrU5Fb20yL3JVTx+p7ePsQMAQzZOtTkrWTEISYHXzCm/Bp5ZeGhB++5Vp9UZoLbR0NCYFDgLop14PM768CrS7ZelsDQEerIkh1UXoEYi/HD1uuwgVSeXzM6Oi28COaJuRCrlynCMYmGiV2///4iMEEXidZSbmSFzOkONb/4UhZs6PccuSl4AHKK2m07fomGEFcLQizEjmkDF+2kfFPcIR1kbUO51mEyhKAfAe1bJZ1XybE3hOLIBqldIr33kMlZq6/2cg4CH2MKAaC+VpLLAdAEq+sM3jO9GpU6xGINK6DLLUS/kGfcA+kBf8NSqcgJ4MQXrkiRV6kEdzozS0NQIxcIRWtgwn+LhItmQ7pkgZKhSzqYSkCdbL5wIMuPJqi5rw+v3IMeOc46HT/OQYFy8PjfKuqHkUPCkAk6G/krk4fQs1s74OL69GkANWraHo70aQD0cUn6N+qgEoMbjvOYbGFX9XEiABzCFJw4eOFirrVc18g+QGwrgKAqAY7OthodWjB0AGJt6kB5aJ2IC9AFggXAtyNJe3kPl/ajktuoCYD8AtTSXtTwEWlcZUQGokI/VG4r3hnWi6gW0glTohACKqmGB6DuSS9Po3V8iitVTKBxi77GQTVPD66+hyMIu6esT+WSwbENpkNUpdWqQ576hLFRIed7lYJuXqsD4EUqocx1JILUGUI9cgCoL6S0HqOU1eZ3WpZ01160esGxNqwJUKyswvjso+Tr7tgpAFWPlkRZxVgLOXv7Kaz6eREyadVArAaj96UHaOryNYuEY5c08RUNROnneWvZ3XLIzIZ3N0fRMnhrqohSNOBsr3crZACRBx/EKhZatCbffq00yFCRAtc8B3ws8qDCqwPgBgGrNXw2CTZnX/41XRUcT84GMxsYyc6WV/LzL2nnhR2rBPFMDqMHI8YhspRKAily7lpaENvOrUOax8XiFoOK+jo42GhgYrlh2pV5aHipaPQ8tCGgamLUaYVR+8ky9JmwNCwLIBzDl9TFBs6/HRGftxytcxwqAAdpU87k4QAUBwZT0HXrlsloflikj9o5UAaoAqQCm8E7j0NVR5oRnWZTv0QGJKAsxcc+/kJGfoVA8Qblslig3TY1v+TSFGtqkssMNAKkAmRi7Dji2No7n0Q48qLLwP7dBwWgljDK6St2RAlJrCseRB1BFSC8n41P6JNhNHGhyZle3y4k1F+sY7J66TLAqAFVEPQiSNf7d5pTDezEP1dBlQbqEPaGhIa61px0pAPXp/hcZp18szD13I9kxWtPWRfPrO6QAdevuUXo2BR3CpLp4hC44ZSG1Nha9r25rQpSzgRcZ6RMAXJUw3jr1czQDVMzHehbbCZeCYFPmudJRlt5TrWvhwk4aGYFR378HuHZeVOvtyNvVOArkjdXuOLIkUAlADYcNam9vZABV1VomvGM4mFVCUCu1AHp5aREKicNnaCg4CnORZ8op76OBgGv7ihHswxg/NnDIUTWc1Gv1OQFUWEmbmhpdvdyy1QzwjKLvXgBVJZfVD0DFmkQoIOYQnrW0y8YrQCq8E1CEVT2ool2RuwprMkJuda7c4B6aeuSHRLksU4jqzn4nxZadqNMEA6gAmPBe6nhjRCd4F1DoITunMjYqg4Gyj3ZEDVxdkIo+ZqP8Vbqryj01haNcrJWcFZW+JHzHLS31WmHjok/skcK7Yx8HvlfBRG1nzfV6zms+XmGxeA7AF3u3laCoGgC16KHNM4MV/3tCa08LGqDC6KwT+i/kvLn/BTJMYw6gjmbHqEcBoI6MZ+nXj++ltsYYOwcmMjMUj4Xp8rPV8khhCJk3r4P6+4fYfiZ4MYIqZ1NNFlysbdRB7e+v3MDvtt458/+wo/7nxKYs6q+KNC7ZvsDr8/IIu2pckBF0zOHhCcrnJQnZHgOonRfVeDtqbdYAqpqcjsq7KlU65s1rYhuUTAlFqAa8itiYsNnI7hfChIUO4TXW4uEqghZEQV4ADgdWW1uL7xBl6zg4mU8pE3Cl4Nptnu3tzUzBQZ4pDntV44BMbtbDkssvQQiJBlBJp/XAluiLMyVDQSr3oPolc5KVw4E8WG16FskVYmGrIEriZHpqF5QRzB+GFF2vNA9LirLnVHO95gCiUaBoYYoi9U2UnjbZd8Leb26aKBRmuWReF9Y7LnhoUBZDF6QKgif061TGRkV6mD8u9A3F2884+PMqvVXnnprCUS7XSs8KP2/KSoSk4pl06oMDTdMxhUREHDgRIYH4C5+e7jfsBuqwD8FAC7CMb8J6+Qkn9vKgFkvIFBnGdfLqxdgwF0HAZpetbg4q6nCLsnG6a+FgeoB6R7azvNNcIU8RI0wnzz+B4pIQ370Dk/Tw8weooxk59vwaPDRFV1+4ip0LsouDvHYGUO1XEOVsjnaAqqrjCDZlITNBuMRDgqdd9UF8L36NGrJ3i99htIGOOTQ0oa1jWtuvnRcq0q7OPfKvuDr91lo9DBKoVOno7GxkREBuzIOCIIgz5ZaWOlGZnh+WOBz2CNOUeWmDsDDyWpoNs8o8yAKK5QhUN28VOeAeEaaMDVvMTfVZlfvEYcnBGS/pMjEBtmH/lkU3gFrMBdYH2V4AVXhN8W75H55vhP+Pw0gVpEIGUFDxPA5Re360lzwFQBNWdp1QXwEQEe4HT8v4yChNPvMbyg/sZHGNseTrKLryVNeyTkLRBcCEAgvPiSorqFhjIn9WkB5Zy9iorCNraCTkCBDA2UnVSSgEg+TkpP+QdZWxut1TUzjKJVPpWaH7PuxESDr1ea19ie/RCjSFEcnLeOL0nMocnOqTCsCIMTgZvPyEE7uRP7mVkBE59mNj6t4ot1qrmA8iqATAUDkjKvWGDaSHGElSNBylRQ0LKBEpgk63tI/RiSzd+/heam2IUQQ11dMzVF8XocvO4uVBZJeqjuC3nE01ASrOOzD+oyRbtS6/Og4nXOKkeoJwqZi/CsIlrnNUkresMmcBUAcHx32ntKCf2nmhIu3q3FMDqNWR6xHRaqVKR3s7D7uyAjNMzAu46UxcJ0ejmMPIa6eq5En63WCt9Vp5nmm5h1E3V9JNLjzMFmRSKOMxyUI4AcRkdTZ15Ix7cVgK9korm7JuO9b77QBVgGweAuuPzMnpnRWBKXoPzYJT+9bFQapKzV5RTxQKbFNTguWHqXpSRGggwplgKIEnURWkWhmAMYb81gdpYtuzRA3tjI2zMDlKiTPeRpHO5Y6vxRoqyL9BPZCKb0gYQNCBU61V2Xqwhyv6GYe1nivYff3mw8rG6vZ7TeEol0ylZ4XOu3AiQnIDS7J2rWua79sc2ODb9oo+sX8Lsn7E7/byLyo1R/2EE9u/Mx6RUkcgU0XEi/2bUS2dZZ2nk8zFfNCHYMGFQcyan+kkq0oBqpf8vc7avr1jtLl3iG0iDYkonX/yQmpu4FEesksVoNrbUS1nAwAJg4FqyKtsvNbfMQac6dUCqIhugLEYKV6VXm7ywnkN2QSt64jxInwYYdA1gFrpG3ztnq8B1NdO9lXvuVKlo6WljnmXxAZiB25OB6XOpFpamiibzXqCA90cRmv/fkCkvV6rG726CiuulyysYbZWEBy0VZGXWGlg7KvoBx6zoC4OUAvMgAFlBwoNwK+OR9I+FitAVQOm1hbUQKoVIHHyI3WQCm/IzPQMTWezZIRRQql+Nsy56F13ky8AId6HALSZh29nxp6CwVkSC+NDFEueTbHVpzs2YQ/7c6rx6vVunbxGMCrAm4ycWpVSAk6hh8VxTCuRzthL9RxukFoDqOWrpNKzQmVP8aptqsNaa+1LfFOIJACoUw29t3+LKuPHPWKc8ALhW8B/ZedgpQBVRCp4zc0fQK2niYkp9t2XgvsM+47FflBariXMojawx+MekWbwWgFUvJPsdJ6mcwVKxMPMk6p6+QWo9vbdytmIWum6qRgq4w8yhcmpv6Bk49Q2jPH4/kTJJ6wnUYNVl7TMS1bop7OzlQYGivXqVWRrv6d2XviRWjDP1ABqMHI87K0kk8nPE9G70LFhGPf29vZebx1EV1fXqWvXrnt6ZmaGFixYQJ/73BepqalJa5xNTXHK55FXmmb5iqKECw8L9M+KJgbhlcPIc2oaCJZuWT1Ot0lhcxoZGVfytvI800ZmdYf3TxY66Sc8WYyzVJalYbZBHvTWki5QcnjOZWm5H60FYbsZyhoOAcjOzdOs274AqHgP3NMiwnhVFQ85SAVDNUKQrIYXKJt45zJPaqg/ReneP1A+l6PwvJUUX3MONbW2zCqq3mzGdq9N5qmfkzm6n2ItHazv3Fg/1Z10CUUXr3EUm5MSby2fIzvc3UINRYgi8pFl+ePwIME7Zb/PXi/W6707ea8OJ0itKRyHH6DKapvytZ1V2quto4exQ6wnnXxoGGZ0y0UJgIrvDMYet5Beu3T95LuKcH4ABW5c9M45B/jH+aVT41h4g/GsCCkW+x/0BqczvjzclebCmsXZqbvny+73Y2iWtTmrNwVONGQtZyMI6QR5kFc+psp4rfdUo0yftX0eQgxwVz0SJlGmjnMioAYrJ+ATgBW6SiXgHu0hSm9wsDKW4Np5obs6g7u/BlCDk+Vha6m7u/tiwzBuiEQiFyQSCXN8fPw3RHRzKpX6mRhEMpl85Ctf+fo5Z5+9kb75za+xelMf+tBHtcYYixl099130l133UW33fZ9CoejFW0Y9s7dvIWltTIRzuQvT1IlB0SE2EJJBzCVARQxB5W27fN1KodTrsxUTr0OhQbgH6GrmBMUDRVvtc7iQB84YHC4jIwcCsRggf4BUPv7By1hvDzfVO/yBqkiF9RKZiI82l4hu/nhVyn34m+JGtoobxpkjg9SdOkJFOs+y+JNcQepdg9mYXKEMk/cTTSTYZ5Uo2M5xU66hIxQ2HG6bmGQquDQi020CFIBPt3zSb1yBbk3mpfx8fqO3DxKhwuk1hSOwwtQVWqbqpZVsY5cRD/gvygZpXNO2L34qvsLvkFsR/A8qqSZoF0/+a4wJiFEEZcq47Yu0RS+VYABeLPs+exuANUuJ+xbMBDA6ApwgZBNkdcvM/KqyrxaADXIUndOc4GBHAYDvEfIGEbRoMrZVBugVttDC3mBEZtHBRSjj6yESyLKwS/Ax/PQe4aG1POynd5j7bxQ/VKDv09X8wt+BLUWtSXQ1dV1AqKNtm3b9jgeTiaTNxuG0dfb2/t10VhPT89jX/jCP5590UVvpBtv/BLNmzefrrnmOqW+sIlu2vQw3XLLN2h4eJg++MG/oLe//UofQMG7O3sdLGsZFx02YLdeWlubKZPJOBJXqOSZeo3eq22nQxyAUSUEFjLAxqpjCRf94dACaOQK20SJF9jpMFBaDLabrH1AAYGSFkQOiQjnBe2/GLs+MC1RX11zUp0AKp6E4umVVzr9yvNk7n2BDABUMPDOZMkIhShx5pWsYyjZPH/YGaQ6ATNzZoryYwMUjsWoZfFyyky510usFBzKQIAIJfTy1siUYBWg78VqejhAak3hODwAVae2qW4pFrFWsQchykJ3D3LbA9z2RBECC8VdlxRMF6DykHmeOgBwqnrJvk17O9hPYPtFH3ZvqSpAFW0CoCIyBVE6AKw4wwDMROgmvGGy6Ay3eR69ALWNRkbGSuYdVDkbQVAJEstqXHh3bW1NNDgYXJk++zitNd/d5iDq1XKAz+vkOhEuOT0vDPXDw5WlNdXOi2qsMLU2awBVTU5H7F3HH398dz6f3xQOhzdu2bKlTwy0q6vrrMbGpj/g4KirS9B3vvMDamlplc5jYmKC/v7v/46ee+4ZuvLKd9InPvGxqpWE4JbXOFMuAOCg0CCHMSjLqxso43mmgsnWX7iyikfSDwgWMhkdVc+bKA2HnnQk7RHhNKqEPvaFIrxj8MSLkGuAuUoJnYTXQ4TzRiKwejYqhVlLFzM5e1K9vCdeIDV3cDvlex8hs6GdKXYgNQq3L6K69RfPDQXefxSNdwKpMjZPQTiEdwTvd/mB3kijo+7hSrJ8WpU8Pxkzr4oSLGTISxCV5+bKgDKyBwLIIHBdHjWFo/oAldcoVifA0inFgv1blFrCTKCI6gA5PGPNQ5ftI9YcUF5Cw92I5NSWTr4r5oX55XKFOW+kbHzid5VvE/cKIxKUf+zlTsDRH0AFB0Fxf0I/wnOI/2LPtJItqXq8qwdQqxvGqsJT4becTbUBarU9tFiHOiSZYo0XvdEcsHICL17OBt+ldU3hO0L5o9FRdSMP+rnttu/Q/fffx7p83es20he+8LkSnNTT09NDRLeaptlmGMaBWCz27hdffLF6dMqqG8AxeF8NoB7FLxWe1FAodC8RfT6VSt0uprJkyZJEfX395u985wdr165dR3fc8SN6+umn6CtfmXOwus56cHCQfvjDf6N3vOMqWrVqFbW21gfC5OZ2cDc3Iy8WeZ/lbMGVvho3lllsYjhIK8lvQKgXSmtkMu7eMgA4bJ681pxazi42XYAchM2qXNiARU1PKBtuh75svF59uZX2wfxw+SVecisbI7y0KrnAchmVg1SV/DMn8iOzkCfqe4Sm9u8kMOUb8QTVnXwZheqbS4YBbxCUM7vSrKKEexEOqSigXh5MHiIsJ0NyY+bVrbXo5lGWAWUAXHhSFT8Z+RKw3VEDqNUFqBHvcr6O70tmvMFDxVqjICbiLL1Yq/iusMfqXKoA1V6yRtfTizGpAlQrIzD2KJwZOnWa4fEC54LXBQUfbMBoFyDHLe9XH6DKU1OcvIeCbMnLKF1dgFo9JlwwyA4NjSmf/U75vdbwVmu5H109QefbwL3VBsDow0+alH0egqAK8hCl3yCzF154gebNm0crVizXAqhPPfUE3XbbrfSNb9zKzvBPf/pj0J2vsKTPGclkcqthGJ/o7e39TXd39z/D5tPX1/cZXRnX7pdLoAZQ5TI6Iu/o6enZaJrmT4nok6lU6g7rIJPJ5Ommad6yadPTG/DvCHN9y1veQPfd96jWXHiORiMDqKrWTpUOrJ5F3I9EfJ9ppp7diRxXgEhrKZcgiII4gOEMjtZLl2zJacPFWGWhO1B6mpoaGchWKbvjRUjlJkRZ2Ri/jMMq7LzVBKk8/Ayhet7Mu5yls1ByH5S7iQN7KD8zQ6HGDjKicUfxOYFUVeXWKacUoA2eZS8PqhiImwdTp9akE0OwHzDg5FFWHUe1PKk1gFo9gCojQ3Lba2RMt261Rv2sSYxB9lwpq22xZI2Kkck+R5lBTBiVsNeIyAvdsGD0KTNgYd+zEi55RTJUA6A6yYXXyoyx98HBGGcHtnp1/1QAql0+XuVscK+OIVtFL7Peg/cCA7RMD9Ft13o/J5qEo6A8Wshvu8IjffXVV1EqlaIVK1bSKaecRqeddjqdfvqZVF/f4Nn0jh3bKZ1O07p169l9X/3qv9DPfnbXJ0X63Jo1azYUCoXvplKpU/F7V1dXc6FQaN2xY8duv2OuPecugRpAPQpXx+rVq5eGw+FnDMO4qre39377FNavX9+WzWa3/uQnd81ftmwF/fa3v6F77rmbbr75O1qzhaLb2Yk8hJGKvI3WTq1lXODNwSbV3195rS2niUGZQE4nwE5QLLOiHzs4E+VcEKJViTcYrLgAIkNDzrkfsIDDE4bDC+HQMuZWMV4cNqIkgmwR2GuzugF6XYAKYIo1BSXWWs8U/57bn6L8npeIjBBFlp9EkQWr2HtDaHJwnlQQLoHUo7Tci5c8iqUkuKdc5v2ztsVp9IueVFloq/VZO0j1U0bCPnaZAmuXg2AIFmylql4nezt2sK4zjmqA1BpALV/xQZWZ8QtQvQCZV61RXa++mLkXQBURBNhbM5lS1nMVT69dul4pBSJ8eGqKgzNxBQ1QOTs8z9UVnjiv/SiXKwWJsjPDzichu99prwGJUJFMiHuP8Q5wHqLeZ5BGcnYCMabaanpQ22loaGRO3l4yMacmKL+/l51/4cXHkxHl9Xytl7WcjbVeOmQUVFqU6K/aHlr0o1NlQXc9wdizf/+rtHnzZtq06TF6/vln6E1vuoz+7u/+f+Wm9uzZTR/5yHU0Pn4oKdLnksnkVUR0jWma+w3DOMUwjC2RSORjL7/8cvXojpVHfOzdWAOoR+E77enp+bppmh8kou1i+KZpftswjLcahvEPvb29m5PJ5KWrV3f/GuGzra3t9JnP/D0tWrRYe7YdHQ2EfEhVIOTWQSmDbbF4NWdthYdWe2ieDyD3FmACGxWsgNbwmCB6EuVgJiYmqaGhnoWZBQGC3cgJuJW9nuUnIaQWIW46l0q+KC83oD4XHYAqvKZQCnCJ8jH4/7mDO2j6pd+TkWhmSWvm1DjFTr6EIh1LqwJSYbSw1iOVydEaqurGpOvWBmfjDLE6ozoAlcuoyIqL/Bp4b8FWqnNZx64DDEUfRaA8Q6ZZmC0ppLf20JZgJeX55vWsgL3qFTRIrQHUcskHBVC9ap16vW9eKgbRPkWQVgzpRRQDvJjlLfgx3KAVN2ArvIxuREgyT6/THN0Imezhw9ZngwKoVhna8+KDBKiVkPs5yQzAHWtCeMRE7dVKS49Y+6o2U62q57cwPkjZe28kM8fXvlHXRHWX/x0ZdY2unwxkg/MXcoGMih5ono/pl5BKdOiHC0N1Pxf3IQQaulmlY3XrlzNuh2liIkuICMBeAQeAygVP6vXXf5Kuu+7DdM0175nDST09Pe81TfO7hmGcBz27p6fni6ZpLk2lUh9Qabd2j54EagBVT15H1d1BKB1tbah7mHYk3lERhswbF/QmZQXCCO3Fwamaz6kyH3EPFBXhndXNM/XqB/JCbgYsxsW+RA3aLPPOulmS8e879o3TvqEMtTREae2K1rnC5TIwKRiUdeYiaxPjt4bzclBaXjYm+8LvqDDWP3cgF9JjzIMaW3MOE0HRk5pmB01ll8GMCTisVEsKoT8B9GBA8HoHTmPDWsEccEHx1TmQBfERQrlF37rzFx5MrC0dYCj6EWOAkQdj90u0xb0sXA66QBvgxKP6jZZIagC1XFxBnBVo1T9ALY1qcAvptY/cT/1PPk6DUAdUfA9oh0c8lHoZ7f1xgGpq1ZO2A1TeV2IuusJpP9eJ8hBjhKcR3AoCyBe9s9OOuaxHMkC1yh1AD6GgPByYrxPuXeXzUuV3sL/LIwWgZu//LuX3vEgUngVPhTxFes6l2JnvcN3XuHEjTmNjPOe4lO228nI29va1NljFm+fNU/cwKzZZchu+B+gbExN6td9feOE5+uxnP0Mf//jf0MUXv4ms50UymbwIkb+pVOokdNbV1bU2FArdlUql1voZY+0ZbwnUAOoxvEKCUDpaWkCoMK1N41/q8cuU5WoKsQeRKI+2nIBwtRL90S5YfGGdBvgNMrwGbYL9r79/mB3IyB1VJXV67KWD9NBzB5jyhWdWHtdE77pg5Ry5CCfuKfXAwaIoavvpMihDyeLewXJvGPofHJuix14+SNlpk07qaqcTVrY7fm3ZPz5E+f5XKNTAWabNiWEKL0F90TPm7g8CpEIxTCQSs6yfYK8sumTMfI5mXnmW8oN7yEg0Umz1GXPjEYMAIAfAglKrG24GxRbKFcCtDkAVyjS8jhzYqXsercIWY1fJYXV6SUKhhzIIb7DfCyAAIY9+ZBgUSK0B1PK3F8RZwdcqZ+/VvaxhsPC2Y1+Ct13lW/ETGWAFqNjDhDdKZnzx49nEnoHwVcxHtS9/ALVhrh4sPGB1dVGW0+pGBgiAirMdZH/2SzfEN2gPqnU8dk8kwJiVHVgwuYr8VdW1V32A2kEDA/LosKlffpkKI68SifrX+RyFl66j+IUfcp2KTN52QiroKGPpcSKQz+Xk4Wqy9lVl7HXf/PmQD/hH5OPx0x/K2MCYNDmpbtQ+ePAAXXfd++iGG75EGzaczrq1nhezBKSIXLw0lUo939PT8xnTNNelUqn3+xlj7RlvCdQA6jG8QoJQOhobYY0raCnGUEIRKprNZhkg8gqv5fVEp7Qs0tZXZgXC9hDboA8gUZ8OwBGKDIBq0N5ZKHioBQrrsErdVCGLXL5A/+c/X6LGRIQpQQzUTs7Qey5eTUvnNzDvAPfAcYCjUppG9mnY2xT3o+/RySx995d9rFwC+sL43n7uCjqpu6Os2cLkCGWf/hXRbIgTxRIU3/AWCiXA8Fy8BEjFmtINOYfCBkANDyzWCc5EjEuEGme3PkK5fb1kJFoItUmNUNHofEwAACAASURBVJgSp7+NjDgHhuKCMgyFTrfuIp7HswLg6R7KwqOEUF+ZEu303gR7J5Q53ZIcoj2RCwhSCxnBlNvawTyg5AtjiW7ofRAgtQZQy99OEGcFWvULUIWXEXuslSxItgeJ78qP4QXfI74lrEesZxVDox+AKnK3sWfhG1LpqxKACoDPS8hgn3NX/r1I2/wB1NicR0/lvaneIwuVteZmQtY8HJh7WL2Y+nk6TTPj2KjGhfQlEEzKrunNv6DclgdLboue/naKrjnP9VGdnN/x6Un6r2330P7JfnbmXXH8JXT24tPmCKmcZMTr2paWDZLNQ/d3Vfnotivux7uF/pFOqwPUm266ke699x5avHjJXLd9fb0fsabPdXd3n2kYxjfBU2UYxt5cLvf+7du39/sdZ+05dwnUAOoxvDqCUDrq66MUiYSUgBhAAGe3hZcFeablllm7uCupz4lNFLmVbkAYSjBCiOGNrPSChR1/EKKJkGdY+FXYdnX6FTmg6AcgTAcEZafz9LW7XmahvZg3rkOT0/SO16+kVYuaSgBqsTTNlFSJ8Rq/HaBay8Y8/PwBeuDZA9TWyFlup6bz1FQfpf/nCudImELmEPNeUsigSMcy1/wbXZDKgRkHmXhv2cFXyZwcJaOugULtSxmYx5V+8HYyGtvmAGthfIji6y+iSOeyEhFwgJpzLCMje9cIORKGB3ghdUCq8DCFwwb7vnQBovDiQPmHDHlJItmIS38XCi2UZ064pZ+LKhRvzCGRiDFvrJ8QvUqIH2sAtfy9B3FWoFW/ABVrAecH1rWu8cmPBxVjxXNYh1biINkX4Qc44nvDXgk+iImJKaX1LmP+dRonImHQB85dlf0hWIBaGnIqk6PO7zKAam2rvFSLYam9Ol1iLHfje9AZm9e9qgDMzM/Q9KYfU/6VZ1hIKsJ7o2dcUcLTYO8H6wnrSiWi5t+3/JR2HtpN9ZEEFcwCZQvT9Bcnvod65q9knn18s/ZyNm7G56Bkg3ZU5eO3T0TncYNuZSzBtfPC7xuo/LkaQK1chkdsC0EoHXV18HhEXVllMXlslABrusyyeFaFvMcuYFn5E+v9lW6CsJhjbtjoALqFMh304WbNAcX/V7G8WucJsPNfD7xCO/aPU0MiQtlsnupiYbru8iTVx3nxd+SswNgApQwHW77CpD5xiCHvCQQnHBeHGHgDQL3/mX3KAFXnI1IBqRgDxgelFwooC2Xb9TzN9G5iSgDQGdiCoz0bmVU58+hPmLfUCEfZUAqHBqju5Eso3F5KLCaUYbdap17zEM9iTXG2Z3WQalWM7ey8KrKzhlCKnFiZh8XerjVnza3GqWwsVg8UxsRJv9RCOUXbwvs9M6OJsGcbqCkc5W8piLNCtKrIQzI3CKFsY2/1491XLVskOoR3EYRj+K+u51UXoPJIlQQDG8ijVL28mH+d2oABCoZNeIRVa6cGDVBxboFQMehLB6Da+3Yq1WItZYPasYODzoz5lc5j4cJOOnBgULkZpJngEEX0juzSAZD/9NQ3KBqKUohxQBBNzEzSJcsvoDMXnsL+7iQj6BPQD6w5zbIx6fwepPPArV9UiAA79tRUDaDqvJsj6d4aQD2S3kbAYwlC6YjFQtTUlHD0QlrDROGd8uNR0dloAQp5PVMeqqpSz9Tv4VbMzTTYJm0P/wqKol7kyQLciRxQv2OGl/L3T++j3QcnqbUpRm88bRF1tPDyAgil5iQ548oKjGw5ipDPiQkoXhyYCu/t0NgU3XrPVhbaGzIQ4mvS285dTic7hPjK+nH63QukAgTBS4z1wdk/TTJnspR58AdkJJrICEdY2Lo5MUJ1G69muab5A30cvIYiRMgBaltE8ZPeyO61XlZvjb2MjGwe1mcBnEVOqoon1R5aqAsQ7Yq1H5BsL7HjB6Tby3SI0GWvXDknuYqxZLMFmdjLfq8B1HKRBXFWiFZVAaoAigjDw7eK7wk52rqXDrO2MIoAyKE/XYCq49kUJEXwTuE80ZmbG/Ovk2wEGzD2EVUPLdrxBqg5LQNmNVlf/Z6HTrKCXAU7MGd0hczS7Eys1GBr769S47jXd6BCUCie/9bzP6DR7CGqi8TZWZjJZ+jKrstpbXu3YxeQERwHWL8wrCClQ4B6lTB4le83KP3Jqy9Ez01OwmAjj+Tzaqd2Xqi80ercUwOo1ZHrEdFqEEoHZ5VtKLMEipBXHPQ8XNCfN0MlGV+VcMlJ6CAcGhlRpzK35pliXm75fpVaAHmNyQZGhGSvm4qNdWgIpXH0lW+rDHix+QRTxDiYNwLLEcL7RlheYyPKEB3iXknbdXA4QyBuys7k6cRV7bR2ZVug3wUMFgibFTmpOFCFR5575YoHUyEzTlOP/phCjUWiJuS+xk9/G4VbFrBxFUYP0KuD2+hgYYqaOpZTd0cXRWc9qvjdiTFUB6TaQxEBGqEsyfK00bcTeyjeLS6VUHCn3DkBklX6Rz9Oniqd+XOlOMHCyayKjlDkdUCqdSx4zTrbT03heO0BKvY97B/YXxGdIsCqLrszZgI2XhVgxsmXEN7Ow2x1Pa/oS9WzaS0hg3B43RJRKgCVp4SIPWCKeWp1WMLx7QJ8QP4I/RQeNswT/64D2IIAqMiVnMpnqSXWSLFwbG6RBglQrStfkB1iP8JejAtAVYAxvzqN6ONIAaivTuynf996N+ULOTLJpO7WVfTO7stL3rd9RxDnaDqdmS31w0v+BFXOJmh+ECfFAusGUUrT05XpUbXzIlC1TauxGkDVEtfRdXMQABWHYGdnE6tVioMWBy9ACQ4weDFVWBa9pCYrCG0lXNIt74F+UYgbjKEYr+wqzTOVh1/6PYBk/QRRwBqAhufnzhBqtUajUAgrD8Gylo2B1xRrgZMpjJeBBNz74LP76Zm+IWppiNHbz13OPLpBXgKkijIs6TS3htsvs1CgqSfuInNyhNVbNTMIRTMpfurlFGqZz0J7tw5to8f2b6ZIKEo5M0cL6jvpslUXUQReVYfSFKIPa61Tt7m51WsUdRextr0Ig+yeR9GPqhfTrX6jDkh2y/UrhgzL81rtXlgxD0HipEIgg2fsY9EBqTWF47UFqFizvJxLMR+TG+z06uOKWbitKfG7qAXKc7eLedM6nlfRlgw42kEj3y95DWuVfMHSfsDC68yYzQE9r4MpjKgyOdjfOs7WialJeuiVx+nV8QMUj8TorOM20NLmRZTP55Q4JESblQLUZ/tfoqf7X2BWwLpwjIWgdia4MbFaABXGCrDxDw3xEF/sQYIdGIYInCk8NxNMx3L9wSpfQXYIvakal25qFMD//smDzIu6pPE4T3CK8cJ4zr+X0vUXVDkbu+yrISPoZ2NjKE1XA6jVkO/haLMGUA+HlKvURzKZ/DwRvWtWeb63t7f3emtXmze/YH75y/9E4+Pj1NHRQV/4wj9Rc3Oz9mg6OxvprrvuJpASvelNb2LAVJfIwq1Tt40KwBUKhA7hklMfYHLDIe81Xk7upA+6VQ7OTDbHwlvBrsvzTOX9IHcCobgqJFP2OYuQYfw73pM4WHHwosQK93bqX3Zgms7m6Lm+YcJ/T1jVSWtXzSsDqT99aCf99qlXaXqmwLyPyIX9xw+dxsBqUBfAEdYlAKBsXRamJmj65QeoMPwqC/kNz1/J807rGiiy/BT68bZ7KRFNUCwcRbVWGswM05tWnk9Lmxax4XopmgKkuYXxeT0rvElehEFWb4eToon2vfL3vJ5X6R99epHRqOa1eoECWNWhdAuvmtsacQP7qiC1BlDLJRuEMVO06hbiK0qsOLFA83faoJWnKfrzqucpQsgzmemyM0DV82qVlrVkjF2KbiVk/IBvwfzr9E0X58S9z+LSB6hx+t22R2nnyG5qr2ulmcIMTcyk6fLVF1NnY5sWMKsEoA5khunn2/+bWmJNFA6FaXImzTyo707+GZuayjnr5zxx0j3gSd47sZ+y+Wla0nIczWtqZ1Euup7DSiOsZPPRBaiy9uy/c4AKsi1vIjx7ORsB6qFveelc1SoBaJ0HcoBHRuCcqAFU3fd/pNxfA6hHypvQHEd3d/fFhmHcEIlELkgkEub4+PhviOjmVCr1s9mmjIsuurjwiU/8LZ111uvollu+ycJwP/rRj2v19NJLL9C//utNtHXrVvr0p/+WLrnkzVrPy27G4d3R0cbqYeGCFROKiqivqUr44NYPLKRg+Z2aKi/WLPIYVcCNU/teobiQ9X1P76PNWwcZeFq9pJWuefNayk3LWSr91Ia1hibbQ4Yxdpmn2us9YS6obchLshiMkff23/TR6MQ0RVgJGZPe9vpVdOa6RSUg9cM3PsrAqbiikRC9+8JVdOEGDvgquXDAoZQRL0mBvDWjJNzXq+3cvhTlh1+lUEMLuw2hvkbnCvrJ0NPUEm9m1mW8s+HMKF20/Bxa0bKU3ScLQ/TyJGI9e+XYidw4N5DKQ2OdaxZibNyLi9xs5xw+r3wzvj68CYvcQKFVzip5rTLGVb6OAVLLAYXoy0uWKiC1BlDLv44gASrfK0r7EJECXh5y2dpw+6bdAKrIkXerp6oL6NC/G3AURh6n+al8O/a5ufXjNSc+n6xyaC72jO8/+1/UGGmY86iNZEfpDd3n0fLmxWy/KwKzaRaZ4pZ2UokBdOehPfT73Y9QWx3fj3HeDGfH6Lq172aAtXoAFfXMG+c8qACnv9p5H+0Y28XkgT9vX30pLW5cyIyTYLwVHlaMUYQCA4jZw4GrDVDdPJyVnKnWZ/1WV8B3gD+QE84jXvKH7+VWg3sl+ojKHCF/eFCHhydK6p2rPGu/p3Ze+JFaMM/UAGowcjzsrXR1dZ2ASIxt27Y9js6TyeTNhmH09fb2fh1/X7NmzYauru7Nt932Yza2yckJGh+foIULFyqNdWCgn26++Sb6/e9/S5dccil95CMfpdbWYv6eUiOKN2EjQSkYWAU5q6c/wiWn7pwsgaU1QJFnql8uA315eTpf3jlCP390N3W0JBhz7uBohtatbKXLz+Zgx+tS8fpan5eFDONeHAiQ7/DwmKz7ud+tZWM4+REnQcLcfvnYbupo5iVkkGOK6zPvP32W+p6H+374K4/StMV6GQ0b9K4LV9HFp5Uy4yoPaBYkYr5Q4OyecXtOqlu7M7tfIDN9aK7GqTk1QaHmefSkkaYtQylqjDXSdH6aouEIXdF9GfOq4pKBTNzjBlIxNiiEXkQpwjPixGrr5SUS8/QCyCrPe/WvMneMQxYyrAJChLdZ5IPZ36OXdwn3ykBqTeEo/zKqBVBZ5ES9COlFSSF3rgKVteH0TduNLyKkV1ZPNSiAWsxtdZ6fU+66bM+zr3HOJ8DTI0QdZ3sbKt+49RnsF3f+8VeUnZ6m+miCgbDRmTG6cOm51B5tYYCiCMw4OENEEwxlvM5oMZWiEsAxPDVKP932a2qONbB0CoSjNkbr6R3dl7PhVgugYr+DMRx8D7i2j+2iX+74LbXEmtk5l8lNUSISpw+svarsdXHPIZcJ2oGsAMQgF0QI2A3vsvet+7uqh1O3XXE/gDvmMjWV9dsEkyEHqzx/1VrOBuk1dXUgKfMX0SUblACoQ0MTnnuOrB2+/pprOElFUFW4pyb4Kgj1cDd5/PHHd+fz+U3hcHjjli1b+tB/Mpm86qyzXndHR0cn9fX10vLlK+lTn/o7am7mVkrZ9b3vfZuefvpJ+uhHP0EbN57BLGEAjtW4cADhqpRwyWls9lCYoMid0JeXp/PhF/vpyS2D1Fwf5bksMzmqi0Xor/5sjVSEra1Ns+UCuNe3YJpsk43M1uwUDeiEJuuE1NjDea3svOj7xe3D9OvH91D7LECdyRUIfz7xznUMBHO24An60W+30SPPH2AgFRtNPBam//2XG6ij2V8eKkJ5oVRhnbgZFVRAan5kP+X2vERGPb4Fk8z0GEWWn0zU1EHPDfyR9o7vo4ZoPZ228CRqT7TO1aPjIJPX7vS6QP4ChkhrGRcZqBLtuYFEVWXaLdRW9Xk3wiLV8WMebiHDOrl4WHPwpCKE0R79wJlUw57hZ+AXc+MYqykc5au3GgDVLeTV7dvxC1Ct4esIwcXfsWZk0Te6gA7jthpqVIEwntOdm7UfIUcAQqdIICFP3flgrzgw3k+/7nuAjNnKJsubltCZC08l5Ow7pZjwHFwOOvAN4vsEYMX5hPZGRvwBjq3DfbRp/9NsP0a9zktWXEBtca6rVBOgWmuZvzTUS/fteYRaYzwNCh7VdC5Df33StdIz2wrEhNcZ/4YSNpWSHTp1DmA9M5P3bVyXTciug8juV/m9tJwN0nzMOT1nZgZeaJVW1O6B9x/rpgZQ1eR1pN5VA6hH6ptRHBc8qaFQ6F4i+nwqlbpdPNbT0/PeWCz2o29967u0Zs1a+u53b6H+/oP093//BcWWi7c1NKCYs+krP8irM1gfcUBgMwmy/Im1T1HGBoe7Nf9zeiZP6SmAxjAh9NTP5eTpFDVaH39xP915f4paGmA5NOjQ5Ax1L2mmK1+/QtqVNSz5yS0DdM+m3SyMdtWiJnrvG1ZTc0N8LgwaxBsq+cA83wbhTO4eVABTWDlR09ReNsY66LHJafr+vSnKFQoUi4RocipHG9ctoPNOPo7dJkDqyMg4/eqx3YwkCUD9qotW0eJOFJPXu4R1HgoTvAeyA18GUlmNt8HdVBjYxciHQ/NXU6TD3auL9YnwZh2QZg93lZGrWCUilGyrJ1WH0MUp1FbneSeQqjN+zMUpZFjVCytkwdm7E0xRtrJpOzES21cU1jE8qU4gtQZQy7+/oAEqamfjPamSXmFEflh18ZwgEMP6wjp1C+m1zxprixPgqJehEGsYniUZEC6MD1EhO0Gh+jZqX7RIq6SN6AfjA/BTkaMfgIq9NGtmWTpDPlugzkQHO69USJKsHjK8a/wdOYsCSKMmd3Y6T4s666m1Uc47kM1nWe5nQ6SehfaK63AB1P70EP1H6meUCCcoGorQ2PQ4rWxZRn+26o1aBxbOC04mWc+eYzKeZQcOCoj5DcFVnQjK0sEIrFLKT7VN633g44CM4Pjgxg54oYMrZwMdAClYg4Pl5I26462dF7oSC+7+GkANTpaHvaWenp6Npmn+lIg+mUql7rAOIJlMXrR6dfd9t9/+H+yfd+7cQZ/73GfoRz+6U3uc9fUIYwnR8LA/66i9QyjAAIs4hAGwsJGLUiHag5M8gHqYCI2ChVeQ6AyMTtHPH91Fk5kchcMGXXrmEuparE8eZbUyYi68Rivq3U3SxGSG7n54F+3YN84O7uaGKL2PgUv5QS0On607h+jWX25lADocMiiTzdP61Z30yatP1Q6DlrHm2cN5eb6p+zUwmqGHnz9AE5kcrVnWQqevmcfCmsSFd4qDGjVkVS9YrKdyPKQIbIPRCM8z5YyfYONTZ1KUgVTVMYn7BHshwrpUyrqwOdQhtAnrIUMAnVx5Vgsnt4NEXeWd981LGOHdwoMDr7aqlVr0D4UTCry9jqqK/OzeYOF9UZUf+gDQhOKdz5tzHlMAEoQayjxkeN4p3LemcJS/vSABakuLWkivfRQ6RhTrsyIvU4T0qpYHkeVlO61xUR6M189EKStnApbp7ZtpOvUHvoANgzrPvYKm6rkBT+USudj4XtGPzCiHNmV56vZ+AbDxTQJQ2supqQBUa3sihQQeXuwdt/93L23ZyRlsIYL3XryKli1oVJl62T2HC6Ci496R7fT7PY+yFI9lTUvo0hUXUCKiH/FjLaMCnUCkPkA2OMcEO7AfIkSMM4gQXK+XoZtmpPtiEQ2FM1EwW2ON8PzVYMrZYF0jBWtgAGz9lV2186Iy+VXydA2gViK91/DZ1atXLw2Hw88YhnFVb2/v/fahLFmyJLF06bL0jTd+g7q7k/SjH/2Adu7cTp/73Be1Rx2P89BGhKtUcol6prCeAXAIhjgvIiO//fEQwXrGnAslQlDJI1z2tl+nGNFPYyLK8ienpgt07SVdSuDROh4BJHnoZx0DLgPD4yysde9AmjH3nrCyjVobYjSvrY7i0aJV2GteIr/kfx7fRb/6w242TigsiIDJ5wp0wwdP0c6rwBjb2prK3qEsnNev/PGcDkjNF/K0dWQ7DaaHCTh3YcsC2rB0PU1P+c+DgZKAtRWU8QNrCYeoKsiEDARQhCUa44EnRPWyglSAtNFRdbCPPqz5oFD+dZ8XrLoYM/4/Lq8QQ6d5WeeANYx8bB0ZiDYxf6xVyF4HWDhVl6opHOVvKkiAivNCp4amGI1qGLp19Lz2Mfeye7FYO61NL2Zrp/tFHij6ROkyNyAM0rX0Iz8io76VjFCYMYZHjRxFz72WjDAvWeV1icgBfHM636zOd8FJ5uoYWHLaz/wAVABkhPi+tHOE/uuBndRUH6V4LEqIVmppjNOnrz55Ln9V1YgAOR1OgIr+MLYCFSgs4p5lL8zhd7c6n8LrLEKC8fdiTi8PlVa5qqEzWfv1Q9SoMm5xj4hsgzHf6aq0nA3kC5A9OKh3ZjqNpXZe6LzZYO+tAdRg5XnYWuvp6fm6aZofRG6/6NQ0zW8bhvFWwzD+obe3d/MDDzxm3nTTl1moxvz58+lzn/tf1NamT3QE72lLSz0dPOi/phc2JAAWpzzToBP+rX0BGFjJgRDWe+sve6mtqejJBBvtFecu17bwYgPEQQ+lHbVGcbjc+4c9dGA4Ta1NcebxzOUL9M7zV1JDnVwxKSrj9eyQ3PTcXvqvB16hRoQJk0GTUzMsVOpvr1qnvc7sB2Y1gal1cKogde/4fto++grNb+qkeDxOA+ODtCixcK7Ei/aEZx8QIBUGERWPm1s/Iv9VeBR1xiMYTJGvZfdUyNoRAA+KjI6yKtoVfSOWGR5U3UuAVFD18xCs8hqzsjbFHOCJhSdIF+SK9kXNVxFKqFKDuQZQZW+H/x4kQEWKAE8T0Lt0WWhh/MH6BsjC3qu7rtxqCzuN2ppPi6gIAFS3Cwzhmad+TqGGtrlbwtkxip3752TEvFMcRD1geNhQu1qndqoqQBVyw36Ec8BJbn4B6sDgKP3kvh30bN8QM8hGwga1NMZYisr/+oszZllwZ3kZFGuMHm6Aqrdqne92Mwjb7y7Ny+QkVFZ2YLexVCNH1NoX6sdj7elELenIDcYM7OOqvCa65WwQNgwHwvCw+3eqOt4aQFWVVPD31QBq8DI9YloMSulAGGx7eyMDqDqWTwiiSOSTZ6GvTpZ13c3KTcAipxWbPDZX9GU/KPIFk779i60stBf5pwCQ4+kcXfOmrjnSH9kLFOx/sPLhcBdWQBAF/eA3fYzdlrPeEg0fytKbTl9MS+ar515CHmgb3t5v/+xl2rprtgRPyKDrLkvS8oX6oVJoD4fOwMAIe4fFsjGifIxs1v5/hwGC5eF6hPv2je2kjJmmhlgDYw6cyE5Sc6yJju/o9t/x7JNFkJrRzqnBuwbItua/ipxUNG/mZxgjMEXjFKpzfy+CeRhrRdVKLiYOryPGAA+9Tr6ceJ6XgIjToUNppVBBu8AxX9SMhNLsx/uJ9ngIfGVtoB0YnwRAUNmLagBV7fMJ6qxAb34BqmoOZSmj7RRbD1ijusYffBMiP9BLSvYSMjLCo8LUJKUf/iEZkRgZsQQVMoeorrGZImdfzZjQvc4vgEd4NHGG4ZvzAsL2doRH1Fob1ekeXjN5ioFFXEEAVEHC9+QLe+iB5/ZTas8hlpqCeeB9ndzVTu++aNXccIrlSHiNUc4K7FzKploA1Q+zvdrXxMsRwcspIrdUn4McBeutCAcW7MBW3YnniOI80zcYqoylklrsKu1XWsdVVs4G0U7oY2REj9jzttu+Q/fffx+bwutet5GRhDoB1O7u7jcbhoGyjitV5lu7x58EagDVn9yOiqeCVDrmzWtitUpVvBYQjsgzheIgcj/dhMbzESJa+YrWtqy1U+2kQU50768cGKdfPraH5bXhf+eduJA29HRK36m91qioEycAKgDlD/9nGyViYYpFwwwIDo1l6c/OWUbz23ipEpULhw+UBwAStJ3ae4iFJC+b30BtTby0i+4FJaGzE6QBQ0xhsJaN0W3Lz/1uIBXjAOjozwzSs6/+kZrCHMiPZMeoq3UFLWlSz9vyGpcuSOU1T2EoQDmb8vxXFnI9MUKZJ+8mM4tD0KRYz0aKrT7dcRhQPDEGrFVYjXVAqmC/hc1DhSzFPgDh/cHzXnlzXvKDLNCOCjuqWzuNjXUUDkdYRIeXEi1bXwAI2IcgR1lObQ2gyqTJfw/yrPALUFU8gMIbz0tgcJZzzuqsHzoOtm2QaHkRwfBQROTAF0vIyAAqxpQb3EPZ5/6bhfei3vK8899FaZOHqTtd9n4Yb4EmQPUKWeZ7CA+FFkYmL7IxXQ+qAKi/f2I77dg3QROZGfrjrlHK5Uya1xKnj7/jBKp3iSLCXirqi4pSNlYvYjUBqghLHk/PME4F8FPMa62j805ayEKU/V5+Aaq1PysJlTAmCCAPncleZs3vWJ2eg64wMjKmrO/p9h1k1Jy9nM2HP/whSqfTdPbZZ9P69RsYSSjygGXXU089Qbfddit94xu3Mv3o05/+GF1xxbvone/8sxKctHLlygXRaPRBVJVLpVJy1ktZx7XfXSVQA6jH8OIIUuno7ES4xJg05EMo0wjThAKpUmMUFkNYs0dH9RLaRU6rrHYq6qzaw5MnMzOE0N6GRIRaG+Wgr7TWKFeMOTkHwrCKoZM79h2i+5/Zz1YV7ulZ1kLnnrhgzqPqtdyEtxlKDEJrdAiGvNoV4bzz5nXS6Cg/dISH93Aufw5SaS5sDQoSSKygjExMpik1vIMOpgfYkOYnOqm7bWUJm2OlY4Wi2dzcROm0tycVih4ssFi7Xl6ZqU0/oUL6EIXrm8ks5KkwOUr1G6+mcGt5rWHhreHrBqVq1EEqB8tQSKaYkqkLUgX7MJQbhDX6AanwfkIWkI2s3IU7QEXZmJnZUkG8eLvuJRR3AFyQbICAyk3ph6xBqEfHQAAAIABJREFUkmS/aiFb5TIJ8qzwC1BlOaHYH8EOjO/ASi4DDyoUUMFpoLqmvACaKCGDvdLeLnL5wVAuu0yzQJSbJorEGamNk2HKrVSNn9qpbiHLAtRnMqXfXDUA6rNbXqVNLx6kzhYQC5k0MJKhdYuitH55IxkNbSwnV3bZvYj45mGoxTmhaiCX9YHfBTs8wpLvevAVGs/MMN4IEP8BnL7j9SvKSruptIt7sB5BbOfFmq/alrgP5xf3roqatPlZgyGYqNUJBFX6BQMuxq5CzqXSnv2eapbJ6etL0aOPPkRPPPEEbdmyhRoaGuj977+W3ve+D3gOdceO7QzYrlu3nt331a/+Cy1Zsoz++q8/XIKTksnkL4nox0T0zzWA6uftqz9TA6jqsjrq7gxS6Whvr2eHhFeeD8AGFGjdeqY6NTrFS4AyA4ZXFg7KPCnu5AKVWGB5LkMD8/ggz9R6QPJcnjgrkWO9ENY7Mp6luniEFnXwXAuvy+5t5nkpUV85g9Z+hExEOC8ONoBEjBfz2D+UZrVKYTU+riNB739jN3W26jMW6nwYwpMKxQzj42CpiCJQZoApDyFenifoywuklpaz8QaQGHv6N9+kUGM7K0HDypqMD1PdyZdQdHF5rVur8uhWJ9RtrpyEK85ArWD3xDem6oW0lohxq7Mqk7NgWMVn5lafVN4G2LrBYmyy8CsRuiZ7zvq7tVSNIKBy80i71UKtAdRyiQd5VvgHqHFCrrPdcIFvC2cLD00tN0jolkASs8fejrECuFkv8Y3YAZ24R8WDWq6Q87VvVfgFcHSLStDtxwmgClCPvu3pNXz+hqMRzq8HFSGtz28fpt7dY0SFPC0q7KcN7WMUAZlxQytFus4iI1L0TOZe3UL53kdYqkR4yXqK9GwsAbE4AwCWsFdg38T+w72rHGzLIii89hax32/fPUB3PbizJDoJ5/c7zl9J7T4jlvzoNDr7IEiMcAYI0Ir/cmZgHipdKZCfNw81REe0In10xl9tFmLoodFojHbt2k9PP/0ktbd30KmnnqY8xD17dtNHPnId3XLLv9GGDevmFJHu7u6PG4bREQqFvl8oFB6UAdQNGzZEx8fHdxPRc6lU6lKvAaxZs+b8QqGAsGF9khHlmR1dNwavAR5d8z+mRxuk0tHSkmBgEN4n+1XMM83N5pk6U++7K+AhamtrocHBEen7wKECZRkbMACzCk27H2sglAck2YvcSScLpTjg/BYnd2M1huI9MWXST+/vZV7e5FLuhY3MMqlKhTTLRAjlS4TzirIxCBWqr6+n/sER+t+3P8uInOKxEGMybqmP0v/7vpO0+lEZi7iH544lmBUY780O7HXaquReO0jlHkr9cjaZR39MZnqcQvVNrLC9mXb3oNrDF0WdUHgAZVZqe/1VXZBqD4F0qnMqk6dVWRYso/b6pLI2rKVy0IbISdUht7HLwspUbA+brgFU2Rsp/h7kWQFACaOY7uWUE2olJ3KLZoAnHXuKLouvU+kkRDcgKsarlqpuySbIwc5QLMjL7N5gq8x0AapdfthzsFc4gXr041U6qlDIa3nl7IAMfAzTe/9I0ZFX5siiChPDFD5uDYWP47wChaE9NP3EnUTxBiJ4VtNjFO4+m6LJ15UsHauBGd+/yNFEnziXBSgTugCv5y1XbcX5vfvVQbr11y9SIZKheCRCnXXtNJEusJrjYND3c1UboIJPAvnJIK7DhfmKvVAA+SI7MIC8GjuwmGslRn0VeVWb5AnfG9JJxsfVWfPFuOFJvf76T9J1132YLr308rkc1OOPP35dPp//1qJFiy46cODAEhWAmkwmryIiuG5PM03zvL6+vi1u8qkB1HLJyL9ildVWu+eIlECQSkdTE8q1AIAWk8518ky9BCSspP39nAzI6YIXidcZRVgfD/dRvXQS/nmIcsOswjPpGeJZySGEHBKAIicPcK5g0E13vkSHJrMMLOKwP62nk+Wyyi4Vdl4c8AdGp+lffvgUxaNFuk0UVf/Uu9bTgnb1fFnZeMTvCJkVhe1B7gAZ43KjmVdt1/d9hkm7p/bRvkMHqLOhnbpbVpKpGXEKhSv71M/JnE6zeO5o8hyq63bOQeU1CmdKlD4BUmUht04eIl6PEWG38lBZJ0VUF6TalWVen7SeeWVUiZPK2yjmxakS3HCwHS4Ju3STo1MNVKyXmge1/KsJ8qzwC1DtIacCxMlC2u1GC9U9wWq4sRMveSn0ujWJMR4rQJUBRzF+1VBicb8AqABt2G+cwpOtsgkaoMJwbA1pzW1/ksz0GBnxetatOTVORstxFFl+Evv7TO8myu94koX+st9nsmRE6yh+3jUlr9ANLPHambxuJs608fQ0/XrTDtrbP07NiSidd/JCRljodgmA+vvex+g3z/bRof4mQi3uSChCl528hs5Zt0h1KZXdV6nxWtaxTKfhrLc8FBjnB8C7yOtVCQd2SouSjUnnd1RA4Kk2moeuYidYizDKT0yo64lo+oUXnqPPfvYz9PGP/w1dfPGbWG/ivEgmkzeYpnm1YRhQglEGoouInkilUue6Daunp+fBQqFwh2EY6wzDiPT29v7V2rVrG2dmZr5vGAYsNfDmPJ1KpT68Zs2a8wqFwg+I6HEiQhgWwtn+MpVKPaI47WPuthpAPeZeaXFCQSodDQ08HAp5oqUgTi3PVCZmtw2xNM804+jBlbWtWnTaqxSOUx9+iBBwcAFow2vm5gHeuucQ/ef9OykR4+ARnqF0Nkdf+MApTPZOF7cai/IOCDkVREjO0hlL5+lL//4MY1pEk6xMw3SePveBU6i5vliCRyZb2e+83l49my/IhqyhRzhEYNh9LUDq5oHnac/EfmqKN9ChzAQjZ7pw2UbtnFfB4mtE4zwX1TQc35EbQ6lKyK0bCYzI95aFyrrlmomSFl5eHLxfL8IWzIutzzRCd90vtzYE0FX1xrrNxUmONYAq+zqrc1b4BajWkFsB4qzkRG6zsYZ9q88Y4IbnrvJSZMiFLxIvebUjwt11iM5E+/DQWomKvPrx40FFe5iXCplZkACV51w2lrDW5gdeofzu58lobEdUP5nwoK7aQOH2JWzauZ3PUO6PD5DR1MH+DgAballIsTPfWSIWFW8eCArv2bSHJjJ56mito3Q2z4yG77pwNYWo4OgN5gaQOrrpse9RIpKgzESUslMhyhpj9JYTzqJVLXKDsNv7qzZA7exsZXnQqvWGOYiPMtBaDAd2Zk3GnBYu7KQDBwZ1PietexGiHFR9cqeOsRbBmK0DUA8ePEDXXfc+uuGGL9GGDUVDs5NBc82aNStkHtSurq61oVDo2VAotKhQKIDC+qFQKLS0UChcZprme/v6+i4BwX0ymfx2Pp//l2g0Cq/sfaZpbuzr63simUx+ioguT6VSF2kJ9xi6uQZQj4GXmUwmP09E75pVJu/t7e29Hv/fDlAfe+xR+trXvkx33nmP9qwTCbDsjtIdd9xB11zz51RXl3ANHdJunIjlmdiT8oWXkZHozNYZ9dM2wkngqXQLJbSGDYvyNCr9WEu3yO7npToaZtmKvT3Aqb3jdMfvd1DdLEBFaZypbJ4+f+3JFHIIXfJbNuYXm/bQH146yA45AIgLTzmOLjlrqWwqSr9jvon6OMVmw+XcCHEQRo3xHy6Qyph042G684+/oqYwLwsD7+7+sX66YMnrqL2uVWl+bjcxdl8HkGoP8bM+LwOpXoqkCkj1Kqch6px6eakESRPK1DhdUL7xDgF03S4ZiFAFusiz47UCyy3vdq+wE4MvxlfzoJa/pSCNmf4BapSxXIvyGqpeddnacluT+O5g8MA3JDPSWNvwA1Dx/YtSOKrkYLoAFaAec0JEhkrqixf7sW6Ir5OxFiRR+X1byTy4g1XXMRZ2U3hhci781pyeounH/5PMidn66pEYA6ehlgXaAHVyKkf/ef+OEo/p6MQMveOiLlq2sNVWymaaGdV4fm6cAdSGaGLOODk8NUoXLz2XVh7RANU/yy7WoRWw4j2JMGmR11ttDyoAKs58FW+unwMZOh/e8eSkuof2pptupHvvvYcWL+YGFFxve9sVdOON//zfhmH8Q29v72bx7yoANZlMfpOIFqVSqSvxXDKZfJmIfmQYxh2maT5sGMb2QqHwO9M0f75t27aXZ0N8b02lUj24v6en54JCofCNvr4+ztr0J3jVAOpheunVSpbu7u6+2DCMGyKRyAWJRMIcHx//DREh0fpnVqVjeHiIPvaxD1M2m6W77gIJmfqFZ+6++w76/vf/jRYtWkRf+9rXqbnZnyKPTQN5lTiwWhtjc4DLmlMhvIxQesFkq3LYes3GjTHOqzyNinRUQpPRDkIh4Z2FNwB/ZFe+QHTLPb10cHCSQmGDbbSvP2kBXXza4pJHreG8PMe03GsqQtWccnLw284DaRpL56ipzqCuxc2yoSn9PpYfp839z9F4ZpI64+102oKTqC7iHmp1uEAqiFagkI6Oj9MdL/2C2upaKMQIjgwaz0/QxcvOpYYQD0er5HICqSgZIeobOrXtBVK92DbRliyfU1YfUQZSVUIoEVIIN4kbSFVpQwXoykqRWEHq1JQDhW8NoDou7SMBoML4gL0fa0hHcRVGGhgXdS6sN6wXPKfjDfUyNjn1j+8XfwC4dUIadXJdITvsIQAYdtInN5nIAOpo+hALea0HeDO8k4q9oomQn88AKjujSi+E9RYGdjBCpVD7UjLqW8ruUfGgIg3mx7/bTk31EZYWg/c5PD7NmHhboGc4lLKBYRZr53dbHqHN/S9SIhKn6XyOgdW3r77U88ySrTNeezpBo6OHZLf6+t0Pr4ZbR/a8Xuhb+DdUbahU93LrUxai7Esolofa25tpZgYM3OoA1a1PPwbNE088sWFqaupVIkISrFD6oGBlmpqaVoyNjYUikcj5+Xz+QsMw/rxQKHwoEomMW0mSajmpXlWjK10htedLJFCtZOmurq4TkOKybds2xK3DSnOzYRh9vb29X7cqHddf/yl64xsvoW9/+2YtgPrQQw/QzTd/jTKZNH3yk5+kc8+9QKmmlNPrR47jr5/YSweG8b2atHxBE73x9EXsQEEYLrycsGoiXEg3z9RrudmLQquWp1FZwl6WRiglCOcF2yrmIyPDAZvufZv3MQC/ZAFKl+QoM52n7kVNdEqyo2h5Nk0Wbs2dqc7hvAh5+sWju+iB2ZI3IFm68vUrHcNP4WETbMS6ZApWGUHhKUTy9PMt/0NhM0IxI0qj2UO0sGEebVzsnJspngdIhXwQ9qN6pWcy9MSBZ1kfSxqPo1Pnr3MM0eXhVvU0MzPDDASY47MHX6Leke0UZ0rJNC1uXEBvPuFimmJKpF7eitN4oRBZDQYqXheQvcCQYc9J9fKAir45SEWea64sUsAtvNg6bi/iJVWWVIBHjMOJrEa1FAjagNzcDDkq4ACAGwqWm/Xcj8KhuiaP1vuCBKiQgULZwRJRYd3jnQE0eHnineTrFYLu9m2ibJMApbrkSiprEP0K9mH8F3sOvk0d4K2S6yoIy7B3ivQJVdIxt28SoPS5gy/RjhGQjxK1xpvpjIUnUzzsbmT0k+6i+q2oAFS0tXX3KG16sZ/JvWASnbS6jXE3OBlnuUEQhH1RBsKf2fsSbRvaRXWhOJ3UsZYaopUZKv2WzlOVSbVYdiE7XrkAHkhEVoEdmIcC4786hhyvuVS7ziocHtlsjjKZysvv+Dkvuru7P2QYxmdSqVSSiJildMWKFa2xWGyXaZpfNgzjhFQq9V4owslkEnmnO0Oh0EM1gFq6amoeVNUdocL7Dkey9PHHH9+dz+c3hcPhjVu2bOkTSsedd95Bhw6N0WWXvYV5UVU9qGCIu/rqK+n88y+ka6+9jpYvP44OHhz0Te3+2EsH6fltI9TezHMchw5laeO6+XRydych5EMURFfxMuq8DhxE4TBqqaVZDUYQ9MAr7FaeQqft+fM7aGBgqEQmKgzA9j6mpnP0o99tZ4XjG+oiNDVjUn08RFdduHLOy2wvG+PkMRXtPvjsPvrpQ6/Ap8rMUHj2rRuX0xtOL/XCivsRTo2DCcy6uiDVyoKbOrCDHt79xFyoLNoayY7RFd2XMm+l16UDUmfyM/STrT+noakRVpIG5WnWdx5Pb1xx3lwXnAEUoXUATekSazCUkl2HXqWhzAg1xxppVesyikVi1NIir5Oquj54vjA3IKgom1yxDxNAmjXk0K2+oX0cRXZdHMxFkK2qUBdBainxkpenxT4GAA1RDsT6m1eYsr0NL6CrKke0WQvxVV2p5ekg6k8636kKUEX4OMrLwIDkh41Xp2aotYQMwDDWq5X4T2XeqgYf3AdACs+pzPPv1K9srYvIB5E7C4MoZKHuQXWuH7t3fD89vm8ztUVb2d6F/Xtp4yI6ad5aV/EcCQCV6RRjUzQ6OcPO0AVt3GDmdgkQOTY2YWHAjbHzj+f1o76ov1I21QaoqqBdZT3b78G6gj42MDAy53kWzMkwgljZgf20j2c4wB6VGu39to8c3UwGOeWvDUBNJpPPEtH3UqnUt6xz6Onp+aJpmsg93UFEJ4JwyTTN3fF4/IMzMzMn1QBq6RuvAVS/X4DGc4cjWRqe1FAodC8RfT6VSt2O4QGg7tixjb761S/TTTf9Kw0M9GsBVOsUsc93djaxTUs1Md8uons27SbUCK2vi7CfDk1OU8+Kdrrigh62UfFcU3UPmuor4B5CkAOE2eETRNiw6NtqyRShlvBGImdWNYcKbe0bTNPPH9lFrU1xpmRgzHsPjtG1l3RTQwL134TXlIfxOoVLWeXxzZ++TFt3jTESJKas5wu08rgm+vS73dMZoKyJ+quqIFWEzWYyU2y+g5lhemD3Jmqva2PjnMplyaQCvXnVxUqvSxWk7j70Kv2079fMuo8LgHNsepz++uRrKR7h4VVQ2EDeA8+87DKnM4xFMpxopNaOjlmGwSA8qRykgpFzdHRCNgz2ux2k6ii3TqRDCC+212B0G4hTTqssxNjeFgA1vjVen5j/CnIYGF9UvdNObaAd1bw89Gspr1syRD8WcaUXdxTf9Fp4UItgkdf0VQkDdxOxyrrAnoo+RQkZv7mrMoBqnxfGjL0VBl/V2sV4xivqQtRSxv42M8ND2eERzQ/uoszIIIXqWyncucwToLlFRmwd6qNth16h5kgj5fJ5yuamKWyE6PVLznZd4Xh3yPsbHBwN/CuoFhhzA5Ei5JVHc4UdS9nIJulWI132nOrv3DA+rG1MVmkfezfOK6d3ydcMZ00uyoYbNHXCgav1TsX8EAI9OYloKOc0DxU5iHtq54WOtIK9twZQg5WnY2vVTpbu6enZaJrmT4nok6lU6g4xCCgd//Zvt9Lvfvc/jK0ul5uhvXv30Nq16+hf//V72jPv6GhkORWqJA/2Dh7/4wA9kxpkRAawnI9N5ujiM5ZS13H1c+xyQZPloB8cnNhYwUCsqiC7CcdeY02w6cFDhFBigDSumHvXHXt+2xD96g97aXomTyd1tTNP8p0PAqDyvNxoLEYDw+N03WXdVBcPe4bzOo31h//TR4+/3E+xCM8dms7l6dRkB/3F5WAvd78AOCErgHivOYh6qtawWbSKZ57pf5F2jO5iIBpe03MWn07z6zuV15sKSN0zvo/uSt1bBlD/5owPUVtzS0k4r71jjDG3bysVBneTUddERn0r5fe+xG+LxKhu7eupbcmKQEEq6vyqAlQ2DIsnFcoOwvZUFQA7SJV5YuzyKYJUFH6fZsYSbkBSz+fBM5iDqMHoR0G3t6ETyulWAxVzrSkc5Z/i4QaoMEAglcNab9QvYMRsvABqaQkZhPjz+XPvbYLloOpcvGQUvGvlyq9bHVXVKAjrONwAqgDa+LZE2gj2tMK2x2j6lecJpHqs7NWqDRRPuoNKJ4AKWY0WRumhnX+gzvp2ikYi1D8xRMsaF9PatqTrHuQFanRk63RvtcCMCoiEPKyEQthbsQ+Kki1uZyTIl3BGwjtbjauaJEaq3nA32QgPq5f+UM3x8z2+nVBjfHoaVVwqu2rnRWXyq+TpGkCtRHoKz1Y7WXr16tVLw+HwM4ZhXNXb23u/dUh2pWP//n2+Pahot60NRC8oKyP3SDmJBkQGv9u8j/YPT5ERMmjVwkY698T5FA4ZjE0vyA0dBwnCO3ntzSxThpD07/fafXCC7n18L01mZmjpgka6/KwlzLMJgIoYWniVVRmAXzkwTrfe08vmDTCA3Nyz182n9qY4Pb99mIXlxuJROvv4NgZe3fJMveYCT/U///h5ymR5iEs8Fqbrrz6R5re51zhFfsng2BTF4jFa2NFE2amiB0z0xUuTJGZzDUvDZsU9OJgQeovczuZ4MzX6yOcBTTzCidw86gjx/Y/eX9Bgephi4ShlCzN05pKT6fKei8rCee1ymt6+mWZSf2A191DD1JwcofCq0ygUqyMzyz34idPfSq2tLYSarao5XU7vg4fhIZ+Jh5irFJAX7QiQiveCb04VoIrnEdqLdQkFSwcc43lrTisUeV3vD9qAAgivDhQFeIF1QLaYg7UNfCuqIZk1gKq30x0ugIp3CIDHy06Vsj7L2KK9ZuQGUMU35FRCxi+5klNEgxsIFmP2Y+SxRz549VFIj9HUY/9B4cZ2BlDNQp7M9CjVv/4aCsV5zWn7ZQeoImQY3+mTe56j1NAOdhbNb+ykc1ecQc31jcxQ6gTQOEBtpsHBkZJukMaz+yBK04Vo1XFN1FQf1VuYs2ADkVsyo6+9Yegb+4f4nruwPTEXTWTdWwT3guqgICN4D/HHWl8UMsEeWWw7WH3GPr5qloHxW99dyAbnDf7g7OG5q/yP9ao2QEX7Y2NpRpRU6eUHoL788suxTCbzkXA4cq1pmmD+qmEt5xdhGoYxls/nvp9IJG454YQTSsLWakKrdPVKnq92snRPT8/XTdP8IBFtF0MxTfPbhmG89Xvf++Gla9YU80YqBagtLXXMcugnR5Qfrgi7jNOBgf/L3pvAR1Wd/ePP7DNJZrISCAmyhk3CpgLurUsVrVVcsLWlrUVbsSq+1rft69v+oIvLW3jrUloVVLpYtVYtr0sVBGQVAVF2JAkBISyB7Jlk9pn/53tOTubm5t65S2ZU/Od8PnxA596z33Oe77N8n1aCS2iOx94lsKczbxjagHCOQxGgAIIIYgsR82CmtPjD9NzbVWQHkHbaqKU9TGXF2XTH9RM6Y6Y6DM3Jiq1HGVDH+FHgfuty2Oi/Z02go6c6qC0QofIhxeSxx5ggp+XOqzamto4I7aqBGxDRuGH5lJutnt8UfQCh0rH6diaE5Ho9dN3FwykR5ecF1g/gABczEmz3BrTJ+9saaqNthzdRS3sDxW12KsgtpQJPPp0zZDw5LA5VkBqIBunDEzvIH2+n4YWDaVzBaAprWPkg5ARWPk0WVw5ZbHYGUKMnqsg+eCJZRT4+fwO5zr6ObC4P2zdaINUfbqf2aIDyXT5y2vgcczft7m7G0phUtu71Ryi0by2S0JJr9AVk749Uad0LLn3sZaMMoKIWwVRqFKCKNQfxEu5WfK9KFiOt74kDTO6iDndEaR5crXelgiTqwBxAiaWH1EYtByrqNCNw6O3r6fpcugGqzSZI3JIzIlxf1XJ04vvAXm9pMWbRRAtKXgI8z6VTNYWMEYu8dF3l3gA81h3xpuoMumYAqjR2XLSBO03p7I23NVBwyyvk8BV2fadxfyNlXXALWRWYcTEeKUAVayPSTYEgByzsCJ0AA7vgD1ADaIi1heeLFKCC9G/VtmPs/oWSzW630tfOHki+FPeQ0vdjxoKKvOEvrqphMako/fI89K1Lh5Lbye9clHQoxYW7K/7G3Iic1BgzlOLwRMpEySTAMwtQ5eNEPSJ2FYoiuLfDuoo9jBjXkycbMzE1rE4A+MbGdlP3jbxTZu6Ljz76+C9ud9b5+flF7RaLPcJJE/uKfAYg3yYSUUdTU312MNixcfLkSd+TPtMHUDO8Zz7PYOl0Cx05OSAQiBt2ieLEREnAqMRmq9etJNVy4UKAWxTAAayZgjHRSL5Spfora1vo9Q1HWFoc6MFwEbW0R+hnt0xksXUcPOiPV1y/8wS9+f6RrlhcWFALc91038wzu9h5AW7gbgvSonQx56Wau6raFtqws46K88GiStTUFqbhZXl0xbQhbGwQwKANBTgVmuxo41GKfrqDKBYlW//hZC8bYxhMh2MRWr7zFYqeOkiNliidpCjlegpoYP/RlO/JpavGXEoUJ2a5lxdcfpgjuZtxqnF2AVS49lptlIiFKXp0H9nKxpEtrz8lgn4iq51ck69moBx7B9ZcrLFSLOuWE9tp1afr2bMAp98c9Q0aUjCoB2uw6JOIH441HCb/GwspEYVmOUEWm4Nypt9D9hKQ/nUvYk+nylWqNmZB0IRvwSg7KuoU70O4AMA0U3jKBRdTFpkBqGiTgw0Xs1LoGUcfQDW2Uum+K+QAVR7/qdQ7DhizTblFyt1hYeXEtwtlaqrzU0/sqryvUnddeAhgbFrfptE4brQpACrGgTZTtZGIRSm8+Z+UCPkpZvNQIthG1pwC8ky7iSwqwjFYw3GGwjODp/cJdH2fevOgCoDG88lau+5CgJC1248TQKqwmsKrZ8yQPJowHF5B+osZgLpy2zHatr+e8r0udl+BGX/qmH70lUklXQ2nA6BKRyFS2QgLq1DKcbKl3pP1JO8QKNkKqa6uM3+s/qnU9WQ6jQXSew9nuNMJ67Ojx14xah1PNRCcIwDwjY1+isVSh1rpmRAzAPXjjz8+MHDg0GaLxdb7Dujp5Gn+TCIRsxw7djBv0qRJw6VD6QOop/nCpup+uoWOrCwH04I2NenL7QUNGgQHWPC0kjJzEJnHAv+NFu6qld1pXVF2Qe6NxvHIyXZ6aVUNA5E4vDtC0JRH6J4bxrD4Vu4+pt/tGdrdP7y6lxFG4fSy2yz0g6vKaeQgEP4k08akK/2LnvlhE+O1AAAgAElEQVTcXlVPu2rAsMxTCQTDMXI57PTdr49j/41YGik5FjT2oV3vMkskgXyqvZnsQyaRozR1jKu8L/X+Olr9/nPkdXhof6KDsshCHbEQjR9yAbVZ4vSVQVPpjOKyTmDC04kJN2OejkTZzTjVmMOVmyha8yGRxUaJSIASNgdZff0YYLU4PeQcfSFZs5N5ftVA6smOBnpm1wvksXvIbrVRMBYkj9ND/33hXZ1WG2WhBBdox3vPUaTmQ7LYucUVQNVROoZyrprbo+uwDgGUQejWEoTlLwu3SQjpEAL0gDt5HfwbTrD1R/tmCoAA6oC7r1a6JbX6MX4eH92hWUcfQDW2Sum+KwRATaZBgQU9Gf+p1jszgBF1CXdY/BspZAC69OxVM+0Jayi+LexHaSyo2rjMAlQodHjKpCR4VGvDHgtQaO86CjYcZ8o25+iLyOpWdu9FHcL9GW3gXJCCBDWAipymCT8HRpacAnZm8jMZRHC5bI2F++tbG2qorqGdPC4rA77NbSEqH+SjSeX6+QhQtxmA+vJ7B+lofQdj80XxByI0ZEAOXX/RkK7pSzdAla4LZ8V3sH2Iv3FnAbSLdC1mFXVs3i0WAglQpiyQnDzKnbEcroIlGHta6irN56f3YF4A1IYGKPeNnYNKT5sBqB999PGhsrIR9b1v/f8/NdTWVhdNnjwp+YH2+UV/uRc/3UKH220nt9uh6SrL01Vkd8afdegGb2ZAJCx7+APrjshxqbSqZuoW9eByWbHtOO2sbqB4LE4JStA3zhtEIwflsnFywd2YdQlpZZByJxSJ0egzfFRSBEGCM/QqXXQAiOnUMsrn6OipdoLrcaGPa8Kb26N09pgBNGF4HgPl6JfUXSlSu4eiR/aSNSefVZWIBMlic5JrwtcMfVTNrSdo+ebnKNeRTZ/E28mVsFAoHqYJZ0ylFpuFvjLoXMp3+1heNhHjg0sNa23Eai3tFLwAgluWUfTAVubmi+TwzrO/Qbb8gSwuFf9PXpRA6v7GA/Ra1duU48xmAhqeaexopvsm/1AzyXtg1WKKfLqTLHYekwULCFx8vdf8Z4+2hRAtYsSMgFQp8Qy+E1hrjYJUWJCx9jx2kLvqGinMZTw3h70H4V6e51VvXbAioQhQkErIU0sxwwVeX59iVjbp6b4rAFBhoROxx3oJtswARgxFhHQACMLbQS9brpn2hDWYAzuuNNMqRgEqT52Tzb43QTSm1YbefMWoR8Tfoh0ll2olgIpwj8i2NyjeVMu6Ys0rIcdZ15LFwUkPkXsSsaKinGwO0dodJ8ib7WZ3F/gQLoeLr4ez6cdb6ijReorI6SFrv6Gqll41gMruw3iUeZ/Iy6bddbR2Rx0jHUSBR9Clk0toyph+XY9iHQVrvdbcGv0dbuCQGwTpI+ZbWA/xN+4gaSyvkfpRF/KIZgqgYq8CvINUMhNFiVBLxK3ybAvIvWoezON9ZFeor0+PzGTmvugDqMZ3Th9ANT5np/Ub6RY6nE4beb1u1YNRSkzEAWNPkp1UE2pEU4qDDOAQoAWXgJZGEhrHhoYWTcuLtH9Jy6yTWtv89MnBBgqEYtQvz83+oMB1mVum9Akqon552phUOU2TzLrIUZq5Lbm7ppF21jSzixXa5rNG5pPdxmMnMNco4sKNHq+iSM02svq4NjweaGMEHc6xFxvqIC7qreuXUE2wgZrsFmpKBGkguchXNp4GegfSlJKJLP4JFyYAEpQBvQXriM0KrFlKFndnHGokxNyUPV+7UxGcigHJQSosqM/teZFyXNlkJSu1hzvIaXXSPZN+oEmGFD2yhwBSYZFgqWotVvJc/D1yjZjSY/6kQnQyV6k+IVyeuiNVjlG1hZO2j5hWo5ZYKRmNiHUzA1IFOQ1ANgRApM5RS3nVB1ANfYYsJZmxN1I/jXAQWI6k+Xz11G8GMKJe4QZvdF8ZbU/EhMMypicWWozZSB5gwS6Md3GP6iVH0wtQheUUIB7jURqHEkCNVH9AsapNRNmdLrodTWQbejY5Rl2gCFDRfyg+q4+2snYmjiymQQNyuYLpwHZq2fwG+34TsBKXlJN94nTFEBEluSBad4CiHy5jHjDW3AHkmHJjN68XcCq8s/ko7TnEAfP4Yfn0tSlljJhQFK5ocGQkTlQOUOV7XzmVDXKvRjTT+PU2ZEnrO8ykZRltIxQLXkGQx5RKTzDP89IKsiUtRT3mFgD+1Kn0AOwvC0BtbW2xPv74wrLdu3d6bTZbIjs7J3r33f9RO378pI7331/nXbp0ycAlS/62X2t/GP29tvawc968B4a2trbYBw4sDT744IKDOTneHrbtPoBqdGZP8+fTLXTAvTc/P5tOnOjpuZAkJuKA0Ywbn0jZkirPKg4fgCUc0mhHb8obuA8jnlPvZQ9QCGEc5DCpNNgATbAu6s3fmgSm2FxJd16trYZ2cLBjDJkoEBrAeoxYGX97RzfKuY5glLlI5eVmU77XzRUPkRCF975HcX8zf9buIOeZX2VxT0ZLrKOVju58izpaT1CHK4tsQyeQ11dCg31l5HQ4O1lwEYcKNlhPN3dfo23h+Vj9YQpufqUbeUi8vZk8l/2IrO6clFUKkAqiEszZ+7Uf0pv7VxIlLOSwOuhbo79BA3MG6OpW5NB2Cu9cwUmSKi5VTAmhRORiBKQiRo7nfkxaPY2AVKX2jYJUfLOI1YZ7Lwosa1oAU2kCpaQx8lyx8uf7AKquLdj1ULrvCo8H7o1Rw14fRlMiCRdiCLVGwTAGb6Q9kXsUZGG434wQxekFqNIcqgBPaulslFZXD0AVYxDnAaxlygA1zmL7pSX88VsUr/+UKfZQEqF2ZkV1nn2dKkBV6ifzYFm1mDY196ddLT6yWhI01VtH5155KcV9JT32jBygJjpaKLTySRaagbRglmAbWbz9yPnV23ooBhGqgvsJLPbyklmA6iGbjTO3axVpuhYo3lFSpbIR7tRyxmStdvT+nsl54ee/nclwerMqCDCPvYtvAueKIKOSMieL8aF+Hi6WHlnpywBQoXC67bbvjho/fmLbXXfNPWa3O2njxrXeBx+cP+z55/+5+5NP9mZlCqDeffcPR1x++fSGb3xjRtMf//hoSSAQsN5//wNH5fuxD6Dq/UK/JM+lW+iAhbSoyEsnTzZ0EU+Iw0ZOTGRmCsHsBqCnBDq5IJLFLGkASEbdDFPVLe0rDkFo42GR1ZM2BrEaELi1cunx/KlwrUJr+oGptG8YP8BJOpkBedqHrK44J/ncN/tDtLXyBB0LHaKOuJ+GFpXQ18efQ9FQjDH8xptPECXiZPEWaYI7rT0hzTErZQ2WuvNy0p4c5sKHeCczBdbewOpnmGsa/iSC7UzQ8Vz6Q1U3M2k7go2as0S3k2DxzXP5yNXJ4mukX4I4SSkFjVoqjCRI5ZpltaImGAMgom4tK5Ba6g+AXB4DrL0GSoKzFsBUGo8cTPBYZMTldmcYhpcBYlDVihmBw8h6no7PpvuuwDlnhrhSLfen0pxKU8hwt8CoYTIa7CmACC0iOnwvUNDie4GQjG/HSLo13Ct4P1VcLM/LyVmqcf8opbNJtbcE6ZHaN82BB89NjPHi+4HbvBKIAgCXA1TE7Uf3r09aUNsbyVZ+LjlGTOsEqPo4JBDOsOHlF2hTy0DKc0GJQdQaIvrmFaPprGmTmRKZAxCe+1kOUGPHKymy9VUit7drOgBa3Vffz85zvSWTQMyo4lraZ6wL9kHPVDZ8PjKZcxb90LL+6p1fted6Q8IEGQrfHyei4mRLIq4Xf2Pfov68PB81NOhnUH7uucW0evVK1uXzzjuf7rwzyQWB+2LUqFHXJhKJX3WGRR50uVy37tq1q3tOJcmAe+Pi29wWtNc1dTj752eF87zutLBrrV+/xrtgwUNDli17e5e1M24c3V21akXu+PHj26uqKj0CoG7atD5nyZKnSkOhkLWjo91+xx13Hbniiqubly17peDll18YYLVaE8XFA0IPPbTgYENDvX3evAeGhUJBK+SXuXPvP3zWWVO6aNgjkYhl+vSvTHznnfc+BiiurT3iuPvuH47+17/e3iXfH30Atbdf1hf8/ZEjR84jopnopsVieWv9+q3dAtrWr19Dzz67mGkoBw4cSP/1X/PI5wMxj/7Sr5+XUcnjgoNFA4cBQKWRy1qtNRAOgWxIrpnGgQkQhd/QlpaLh1L9qDsV2y533cphQA0AUK9lVo87jNyd12zaGIwrnSAV4BqXNOZVDfC/v/sE7ev4mCLUQS6rm5oCfpo0ZBhdPfpC6pDlMdS/i1I/icuHswaHWb/k650OkIrUMqGP3iKKx8jizCL31OvJmts/ZcfExcoJWIJMkaHG7mt0LtRAqjSGVF6nSMsRCKiD1FSxbxBOUb+wbKqBAMHAK/9dryWWk4T0FM6NglQld0yluNxUOVAxhj6A2nOlvygAVWolT/UN4YwAH4KwmspTv+j9/jggVifuSpI8JfO2prKGxoPtFKnZSvGAn+wDRpB94CjO8O20Mw8YtXNWsA5LvXWUAGoiFmGx6/Ggn+zFQ8heNLhrqHJ3fvEDD73h+a+l4DXV2aIEUJFbNbrjHYrVVbO6EDfqgFsuSOasFioshFulPpLDv72wklraAjztSzxGrREbVUwYTZefO5TJFIIJlyt1rSysA/cBi11tPErh9X+hBEI0LFamKLXEouT6+v2GWOT1Kpf17iXpc70BqPL2kvMBLggrUxzwvO7NmooVM32H95he66+Z+jkJU3piXAVzsojv/c1vfkvHjx+nCy+8gM48czKVlpZpdnHr1s303HNP0xNPPM2+1Z/85G66/vqZdPHFX2Xvnnfe5Fyr1foJEZ1TWVl5tLy8/NdWqzV3//79PRkNO1szC1DXfFyb/8LKyiE2qzURi8ctt1w28tBXJpWpAmHNwXU+8MwzT/bfuXO794knnuYfr6xIXXzvu++uYXPm3HWsvHx0cMOGtd5Fix4d9NJLy/bOmDG9YvHipfv69RsQXbDgt2VXXnlNw5o1q/Lcbnf89tvvrFu9+l1fTU2157bb5tSJ6k+cOOa4/fbvjXnjjXd34v9Fo2G69NILJq9du+UjeR/6AKre1TwNnysvL7/MYrH8ym63f9Xj8STa2treefDBBZeIj6y93U+33HIjPfPMX6lfv2J65pmnyO/307333m9otLFYO/3v//4v5ebm0r333peSmMhQxZ1xjlLCIRzMcAXBZQlLlV73XKV2kaON56nrzkIqBBBcVri8jVrlUjHemXXnlfYfigCePzNZ5PGgRucZGki4aWI+eRoGdaq7dz6qpoORHeR1cEVGezBKnpww/WDqDHLbMGfaLkx6+8cBSxZ7HPWmcvVOglSkvjFG2iP6A+ZcxDBZXNldbJRKfcUlCIEDmmtY76Xpi1KloNE7bvGcEkhVEzrFO8LCKlye5G1q5V/E72iDK3569ljLbVCPJTYVSNZL/KTkapycAyiX4I7P43L7AKrRnUdpj0E1a0HlADWU8ttXAnPS1C9GRp8KEAsFijxvq5o1NBEOUPvqZyne3kQEK0U8Rq4JV7C4crXviH+//CyWW1floBuWx/ZViylW/ynCsIkQt37uTeQcOpkNWemsEPGsOLPkd59RgIo2mLIw1I5/EDGAaGFkR3Czze/fn5oS/P9pldfX1dCB6sPkTfiJbA5qdvSj8yeW0blnFnd7FX2Euyb6jznEPEGh2vbBvyh88ONOYkEi+9kzyD5QnUEe/UaO8daOCOV7nVRSmMWYavV4P2mNRel3KJLFPWbmfbV3sJ44s4XCAZZ2YW1OVyqbdIJrpXHoUeqbnbM9e3bRihXLadOm96muro4B1Jkzv0U33HCzapU1NQeoo6ODxo2rYM/8/vf/Q2VlZ7D3UC66aEpRPB6/qLKy8l/471GjRt2YSCS+XVlZOUOtUjMAFZbTnz71fkU0luhKmmq3WeK/u+O8Xb21pD777FP99+3bk71w4R9qlPosBajBYMCyatWKvEOHatz79u3Nrq094lm27J1dDz00f9C2bVtzp007r/mSSy5vgqV0y5ZN2fPnPzCiomJC67RpF7RMn351k9vt6ZIkjh6tdcyZc+uY119PAtTLLrto8po1H/QBVLOb/HR8b8SIEWcC41VXV3+A/o8cOXLRPff85MfiI2tpaabt2z/u0gq9995KWrHiHXr44YW6hhsKBenFF5+nv//9LzR48GC67777adSoMbre1fuQOBgR9wkQBi0hgKlZtlZpuxBEAPakLokiPytcQ/x+xM0a5wlRiqdIBzBF3CfyyJ1oDJDHZaOLJ5awS1UUAG4ASyMAkQsrWci6STv2H6dDx1vJ5bDS2CH5LF+cUvmo5hitPbqeCtx5hOkJR+OUmx+jGSMvp+KCol7Hg6JN7s7r6SRV0c/Oy0Gql8VpmQWpWntTWJkh3GFfygsETPQhU5ZULYCK/qQCqXoE91QglQvjtpTzyy2xYKxUVlbgdy5IKbsi6wGpqYRp+RwgBVSq9AJ9FtSeu/6LYkEFWAMgVFJGYg/gjlACW1qKGLXvXA2g8ry7YAvvSVKkZg2NHNlNgS3/SjKbI8dxPEbea+5XBKgCAKt5QHCAGuvy5okc2UMd658ngkLNYmGpqSyWBPlugudhT4CarF+ZUM0MQJXPI3JIx5Cyy2ohj8tB4bzBZBs+VROkNraF6B+rD1IgGGVYu9DnopsvGUoeV08GdamLr7Am4u/oqU8p2NpE8axCirp8KT2r1u04Tlv21fN5owR9dWIJXTiprBvTrnxsuMfxzuZ9pxgenzKmiKaN7ac5NtRjljxR6z7C71KZA/8W1uYk+y0nWzLDA5LpvqP+TLpW8/q5Z9j27Xtp69YPyOfLpSuvvFrP1NKRI4dpzpzZ9OSTz9KgQWewd6T3RVlZmcfj8ay3WCx/qKys/ItapWYA6v7DjVmP/XPnyFAk1hUw7XJYY/feNKFy1BkFvbIEbNq0IQcuvq+88uZuyIGi/P73j5ROnXpuK74L4eI7a9bMMePHT2ibPPmcNp/PF33wwXnDli1bzlxy9+7d5Vm3bk3uihVvF82a9f1jM2bMbGxsrLetXr0qb9261fmhUNjy9NNLq0T9wsV3+fK1H9ts9j4XX1278Ev+0JgxY8pjsdjGF198rZ/4yKRDBti8887b6cYbb6bp07+uORuffLKXfvGLn1EoFKK5c+fSVVddRbhU011wsAhhF0BST3yb3j5ItYLigMe7iB1VCrTXWy+EAACUhoZm9gouNZ4DkB8CZt15//3BYZbkPD/HxXKSBiMxlsMtx5Ok1DcCUiHsQHMJkLV9/0nad7iZ8rIcFInGKRyLMwAsrbvrgInG6N/7NlNNyxFy2uzk89pofP+RNKHfWBZTK9K/mF0rCIEAp2ruvFrrYBSkdlkArHayODkTs1LBHoGQocfKLEAqNPvpcHWXWlK1LJii73gHwrYg1xD/X28cG0iMoBCSE4JB+NETb5cK5Orpg1ZMrV6gjn3e2gqvAPWd0wdQe87NFwWgqu0VgELsMbUUMkbTuIgZUALEShZa6YypfZORwzspsPX/kgA1FiWKhMh77c+YpQ7fknCxTQWARVty5VK4ZhsFPnglSVKUiDNrpu9bD7F7Rgo4hQt0KlZjtfhytK/k4ivfNXA3Dn/wMlk8Pubmi/7662rJMenrZM3m6cdSFXjj1J5sZ+fLGf2zyeXoSWSE99XY/TFeAc6EdVUauyraBhhe+u8qys3mrshg+PUHovSTb02kHBaD2xUy1627u2ua6K0PjpA3i9+5bR0RunJKKU0YUag1tM8MoEo7ImW/xbxgDc2kssE9EovxvMWZKJmOcYWsh/G3tBjzrIIl9ac/vZdmz/5RN7lY3BfDhg3Ltdvt/0okEgerqqpmp5obMwA1kxZU7IXZs789etKks1t//OO5xwAW16xZ6Vuw4OEhS5f+fW91NY9B/d3vHqueOfPaijfeeHeH0+lKAMCuW/de4WuvvbXz5ptnjFu0aPH+kpLSyKJFj5a0t/ttOEOKiorDt956+0mw9c6ePWvs8uVrt0vn5q67bh9x2WVXNF533Y2Nf/rT4wMaGuqdv/zlbw7L56/PxTcTX9sXrE5YUq1W61tENG/Dhg//LO8e3HofeOB+KilBDOr/09X7bdu20o4dH9PNN99C/fuDpTXBYkLSWQCeEA8EAGE0HYyefoicZ3gW2ldYewAoelsEox5ib6CY4uACLk49c5rqbQsX6N+WV1NRbhJANbQG6bKzS6msX/fE6wDHANhqAJHHTYKdF66wnBzj3a21TBgQKWTqW0M0eWRhj7pFf+OJONW2HafWsJ9ABFSaM6BLi2zW1Tbpzsvz/KVy51Wbt8ZAE+uTy+6i8pKhFIvEFK2c6P+Go1uosuEA+RqO08WNbZQN1t3h55Bz0lXdNOJS0ihYp/W6TWUKpOKi1SJXEfMjQCrip0UcdyqLlHxeIeQDCCAmVcT9cssUp/nXKkmQmnwf73D3W2WrmFzAglJAyV1ZjyVX1AWCpFTpmPoAas+VTDdAxREIRZ3RohRLCuAjlCdqVqF0ANSku208pceAGkCNB1qpfeViHhNpd1AiFCDnqPPIXXFZN/dbLQAs5kxuFY63NVDbW4/yn+1OBk4dZWdS1sXfZf9LAFR4K4j0Man4GrQAahQhECmcihLhIIW3vEpWL2QCkO15qA0AteJrZPUl840a3QPy5/Wmn5PHrgpwduh4C720soZyc5LK3WZ/mH58QwUV5WWpAtR/rf+UDp1o61LctgeiNKg4m264eIjmkDIJ8vSSDOGbEWRLuG9xl4mzNdV9aza3u+akdD6QaRdi3HkOh5NaW/UD1J07tzMjzD333EeXXXZFt6HgvhgzZkxJLBZbnkgkVldVVf0HE4JTFDMAFdUlY1AtiVg8kbYYVNTd0HDKvnDhw4Oqq6uy7HZ7wuv1Ic3MkYqKiQGpi+8jj/y6bPPmTXl4pqJiQtvGjesLAFBXrlye98ILfy1xOp1xny83Mn/+bw+FQhHLvHk/HxYIBABWE7feevuxSy+9olv+oCNHDjl//etfDm1pabEXFfULP/jggpr8/IIeNIZ9AFXvF3SaPjdq1KjzE4nEq0R0b2Vl5UtyoaO+vp5+8pO7aPLkc9iHqCdWRD4VWVmcjbCpqTUtsyS1ZsK6ByuqXvpxIx2AtREXvrDMmiFaUmoPghhPCt1gmp1XXi/69sLKA+Sy2xg9fjyRoMbWIF1z3mAq6sy/Kt4RVkxcPlKNJ3ebzOpKgSN1mXvv42OUiCc4QQURnWoJsgTmUhdiI3NrBKTiWVxQiINFf/UAH6W+HG07QZXNNeS0OiiaiFG+y0fnDz+HIuEotR8/xOOiQN7RbzC9dngtba3bQfFIkOU7zSUb3RnwkjPYTq5zriVHZwyXljuv1pxkAqSiTxAk9VpmOUj1sFhMgFS9pDNibBykcgUO9qHczVBrDpRArhFm1qS7MhK1J0GxEQCSKsUM+t8HUHuu4hcHoLooCq+OMNxXeXwmQKk0TZLSHtSbxkX+rrDYYq/j36kIx8S7qaz5sdZTFNqzhhLBNkaQ5Cw/lzGDi3cwJgBIPSEJSm7L0ZMHKbD5VUqAJKlkJHmmXk8WB1dkog3MF+4CrfnC82oM4fgNqWCg1EwJUBMJiux+lxKtp8jiySWPNUaBSIxZUC0A0GkqegGqtDmpdTUaJ3r0xY8oFI6Rx2mhlvYI+bIcdOcN48jpwFmnbEFdsfUo7ahupDwvH0uLP0xnDs2n6VO1iXcyCfL0AlTpfHCiriT7LX4TYBXfmlQeUuPrSNNyZtS6jD7izoOFsK1NnwGiru4EzZ79HfrVrx6ms846p8cwi4t99vLy8s1EtKyqquq3eubBLEBF3Zlg8dXT58/7mT6A+nmvQAbbHz58+CCbzfaRxWK5ef/+/avRlFTogMbshz/8Pl144cX0/e/fZronLpedAFLr67lLq9nCXfo4C7CwZmYivxcsUIJoCYdwuoC1ONBhJcjPz2cClVKMotn5qT3pp1XbjjEBAd6KYwfn0TQZgYSoW7i54sKBVRigAuOGEKRkJT5wtJVeWXOQuQ77sh00cUQBXTihpMuiaqbP0j6ozQOs5Ogbd+eFlc1MS9yNeuOxDynb7iFbJ2V6U6iFJhafSSXWOLUf2E4Ri4soHqVIPEbzT60jp83JhDqkxIHq7qZIDo3uCJF9yGTynns9szIjV1gqRk89vU0nSOXfSHan5ls9lYy8X1KQKli2jcRXC607LMgQko2m75CDXLDvwuNC73rLQTbGpxXHKp2DPoCqZ6d2f+aLAlAFKBNpVuQERWoj05PGReldnEdQ8nGiMJ7eRavocTeX1wHPBLTFmeT1fctwu8c3oyffqojjRrstLcqAS94nnFUeW4yaq3ezM9XefyhZPZwMTw9AZc+FgxSt2UqJ1jryFpdSsP+ZzOU3ncUMQJW339Qepbc2HaHG1hCV9suhay8cQgU+Nxu3GkBtbQ/T8ysOUFuAr1e2x0HfuXw45eVog28pQK31H6cjbccYj8PIvGGmDAPS8aSDBTdVKhvOoA8vHH0Az+haZ9K6jL5AIQqXd79f2+sHzz/22EJ6663XuzH+Xnfd9bRhwzq67bY7kD/0eiKC4Ycx0XaWDysrK1UF6d4AVKPz+WV5vg+gfllWUmEco0aNejyRSPyAiA6In++//+cTxEcGRrNf/OKnNHx4edfbo0ePoZ///JeGZsXhsJLPl8VyoZotOADxBwAKrKhCcIVg2q9fPp08qY+qPlX7OIBxUOHiRpwptPDSWFGzfeeXN5h1k+68yCuFuhGjq9fSpad9XJBwRXI7bVScz9MEqBXMHXJ/4e8kAOyJAKFFXvp2JasXUbKIbT1zSD7d8JWherqk2QeleeCa/Sw2b5ydV1sITNUQXHYBUL2ObLJ2xvo2h1qpomg0eY9WkifLTTHqzI/mb6D59RvJaXcRhTsYsUjMYkwKcY8AACAASURBVKEbwtk0FqlipnyDcidewizrelMLaU1UOkBq0poLJUOYXbhGPB6E9Qn73wg4FGMTIBVrhj1tlEFbCnLxHTY3GwsJEP1Hu2hfTxyr6HsfQNXaoT1//6IAVCg3cF5g3yoRFKmNTCuNi9p72JsowmNAz8xpEXbJ6+Dxpi4G+lpb9XOd6PUagBcSFDiw/uIdrZzcXf0LtFBo00sU9nOPPKTbyrrgFrLmFFAcyr0IUjBqM/Kydy3wTCikujrzcoHa3KcDoIq6GRCHZ5IL3AduRpKUdH3tGYbQHojQwRP87Bo6IIeBVD0F+yoSidGqmvX0avXbXbM4oWgsfWf0DYbO8p77KX1pWkTdUusqnxOEBEGZwlP7pLNk0rqMfoJZP5FAjm59AFVrbGY8bvoAqtas9vy9D6Aan7PT+o10Cx2YDOTHKijIYReR0YNLWDMRMwmtpRJQ6d+/d5ccF2xBIe9iYEi4UsEaVViYS6dOmU8plYqdV4AStGfWbdXsZpOmZxGENmraT8TU/PO9g12svcyq3BamuTedqUpSYaRfUlZbzINw54UiIl0AEP2paf6UDrcdpWx7FoXjEbJb7TS5fwUlDu0gazxK2Xn5PK1QYx29EjlOO1oPscBEpILIThDd3eakvJLhlPOV71Ig3B0wI51DItDKXOcsriRzspl5ALg0YlnvTs7U0cUsLSVO0tsPCI24rKENN6M4gdDCiE/8AcMAFX3E+7ACoei16kjHhv4LoirBJKxHudEHUPXukORz6b4rzMSg4h1YV7DXAeSM3C96ycTEiEX6FbSBc0mvVZPfgVYGbtRYq6Wzz+NnwYINzxZXF0BFu9HjlRRrOEKWrFxyDp7Qwy1WD0AV3gpQsKFOfC96AWpw9ypK1O6kuCuXdRnpceylY8kzaTrF4xHGCyCwiSAdS6Ukw9194kQ9HWs/QS2hNspxZtOgnIG9AmPoVzoBqnRtRCwk1l+ad1VKLGRkD0rrhptsRyhA97z7SxaC0gUErQ768YRbaahvkPGPtPONTKZpQRP5+eC14HHMOMOxD8Sc6OVkSDW4TLsQ8/6D5Emfp4LWQvQBVK0ZSs/vfQA1PfN42tSSbqEDA4cQUVTkZQm59QiLeAcXNA4lXG4ApqmACiyoZkmSeNqYbAYQ0Y70cuGxooWmLL+ohycMx2i4JUvpoobQAwtiusGY2oZTiucUfVCL7zxysp1eWnWAuSmxeKh4gmCp/Y+Z43rl4ivtI/qQl+dl9fP0LAFqC7XTmzUr6aj/BBV5Cuia4ZczlyezBVbUY/4T1BBsZvlYB/tKyW13UaytgWKHd7D4U7fLQVGrg2IlZ9KqYx9QVdNBKnTn0oyBEynP6aOQp5Cl3JEWEJGEtrxGceT6A8gac1FXjKrRvgKsg+UY+1ELpOohZzIKUgVAxXcqLJFGx5CbKyxMqfPlqtULAZpbdQC2zVnOEVMLrT5ArpbACIEaJEmpihmBw+i8nW7PZ+KusPfMGKI6LSKFDPYI9qtRhYoRt9ukxTHE9pVeEjDR+VTkQuIZefysPN4ztG89hXavYrlMkYrG1m8IZV00iyy25KRxBm1SZcyHVwHagaWZK0+5clY3QP3oTaKGQxSzcyVcPOgnW34peabOYN8q/9YSnSCVf7ss5KTzM5bfgb6CbHpn9xra2bCPUcgEYkEa7B1Elw26gHwur+lPItMAVZqqTS8zsNZgIO80+BvpZ2sfpmgclmhe3DYXfXv09QRLqtkiCB/TTVQp+pOf7+vmUZTuVDbCy0qP67qZOSoo8FE4DM+b5LybqUe8Y+a+6LOgGp/xPoBqfM5O6zcyIXRgQoqKchiRkZY2TbCKulzcmqklpKNuJOXGwWsk9QsOUFwIuFBbW/GusoRqxjqLOo2kjcEFhwMY402nxVC+EVPFc6YCygCkL6+uocN1fqYhBWPw+RX96cLxA0zv9Vg8RoFokFw2J3lcHkbUAUEG/QBQDgSDtGTXC3Si/SS7oEOxMNOu/3ji99k76S7xjhaKtzWSxW4jZ+tR6ji4m+J2F+WdcxVlDRyeUoEQWPsXAhun1eMlbkltI/cFt5Att7+pbuoBqWItYfXWIk8xAlKlAiuP+4kxS46RgvhR9AlCEdh9jYJMAAe8i77ojfFT6h/6oYf8BcKzFg42I3AYmbPT8dlM3BV6AapIIYO9yeNB7ZrfgXyO9QJUWPRB0AaLI4CwHiulvC0tICjiQXkcH3czxHeL0BimZInHqO1fD5EF+UytNnZvwWMDANVenAy1UCN+SrINd/+epW3o2YPR4/sp8tGbFHNkMc1zoqOVnBOvJHtZT/DUHayidgBYHu6C7+2jU7toT+t+qjp1kLId2QQFYlvEz/7u5ymk74y+nkqyzZ2hnyVAlc+bGjOwnFhI/h48VwLBEP18zUPUHE4SSoLU74Fz7umVcjbTeUQLCnKZgl9JvpOnssE3xD0QwrrlHSiveSx2elxw5XMPT7lgECSBfQBVzznwRXmmD6B+UVbiM+pHJoQOdL2ggFOzp9KAwQUK2lwcRABrWpYPMSVy7V2qqRIkMjw1Rur+oB6w7TY0NHW5TaaqW+rOy3OZ6k8bIyzGaod8b5YfYJwT+oDZUj2eMxVQRu7TnQcaqdkfotKibBp1Rq5pN6ymYAutObKJgU63y0lfGXouFTuL2GUlgPLRxhO08IOnKcvONf4oALTfO/MmGuQd2JvpSPlueO8aiuzfSI6cXBZ7Go/FyHXx98nqLVJ8LxGPU8e/HyNLTn5XP+P+JnJNuooxcuop8dZTlAi1szYs7pwu4ZRrjbtbUkVsLiw4+Eb0gj+9IFXuighLJGcQ1QdSOUM0JzgSViejIFPEBkLYEe7Cej0vxHwLwRvv4btMxVDaB1D17NKez2TirtADUIULrN8fZPvfqKuuGImW2y32Mlw6UYTFEf/WslIqzWYqIJgE20EWgyjfwwygRsMcoGblJc8ZANTzvkn2kiRHhBJA5eEcbnb3yt2SjQJUmDkdpyqpafsaZim1Dz2L7EMm6roLpID1cFstvXNoDRXm5NPO4/soHI9SMBZi530sESefI4f6ZRXS7DO/ZWpzfp4AVdphI9ZVEVrxaWMtPbXrb9QYbGbK2O+NmUlnFo40NQ/ipUznEU0FUOUd598rZwfunsomrOphZ0TGMzNRRUV5zL03FOoDqGbm7/N6pw+gfl4z/zm1mwmhA0PJy0New6CilhuHFQgCIEzC1chofksc7JwRN7UQrUa0lGqqcXA1NbWl7FOqOFMjywgrAOYhlUXXSH1SF1C9hD5wX8N8ZgIoo+/Qjr95YCVZbBbKy/axmJvmjlb6+rDLKBta+c54LavbSr9ctZA8NhcjNcIcd8SC9MOKW2hAdrGRaTD0bOCdJxjdPHISQkANt9STfdzl5Bx+tmo9gTVLGcAEuISlI9HRQu7zbyFbXmoLM4tl2/seRfZvYr7gsIy4z/sm2YrO6AFSYSntbWyuHpCqZFXiaTsQn6OdI05uKTIDUjkA4K7eDoeNxe4BjBg5F6TgQ7g1AigrFa0cqHinz4L6+QNUfp71TCGDPYI9o7a+ah9uKrdb4T4MJYn8XjGTnkaquJH2h1u27IpM4PJ3Oja+SNFj+5kVNREJksXpoeyvzSGrK5nnWs5MLGK61cij1PqV6tCEZwLuRBA46VUiy+vbcWoPfVS/m/JdubTnZCVBaRmKh8ljd5PNYqUidwEcheneSbcbOr/Fw18UgCrvfCrrKhR7IE0USvxwLEIOq10X+NeapEwDVO7F1maYdwB3kpRsCRb2cJgrUqQWZyMAWGsulH5HmJjfH2JuvukoZu6LL6KLb2tri/XxxxeW7d6902uz2RLZ2TnIg1o7fvykDmke1HTMmVIdjz22YCDO6Xvu+ckxpd/7AGqmZv4LWm+mAKrX66JYDERHSUZCCAFebw7TorW1+Q2RTkinD66IEKABwpSKHqIlteVIdTCKyznpzqvfYqrWnsjxCguUEYFcXp9gdNXjAip/N5PW3JglSv9X8y4VevL4BRRPME3xJWecT8VZSSsl9sZ7x96nNQc3cSuhxUJjC8rpxpFXd7HwpvMTErG5zW8+QZEOPyXsLgZQLYEWcp/1daLScarNwQIa3PIqS58AHzbHqPPIOWKqZvdijUcJ4Nbi9rG8hyBjIpudsq66t0soEUzLEM75WppPtYMOaYFUNWuUXpCqZJVKgkx9KTnkuRyFBcgIQ6scaENAEy7D8oXpA6iaW1XxgUzcFWoW1FRWQL2uuvJBqLndSt2HlVwWzaanAbATzNT8vOG5SDlZkfIaSN9JREIU3PkuxU7WkCU7n9yTppNN5tkhZSbm4JenwkmVMkrahp6dgOc5gAhr5j1Vqg9K0BPhOlq2bwXlOXwUiUdpX2MltYT85HVmUYE7n4LREJXnDaEZw69iVaQiWlJqQwugIkxl5bZjtKumiTHeT59SRiPKtFPdwMMLRRqDqmfOlOfB2kW0hHMXBR4z2A9GGdC1+iDIndLRb6W29CjytfqI3/EtO51OghIIc4J5wJwgpMUMANbTJp7BfmltDVAkYo7zQN7OlwGgIoXebbd9d9T48RPb7rpr7jG73UkbN671Pvjg/GHPP//P3Z98sjdr6dIlA5cs+dt+vfOs97mWlmbbwoUPl23cuK7guuturOsDqHpn7kv+XCaEDkxZdraDCYjNzW1dydQBonB5QujuTcnKAiEKyJS60/HjsAM9OTQwWkRLau2rxT7I08Zwl970FJ5UG8QVsNwaOzC7M7oaj/8TIxBAOd3WXKvNQn/96FWWqBXacpBBtIb9zIKKGFNpwbp9Gqylg6cOU54zl8YVjcoIOE3Gc4aptfpjCm75FyPsQP5Tq7eASq69h4IxnopHrcAFL9HeTOT0sFhUPSVau4+CW/8lySOYoERHM2Vf+3NmwYUgJwQiCGgQCPVYMbXaTgVSU6Xe4HHCqd1l1axZRkAmwCTiyZFLVRQj7+MdDiLAhJq0+sI1FHMqPye0GHy5AOPTlztDa/K/RL9n4q7gyr7uk4SYTwisalZ0LVddtSlXcm9NZdEU9ZhNTyOAoLDOQkGnRfpiFDyKvuGuRdFjVdbbhnDRFd8X/8YAIpBehlu8tO6rrnulzU/v1qxnJHSMd8KRTWXeEtpwdCvFEjEa7C2l64ZfSVkOgHhOuiT+6AGrWgD17c21tGnPSfK47Iz0D/3+4TWjqKQwiwKhKIUiccpy2cjpsHXbPiL1mZoyvDefN5ThUMZiTvENpIMZWPQn0wAVFkhwjGitv5H5wRxgjwGw4k6AkoVbV7mF1az1XqkP4Bppbu5gTMTpKGbui95YUOPtTfZ4a53T6usftmbnp8VPef36Nd4FCx4asmzZ27uQFlGUVatW5I4fP769qqrSIwDqpk3rc5Yseao0FApZOzra7XfccdeRK664unnZslcKXn75hQFWqzVRXDwg9NBDCw42NNTb5817YFgoFLTiW5479/7DZ501pVsi5ldf/Udhff1JRyAQtPZZUNOxI0/zOkaOHDmPiGYOGTJs7HnnnU933jm324iqqvbTI4/8ltrb22nixEl0//3/xQ5SvcXjsVM4HKRly5bRTTfdxNwo/X7kGu19viw5hTpnQ8xiWjfEXPZGqJe7D6fLnVdr3njONQ/TGmrFGR456af1O+ooYbHQeRUDqbw0Oy0a2PRZc10EZYSw5p7qaKC1tR90MRWe038CDc8fojglvbXmwg1NTXmglmsVaRxidTVEDjc5zqggmyeHkVipsRxrraXa77C8dqxazHIJgkE4Hmwja3Y+ZX/tDrb22AMQhHAhY0+jD5kGqVrui1ogNZXwrhdkog0I7nIrAgfsbvY9S2P1lOZXjcgGAAT94DHu/M0+gGpuB2caoKrFgMp7q4chV22EApwJiyb2hJaXgtmYV7QFLwAoShDTrUUYiD7rBY9J8MzTPBlJE6WnDUbKpOLSCxABEin8DTAJoIo/8vEJRaBQerJ0ZaEWisZjlO/ykQNnYCLO/ttpS+YOlQJj3gc+2lRpbLQA6oIXdzFgardzxXKrP0xfO6eUSvtl0faqRpbK1WGz0nnjiqnA5+raPpkEqMhJDvZ6rJ2R2FU9X28m+432jXB16Omv/BkAYBg3IHPijsJew/0gyJb0fEup2h0woIgaG5XTGJrp72cJUMN7V+eHNv19CFlsCUrELK7zvn3IOeYS87kROwf8zDNP9t+5c7v3iSeerlaaA6mL73333TVszpy7jpWXjw5u2LDWu2jRo4NeemnZ3hkzplcsXrx0X79+A6ILFvy27Morr2lYs2ZVntvtjt9++511q1e/66upqfbcdtucOqU2nnjifxnhSJ8F1cwu/JK8U15efpnFYvmV3W7/6sqVG0I/+cnddP31M+nii7/aNcJZs2bSz372Sxo3roIefvjXNHr0WJox40ZdMwCA9e67/6Ynn1zELrLFi58hn898uhB5o9zi6KGmplYGhHAYAwwZIVpSG4hIEA2goCdtjK4J0fkQLnQI1DiY1bSFxxs66Jk3KztdoBIUjsTo+ouG0MTyQp2tpH4Mc4v5BFA2qh2VkjPJCX3CsTD5Ix3Mioo/qQpz+8lyUE3dYbIkrFTsKdR0+YqeOEChra9RIthO1n6DyT31xi7LpnDnxV7UCzq1UvGYnezIp7so/PGbzFpr8eSS76uzyDvgDGaREHkKRd2fBUjVw1DKiWOULalaAFcPSIXLPkCo0n4TbKdaAj6EdLyvlKuSs7KCJI3ngewDqOZ2byYBaqoYUHlvYS3EnjGTNxfgDBZ1KEWkDLqpZsRszCvaEqEoes9SPeBR9JV/W4jRjbG9rbcgByRiStVKKnAqfwdKJG714h4gOMfwB32z2x2MX0FL4Zqq392ZgZMpbeRgVQ5QQbAHMOyxuSnfnUtPvLqXWjsizL0XBWnTLj97INW3hMiX5WDp02BJRRzsFVPKyNpp1s8k0EtFBGSWGVjMZSb7jTa0FAJ696Lac0r1i30GRS7OC+F2jr+N7DHcq7CgNjRgb/beYMLnw7jHjRkLKiyn7S/dX0GxaNKFz2aPZ39z4a7eWlKfffap/vv27cleuPAPNUrrIgWowWDAsmrVirxDh2rc+/btza6tPeJZtuydXQ89NH/Qtm1bc6dNO6/5kksub4KldMuWTdnz5z8woqJiQuu0aRe0TJ9+dZPb7VGc+D6A2tsv50vw/ogRI84kIm91dfUHEDp+//v/obKyM2jmTM6gd+LEcbrnnjvo5Zf/j/33jh0f07PPPk1PPPGU5uh3795Jjz66gD799CD96Ec/oquvvpaQQiadBZcftI+cvj7O3HnTFcMhWBw7OjqYJY7FJabRnVdrHgC4cQADIMpBKg7olduO0+qth8mb7WCa5WAoSoW5bppz3RitqnX/LlyOlay5iOU5cLSVmv1hyvM6aURpLjnsVuaijHXRS86UqjOIUf3H/tcplAhTJBqhkXnDWE5UkCcplbi/kTpW/InIaieyO4lgmSwoo6xLZrMUEbBOwiqpZSnpKXxZWY5SvaBW7wSDLdgaC1FOYTHZOq17avs30yBVHv+pNgYeP4d8it0FYT0ANwkylS2hyKOKHKhqShnxPshrpG7A0r6if/hNTbOOfmJfA5xEItpCiRmBQ+/6n67PZQqgQskBJYKWEkLMG3fVzWbM0UYLACAjYNNhlRd1G415FZZgvAcSQCNCMDx4AOrUYlRFnzBn2NOBQJjgxaDHtVe8mwoEMwVOLEL+cDu57e5ulk2tueYEOHbKyspi4T3gVBDW1XTcz+J8SJ4TSesq8pefOtXE1rau4xQtO7CceezEKUFnFVdQYWQEvbT6IEVjPF95gddFN1w8hD7cX8/+LUpja4iuPresy9U3k0BPL1OtGesqV7SDjV2/4kJrfaW/m0nHl876oUDmllUeDsBT2STJllK1hb1ZXFxI9fWQsYz0Sv1ZM/eFGYAaPf5JVuDt34+kaCjpg2t3xTzT76u0l4zuHvNmcGibNm3IgYvvK6+8uRvzK8rvf/9I6dSp57bi+xYuvrNmzRwzfvyEtsmTz2nz+XzRBx+cN2zZsuW78M7evbs869atyV2x4u2iWbO+f2zGjJmNjY31ttWrV+WtW7c6PxQKW55+emmVUvf6AKrBRfuyP75t2+7EnDmz6cknn6VBgzibKEDmH//4OPt/KLW1R+j+++fSSy+9lnI6cDnMmHEVTZ58Nt155900ZsxwqqurT9shgMbx4YD9DocSLI3pzJOF/kPQhSVTxM7qiX9J9x4BoILFBzGpOEC5dYFf+q+urqQ1Hx2l3Bx+qULrW5Rnp2nnWqgjEqAzfKVpScui5HKM+dm4u44+rWuhhD3I4nYqziijK6YN7wSA2qyveubqxU+WUa3/BOW6vGzs9e1N9I1hl9OYwmR6BWk90SN7GGmRxc1jQdFPS7CNSr7/CEtqD2uuWQIqtJ9ukIr4GuwxCMmw/GuVTIJUpfhPtf4osePCcok4Hq18vqksoXqsRjxdFJjBlUFqKiusGA8XZBK6ct+ZETi01vF0/z0TANXnczO3Sy1iH/nc6dkz8newV7mSAq59+iVTWAbxrjyWWWk9ufuxhylKANZSKV6U3tdS1uAdztDK5wx/A6gKgMqUtk3HGMu4rXAQY/7VO3dwpz3V3kj/d2A5+SPtZCUrXT74QhpVMFzX1hV3M89F3NFJgMOtq/iNK5C6s7XqqljlIWFdBUgBIKuvb2D35XN7XiZ47GQ5PMyFuDXkpxvLr6Z4wMuUq7CiVgzLJxjP3t16lHI8DqZkbQ/A1dbCXH/FvZ9JgIoYVDO50PVYV4UnWG/CnVKtDVxkT5yo783ypXzXKACWp7LBXhPxq3LvBXwzcFGur4ciSN858Nxzi2n16pWsz0ohceeff9YkInqGiHwWi2XdwIED71izZk3K2FAzADWTFlQYe2bP/vboSZPObv3xj+ceQ1jemjUrfQsWPDxk6dK/762u5jGov/vdY9UzZ15b8cYb7+5wOl0JANh1694rfO21t3befPOMcYsWLd5fUlIaWbTo0ZL2dr8N335RUXH41ltvP1lbe9g5e/asscuXr92utAH6AGrGPqnTr2JYUgcOLN09e/aPaPr0r3cNYOfO7fTUU4voT3/C90Z05Mhh+tnP/oNeeOFV3YOElrKoyMu0mmbBgbwxXBa4nGHFwb/r6hp09yfVg/I4U1hn8bFmigFPT6e5RdLKLMMAiwLM1DcH6anX91E4EmduSDGKUuGZ+ylgaWHVWshCXx92KY0rGq2nmZTPCJdjbklNUFtHhF7fdIBaXFUUog6WOiYectPsKZdTblZPQchsBxZ9vJS9arfamWDTGmmji0qn0pT+uAN6ltjJgxRY91cit5c9b41HyUIJ8l7/gCZw0tNHAVIhdGkBsVT1Cdd0rCnqMmJZyRRIxXfE2Tn10e3LQaqW5VI6H0og1Yg1TLh2KuV31CPYoy96cqDiuT6A2nMnZwKgut2cdMdoMQJQOUcBT1fDrZr6c26jX3pJmUSKJaFEgZWXhzroE4LRVqp9LB2HyPMrte4yy/CqJRSu+ZDIamOePznX/ozsnWmsxBzL5w79s1hAHBSjv+z9J1N0gsAuEotQezRAs8bcwNxkUxVOUJjDUsspKd3w7Yq4Vfwtta72Rj6AB4jb7e4MSYlSNBajRTv+THlObxf7VnOwja4YfDGNzB/WYwi1p9pp2/56BlbdTiudd2Z/ys1xdj2nlTFAa99iTWqOt9GJhgADwqMH55Krk4gpHalU1KyrWA+ANKxHJopRAGm0D72pH9+J1LoKDApDBrfmh5krelFRPp06pe7mLu3v1q2b6bnn4EH4NFNcKIXEXXDB2Xvi8fht8EosLy9/1mq1frh///4nU43bDEBFfeF9q/ND76c/BhV1NzScsi9c+PCg6uqqLLvdnvB6fUgzc6SiYmJA6uL7yCO/Ltu8eVMenqmomNC2ceP6AgDUlSuX573wwl9LnE5n3OfLjcyf/9tDoVDEMm/ez4cFAgGA1cStt95+7NJLr+ACq6z0AVSjX8qX9PlRo0adn0gkXp0//8H+l112RbdRwsV37tw59I9/LGP/34iLr7SioiLkT2vtlVCP+qAhhkYQBy603xA00hUDgQtEnjaG54rzMi14plxktLYVQCnAA4SH5ubWbpq+k00BxkgYicYpv6SNtrasZ9ZGdnjFIuzvuZNnazWh63cIAHDRBkhtaQ/R3zZtpKinnrLtuUywrA800pWjJ9HZpfAaT095reptqm4+SF5HDnPRgjb/B2fNpAGO/orKDqxhaPMrFDv6CRMm44kEOafcSPbS3oN0MSLUC9IiMxpvgGa4jguyHrMEDxyk8hzA6dCMC9AL10ojQqI0hYsawZHaTpBbQo0S3ohUIYLZUbSjF7D0AVTz32gmACo8ySTeZLo7p3e95elqzIBGPXs0yTycTK3k82UxJmIj8XFq/RPKHXncrBQ8hw9spfZVzxBFk14Z1rwBlHvLI93mVepGzC1IcXbPhGJhemrHXynfneSLaA610jXDLqOhudy7SqkI3gJxNsbbmym04x1K+JvINnAUOcd+haXVkhZh8eJES2As57GrWgpAWEQPtx2j9kgHDe83mAb4ijrjXJNKgOf3vsbiT73ObIrGouz++Nboa1muVSWiJdyj4HJwu+xk62RDFn3travs9qoG2vJJPTkdUDbHqSjPTV8/dxCLeU0HQJWvh7Cu4t5G4co8Ds70Wgu1PkLcGyAxOnmyUetRU7+nu36cAZCnMDePPPIwrV27li688EKaMOFsOuuscygrq3s2AXmna2oOEEK+wMeCohQSd+ON19RUVlYyV4ORI0deSES/qqysvCTVBJgFqKgzEyy+phbrM36pLw/qZzzhn0dzw4cPH2Sz2T6yWCw3r1+/dZVSH0CS9J//+QCNHz+R/ud/HqRBgwbRLbd811B38/NxFkMX2wAAIABJREFUQXfocmNUqlgwuuLAQlyOVLDvbR6upNVU5DLtntNUCO9IpC1P3G5oEgw+zAUqnnsNVjbEpKIAmCuVXfWf0L8PriafM4f9jAscGvD/PGeOwZbVHwcgweGOy+7ZTSuotukkua0uikQT5M6K0dlDhtC0gZPT1h6Ej1cq36K6Du5CNK1kMl069HympFAib4JGlFnyjlVTR1MDka+YrLnFaeuPqAjtQLgzAlIhKGANsYfSoc1OF0jlAm82i8firovGsqoIkArACGuOXhIYzKUUpEIwlroo6lk0lqbCC8svT9vBrbD6SHP05EBFH/osqD1X4osEUPVYzEWcpjSfrh5XcPnI1fKniudw9mBPw81WCgLMtKUEaoVlVilGVwpQgx+9SYHNrzECtq5itVP+HdwTShQxdwDOUqZe9H3xrr+zx0BkF4vHqDXcRreMnkH9spRJ+HC2wdMG9zOUXIlQB7W/uZASgTYicAYk4uQYMZXc09QJFjEGwQws0tiI2FUpuMfdtqz6HdrTUEl2m40sZKUby6+iEXlDu42vOdhC/6p+h6Uzg0fRVwedy1KWcW/OJNGSnjQ2vXGVhaL0z29XkS/b2QV8G1pCNH0q2IOzqbAwlxF9mfEg0DoncU8JeQngTJpjFIC1NzHB+B5ggcwUQMW3hLmB9126S0NDPb3//gbavPkD2rJlC5v7q6/+Bv30p/+tqyl4EyqFxN1xxw82VlZWXoBKhg8fPsJqtf67qqpqZKpKewNQdXX2S/hQH0D9Ei6qfEijRo16PJFI/ICIDowYMXICfr/uuutpw4Z1dNttdzDG3qqqSvrd73iamZEjR9MDD8xjAelGSm6uuysRtZH3hAAKyx1S0ygBRLPaR7k7L9pSizPFQczTjQTTGuuqNBeCaRYXtUg1Ip5DzK2ayzEu42d3v8QeBW0/wN34ojF09bBLjUx5ymdF+hk89EH1dnq3eis5Ytksp5zNE6CpJZNoeN7gtLQXa6mj8EdvUdTfQMG8/pQ98UrK8nKwKc8XizkDUJKmZ0lLJ1JUohekpmI07m0fkyDVnIUfMc4AhfAOEACPE4IZBak8pg9CllHtvHDXhVeEALlG5oWfEZ4uYiTsAz0xgn0A1cgsd3/2iwRQtSyhAjTiLJW62JoBjWoKEA5cPUzYB3iUF96WMe8Eef8EuRfGocZyLfZ++NB2al/xpMSCaiFrYSnl3vzbbl3jABVxuLEe321t23F6/cAKlpsUAOu8gWfTOQOYiNCjwMOHu0wn2VAjn+6g4IYXyOLgFjwAYIqEKOeWR8giya2otgtxBAlXYJwtWDthWd1fX0N/3/ca5XZyDQTCQUacd//Zd3Q7u6DY3HxsG7WG2+kM30Cm4HTakrKLkTQ2vQKo8QQtfbuK8nKc7IxDAUC9ckoplRUDoOYxhWtvwKLaPCKfO1ytpXl39cSu6jkdMgkg0T7uWBBI1denH6CifsgLkKmOH2+knTs/ZvN/7rnnaw4dltSf/vReUgqJu/PO2zZUVlbCckpjxowpj8Vib1RWVqZ04eoDqJpT3uOBPoBqfM5O6zcyIXSICfF6XYwCH5eh3oLLFhcfQGmqtDE4gPGMXpIkRpxjEe5kXBjXI5CLdCO9jT9MNX6RLy4V0yyAMrR9SgnDj/pP0MpP1zNXpvK8YUxjDLDa2yJ3TWVkFzYrravaTNUth5jVbWT+UKooGq3KsGukD4lwgAKrn+UWAFcWJTpayZqdR+6Lv9/lIibIm2CNxF6Byxtn59Uf52WkT0rPpgKpQtEAgJoORmN1QU64++oHqSIGlpOYdJ8z/j0YB6lwtYTgLM0zqnd+BUjl7xtnm5TG5OHfeuroA6h6V6fnc5m4K8y6+KoBTewpuNNzBtOe8XdGXdLFLMhdiuWuw0qzaqYt6bhEvDcswGrnm9T9GM8ENr5IoT2rGaM5QKL3uv8iW96Abt2DYkcalyd3QYYHTnOohbLsHspTiD0VceOMl0Dm2RP+dAcd+uAFOonUM0R0RiRB2eEw5dzyPz3cfPXsRMyzAKzb6/bSS7v+j7IdWV3gui3STr+Yeg/ZOsFvW9hPbx98j1x2F7lsTmoKNtMZvjI6f+DZis0JsCq3rgpXYAAZAHmzIRXv766j3QebKNvtYG7EUOrOuHAwuZy2jAPUVPKRGWZgMYF4Nz8/N2MAEmsOeaehoVnPFjH8DOQtyJhNTfpJb8HL8otf/Izuuec+UgqJu/HGaw5UVlaOQGc+Cxdfw4P+krzQB1C/JAupdxiZEDpE29nZYO+zMEZcrQLhGdpKXJZCu5vqHWjQQeyix21S7s5rNG2MACS4jM3GDyqNBe5MnLwDOSbBNCtxzZK9kC7XTq11EL8Lplm5ayoOdghFTc08xl0IBnrrTfVcrKGWgh+8TNasJCEH4pk8l/6wK6cpLkeQceBv7BNo1z+PogRShaIBWuvPInZZryWVC+3c2gEgqbaHUR+nl9dvSYXgDiWBqNuongDpReCZIWKljK4llE44N/CN67Gg6uXj6XPx/WwAKtYPHABGi5J1Ug9oBHg1QgqmBFCVXIfTBVBFflZYTjkwSs3yreR+HG9vYq62CHOwSBSVggwJd6xwqeUxoImudDBa9xtX2PJvXumMO9RQQx9/8GfyhIIUhdKLEnT+wCmUN1VfDnXpPMbiCdp/uJkOn2ynbI+DRpZn0bM7/8ysoU67g9pCfir1DqDbKr7VZYU83HqU3j/2IRV48llVOBcAtm8e9Q1dWwzPC2U2rL9eL7gokKOaKzv0KLXlY9hd00RHTrWzfKuTRxYysiSU3oYppRoQLJA8PZq++9GIdTXTAFJ4bDU2KvLo6FrHVA9BtoFrenOzPqVoXd0Jmj37O/SrXz3MYlaVCkiSLBbLj/bv379x5MiRixOJRFVVVdWCVP3os6AaX8o+gGp8zk7rNzIJUMHQiD8NDeoHDQcc2QSwBgCo1yIKoISSimnXiDuv1iKKeFi4M/XWJQdCBXLFIQG8ESvbZxEXq4dpFusl4oK15s3I7/G2egqs+TNZsnKZtj0Ri7J0CVlX3EVWB89nyhmN+cWCSwa5EI2QkBjpj9azYk9Auw6BEvuNp7RRVzRo1Wn0dy2QajQG1ghIlQrHaIeDVGPWbKTvwHxhXUVMqdE5EG6Q8DDQEuj7AKrR2U0+n4m7wixAlVsnkyRFiIdWZ6Q2wjotnSlhQZWmeNHy2jDTFqybVquNuWfqARfCCwFu9qmKlAxJ/hyUbTj38Qf3MUCqiAGVjlEAB3kIirS+NUc2kS0aIcvRTxhIbs7x0eSx06nUW2J44+2uaaR9n7awPN9gJfa3B6l0SAe9e3QVSyNT6iuh746/kfp5C5giHH3+tPEoLa9ZS4XufHZHBUEYlUjQ+f0uoo5QjAp9Lspy23X1hcfXOhnRIzzBAOShgFMiWtJVoewhxHE2NbVk5L7Qm2NVqd9a1lXIanATTyXXmZkP8Y6QQTDvmShQUvFc8/oYjh97bCG99dbrVFpa1tUdeUjcBRecPZGIliDNDBF9FI/Hb62urk6pXeoDqMZXtw+gGp+z0/qNTAgdyYPGRjk5bjp1qifbG09mnkwbo+S6mmpicXkA4Cm5D6cTmEr7IC5ogCIjrKfSOgRggABixm1IxMVyOv9w2vYedxXj1lFYc7U06QCpKGrkTWY6hnWL7FlNkYMfdVnxnOMupZzRUxig55rsJACSp8Ex02Zv3uEupllMsMN6mFnP3rQv3hUgVbju4v8DLIIEScQuGwHxekGqPP0GhDl8I0ZAqhDiofQRMaVG97UAuWgbVqJU69AHUM3vuEzcFWYBqhT8qZEUKY3USN5f6fvClR3fkbCmac2kUYCKcwR7mccO6rN86SEI41ZBECJph0GgPgFW8T1BeSSYdXF3aXkRrav9gJ3dcK9FaQg00sTicTQwp7/WdPX4/c33D5M3200eNwj6QgT2+ilj+lFZcRYjcJKGseDeQr/tDhttOLKFqhsOMT6keCxBWa2jaH9NiBAGCvbcGy4eSgOLuIJbreBcB3CHQlpYVQVA5e9gPrmFNpHQFy4kbyuTANUsR4fSfMitq7hnMDewcOrZU0YXHuCRWzgzA1Ch3ILbeGurdg5yvX0343HTB1D1zm7yuT6AanzOTus3MiF0iAlBHs/8/OweCZ0BLAQLJ9zyjAjPom5+iLl6uA93TxsDl5zu9Pa9XSxB1MNzg+q3lOGyx6XHc2CCuEP/u/I+i7hY7sLTe5CadOcNGmIsTkXepDXP8UArI8+w5BR2i03C+sUbjjAWSHtuEfnKhjPtOCyTSpZrngeP74NMXJZq48D+gyaWU/iHmduxlvCmNSe9+V0KUvFvXMC9iZvWA1KlORhF37k1E94Q+iyp0pg7EVMKS2ggoH9fS4EAhA/sAyUQAYEyhXGt2/SbETh6s36nw7uZuCvMAlScWVAS4juEwKyXaR3nBc5ePdbJ5D0GZY+HKQSNKE+MgGH0CwpXDgijmgpC0TcRDwqlqVIxAk6V3ucMwjxFFurCvHEXaeXctcf8dfTxyd3MDTcaj1KW3U3nDjyrG0mR3r2+ZsdJntk7EWVg8FRzgM4b158x4KYqYPttjDRTHLldQ1n0z+UHKTfHxdyN/R1hBlJvv2aUqrsuwofQLsCpWukeu8rvcqPWVaRqgRWyN7KAWv/SCVClbXClpIfJXii4k3nKr94xA0vb4N4QPLVdJgruHJsNd1QfQJXPb2tri/XxxxeW7d6902uz2RLZ2TnIg1o7fvykDmke1HSvy5Ytm7IXLXr0jGg0avF6vdFf/OJXhwYNGtJDCOgDqOme+S94fZkQOsSQEc5WWOiluroGdrnBNQSHP4QSHj9oPEG7qFsepyCPM2UXm0FWUr1LxYl6eHJwrSTs6cqBKe9bb/Jyirr0uPNqzYlRkIp1Cq77K0UqNzHGKkt2PmVf85+MDElakkyzyonfpc9C28pddjIPUnl6FmjfkV4lCZqFu+/nCVIB1DlBTKxzLrRWL/XvWiAVQJSTQXV3lTICUuVsrPhkhSJHL+iQE+ZgDmDtkPdLbw5UzEofQO25NzJxV5gFqPDMwX0CazkAnd5iFKDijEScNEpra4chJRisoch9mSq3J/ckwn5FWrEAu1eMAFS8p5YTFlZTfj9pW07V5g+eMrjDANagKEy6AtspGuV5S/FHeg/WdzTSyUADOW0OKsspIbedgxm9hceV59CxU220fBPI+JA+jago10UXThjAAKbeUnmkhd7adISK8jzMfRnn9smmDvrPb41n56S03xzsc1KkVKFD8ra7g1XW207rKgetanJIJgEqZwhGOJL+b0PvnCIG2+PxMAunkdhVvfVzZQ0snOoKAr11KT2HGGrsA79fvxJUqz0z98UXzYIKN/bbbvvuqPHjJ7bdddfcY3a7kzZuXOt98MH5w55//p+7P/lkb9bSpUsGLlnyt/1a82H09+uuu6LioYcWVo8dWxF4+eW/F27cuD7v8cefOiCvpw+gGp3Z0/z5gwePJe644wf0u989RiUlA7uNZv/+T2jBgoeYa2X//v3pl7/8DSMNMFL69fPSli0fMpeNsWPHsINfr+CZqh1ORe5lubIAhDkW1c/Oa2QMSs/iEBVaPjXLnVnLpN6+mSVvMurOm6o/mHefT51hWP5upOoDCqz7K1G083KwWFky9+yv/4Q9KizUcnderTkRuVpxKWfKkqoFmj8vkNodNAeYwKvG+Kw1jz1/58RJSkIWBBX8pvQ9Q2GA3+EhkWo9lIRroyBVKSemYECVMvv2AVTjqy9944sCUKEAwR9YbYxY2jEWvIeixxIKgCniqqE0wd2lpZCUzpcWGObnsKebBdiI1VW0Jf+GIvW1FG+qpYTDTfYB5V0pX4ysvhZY414a9i7ACiugAKu94WgACAZIFOEKTW0hlprF6bBSSWEWOez6wSnGW98SpL++U0XeLAd7t8UfoaI8F409K0g7Tu5hIPqismk0LHdwl0dMb0M19FpX+/UroIaGJkN7Su8aZjKFjZr3mlbsqt6+4xvg6Yv0Z3/QWzeeQwYI3AXt7X0AVTpv69ev8S5Y8NCQZcve3oU4eFFWrVqRO378+PaqqkqPAKibNq3PWbLkqdJQKGTt6Gi333HHXUeuuOLq5mXLXil4+eUXBlit1kRx8YDQQw8tONjQUG+fN++BYaFQ0IpzY+7c+w+fddaUrsUNBoOWt99+PX/GjJksFnD79m1Z6Mff//7qXvm69gFUIzv9NH+2vLx86ogR5R98+ukhevHF13oA1DvvvI1mzbqV5Yj6wx8eZYDshz+8U/eom5qa6G9/W0L//Oc/ac6cOfTNb34nreChuLiA6usbPlNgKh08AAsu6dZWWO6Sv6TDMql3koVVWi95kwDNuIQR15OOYoRhOPD+SxTZtbJbsxZ3DuX94AkWk8wT3sMyaVzzmymQagQ0i/X4rCypSusphMtMg1QtYR8AFcJMKsFezfqDDQLLqB4mU7U65CC1D6D27mvPBEBFj+z6OGuYElJYGwUI0gM0paPGfoRCMxWwFa7m0nhTM/lTYXnFvaDUR8E4DOWO1AKsx+oqX0Xp/g8f3U/hPasoYbEhAJOs3iJynXUNWez6044BaAAkot96WPL5GgqiJZ7zU4BVKBp1hL6yIUHhyts1Fmqitav3HGqid7ceZUAwz+uioaPaaEvDB5Tl8LBcr1GK0h3nfIfOyCtlSg+edxVuxeYtz6JP3cEqt2bz2FV4aRQyBXs62pHPQSYZguGpg7Ndza1c9MWsdRVylc1m0cXKrrX2Sr+DQAqeDR0d+uK89bTxWVtQm0Mt9lMdp5z9svqF81y5xoUlhUE988yT/Xfu3O594omnq5XGLHXxve++u4bNmXPXsfLy0cENG9Z6Fy16dNBLLy3bO2PG9IrFi5fu69dvQHTBgt+WXXnlNQ1r1qzKc7vd8dtvv7Nu9ep3fTU11Z7bbptTp9QGrLhz584ZMXLk6Pa7777veB9A1bP7vqTPjBw58pk//nHJ7N/85v/RH/7wdA+ACsvqTTd9ky699Gu0cOHD1K9fMX3ve7M1ZwOC8WuvvUzPPbeYiouL6b777qeKCuVk35qVKTwg3HkLCwsoENBPpW6mLa13BLEQACIudg6yeE5GMyBLqz2l3/WQNxkBWWb6kGQYTi3UhPeuoeD7LxPFhPbSQo4Bw6j01keYu15vQTMEWIBEudLAzJiklmYjoPmzAKndY5p7WnY+C5CqZSHCnKcCqUopMuTrJNIwqVk1tEhiAODF96g3Byr6YEbgMLPHTqd3Pk+Ays/WpLVRD9BUmttUVn8OkrhVE7GWUmBpBqCqKXBEmhrcEXLGbz3flHxcAqCy2Ou1f+WhEw7uVhtvayBXxWVkKx6qa6uJuwTnXSrX5FSVCcIiRlpkhytwkhVYLd4yHe2m6lMkGqdQOEZZHjst3f0Pao92MCInnB/IHz6lZCJdVDq1K/0OXEyhHBNAW5Aiop4TjQGy2yzUv8BDVoNhRAKwYrzwPDp1Cgr29DEDiznIJAGTGRdcI9ZVfOdsXfz685Tq2tydDyE+FwqIQCAtuI7Vaua+MOviu/7opvxXKl8fYrNaE7F43HLTyG8cuqD03CYjc6D07LPPPtV/37492QsX/qFG6XcpQA0GA5ZVq1bkHTpU4963b292be0Rz7Jl7+x66KH5g7Zt25o7bdp5zZdccnkTLKWIL50//4ERFRUTWqdNu6Bl+vSrm9xuTw/tTzgcsvziFz8d4vf77Y8//lS1w+Ho8UyfBbW3q3yavQ+h48Ybr1EEqLt376L77ruLuee63R5avPjPlJvbPVZQabivvvoPWrLkSfrBD35E3/ved5jWUOpqZ3aK5Oy80Ljm5fl6RQZjti/S9xCng75AEE4HyDLTJwFAAcykQs9nCZpxqcB9BlYBNaCZiMeo49+PUayuhpEjWWx2KvrmfAq789Lm6pQOkIo9j4sYFgQzLulC4IKbUjoVFXpzmmIPZRqk6mUpVQOpchZgtX2fivhITx2wSuH7bG6Gu7G+r8uMwKGv5tP3qc8LoCLWGd8iUggJ3gItoKk2yxw0WRXTESm1I+qRp7XRs4oAqMAvUmutVpoaswC1qQlePHHqeO85IncOWTpd9ABQnWdeQvYBwzW7LPI46/XG0ayw84EkK7CDWQsB+mClTK4lJ5xLd7tq/Xt+76t0KtBIOa5ssttsdNLfQBeXTqVpA8/q9orUhRkxi/VN7fSnV3cyt2GMY9hAL3378hGG3Y4xH1BsY7xJC3PSupqONDaZjG9NhwtuKusq9gInutOXp1TvPhTPFRbmUjAYZX/SVczcF2YAKiyn895/pCKaiHb5utst9vivzvv5rt5aUjdt2pAD19pXXnlzN8+Hzsvvf/9I6dSp57ZCnhAuvrNmzRwzfvyEtsmTz2nz+XzRBx+cN2zZsuW78Pzevbs869atyV2x4u2iWbO+fwyuu42N9bbVq1flrVu3Oj8UCluefnpplXTu/f4263333TUCBEkPPrjwoNvtVryp+wBqunbsaVKPGkANhYI0e/Z36YEH/h+NHTuOXnrpedq2bSstWPC45sjA8geNIwLpc3IQ85PQdAdJVSkOK1z0/JvpHmdqNg5TcxA6H+CESZzkApdNprR+eroj+sLJguJs/iEkfZagWU8aHKyly19HFA1RxFdCMYt+9zM984BnYMmGIKrlhiSvT8syqbd9PJdukCoESCMpiozGCGuPLxmTakRoF2QznLWb3z1CANQjiKiBVCUmYaUxAMiGQvqZs80IHNpzd3o/8XkAVG6t4amLpNY3gElBkmRkVvme60nspdaOqNvIXhfvSEG0ktuwUr+13OaV3kEMtrD0+fdsoOih7WTJ8lIiEmZKKtfUG8jqBjGMegEoEMQ0mWCVFS3Lc66iLQjDvUndZmT98ezh1qP0SvVbcLZlysMcZw59b+yNlONUZwfG+fHq2kO0vaqBuQmj34iPvWraIDr3zGLdXRB3NMCpPFVdMp0NquNES+xfnceWEdLHTMa3chdca9pSzMmtq5gHKC/UmPt1T7bKg3B/7ugA87B6vmSjbZi5L8wA1Kqm6qwndy4dGYqFu4JEXVZnbM6EWyvL80f0yuSMPT179rdHT5p0duuPfzz3GJiO16xZ6Vuw4OEhS5f+fW91NY9B/d3vHqueOfPaijfeeHeH0+lKAMCuW/de4WuvvbXz5ptnjFu0aPH+kpLSyKJFj5a0t/tt+L6LiorDt956+8na2sPO2bNnjV2+fO126Rzfe++c4bm5+dF5837zqTT+Vb4OfQDV6M48zZ9XA6j79u2hhQsfoWef/RsbIVxpr7nmclq5coOhEWdlcY212aTLetLGCJfKz/KSw0XL2VwRbM/ZXHNz9ZMFGZpEAw8LEINXILRI84YaqKZXj6ZKg5Np4ihpx6Xu11oDMmKZ1KpL+nsSpIJR0dyFyHOaZjFgh70mdwvU6k+mQCoYeKH80NsfYaFCChpchqmsWUpjgsWWsycnNeu8DpuuHLRGwprNCBxa63C6/54pgGqzCZK75AxBGOfrzdlt5ZZvNaCpNcfy97TaEfXp9RaQti/2N9yFldyGlfpqFKBCEYlvAt8W2rMhvOSTzRQ4Wklxu5vsw6eQNadAdVoEYy4eQNx8JuIh1RrHmYa7G0Ctu0stFNz6lUmi/vZAhBpaQ5TjcVCBT505GGC8PthIO2r3ktVio7GFIynHwc/XZn+YETKhDnlZ9Noeam4Lk9tpY94//o4ITR03gL55+ageVmGlMXNPNLDN+zVTy+glWlKbW/BzZCq+NdMuuPCK4+zeNvY3vh+ezg3xzDpdYFIcBLAu+/2I/TZ3HytVbea+MANQM2lBxbgaGk7ZFy58eFB1dVWW3W5PeL0+pJk5UlExMSB18X3kkV+Xbd68KQ/PVFRMaNu4cX0BAOrKlcvzXnjhryVOpzPu8+VG5s//7aFQKGKZN+/nwwKBAMBq4tZbbz926aVXtIh53LVru2fOnNljS0vLgkhtg/+fn18Q/uMfn+kRC9sHULVuuC/Z72oAtbW1lb797f+PvesAt6I429/tvVDFEiuiUWyJPQQbELH9akhsxIgoIlE0IvqrWCkaggXpKpYYJVGD0dhiAeS312hEhdi71Mvl9gvc/3ln+O7u2bNlZnf2nEPcfR4f9Z7Z2ZlvZ2e+9yvvN4RmzLiNtt12e3r66afo0Ufn0/Tpt2lJoLQU4VlFtHJlndZ99nBeWcvUv2wMh82gHmacFmAoNLAgwjoOxcleh5TJgrChqpJLaAkloDGH82Jjh/wyUXbFa0iSaKOqM/waCgiUNFkHVo8NM4qMVEBqGM+kzpjCgtTUtdakVbvROT7TIFVGLlQJpkUdpcEOUvHfuHSIbpzERzoKfQJQdVZtettMAVSvPFD7iFAzVBJw6YUB2j3uVl4r9mt/Rs8w7LqdoLFAhhSrlFVzCwt2e2sMYJxnncWuK+sRM7suziSnx85izJV7cqYujBFpMZgDQDFfqSG10sAqw4GDQzE/+3Yd3ffMR7RhY4fwOB7+0y2p/15bpk1Jls1BjdPUfau+sY1mPPw+rVjTIoiTcO8J/bdLYS9/5IXP6fUPV1B1eZEo3LOusZ2O67cdHbxHr87cVawpjJfHznuj9FAXCnCqs19iAt5lbEC45K4XSQImlPcz/1ZxpsYZgosyMDIHvFV4aiUjfLGQn4m6qwDv9fXN1N6ubwTxNghUizoSOlcYgIr+X/j65S4PIgc1L79jQ4e5HFSdsWerbQJQsyX5LD3XCVAvvng0nXXWSNp1193o5ZdfpNmzp4sQ3drarnTppVfQVlttrTXSoiIAlTJavlwwSAdezjxTHGaqoS069UkDB+LSgIEMQCk8R24HjUoeZphn+90D8CFBsxXOC4VKhmylMgybfrZffxx+DWu4JKppUlI2TI8RSgnX3rX3HdUzqTNOXZCKdwmlxm+t6Tz7KHg3AAAgAElEQVQfbS2QGk0htTMHg2xC9fu0K6LIC21v3yCUZigjOpcdpKIfrC+VPhKAqiPl9LaZAKgcCo79FevD61IN7Xbejz2pvLyYWlraCWtHFTiGYdfFOsV3j7B2VY+gSm6tDAVFCGgw+oCHknNA8Z1awGmjqDUKQ2pUYjqdVYXoGllGRkb3eF0AJvaaq5JZV+auOkv9AFBOvu9dASzh3QRIbWxeTyP/Z1fq1U1GOcl8/Apxrx0U8/Nn/f0D+vCLOiopzBfgc/2GDjpj8M60V+9unUNsbl1P9z39MX2xHCCTaO/eXemE/tuLs40vPMfKuYV3eOOmEngUCpy6yUfFu7rFFt1E/fk4rrgBKvNY2I3/PI+wzMB2OUA24CMAk6+pK1MeVB5vHCy+pmQRZz8JQI1TujnYd1xKB08VdOFdu1aKzdLvQOXfZLhXsMfUS5Qq9Ul1XwMOeWYTVQmxtEJco3m9VMbJOS1udUMlWVCBdh6mynNV2jDRENpmquyK17gAUnkcMqxP5lzhfYZlq1SRgb2NCkhNJbWSoeMmrygg1T0/FzmpMCLp1SdEX1DgQUClAi6dMmB2Xkm6sj7Q8AGFEiy+qlcYhUO17821XVxnBYf42uuOBtUbVSHHcpMze2exHgCQVIGjLnkR1jaehf4bG1uUX3kQQNUBp86H4lyShGUgDcsXewvAqanQyaBJ4iwKA4qDaq4CON5w3ztUUyFr3Ip9vqmdTjpiR9p121qxP9lrq7qN87I5rxMYehEijaupdT0duf82dPTB26Y0h/wRBgy9prrcep7X3OENhNyx3sKW3/GTq5d3dYstetC3367QNh4GvUP8jrNUlv9SX9cq/XIblIHBtxl0Lof1rvbq1Z1Wr25U/vZVxh7mvAjrQVUZz39rmwSg/re+WY95xaV08OOgEHfvXiU8qF6ht5bXVHpLdZVd59SYxRUhrlEuHCiy1qk+kMHmiRDIuICZzIG16Ni9gIxKiGvwASgt0KpXKpBp7lQQTDPaqo6H28GCjrUlCXPgBU/PbdPtU7e9ncHR+c7iqFHrNj5dkGoBepDLuCkO4UAqSndw3VtVoGCfDwAN5KniodKpgYpnhFE4dNfC5tY+rrOiqChvkwFQHczJElClVF+vHprKdVSl0U4vNF0C1I6UlA639ydz2cs2lShZL3IOdcKQ/fKyo4BTHqvMgyyhdetkWbTiYhk6ie/PWVLF5PrEGYrvPUr5Gh6P3SsMeWMvn3DX69TQ3E4VpYUCaAK0HnPwtpRfkEe9etTQj7qX0QafEIqb/vpv+vz7Biotkukxbes76JQBO9IBu6kTINnlxQzqAHJMnOhWfoc9w2H2P7f3g7HjzJes5XWRiJa83j/OUUQ3xJXGhDIwYfQmFe8q3gs8qKtWIQ84OAKBZdDY2EAouzh58i1p5RiXLv2Qhg8f+gYRwWLxZVtb29DPPvssMKctAaj6O0wCUPVltlnfEZfSYRdK9+6VtHr12jQvR5Rw3iChRwVmUEhwmOswpjrHBEUIlluTwEzmJZZuCudtVsrfs3sPg+TGv7dtaKe7lzxA7678gArzCuioHY+gQdv1973dj2hIxXuoOrYw7ZjUinOE3MK8wvQb5h4GqUzqZZI5WHU8DFLtCpTbvRxqjDxRAHrvSx+kVleXi1DLsjKpxIdR0lADEvdBCfSLeEwAqurK8G4X11nRpUu58IK7hfR5jQZ7DQAPgKbKJQEtcuDXb6qTrHYf962S64z9Hp5TfCuICggThuzFToyQXqlQqyvVTrlIUqICUd7EqZw7S6pIsNoWGJmgInsAYpylAMWmI0IY9K1Y20pz//E+NTS1iX2g7w611KW6lLp3raC6tc1UVpxP+/Tp5lm39PvVzXTrQ0uotX2DkM2u29XSWcfskhK+qzJXtJEe26rAMGacAwDu+Dfeq07OrddYZDoLcmw51xXh4GhtlbHB/+MfHaOz/XnwCmOsYcqvqcgQZWDwXUcpz+bmXV26dBl9/PFHNGDAEdTSwnIJHtGSJe/R5MkT6PPPP6N58+anAdRRo86id9/911HLli17sk+fPjfm5eU1L126dFxQzwlADZJQ+u8JQNWX2WZ9R1xKh10oXbtWiA2TFRC/sjEmhck5JzqlX2ToIRj9YPlMLW0QZmwMzEwwDFt5ie2bvH/qygqAMjzYqrJArbjXv3+H2jdKgori/CIa1vck2qvHbq5iYECPQ8vLsmpSFqrvwp6fy6RWurJQfZZOOwapUNhwmGYjP1eCVAvg2ccvQyGRvyVzh50EK+5z1QOpKI8BD5gMay6lhgYwAmvE4RIRACqDAXyvXmkE6FYhZa9zWokHNf0Nx3VWoHyYreye0mfEOYUqZaRAqASjHvYmeH5gGFEFtnaA6qxpah8o584inJdBmMx3hbdS3cvrZBn2IkNSEtKmRkH5l86+vPI/w4QCIwIJspGg2FzOn9v8N2zcSM1tHVRaUkxvLl1B3WvLBchpbVtPK9c00Xa9Kmh5XQuVlRTSLj+qEf+2X/C6frWikUqKCmibnhWeYNZP9jK9p1IYKXQ8jKnldwo21YmVebeqnj7s5U7iKftYeS3hbzKHWf6qW8YGkWGtrah17k8sprNG7W1RBgZklyaNGViDTz31BE2e/Ach2z322IsOPPBg6t//MPrRj1LDuJ3jvuGG8TR48DE0fvxVNG3anDSACs/qe++9e/KyZcv+ussuu8zauHHjV//5z38mBs3/7bff/nirrXaoy8uTzLXJ5S+Bjo4Ned9882ntPvvsk1LUWT22L5HwZieBuJQOuyBqa8vEZs3EQlBGEGqJAz9qOG+QwFVLv+Bg4ZxN02DB8pitC+UlcitpEzRvt99VZYF7L3/hBqprrU/ppt9W+9GpPz4h5W+6gD6qLHTmjWfB2OCWnwslAiQJmWSvtI9dEm4hRJvEYczAbMPKL6h58T3U0biWCrbcmcr6n055xbLObhyXG0iNFmqsDlIBLuvqGsS02PtkV/CD5isVbwk24OHiepluIDUBqEHSDP49rrMiDEDFaO3rx2v0WBfIu7R76FXuc/bnlxtq1VBNZScPkydrB6gmQnoZMMGI4x8B4S5BN9If1VBgL8bc4JUWrUVefgG9/P4KqijOE/sK6ip++MVq+m5lExUX5lP7+g1UXVFEx/98e0GqZOrCOQ2QCDnrRAM4ny9lXtjpXWUmZsjdDbT5GRq95paau2p5V1XAqh+JkQlZdu/ehdasWRtKVwp6/oYN6+mzzz6mp556hl555SXR/P77/xZ0m/h9yJBjXQHqe+/9m0aOHIZ8MoRlNObn5x/w4YcfBjJUvfXW2/eUlJT3q63t2lBQUNyObzW50iWA9b9hQ1tRXd3qytbWphd+8pN9fmtvlQDU/+JVE5fSYRdZdXWJsGQ2NDRuYrQDOFVn540ifln6RVr8vEJSrNqc3t6/KGPAvWEYhu3hvM6SNmHGg4MMssBBF0RwMOnVafRVw7edjynIK6Ajtz+Ejt5xgPibPZxXhdDAPl4mdkKOcBxWdRWiIdNlV1TfBzMHQ0GAIYSND5BFe/1qavjrOKL2TeQT+YVU0Gsnqjh2rGr3odsBsGNMGE/0UkDBINUOLnnQuiDVCQAARqDYoc6qE6QmADX00ui8Ma6zIi6ACq+8zHFOXQ9hAKpbbijntEJAbrVaw+TJclgwvK6qTL1eb5brg5s4O/gZ6aHAsj6lvRQM519ib/dKpZBRVMGqJbyHK+paaP3GjVRbUUwVLvVJ7fPn9Jc3lnxNn35TLwBp2/qNtOzLtdS1ppQqy0oovyCfvlvZQAP23YZ22BKEP9E9uxwdZCLH1vk+sSaYGRhritmMERaPC6CY9+wwXznvldaemepddb4nVRKjMGPBPT16dKVVq9Yoe451noP3hBzXlSulYRRrVBUYugHU1tYWGj78dPrss08OWLZs2Wt9+vS5iIiOWLZs2dFB41qyZElxc3PzuQUFhWd0dHTUQK0KuucH+vvGvLy8tRs2rL+7rKxs1u67757iug/eRX6gUvtvmHZcSoddNgCoUCaRh5opYGp/PsAUgBlAmd2yKT1smavNCa8Z/lGpTxpHmRHIRAWwo92na7+kqW/PFYo+NoDK4gq6fP/zqbyojEzk51qA3Wzol473jxUpKFdhvAs637+fsYG9yitef4Yan7+HqL3V6jovn6rOnE55hcGMkTrjsbeVJEjlwtMEWSAcL/rlD1K9vEs6INUtx0+CVEmcZAepOiVmMPckxDd9BcR1VpgGqHaiIpSRcV7hAGqhyF1lwx7ntOJ78TJ8YhwIkwcHgeqFNY39FcbcKCGOfH6EIZtRHatbKDDkgfF7eWy/XdVES7+oE6Vgtu5RQTtvU9PJnOt8Ltq89v4K+m51kzi3wLD7sz22oK7VJa5DZHIgDicGsEW5mfLSAnr69a+psDBfAFZcq+vbaNAB29Leu2wh/j9K/ifv33HKmieMNcW5q8hfBcaHzCUjtV56hNd7Dipj061brRGyK6/no07pihVrlMooqa5VbgfZwQO8apX6N8n3ugHUDz5YQlOm3ED/+McjAiftueeeFa2trcuXLl0qywYkV+wSSABq7CLO3gPiUjrsMyosBECs2EQ4pFdY3ZRkoFBgY+J8Oijk+BtCPFUKgZsaBwAUNkkJUtN7lQq6rN2mnvunNzoG7FCs/GrgrWxeTe+vWkZF+UW0T8++VFlaIRQuzmWN6v2U5BkSsKvm2XjNFIe1JEGRNT5V+5OAXZI+BHmV9aRsteZQY/kM9zxJgEP66j1a8Y9b0wHqWbMIYWtxXAB0CDVmEiTIgkmHTDwP35hbGL8fgYz0KpeK8hx+Srr0ahWkvTdZSgPES9Y6SABq9LcZ11kRFqByDrPdEOEkKnKbNda4JJFRl4k99Jafgf2TvVhuPblFCQQ9EV5T7ImSOCcccGIvIuZowjsYNGb8jrlynXD8P75bZyjwmnWt9NoHK6i6oliUaVlT30q9t66mnbaudn0EwOwrS5ZTj9pS8XtTy3oqLsqnQ/fZKq09vIi4vIxrb/9nleirqrxQeFTzKI9+eej2olRMlJxbNgSY4JhQkTO34dBt6C5Y/3K9yDq3zAys059XW7cyNl26dBH11cPUwFYZU5w1XHHeIfR89Wr1vHAesxtAra+vp9NOG0J1dWt2Xbp06dKdd9751Pz8/BFLly49VGWuSZvoEkgAanQZ5mwPcSkdzgkXFYE8oFyAh7iS64OEDMUXIBWbLsBIJguU28fmVp9UetjKhBfLZEiWl0ysWq3B+TJx1g2NWrfWjzk4aD3w75ZXWY/YIqh/6WWBIUQSDQV5RJAOtfaBa6h9zfdEG9qJCoupeI8BVLr/iUGP0v5dkiBJIy+8NXZF1jSJlBtI9WIr5YlwvUp8pyC2cbv8mFWdIDUBqNpLJO2GuM4KeIFQC1X3Agme3QiBd441EWTYcAO2Qc8G0RJKsiBVRZaO8Sf02rD2e9q49nuq7NKVWiq2oryA/DIY1PLyOlJSHrgMDMAHs48z6PMiA5N5n/k2FtegmZn53elFTA0FlkB76Wer6MMv1lBtpfSAtrVvEMD2oN3dS7l8ubyB3lq6irrVyPbrN2yklrYNdOQBP+octFs5F7cZbezooCWfrqGPv66nsuJC2nfX7tStRgJf++WWc8uAz7l/4+ySEVFmo4CC3gjWAliCweth12EYaMNYC28/1iqvl6jGZB4TV0eoqwM/hQyNhqFHJXc1aF78e5wAFe8MDoA1a6IB1IsvHk1nnTWSdt11N3r55Rdp7NgL3hUWAqLleXl5Zy9duvRT1fkm7aJJIAGo0eSX03fHpXS4TbqkBIW6y0ReSlARZtNC47xHJMlj8860xdM5H4ADKGaQRVzhvEEy5FqtfnkzbBUPLjMS9DTv3y2vMlPjq/Wlwhys1pN66LNqf1Zec4sWHX9xfget/2AhNa34lgq27EOFO+6rlKulOi60gyEESja8uV7GorhBqh/pDM/FAqlgX5X5VvYLDKkA1ggndLuYWRVMwe3tGu6yJMTXVZ5xnRVhASrKzMCAgTWA7w3rBca9oOgJJ7BV+XbYa4q+/dii0Vf71x9Sy5v/EN0WFuQT9diRSvf7H09CQBUypFTgVJQGPlSBmspcddtwGRnpsU03JjFwWl7XSv9atlKE6ALsralvptrKYtp7526uj6xvaqOFb31DFaVFIjR3dX0r7bh1Ne25U1fR3iKAQgmsTXn7uoMPaO+sucqAj/8OT2LQejM5JBjZEQEQZMTGN8UlbLAPYozsXQ0bMQadBcZW9lJ7ES1FKWODddyjRxdavny1SbF19oV9AiWP6urMRvIlKSGxvC6lThOAqiSmzbNRXEqHlzTKypD3WSJCRLw8IyYl6caAyyGXcZH0qI4febE4vGUtSnM5JKrPRzs+8Jz5M0zmg4MNXu+4Q8UAmmB1x7oICr2zmINl2RxT1mHV0Gc/+ZqoaRoXiRSPjXOWvLwwPL84QSpqn8LqHsR26QdSQYKDMDM/hQue2vb2jeIfnStRONKlFddZEQWgNje3iTq62APgOVW57MBWpT2UZqQPABAFlbXBN9X41DSigiKRN15UXEitq5dT2UG/psIe26U9TgWcuo2RSXPwbyYcgqEm06zkiAYCEFIpIwMP6Lsfraa6xnYqLCqk8tIiOmC3XlRcCA9rm+sZ8/2aJnr3ozWiPuk2PSqo745dBOhnxtzmZrVa4CrvOagN11wFwMFZgX3HtIfSbwxcVz0MERMTLeFdqXrj7WOx11f1GqOJMjaQMXJcV6yIB6BiveJ8XbtWba8IWhP8e3JeqErKfLsEoJqXac70GJfS4TfBiopi4cFZu7Y+NuATFDKL50tLGgCRnncl6suzh8wi54gBQ9R+w97PBx/nLLHSAWUnk55ut9Bn+5ziDDXm54QFqUw0hFBAXVZjt/dmEqRGCYOOC6TCki1D0NI9o055eIFUVaABIKxbgjFRODYHgCpBY0tLe6ChI1XZhue1VYlUhtce1in2yaCaph2on/3YjZRX0VVEPhSXFFELAOq+x1Hhln0cQpUhvVHOH2aPxRmCsTLLKwOnsGeCyn0MWmDcVJ0DiI/qGlqpYyNRVUURVZbLfFudnNs4GXOD5m3NucHVQylLwQTvaUHPcf7OczZBxOQWxszeVbc0FEQcQEXyYmR2m0vYMjZYw126gGV3ja6IlNrD0CQNKunkaUodeDRKzoso0ot2bwJQo8kvp+/OBkCFQKqqcDAVEnIZTIfIMPELvDNce9XtJQCgItQQVnHVAzbqy+SQWTk2hJnET9KjMmY+ANFWFhkHmY/KnWbbcI6Lk+wiE6HGFkiVxdadrM9eM41rbCZAqjW21tBhcHGAVCh6WGdBebn2d4L0ADsxjWouYQJQzXyjcZ0VYTyoADQI8cYa0uU0gJKqsvawJ+IZEsxuFMRdCBcPuppfeYjWL/+U8sprqChvA7W1tFLFYcMovxyVJOQFw6Q898JvsvxtY6/k74i9fJJADHmIAO+SOMfUORtXOLFFViSJi+weSj6fOR3GPueg92HidzlnlKRBiHc6A6xbKRguvxNVt+D83rjmzPnCAG4wZlqMxu1UVSXLj+mAUy/AKj39cu2zbuHMXYUcEVm2alWdideW1geMmgUFKEWWANRYBJyFThOAmgWhZ+qRcSkdwePvoJqaMnEQAaSaAEOpNSbVQmaDvHbB81Br4ax/aQ+ZxeHHxa+zQdzEYwNYxgGF0Oe4Q3r9pCat1GBkbBReC8lqLOuGZmpcKiRSVvh4fGNjT78uEYfpsZkEqRxWLsPa1UNv8U7sIFW1XIhuDVSszcQinv6FxnlWFBaq7aNoBdCIfQFrR4IYPY+VSmg4lyuS5TtQK1G9ZExHWzO1vPM0rV/+CZXUdKWC3QZQQdetxQTdyJDUZ261VAmtxbkiwYesD4x5OJl1dZ8tCXoqhcc6rrxPjMnNywdgg70jk+zEPBYYLFUjnbBWOP8T/wbvhSV39f0Oz840S7DdwIG1g/Xa0tIixq+zV/utKz/vKp6J9YWShHFceI/QcxoaUkppRn5Ucl5EFmHoDhKAGlp0uX9jnEpH8Ow7qLZWllQBXXdHR7ilFjX0005YFDxmvRb2sTU1NXkSuqgAIr0nB7dOHZtk8zXhtQt+cnALgFQooRhjECFEcG/hWjBbovO9ATxLxmUwhgazIId7unWXVY5HjS2S82xMj02CVHcPguocmaAJY4PC51aCxq8vKH+wgsMDJtMEguvZJQBV9e34t4vzrFABqDIXtFSsQeSbAqiuXy9Bl84VBFDxO/ZjOxlSmJIxGJPdyy8Vc/ac6ozYaou9B3sjlGyd0Fr04Masy14+ldHAIwsvoul9ReXZmDPGLw3ZkvBHZ+wqz3Brw0RMMqooXN6iJXfUslYfu0U+lVmDMdYYWILBjQEZM9jWGbuqvJ1lbEpLwcRdSqtX1wl9EN+dyQuOAHhtGxsTgGpSrtnsy+wKyeZMkmenSSBOpUNF3Nh/AFKRiwOCHMnUrX4xkys8j1EsuiY9RDx6e+inSsisCquuumT8W6YyB6eG85qsTxpmvDw2HF4AMfCcZutyvhMm2ELIHBS1qOFbqvNSAalybGWdlv44xobvJEzIl508Cu+Tx+ZVJ9VPLgxSoazCyx50hUkJSyzi6VKN86wIAqicC4pwVQ7pxd6Pc8OLxdlrXXgBW5mrXSY8Rc6zBOcUvC91dQ1Byy3ld2YMRp8ytDF8SC/Gh+8P5IJRyZDcS9i0CW+02xidZWS0hBCxsT3vE+ILU34nzBDiIGJSHTvSj6QBTs0oGWZ+bvdw+DbyaHG+2S/Ig/OF8d9cfsdU+DinGSGCSxLfmS9j06VLtTBqNTXpGbWC5JucF0ESiu93PcQQ3ziSnmOQQJxKh+pwUSKuS5cKYa1TBSNxMLki9wEbo8wNDX/B0ow8pzAMuF6suuFHk3qnndVYhsy615iMWp80zHilElourKZcNxRKIQ6UqApZmPHwPfxOJFswxtaonDsZ5bnOe70MB1FIkMKMTwekWl76QvFO3Rh3w4BU+f2XipzUIICSANQwbzl3ACrCU7EfIRfUvn786uD6zdgN2Mp9sVSAX6/1pBpSbn92dXW58MRC4Y8CThFNgnxAZ+1LE282qISNrPeJ/NtMe/Jk3ifOUa8cSOfYpdcPQDtaSCp7i8Mw5qq+Ey+yIuyHzGhvKm9YZUyyHrhaKDOPXXpXEQpshY+r8grYx8Tg1J5n6/SuArByCRv8O4x3tWvXGmGEaW7WSwsIkl8CUIMkFN/vCUCNT7ZZ7zkXACqEUFiIzRHEKfCEegNEbN6cN2qCLdX+AuQGXUWtra1atSu5j6ihxtyP22YddaFIVmOQQqmHpVr1SYNLv0Qdn1WbM7X4OIcbuVl0oz5T9X5Ys6Gk4TLBoqj6XLd2TpBqggQpzHhUQCp7wlVq6OqCVEkCUyD+QWi6H0hNAGqYN5wbABXfHfZDgDxnOSmsLxg3UWpG53KWOOJ6uQgb9lOuwwBUGS6cJ9anVymVoLGz9zJOsGQfg72EDf890/ue9BbDYCwjVVSvqGHMeE62vMWSlKtM7GkAZxzGrBvCriorN90HazRMJJobSZT0sAYbZlT1nVTAGs67ihI2YP1uaUkAaph1kov3JAA1F9+KoTHlCkDFdIqKwJ5aLg4kN7IgBgrwmoTNBwkSG5cZUWVw5f5MM7nyIWmCsCg1nLdFy5IvjQGFgjgpjkslZJYtuziowxyeYcdteellnVoOscu0suYcv/RolIj3GMZLH1Yezvu8QCo84SC2Yk+4l5fe2Z8OSGXvGRR/5KRibXixuSYA1cwbj/OsKCiAR8QaJ/4bew8uGUqfPgcwsGPN4DzQueyeVwsAo56yf/itDkC1kyFFAU2W97JBqSyOjhz82spc10rxDQNodKz6ktq+/pA6isqoYIefUvvG+NRCzv0HOY/uu7XPKTUk1Z0V2CmDbLEEYxyIHsLc4UVEbj4bCiQbc3w1V9kYAEOfCb0K/WHs8K5KkiiZyyq92qkRW6rg1PmevIiW2MPq5V3t3r2LiMRobXWPHAv7/SQe1LCSi35ffDtR9LElPUSUQJxKR5ihlZQglKlMhFGyV4Rz62DdRqhnkCIR5rmpBxuAcpWoeYfD2e+S4bwyhxZjM8V0h2dGJSxSDecNkpdX6Zeg+/x+h2LJ/UJubqGf9vst77aZQ9RfOZO5aDhcnbVguWZstkCqRdAEj25HLGWadN6rE6SyEQmGhDCM1KogFXmE+NawR2BtYM+Atd4JUqGweESx+04zUTjSxRPnWWEHqNLAIXOp/QAKQgux/+oarRjY4jl+ANgpAYQ/Iuc5KFTXjwyJQROPwc9Lhv0R+w0AS9xnnn2ubIjDeSu8th+/Ti3/92eiDespr6CQCrtuSVsOvY42dFglSYJkorqnxEXElB4KnM6sy4a/TLMEQzacZ+ssr4bfsOczURF0IawFDmMOE06b+q5lSTXs1VGMAX7vN9VAI9eMMHp0dIh5myifw4AV4/ArY9OjR1dqaAArcQJQVb/JXG+XANRcf0MRxhen0hF2WGVlIHspoaeffob+9Kd7aPz4CdStW/dAEBP2eW73MRDx2jxxiJeXl1NRUYGw8McVhsMhnXV1CLNVI9iIg2VWMkfqFev2eh+WJ1zPQp6JcjxcQ9cvLDWs1Tfq+nR6m7E2YMSAd1t1bUQdg9v9AKm4AC5hIY9qREI/YHDEN+Z1OZlYvUBqmBqoeGYCULMDUO21R4OMVlLxLRSMvjoXvnF8N9izdZRylbq7+A5VyZCkpwklYLhm6XoRro55A5yGISPTkYNbWy4jY2etXffnsdTR3kJ5+TL0FF9lab/TqHL3n4nx4z1YJWzaQhtpMxla62TWBejjEmuZNAbgHaikS9jflamaq8xQjG8gjDExzFrjWrf4/mCsAcDGmse36AzhD9O/BKiyvjAzPvN/48fPh8YAACAASURBVCzYYovuopZxe7teuZ+gsSTnRZCE4vs9AajxyTbrPeciQP36669o1qyptHjx8/TLX/6Sfve70cKCmOnLzipn94yaYg5WnQ8AHSzuYPQLAiLsdY2DZTYq07GdyRWgPsyBxCHYkixEL/fMT9663uZMglTOu8YYJXmUlT8j10b2QCrnXWMMGBfWqIkrCKQirBeeM2c9YZCTQcHntZEAVBNvQ/YR51kBDypyQwFSuPZo0MihqANsIvxe9ZI1n8uEYqxznwQSFeL78wIwOuDUOV72kuE7Yi8ZQEPYvFVVedjb8Z4GA5M9p7v+rtHCjcdhkx0bN1DpAb+k4t0O7bw9ShgzOrFKqmQ2lBnP5pJmeH/Yd2RtXRmSGnTehpEz38OMuTDqqZJDOp/H4bTSyFEk9mBm1/WL5uIwalQXMHmOqsjDfnba665Kz7D0rgYZp1Sew23kd9khDCm1tdVUV4czNAGoOjLM5bYJQM3ltxNxbHEqHWGG9te/3kdz5sygXXb5MY0bN4723LNvVsMY2WsFLxXn1gFYSUXF7CbnJ6+gXFA3Btww8g+6R7LqwkumrhTaWWZNeJtN1oyN4m22DBjxKVVsDPHLu84WSOVvQxJrNAtFD1ZrL8bNoLWVrnx5e1K9vFmyVqYEIJBZmBqoGEdiEU9/W3GeFTU1ZSKUEd5QVVCgC1Bh5AOgBUlKYWG+tufVzShiKcFc31QtysXtW7CHt+JskTmIsnamJFlqTzFO6X5Pfu0599ItdaHpmVm0/qv3ifLyiTo2in9XHHcJFXTd2rVLZ+4nQu+xRwB0uL1bScZXvCmUOXNnKoNT7BkcWqsSCmxC7jqMuTrPk4YCaeTwqltq1feOv4a3c+x+hl32DMMZgTGaNBSgb6Rt4UxobDRbYiY5L3RWqPm2CUA1L9Oc6TFOpSPMJGfOnEq9e/ehgQOPFAoLFBdsVnV19a5EGWGeoXsPh6RC+XbmJOr2FaW9Wy6oHWABJMRtDWVWXVg5VXK/4mKZ5UM2yvtQIWgKel8WmZVZkCo9Pcht7lAyhrCSl4lwX3v+sLPkjslQcMjey5PqR1iDNQrZSS9Za6h9IwGomQWopaUy3E/nwh6AdQ+ugKAL7dAeXlOAUyjxOkY2CWbSvfb4O0J6pVc1PDj1A4gAfADX2GvwPZhmd+Wam165lx1tzdS8+E+04ZsPiYrLqexnp1Lhj3YPErn4nQEfxs8ePh4/QLgkBpJ5tqqGCaUHBzRiEqigMGoVwKc7HiYlCsuYq/o8N5IofGMwejq95Kp9RmmnE3XkVYIHeofuPiHTtVCdoY0aGsxFXdllkZwXUVZGtHsTgBpNfjl9d64B1HRhdVBtbbn4c309QGpmlyN7sBCGg01TAoDsvVI7ADABsMLMRIWwyA6wTJNH8Zi5Pqlu+QUJsMooPx/5w8EETUEyMsm4nOrRTQ21CxqHVRYoPmVPxaMbN0iVoXHltHZto6dIIEcZLhrOWp4oHJkFqCgXg390Lvkdoz6nN0Blj7oksZO5qrqeVx4T9gwYAFlB5ly3qJE0XP5LhZzHHhIJjyuHc4YNR800QEwtYZMnwD28trqgQ2edONuG9V66swIjfzK4lAqPgfM+4yQlcpMN5szGYvwOeXsx60aRrde9OuDUrQ8OIYd3FQCfxy7JlrxHDGOUBKftsYFTPD05L+JYNWp9ZhYRqI0paWVIArkPUCWLHUAqFAEUCydB0xDv5SwxgmejdAbTwMf7dP/ekQuKwxKHu8xJ1PM8mBi7lQuaSrBgqhas6hh1WXXjKlXExoIoxexNGBziAqm6Ht04QaqO5yxMiZlE4XD/+uI8K8IBVLA3exsqmA3YWYJIZ/3YJWEHqFHyTe194jsBaAnjQUwPRwXokDWBg0CzqgdRdR/Wace5lxgjDL/wZttBR1yEgxgjA0R401QigLzmhfEys64spZLOCuy8N5uhtXxOsjHXjVmX8z913qVKW8gH36kJtl5+h84SPG55t5A3wnphQFi3Tq8Ulcq87G0SgKorMXPt40cD5saa9KQpgTiVDs2h+DaHAtOlS4WwnIUlFFAZjz1fEuFgzjIzphVvlTHZ26CQN/KooCBFPWR1n+1s78wFTa236l67MOoz3e63GJdhiXcvwG0vBxRX/nDYskB+IbNh5IU1AnZTFVKtoP6j5Oia/lY43BdzUyXHSQBq0BtW/z3OsyIMQJVAp8KVmMuPDTgsQGXmaOmt3BgpJNUiyIGR0TsSQP3toBSJlX+I80F6mSyPL/fFIaZMpKfzjKhtvQCiac+w2zgtYqBwJbD85m4vA+OW++kEiFHlqHM/ey+9SqM5ZS9rrjKzbrRwMdPg1G3eXHMV/25vb6OJEyfRjjvuRIMGDaBu3XrEDk4xpgSg6qxIs20TgGpWnjnVW5xKh+mJFhbmEchREB6DfEvTl6p3DR5MMOQhPDRTl9O7hufCOtjaGl/9MpW5sZUSOVhQigD+nMW4VfqJ2sYrhCjTHl0JUkuF0hzkxcCcrZBZvZI7QfIyAVJNeHTjAKmQsWr9ywSgBq0U9d/jPCvCAFSM3C0XGcYLPzZgADSEtqKmqc4FgCoZopHXHF5x51IucRoYrVIklneSPas4v1pazO43KnJkkIbcX8zd6/LKP4zCaJwpgIh1sfDt7+i1D1ZQdUUJnX7Uj2mr7rKerUpddRU56rQJAqfOviB7u3cVZxiH0+pGamUCnDrHj/HOnDmNnnvuOVq+fDnttFNvOuigfnTKKUOppqZWR3RabROAqiUuo40TgGpUnLnVWZxKRxwzLSpC2AbIKpq1atj5jUW3/IkuUVAUOaR611JLjHCYLUKV/A78KM/3u9fuXUM7LwttXM939utk1c2WR5dr1yJf2askhQyZrRAgNi6PLjM/64YPpkYRRM/RlUXokUOuBwi81g36g1yDCMGAIcDiG+ZKFI50qcV5VpgCqACR2DMR/eIFIlVymN3WDGpew/gUpeanVcolcwyq7CEDcOfak7KETbxlVOwy5Hnr8gWgj6glbHRBWpj9gu/5+/99Rk+++hW1baqzWVpcQFMvOoR61ILsEURgViiwigEzylhMAETvmqv+uZ/My2AqrFdVDlInqhaGpDfffIdeeukFeuON1+i3vx1O++13gGo32u2S80JbZMZuSACqMVHmXkdxKh1xzbakpICqqspEaJS9Xpvu87i+JDZhHJw6tbeYKAgHfVxFrqEMAewAgHo9g8Nso7DZ6soN7Z3eNfYKAIR4hdmGeY7uPXww4vAHQMmWR9cLpGLdSO8mCHyahJIY52WBVDVyr7hYl02AVAb18NDDQAXCNK7N6CbDsDVQ0VeicGQWoMKAgVqouhd7UKVRpUyAx6DcQmlgrFSu2eskQ3ICJlkCJj2U1jkX/rbiUNo3NqymjtYmyiurovzymjQx2lmCGbBy7iSXsIkLMPGzTcw7vYSNLL/jRZZj8tkqa/O8m1+ixhYrzaQgP49OPGQHOurAbcTtnDsJ2Vth2ObLB8UBEK2aqzKCxQtsx/FsFdmzwR41TuvrEWGXOeiSnBcqbyieNpl7y/GMP+nVRwKbI0DFdMrKiqiiokSQJrW367tJVMN5/RaPyXqc9udI8CdrOQLEeHnh+B5ms82EB9MvXzIqU5+JD1Xm6JaIkg91dfBgZraunn0OCN8tKSnZxPzcIUpFlJeXC2UWSnSUMEEdWamAVFlHt0J0C8OPX5F3nWfb20qQatUcVO1HeurL00A9FBKifE+QmgBUVQmrtYvzrAgLUJHyAXZeeE7hUVc1WPqVKbJLI4gMya0EDKJZnMZOfIMAJQBppvek9i/epfWf/kuyCcLjuOvPqbDn9p3TYJZgt7QDO6suzhnOPdQN5/RaQUElbNRWnnurIMAkjYRgeV4Xy37mNqrzb3mJGpotgIoxnth/Ozr6oG3Tmnt7J9VZgd3GEFfpM+ez7LmfnHeLNYRzz4QxQmdtMDjFubV2bWbBKcaZAFSdt2W2bQJQzcozp3qLU+mIe6IVFUViM1y7tp5gNVO5dMFfUJ+cg2kCHNrBn275E4soqCE2Vl8Vj67JkitBsrf/zu8ViiFynPD/OrmgOs/SaQsFCVZ8KKU4RLPFuuwHUq33Gn8dXV2Qyp56eEmk1zQ1988PpCK8N2yqYKJwpK/yOM+KKAAVIwVI1QFVKgA1CJw6JcSeSRiiAFyxFwHw4fuHNwdnhGmj1Mbmemp97e+UV9mF8vILqGN9G3W0NlLpQSdRXkGhMDox83zQsyVgkvm7MCQxyZJOZJFdJhKUmyFrU9lzU0vYyDsynff56Iuf0xMvf0mt7RuF/66kuIDGD/8pda8t9Z1CENhWmT/aMFFfJkE5nov1Lg2yIHCkyOWPVOeLdkgPQFhvtsBpAlB13pb5tglANS/TnOkxTqUjE5OsqioRjKV1dfW+nkbTtS/tczMBDhkkNDeHJ6+wcjDNWoxTc3SDPbph2WzDrBcO08YB6QT1KrmgYZ6pcw8AKt4tACo8ukFKok7fum1RJglrFcoLlAj7ewVwztTYVEAq58HivUpQ787OLBUUd09qAlB1V4h/+zjPijAAVSrECJUH27peFE0QQNUFp07JAeAxYRr+W4JVGQocFBGj89Y21q+g1neeovzKbp23bVy3isoOHEI1PXqIZwEY614AtRLwIW813zZ+tbxV/sbXrUNNZt2nR2uPfQ75wpA5vNYmwLbqiLAmF779LT3/5pdUUVZIJ/bfQZAk6V7pnm0Zyuy3D2YLnGJu9rBeAEUrlLnQlrPdbpxAEfsGwCm+17o6kFZmB64kBk3dFW6ufXbeuLnxJz35SCBOpSMzgu+gmhoQEOQLkOp2GJoAf0FzCQsOdcFf0DjY4yQJetS8yl59RiHLASEHwJkfUVDQXIJ+txhwwWTc4trcGWYb1Kep362yNhsEYQvAsqnSL1HGCPZSfCtQIrD2dHOvozzbfq8fSMXaQai2ZOt2f69ugCAvLzXcNwGopt6W7CfOs0IHoKItvHO4AD6amlq1FV+EBtfXuxtlUEJGgsjwyAqGoKoqiy3XDjiikCw532hHewu1vPYw5RUUUV5JOW1sWkv5pRXU8/BTN6WIRGe7d9Zb9SP6iaN8js4qdgPGqZ7twti8e3F5jFWIiixjrPkQ8iD5B4UUu9dcTQ+DD3pO+p4vKxlA51u7Ft9y9qBKAlB135659tl76+bmkPTkIQHTSkdjYwONHHkmTZ58C2255Vb0yCPz6aGH/iIUiV133Y3Gjr1cWDXt15NPPkazZ0+jLl2kFfigg35G55zzO4131kG1tdJKWV8PkCqXrOlw3qABWZ5Df28u+olC0BQ0DhPgUAX8BY0jLnCoy4ALAwXWgom6oEFz9itro5ILGtR/1N+xRgFSYbxYs6Y+aneR7neCVJkHi+8YodD6ebCQvR2khi0xg0klCkf6qzV9VjifUFgYvJy4RAy8Y83NrVRZCUNGMEGRs2fUT5Xs2RYIdZIhBY/GvQUr7F6MtZbCLutZe9UrVX0+vKhtHzxPHS1NVFDdjbofeDS15ZXERt6X6t2TZUiQ+wtgX11dJf4/jjJwfvKA0QIGAcjTz2PsXsJG1vyMkncvDX+IToHHOLxhI+idu4UC43k4E1VLmwU9Q+f3IHDq7MvyzCMMHkRL0jOMf3QiC6TnNDfAaXJe6KwY820TgGpepjnTo0mlY8mS92jy5An0+eef0bx584Wl8pJLLqS5c++l8vIKmjjxGtp55z500kmnpcz/5psnU9++e9LAgUeGlgs2LIBUKN4LFiyk999fQqNHj04L+wz9AMUbYcnEP/Aceh1UJgiagobDuY9+43Drw/L8mSl/YhIcRqlpmglwqFLWhseB95LJi/ObIUMozjAe4G9QqLJ5MUgF4MCY/BirVcZpB6kJQFWRmHobk2eF+97jPxYo4SBDam6WgAIX/r+tbb0WAzvuq64up4aGls4ok6ghvTxyrOHSUhDzNCh5dS2SJVmvlBmBw+R9FhXkUVVNtfi+42YH5/nivABIQag19hNpOGjRfh/qqzC9JXttmVRQpy+7sYCJfiQrsHdKgbN/lZQFnTHptAUwhvxxSZIrNUZpnWd4tdUFp85+wtZc5TJ/uB9hvTHaA5TFlBg0lUVlvGECUI2LNHc6NKl03HDDeBo8+BgaP/4qmjZtjvCafvnl57TffgeKCd9//720cuVyGj16TIoARow4gyorq8RvvXv3oQsvHEvV1dXaQlqx4juaNWsaPfPM0zR06G9o5MhR2n2YuAGgTDI2ppb20K23GnUsCJOUJBXBYCgK+AsapwlQpgL+gseBHMx85fISQf3x77AKI+9JlQQJSkUmwSEbRJzgL9PjcJOnzN+u2sS6HBx5oPJO8D7w/TU36+Ul2vtOFI50SZs8K9zXgvfbBQBCZAhAJcoM8YW9VoacqgMK3FtVhVra6AvlqDqE9y+q5wvfk8zxRpilvhcNewLmac/7lIzA/jUnMR9mrEXOpw5ZlMr3FNSG01sgT/ZQct6q6viDnuH1O2SGkkHMjB62H9ynW8IG9+DZQV7bKGPyu1caf4s7jeEqocCmxhIVnHqdBZz3jLOUPav29Z+X1yF0w1wCp5hLcl6YWln6/SQAVV9mm80dcSgdQ4YcKwAqQnz5WrNmDZ199ul0+eVX009+sm+KfC677GI65ZShtMcee9GcOTPo+++/o6uvnqAsQ3hN77vvT3TPPXfQDjvsRNdeKz21mQ4zsg/YrvxHyeVUFoJHQxUQYuX8tVFzM5hSoz41/X6Vcbg9NTXss0nJK+E3+rDj8OpThdnY7V7T4/A68MHiuXEj8mDdya0yMQ63scnSMagHWyyiHKCYRAftKHEAUqoy4Ylat6419EJOFI500cVxVtif4hXii28M+wDIkJzAr7y8RDC463oMOTQYnrKo4BTKMrxoJoEKAz0A1sLCok0gXJbRcQLpOEvYBH1ADFScLPberLTmSKJk7e0q4bE1XYs8iFWXa+nCwIG9NdNXUL6rHL9kZParWRpm3HGAU+c4OG+Yx3/77bfRN998S4cffjjtt99+1NSE7zbM6OO5Jzkv4pGrSq8JQFWR0mbaJg6lwwlQV6xYThdfPJoOO2wAnXHGWb6SQg7pSScdT08+uUBZot999y1deOEoOu2039LRRx9HJSWFVFMDC3mzyFPK1gWlBYcoNlsdwhfT48U4cDlzc2TIHHL+OsQhGyUHR2XMXuMwDf6CxiJDspCvrM9uyX3DawDZwZujUqvWbUxxhYZBuZXgDwynweF+ALFQaDIV7utVOiYKWIZnXM4jX3jZWlvDe0/xrhKFI/sAFesYQBIGSJSRcbsQUovfVeufch/oF9495K9GIUNiDx68PADQcVzYqxARwLmfkmRJhjnjO5ffrvkSNkFzseqM+oczu49f5h3aveFBz7P/zsz5kDneY5yXc/wwkjAzM3LlM31Z6Srq+a7prMBy/eh62zMBTt3k+fLLL9CDDz5Eb775hgDe++57AJ1wwhDab78DMi1+1+cl50X2XkMCULMn+9ifHDdART7qRRedR0OGnCy8pM6roaGBHn/8kc681Pr6tXTqqUPosceeiTT3khKwKJYJshVd5SXSgzfdzACGQ1WyYWW1zwOhSFDkMA4JYGR9zkwc8F7j8JJzJsqf6IJlHqvpUOiw4/CSnQX+2jbVDVVbzXGBZfvTVUrH6IPUDiovLxf5q/jOGxpajVjWE4Uj8wC1oACsvPK5Mmy+TCjREkS6X4j+wOXXxnknAEZpaaHwtjO4BeDTNdDBMwWyJRhCdZ6v9kV6t8L+iL2ba062tLSEAhtRxsEGMBnOrMcWn8rqSrZQTrUwbQ4pNlF7XFcG2P8lOY8EqZksYYOxWmRMqelDOvMIGwqcLXAKAxI85dgTvvpqOb3yyisEwNq9ew9NMk0dKem1Tc4LPXmZbJ0AVJPSzLG+4gSoNTU1NHTor2nEiFF05JFHu84cFtQTTzyKJk26kXbfvS/dddftBI/rJZdcEVlSZWVFVFFRIjxDOqQHUR5sD+eV9fnaxYEG5dmrFEqU5+nci3FAmcABj/FAsYqad6XzfG5bU1MpwvLg3XMDMDhAM1H+xA7aVeZhz4M16S0xAVKZBEl6EBu1LeOYf5wgVad0jCpIZUMGWH/XrcO3pqco+73zROFIl04cZ4X9KQxQ8V4RuovyMUH7Nr7J/HwSxEkql9zvuIwMifBHmfcpiWaYpCjIs8R7QTZAEr5x7KHwHALAc96eBEvyb0FyU5GVVxuTjLW6eZ/2eptB7yjKHN3uZbnDGMFnuZOVFuc9506aPltV90WdeTtDab1KCGUTnFZVVYnc7rq6RtK0hXSK4o47ZtOiRc8JhvhjjjmOTj55KL3++qs0ffrN1NraSocfPlDoqc7ru+++o/Hjr6Q1a1bTtttuR1ddNUEYRJ1Xcl7orDqzbROAalaeOdVbHEoHh/guXryQZs+eTtttt0PnnPv1609nnTWSQKiE/+7X7xB65523aerUKWKj+NGPtqVx466jyspKI3KqqCgS3pW1a+sFKIrzQsgTPJPOcF4oDrW1yJVpNZ4rozofmctZITZ6jM8kwFIdA7djFj4oUZwn7CU73b5123uB5VTF2V7+JHoerNsYJVhGqLV+yJiJkkA8JhNg2Vt26qVj/JQxWQezXHiQ8E01NgKcmD2mEoUjfZXGcVakrhWisjJ4BotE7WAVjyazx6qkcgSRIdkZdf08Yxx9Ipl64z1TnG/BL7TVAkvFwtsE4igAVhWSJZV9U7WUi0pf7gDQLW/Syru1QorXZVzuKvmuznqxML6zwSDqOonTeGg/l+2h5JIVuE0YsWVNczVm6rDvP/2+DlE6CEYk1DndsCFc0unbb79Jt902U/CibNiwXjhNJk2aQpde+nuaPv026tlzC1Ft4le/OkWUOLRf+PugQYNpwIBf0N1330FNTU00atToBKCae8mRezJ78kceTtKBSQnErXSYHGvYvqqqSqi4uJDq6sywhKYrDYWdtSUlGU260iKtr1VKOYFh5+l1H8Kx4MECyyIOHIxDEkuoeR1Mjwf9cagUlCd4TCQ4c5ddHM93gmVYjt1Ae1gSpDBj1vXoQqEGG6lp2ZkCqV7swaqycQOpACQAp5jzunUtsRmdEoCaeYBaU1O6KYdYPbID+zoUWOxt/leH2JdVvVpORl32ikmPrSzPpNqX6noPaudFSOR2H/ZXZgRmkhz2uIYZt9yvK6m9Xebcx31ZeZ8g+ikUYfv4WzY81thnMXfddBhnCRvpnUfep1ooM8vYBGdCmPcFYwj2cKw7q16vnEMmLswbMkQpmbDglMcJmeM7AF/JqFFn0ZVXXicA59Sps0STp556nN566w1B4mm/56ijjqAnnnhO3AvyzvPOO4cefPCRtOkn50UmVoT7MxKAmj3Zx/7kHwJAlTkMZaLECECqKfY33XxEPugydcjKfMQyEe6Fw5UVk2yCZQsY5omxQeGD4pTNHF1WvmSBeanoppYEcmfAjePjhCKkwgzJstNVmlTHHAWkQrGBtz4KgRSPc/ny72jChPF05ZVX00477SjeC0I/m5rMe03tskkUjswD1LKyQu3QVAkCCj1JlDALsPRK9t9wHhhmRIWxyvKsSkU9DNhT/Qbt7XTrq9rvZbCHvRbyYpIlACaV/FG30NYwcwh7D/Y6nGU4x+Dh43qlGL8u2NMdA3uso9aWtbzzkq3crYSK29iyWcbGHtaLdc5ES6ZZgd3mjfNDOhWig1Puf+7cOTRv3r2CrHP//Q+kl19+ka66arz4GeG+99//J7r55hmdw1m5cqWoPPHww0+Iv2GtDRjQjxYteiUBqLofUoztE4Aao3Cz3fUPA6AKNYVqa2XuAJiCOzqiLWsrJFWS0aheTKwBC3xcOTQyHxHsjgXC2u2Wj4SQJXhSMwWW7fKx53Ii3BgECJBh3GyMfu+IPboYg6yjWZiRPFi3MeG9eHl0vYwOqutPpx0IYGDMcbI/e/XhLB1jwtIOAphLL72Yvv/+e7rzzruosrJLZGu6igwSgJoupbjPCuSS4h+dCwBC1kdN34Ml26r0nEa5ZHinzPlEKDEr6gBLVs6eufIpzrFaZWTWhaqv6uxPgnoZSs1hnF6Mrplky3V7RzCUMcM4G5a9wJ6J/cY+hrjImFRL8ERJ+4iy3nGvX85pOquxLPMUhhXYbZyInMHzTYJTfo48T35Pe+21D3399Zd05ZUMUF+hefPuo5tumtY5JHChnHPOMJo//3HxN3zrgwb1pwULXkobdnJeRF1x4e+PpsmHf25yZwYkELfSkYEpKD8CGytAKhSW+vp1ofLWpHdIhhgC/IXJLbE2f/O5NBxWCUUqiJSJlY84wbL95UhmznKhcMAizQCd83tUSqIov+wQDWF0YI9zpkquuA2Tc3TtIDVbtXRVLfjMHszlNkx4ljhvGkrFiBEjCIQVt946h3r16hXi7erdkigcmzdAdZIh6b19qzWDFK9IBXv5Dl3PpMqYOPdw3TqEFKvcoddGMrrKeplOkiUAcKQQZMOIiVmo7D1Okh9TJEWZImPyAnvs6c5GZJEuIZLFCozwdxB1WURReqvR4hZYuxZEf2YWPCpJtLW10s477yKG87e/PSAIk2DAnzp1pvibX4gvSh7CKJKE+Oq+zcy0TwBqZuSclaf8kAAqBAwLfW1thfAq6hDS6IbzBr1MeBERMrZ2rTmruFWXEwXt1bwGrIDFTYAQlMuZ6fBnJ3BGSBEukCDgv3MjR7dSEJ1s3LhB1DvMVi1dP0VR1qosFwe4NDro5Ve5fycg5SgT3wfmj7qmAAhjx15AK1euoPvv/5sIk4vzSgDq5gFQYcTAOlm3zsqLDCJDUl03zDytasBz80wiDDVMrU98V/jucG+mQIqdZAmgQ+6Hma8lHnbuqSRFViizrLeqdh5izhzhE/eZ6LYOZWqJrNMNg4QEeyC6MrGvBq98XBuXlgAAIABJREFUXXDq7NGbFTg4wkCmrYDQEueI+vsKmhVK0sydexvNnHmHMMKA+Ojoo4+jmTNvpVtvnU1bbrkVXXLJ78XfDj98QEp3OHMGDhxMgwYdSffcM5cQ9jtmzKVpj0zOi6C3EN/vCUCNT7ZZ7/mHBlAh8IICsOpWbFL4g8NzWVFBiJcszWLmtSGvSG7IqGkWrlMGCFAooMSHCXNi75cEy+YOBkhJJ5fT8ujCepqZA9kCzlYtQ87RzXbYMeTBpYGywRhqX+Vu4WasyJkEzpy/inUNYNrWtqFzGM3NzfTCC8/TEUcMSgCqmS1Iq5e4z4owIb4ynaGU6usZoOqRIXkJwAqr1a/ziT7ZM4kwWlzYl1VzJjmk2F7OROtFRWyMKByceXg+9m+ZcyjHH3feLTxwSPmQfADBZ7PfVNlgkEry0+abWpNNpmCLiEpyRmSyhA3kaDqySycUGAZYWW0BKUlmdRDMDfmnCxc+K86NQw45nIYPP4feeOM1mjbtZuFdBXvv+edfJACsvcIESJUmTLia6urWUM+eveiaayZSdXV1AlAj7jEmb08Aqklp5lhfcSsdOTbdzuEUFSEHs9zXQgwlA15J5K/Ciq1jhVWdNzZmHKQAh7qXydIspj26YUNS2aOr6rXQlRm3twNnvFungYBzdKOSY4Qdn93jjPcs89+CmErDPk3tPmYZxjjgNUVpF0QhmPguZP5qeadi3NjYGjlPXG1W7q0Si3i6XOI+K8IB1DwRhoqQwKhkSJixLKWCaArU1kWf4QyHdulxrU8uiSPBqrtXjDkK4iI/C/omcN4VFRWIkiI8dyjt2C8tkiWUT5GA1aRB0wLmSE9pDRqq1u8qYaiSiAogKZxRQmtAjsYWUZ9Ves3eJL2EDUoISYOBif3XNDh1k4U9nBz6wcKFi+g///kPHXLIobTrrn1iA6dR3ovqvcl5oSop8+0SgGpepjnTY9xKR85M1GUgJSUo01EmlGwctnxxOC827UwoCroFuE3kwbq9FxMeXfQbFTjHeVjaPc4An36hU1bYMdplhlrfDThbBE7mFTfd77O2tlpY9vFdwHNq4gJbY0UFCJlgCGqJxYKuO85E4dg8AKoMB63YVEIsmudFeu8qhYctrrBaZ/ka7D8SrLYLDxYAYrZyPlXzXRmsYrwAqAxWw4Qy8yrLJBkTh6HCYFBQAOZoubdjvwc3hWR8ztzF+ztCeYPLJclxuXuHw7Eax3neekkR7+C5556l2bNn0ldffUXbb789HXzwz2ngwCM7c0Uz9waiPyk5L6LLMGwPCUANK7nN4L5cAaiNjQ00cuSZNHnyLSInYNKka+ndd/9FpaVlQorDhp1NhxxyWIpEQZoyfvyVtGbNatp22+3oqqsmCC+MzlVaipwPhIg1iMOpubmRevfeSSgNOCxMWNBVxgMli+tZerW358EiV9IOqlWeodIGnjuQY0AWus4Dk8AZygPepcmw4zDAmRWnuJVG6926swdDeZb1a1uNAUOV9WBXIJEbhXxYeJegmEZV4uGtkuUEisS8GhvjLR2jM99E4cg8QMV6KJCpj8oX9ueaGsk2DQU/bM4nwAnAKQi5THvv/PZzrH32TKIdwloRWpupcwfPDJvziXtTQ5lBkNMmAKtOziRHzWQjWgVzhwcenmvsaxs2SM+kae+wN1CT+3qUcO6wJWwwJq4rjXPWhCdW+cMlEjVWYRT/17+W0KJFi+ill/5PnCtz5tyl001OtE3Oi+y9hgSgZk/2sT85FwDqkiXv0eTJEwhsa/PmzRcA9fTTT6KbbppB3bt395QBkt0HDRpMAwb8QhRdBmgbNWq0tszKywtp8eJFdMMNN1Dv3r1pypSbQxFbaD/YcQNqYMJ6D++U87KXZokbOMOKDy+ZKpMtDnkAW4zRpMfZVNgxDnAZkhouVNsqDRRPbqz93bq9e14LFkhtEQpNJi6v0jGq9Vq9xshzhlK0bl1LRkrH6MgrUThyH6DayZCcOZ8yX9I/35BnyB6kbAAkjAF7E8aPiAQYBzNVvgbPhicLwNxEzqfMmZSMwPhvFTZXiy03nr016JuXBG/yrIORA7IHaJPe4Y5OwB1HSTiuL2vS6Mg1ezF+q16pNBo4PcPyfC0TxujMg9OSTc8Gb4bFMxD0vuy/33nnbbRgwbPiTwcf/DPaZ5+f0pw5kpUX18qVy2m33foKp4f9evLJx2j27GnUpUs38Wfkn55zzu90Hp3WNjkvIokv0s0JQI0kvty+ORcAKpLSBw8+hsaPv4qmTZtDXbp0pf/5n19Q3757iU2mf//DhAfVztwJEp2jjjqCnnjiObER+1GA+72BL774nG655Y/01ltv0BlnnEGnnjqUSkpKs/LSOA8FyhXnG1rgijblwYbbzHUnJPOwgmtgsqeTFRzTlv+oYcc4gEH4ERU4x5EbKwleZNkdsJCqhMhlksApqHRMGJCKucJrCnkiz7S5OTOh07rrP1E4chug+jH1Wh6l4rTSKc5ZybxDGUGj8v3priO/9jLftXLTPptaRia9fI0E3CaBBHuNJWO5mXB9nq8TKLmVf8G+DLbubMge4+SQZi9DbHoJHnOMunGAU+dacyMpYqIrzC1b4BTvXYayo/Z5OH3m9ddfpTvvnCPKjkFvGjPmfDrxxF93RtmtWrWSzj13ON144zT60Y+2TRHNzTdPpr599xThxKau5LwwJUn9fhKAqi+zzeaOXACoLKwhQ44VABVhHtOn30JjxvwvVVZWClpweEmPO+6ETrmC7vvss0+nhx9+QvwNgHXAgH60aNEryrJ///33aNSos0TR5t//fiztueduVFiYL/KZdMNblR8a0BCbbW1tlQgvxiECKyeHfZl6hmo/TIrjFsppB1f2mqaqfeu0g3cWCpuduCPofgmuykSoGcCpCeDMdQFNlB/g8Ca8Z13lMG6Qqpqna9VrhdffKvPh9W4ABqAU4Z3Aa2qYMDpoSWj9nigcuQtQdcrIuHn1mKCIPZcAKJnOO+R81/b24G9H5hvCq1cs9jEOo43i1ctkWK0bwQ/kjfMtG4REWNkqNVbtX4Bb7jB7iHXPFq77nWmWeBjyYVCGToF3gu/Ai6xLa7PUaGwCnOJxn3zysYiY69t3D/H0m276A22zzbb061+fIv4fqV877bQznXrq6WmjGzHiDKqsrBLOj969+9CFF451ZebVmBYl54WOtMy2TQCqWXnmVG+5CFAR4mu/nn9+oSikfP31Uzr/vGLFcjrnnGE0f/7jnQB10KD+tGDBS8rybWhooGXLPhShIdiwEQJaWytzWOvrAVKzs/RxgEB5koq8GSZJZaE4GiI/BuDfHnoaVNM07LP87gPYxAEbxHYclj1YdcxRCSW4jApyORsa1OvVOsfHSg6AYZjSQl7z1S0dY4HU1DVi7x9GH3hNoeQ1NLRSa2tmSgipvlO3donCkS6VuM8KlRzUKEy9FjlOsQBHMISGLc0VZW3xtxsm39XORoszK0zOJ+9hcefVe8kInksAZFymSJZU30eUfFt+hhNw43xksBrEasxe60yDUx47h/WCGJI9xFiP0DXCAm5V2QMc4xyAcdLkGfDll18Ib+msWXOFtxT/f8EF59Jf/vKwMOo4r8suu5hOOWUo7bHHXjRnzgwRfXf11RNUp+HaLjkvIokv0s3Z0dIjDTm5WVUCcSsdquNAO/agwjL25Zef06GHHiFuf/75BfTss0/T+PE3dHbHIb5PPrlAsO+FDfF1jg9KEkAqDhrkZoA4IVOX5ZXMFyG+AGXZUiLshzFCObmGH4CzzJNtyrjXIYjtOAwJUph3y4e8DoGTzNMtE54QU6DSZCkc9GWVjlELN7bWCDwS6YYMGHxAdAXPKdYPwGm2IhN033OicGQeoOKJgqvG5ZJeKlnjNMrFOZcIOUVILxRYGL6sEFQQFEV5gv+9Jj2XYXI+s1nnE5Kxcj6l4ZW9etgXcenUi9V9S846o7r3e7W3h2P7AW5mhc9WrrNXzqlXCRuTRFEMTsHS3tJizkAJTyoi7FDXFGliuGbMmCo8or/5zbDAVwxHxEknHU/QI6NcyXkRRXrR7s2chh5tnMndISSQiwC1sbFRbDp33z1PKLiXXPJ7Gjz46LScgbFjL6CBAwfToEFH0j33zCWE/Y4Zc2kIKaTegnp8tbUVwqoIS2MmLvZKApgyiyQrMyZCSqPMAUodwo5xIVcyUyVX3MbslhsblQQpjGx0CJw4lzOOPF0TSk+UcGOWHQw7mOdDDz0oiMugiMJaLmultoQmwgjzbkzckygc6VLMxFnhBlB1Qnr93j2TnTlTJtw8Ygh9xPeqG77p93yOTqivN08I5FY6hb2rDLhh8GSG9kyHNEMuQWG1DLjt9WLZqxf1m5Yh1VXC46xayiXMM71YjbGOMP9cA6duc3QvYaNGOObWH84FnNumwSmqPIwbdymNHn2RSAHj6+STT6CbbppOW221ddpwEDX3+OOP0EknnSZ+q69fS6eeOoQee+yZMK+7857kvIgkvkg3JwA1kvhy++ZMKB2qEmAPKkJ8589/kObPf0CElx5yyOF07rnni25AqNSvX3/q1+8Q+u67b2nChKuprm4N9ezZi665ZmLkXAIea0EBckErRH4gFJq4LnvdSzevJIMbHW+dybGyVxIKG7wN2QpNss+JS/JAXvBKmmYPVpWf9EaUUF0dSvKku12kR7yM8vMLhKEjSs6Yv+ItS2ToettTw42je8Sbm5vptNNOpl122YWmT58uckxBhJStUHnV9+jWLlE4cgOgmgKnDA6DvhEmluHSL/hmJUhqixQxwiznkhAomhc4aF0z4AbQKywsEmcop7AAHJsE3UFjwe9hwmoZcDMbrRvJksqz0YYJiXCWZ6qEEJ5rAe5i8d8weGMMmEucXnqnXKKw9Voh5UVCjirMzPbno8Y1iMBME+IhYm748KF07bXX009/ul/nI+vq6mjYsFM7uUmcskDUxIknHkWTJt1Iu+/el+6663ZCutgll1yhupxc2yXnRSTxRbo5AaiRxJfbN+cSQM01SRUV5VNNTbkAZaYPNp1cSR1vnSkZunklTYaURh0ncmMxRiiOpkiQwowJ3ke8HxgQ7IofA3usG2ZkDtO/6j069Vq9SseoPsurHZRJEE+cfvrp1KfPrjR+/B9cc4CiPicT9ycKR/YBqilwGgUcprPpylqrOqHGMqy1YFMpkxjjh10+DHzr2CsBEvEPFHRmctWZQ9hvzvJctoc29EbL+UQZHZAOgjE2M6W57LKyh3RjHjgrrPIv0Q0fQe8lCjh19u00GsjcW/cSNrgXc4fhtKkJRn6zbO233DKFHn/8Udp66206h3n88SeKcwe/3Xbb3SnDtzs23nnnbZo6dQq1traKnNVx464TZJxRruS8iCK9aPcmADWa/HL67gSg+r+e4mJ4p8qEBwwHu4kLXjcAG+mdbVHqUgIhPSZbpY4djRi8eHkldYBQmOcH3WMH9rBCm6jfF/TMoN/tLMM4xFH4HSF0COfKhBLI41Op1xpUOiZorm6/y3dSQbCWQxn58MNldP75I+nHP96dJk78o1DON7crUTiyC1CjkCHZR47QQnyTss5lNHDIoY/Yh/Fdc61VL48oAAmej+fCc5vpyy3nEnPA3i7rfAbPIcqY4/JcOnM+GXA7ywTxWZWtsFqrNFl6SLfqHKLI3yQ4dY7DWcIG3wDO4pUrVwlDSE1NdWzgNIpM4ro3OS/ikmxwvwlADZbRZtsiAajBr660tJAqK2WtPITphL0AIGBNh2IQBryoMtmGHZ8qeMlWbqzTKykPwiphGc+El9JPrng3CIHGwR215mrY94f7vOq1qpaO0X02ygYgTxzKIdgZN2yQIODzzz+jP/5xEk2cOJlqamp1u3Vt39jYQCNHnikKrzPTN2onI8TrqKOOTbvn7bffpCuuuIR69txC/Nanzy50+eVXK40lUTiyA1ALCsyQIXFYKfbaOMChndxHGsqkJ4nD+NlziHBOOwO60uIz0EgyBVdSS4v33ugkKGLAbSIVgXPj494LvUiWZI1ZMMZmhzOBmZKhMwTJ0yojZBFFYS1F0TXiBKduy5PncPHFY2jx4sV00EEHUb9+P6d99z2YevToaWBF53YXyXmRvfeTANTsyT72JycAVU3E5eVFVF5eQmvX1tP69Xo5RFCWmKAiKoOrZLLNI+QSmbrs7MGquZJRy63ojF3mSrp7JbluLEJpdeuJ6ozBry3nEUNRhecHpFbZvJwgVbd0jMrYJetvhfCONjaaZWZ0e/6SJe/R5MkTBPCdN2++IHuZPHkSvfnma6JeshtAnTfvz7R+fbsSm6PzmYnCkXmACkNgRYVkfAbgC6ugMziD4Uo1QkVlzXu14Tw9fGe4MG6sTxjNsrEnsedQBxziO4ZnWBrZUL4m/DswyVSs814wB5xLMJrhTINxAADdZBkulfFYZyPyjTeo3NLZxouZWSdvNdPg1D5B7LeoL//MM8/S888volWrVom9WdUwqCWsHGqcnBfZexkJQM2e7GN/cgJQ1UVcWVksDvG6unplwgzpYSoTXj7kwUSMMhODhWWcvbDqo3dvyQyudvZg1T7jzo0NCjfmcXIoGZTRTOYZuXklg0rhqMo2ajsoyAg15vBDeOx1lSX3MXRQWVkZIay5rQ0s1y2CDCnuCzlEKCMAj+m0aXNo4cJnqaqqmsDkiDrGbgD16qsvo9WrVwumxl69tqSLLrqUttiil9JQE4Uj8wAVZWSwv5aUFIpwcYTGMlCSICNYFWFwpAPOlBaEYiM2BmHs2B+igm3Fx3Y2M1HjFPspg1UAJh1iHBPP152zvT0/H4ZWkNNhHgUF9jJCZpmZnWPl92+CeR+GaBkKbM9b9c75xFiyCU6lYURGNDU0gFRsIy1d+oFYP3vttbfSa73zzttowYJnRduDD/4ZjRp1AU2adK3Y50tLy8Tfhw07mw455LCU/r777jsaP/5KWrNmNW277XZ01VUTRGRPpq7kvMiUpNOfE3wqZG9syZMjSiABqHoCrK4upcLCfAFS/cCmRTJEIpzXDDiwxorQVljqwzIMQ5GrqJChmVDmwuZKIuwW/zhJgvSkmt5aNdyY75QgtcpYjdGg8bPhwS2P2K0UTlB/pn+XhodSUTvShLKE8THrLxQnANPWVj3vgIk52pm+0d/Eidd4AlSEGO+//4GCBfzvf3+I/vnPJ2jWrDuVhpEoHOliyuRZkZfXIUCqBKsy9FGCvdZNHrF0tYS/yTjKuKgsGuv5MqwzCtBTeZ4bOIIxdN264LBS1f4lSJI5q6n1YtOBngWO9D2HquPxa+f1fG+SpWjMzF7yR/1000zNXjmfiDTgZ2UXnEoyKlnvOhwZ1euvv0p33jmHbr11jjDujBlzPp144q9p7tzZdNNNM6h79+6erx9lCVHeDOVm7r77DmpqaqJRo0abWFZKfSTnhZKYYmmUANRYxJobnWZS6ciNGUcdRQfV1paLXEMJylL7w8bKrJFxWvGt/Es96nwr3LhQAFMT4U8WSVC6PHSlHSbcmJ/BeU9BpSR0x2Rvz6Gt+Bus9F6KSLZAqlU6RuY54/9hiIiiNAEswBoNQ4S0jmevdIwOQHW+5yOPPJQeeugxJcbGROHILkBNfboFVuERw2V5VrEem2jJkn/ToEGDBE9AWGNblH1BlruSJHZuz08FegXCuIhvSSd00298fOZ4PT/K3PheP6BXUgJDJdjMsyN/Lvml8vx0ZmYZzhwFVMrnlwqdIBPrz8pbRVh5hxi7ZIo2D46D1g6z++ObXLcuHDjFMz755GMBLPv23UM88qab/kDbbLOtAKh9++4lGOL79z9MeFChJ/AFNuGjjjqCnnjiOWFEQQma8847hx588JGgoRv7PTkvjIlSu6MEoGqLbPO5YXMGqHbSlM8++4TmzJnZKXhsZrvt1lcQqtivJ598jGbPnkZdunQTfz7ooJ/ROef8TuuFAZwCpOIgwoHAoWdswWRm2aiskUGDgtIDr6FqaKvl9ZPhxiYvSeBUECn/ktmNo5RmiZNlGEogFBHIDrlNQZfJUOygZ9nDoZ2slbwuwyhP8GKBoRdKEEiQ2tszEM/rM1lVgIpv895776KhQ8/oZBEGQH344SdFiHLQlSgc6RLKjbMi1bP67bff0MiRI8Ve/Kc//dlICkXQ2nD+rssUbNUplaGbUWp8YizZKmPDQI9zb2XOrQztzOTFpb5wFoM9XedyEhSFIYrSAcc6Y1Nty9EykDt0Ap2QbNVneLWzwOl6WreuNWp3nfd/+eUXdO65w2nmzNtp1qzpgmcApWDgKYWX9LjjTrDpeivp7LNP76x9CsA6YEA/WrTolcDxSJlZYJdD8wNvdDRIzgtdiZlrnwBUc7LMuZ5yQ+nQF4uTNIVZPdHTqlUrxeZ2443TRJ0r+3XzzZOpb989aeDAI/UfarsDe1ptbYWwhC9cuIA+/fQTGjFihLDmB7H2RXqw42aV2qSp4cbeXr+o4wqbf+lHghRmTF5MtmH6wj1MgoT3CpIrHSWopqZSkGrhvrgu5JtWVpaJtehVE1YXpALwApjCK9TcjFqzUD6yfxSoAlTIevjw39Cpp55ORxwxkGCYeuaZp+imm6YrvYZE4UgXU66dFR98sIQuvfQi2mGH7WnatGnUtWvXTs8kPGIm8v39FotkCq4Q+0FYpmB3r6Sstapi4MTz8V3Cc5yNi8ExwCn2IVmCB7nDcg6mU1ucc5Tkg4XCMKoiLz8ZWURRRQK0AOhJL7c3cz/AofQc64NjE+/Lua+n1yrFHOAhVltPOmMqKJDlZMBFYBKcwpMKIDp8+DmCd8B+Pf/8Qnrqqcfp+uundP55xYrldM45w2j+/MfF3wBQBw3qTwsWvOQ7HbSDgQgX+mC24TAgNTkvdFaO2bbZ10rMzifpzSaBXFM6VF+OkzTFDlCRLL/TTjsL5dR5jRhxBlVWVolwkd69+9CFF46l6upq1cemtFu58nuaOXMqPfvss3TmmcNp2LDhofqJehN7DZ25V6okQ1Gfb79fKmwy/DXokuHQKM9SZDx3lEmCoDiEDd0yEQ6Nd4DcHByGpstN6JaOgSIlw9D8w/CgZMr8ZIQJt9D69XpeiaD3HuX3IIB6xx2zRa7S8ccPESFjkydPpIaGBurSpQuNG3dtQpIUQfi5dlacdNLxtOeee9Mll1whwFFREch9kLdaJHLYACwkUDIPVgEEECFhug5zavjphk5w4fRKchkdAEAYRbNxeYFjyWosCQVxSaCHEjzhS7S5zS9OzzEDPUmyJEOyZSmh9Z1AWKa2FIsoKh2jpal3FWR0lMYP5HAXCxAva5VKkqWwZyKPXUZvVQtjfH09orHMwASQIY0bdymNHn2R8JR+/PFH9OWXn9Ohhx4hHv388wvo2WefpvHjb+gUI4f4PvnkAvGuVEJ8QarUq5ckzBs37hJas2YNbdy4gW65ZRYhXF0XpCYA1dSq1u/HzMrTf25yRwYkkGtKB28MztALL1E4FVaEhlxwwbn0l788LDZm53XZZRfTKacMpT322IvmzJkhNrOrr56gJWkoBX/96/1011230Q477EjXXXct7bjjToTQ1GxdztqkuiRDJsctvYaSfMnr4vHhwESIclTrt9tz+BlhQluZjRHKbVRgKfOFWZltMSLqsKVjrHC0dKUKSgdKx2AtwWPa3Azm1B/mlSgc6e89184KGB7g5cf35bwYrGIPwLq2AEZ7ZDABAFZVVRl7GRl8h/jOMQcJLmSuJDzDEhxnpoyOU7Y64JhLvwDoqXolVXYchFVjHJnwHFsh2SCKKuoE2lhXJjy3KvN1tgkCp2592vNW7QzZuhFfnFqEyCCT4BS62PDhQ+naa68Xta1xffTRf4Q39e675wkehEsu+T0NHnx0WgTc2LEX0MCBg2nQoCPpnnvm0sqVK2nMmEvTxIB5AwSfd94ImjVrLr3//hJCJAYA8ZVX/q9gfJ85c64IJ9YBqcl5EWYVm7knAahm5JiTveSS0uHcEEAZ3qVLV1+5OQHqjBlThUf0N78ZFijv+vp6ghUeljeda+nSDwkb4plnjqBjjz2eysqKqbq6THgNYSnO1sWADAAayoAMNzZrtVaZG/RF5MZK70IqILNIkMAEG384tG4pHPv4UOTdVIiaRWrVJhTbsBePD/2FZYdGri+A6po19Z3DwN/gzYYij1zTDKeRhRVHbPclCkfuA1TVlw/W9ZISlBwpJqRE2D2rup4vq4xJkxGCOdU5MLjAHNg7DMOZqf1JdRwAJwDHnE6geh/aOVmNwxJF4fnQFcKGVeuM2a0twDHeBy674SCqV1J1XGHAqbNvrt0LI75O3iqDU8x17VpznlOM75ZbptDjjz9KW2+9Tedwjz/+RGFQmj//AaHLgJH93HPPF78jiq5fv/7Ur98h9N1339KECVdTXd0a6tmzF11zzUTfyDiA2Lvuup323Xd/Gjv28s7IGoDhr7/+iqZPv11E3aheyXmhKinz7RKAal6mOdNjLgFUbEA4xB566C+COOKBB+aJeleoX+h1OQHqySefIPLMttpq67RbYHF//PFH6KSTThO/wVp26qlD6LHHnon8PlBkvrKyVFh0wxaYjzoIhG8i7AiHN8BHHF5J1TEyIEMZFi5WH6Xmqupz3dqx17CuDizD3uGqPD6Aah5zlOc67+XDHZ72MP2bHB8O4dGjz6MpU26ivffeSyju8Jq2tGTeoGFSxqb6ShSOdEnm0lkR9j0XFuZ11lq1h24iUiIIrDJTq8kyLjrz4CgZGLjy8mStUlxhiH10nsttud40iJCiGNnQn5Moav364FxJmS5RuSn1IDthzUh9ALjDOY+zxJRXUvV9mACn6edSvvDSB9WMBe8GwnrjAKeq84/SzhmV9+ijDxNKkV1xxTV05JFHd3Y9atRZtP32O4jUAdUrOS9UJWW+XQJQzcs0Z3rMBaUDVuB33nmbFi9eRO+885Y4fA9R7mw6AAAgAElEQVQ77Ai67757aPDgY+mCC8Z4yssOUOvq6mjYsFM72dycN+E5J554FE2adCPtvntfYUFDcrzORuT34srLi6i8HDVB6wUxTqYuJPojHwcbMLxqOMRkyYPoZV+izIEBGZQ/WGqR49HQEL7mapSxSKZHWQbCCVKdpVniZKFkJU+VeRlzNk0ihT6hEE6aNIFef/11uuOOO2mLLbaJnVQmyvvL9L2JwvHfCVDtswLJC+es4huDgRR7lSw5kmrIkmQ8RVkrY8Mh/U6eAYvYR3pWOcfQtJEUzwE4BIM5ZGTySs2VlCG0HM7MRgMOK2aiOpPPV+1L5rzmbwKn6Xc5vZJsODD1LiSHQFmspWycpF0tLc10xx1zqU+fPtS/f3/xDdTVwTiwecECOzgFWd62225Pu+yyK82f/yBNnTqFJkz4A/3854eqLoW0dsl5EVp0kW/cvFZi5On+sDrIJkDFpnHtteNEWAbyAnAI/u53F9IJJwyhV199mR577BG68MKLqVu37uLQYsY1+xuyA9T3339PhIncdtvdKS/RHgoCIIwNqbW1VTD8jht3nVJdRNVVUVnJ4LA+TclR7UO1nUXik04yZKLsi+o4vNoxiQ+ss7C4O8N9o/ave7+USaEgtYAjNU6SJr+xSZCK8kD+yp5f6RjdudvbFxUViFxTKE4XXHAh/fvf79C0abfRtttuF6Xb/6p7E4Xjvx+g+oPVDQLsffXV1zRlyh/pggtGU69eW2clKkWG5CM6x5/wDeAJhkDst/hvFRZalY8WeyYIkZzlq1TuDdPGWacU0VSYl2lCKp2xYb+EwVU159VUODOPMRPg1E0eMGSOG3c5vfzyy2INHnDAQSKktn//Q6mkpFRHhDnR9tZbb6Rly5aK0F5E0gHwL1jwLF133Ti67LKr6Be/OKpznKo8KLghOS+y93oTgJo92cf+5GwCVEzuhRcWCy8mcgluv32WsNAhJ+Dqqy+n1tYWuu66G4S3B8xtyAmIYuWKXZibHlBdXUrIe4InNa5cPjuJD4COW+QqcmVwZSNXxz4+hISBJAjjMGVNDvsuuRQOQmwRrpWpmrXO8QaVB+LSNn6lY3RlIAFvuSiLgHeCkF6wUl5xxVjBlvjgg4+m1ITT7Z/b2+sTg137kUfmi7B9GAR23XU38X3jO7dfYFUE+zbyzgGUr7pqghhrtq5E4fhhAVQ3sPr555/SqFHnUs+ePWnatOmC3TOTkTEYk+W51WOKtVhoZd5t2NqYnHObrb2bnw+PHQADe4h1iX2i7CNRCZnSw5mZXVqt9Eu2wClkxnwS0GX++c9n6f/+bzG98spLonb8L3/56yhizfi9COl96603RH7qG2+8Rp988hF9+OEHdMYZZ9GSJf+mJ574B02bNifUuJLzIpTYjNyUAFQjYszNTrIFUO2ESOwdxQEEdrX2drATNolaVwjFQC7qgw/+hc477wIBUO2FlXNTqh1UW1suNnfTYbapNU2DSXwQlsWhv5mQlRcJElvhYYHOpHLhnDPT4+PdZHsseJdO4K5bOkb1naLcALwACJlD6Zj2disEHdEEOLAPPrifKyOq6jPQzlmfGN4PEE/MnXsvlZdX0MSJ19DOO/fpzAPnvtFm0KDBorTA3XffIb7/UaNG6zzaaNtE4fjhAlTMHFEFF188mvbbb3+aOPEG8Z3KUh1c+qUt9n0MwEh67RojeW6xpyC9AV5I7MP4Ju2MwF4fjhVWnJ09G8AaJboQfQODoj2ENs5wZrs84DmG8deUkRfnDoxz7CUOKv2iWhrM6Oa3qTMukQZZ19VhDUoogG8AZ5fqdeedtwkvJa6DD/4ZjRp1gZLRErWrZ8+eRl26dBP3HnTQzwQwVrlYv+R0Hsxh7tw59M03X1GPHlsIIiTMoba2lqqqqkXNVb502Hv5nuS8UHkr8bRJAGo8cs2JXrMFUJ2Tt4fwnnDCUSI/4Lzzfi+KMqP2FfJEwe52220z6be/HU72uqc5IUjHILC5A6QCHCI0y0TOBlhWcWDBYwoPmMrFhwyUkrhDbINIfEzUJlWZs1cbkJyARAokRVB2cJlSPMKOi2vYYhwA9/CY4N3iHZu4QGyBUhxQiJqaWqmpCesmvi3dWZ8YigHq2O2334FiOvfff6+oQTx6tJVXznXsnnjiOaFAq9SxMyEbvz4ShSNdOrlyVsT97tE/0kvADDps2Nmdyji+JQA95K3iu4Wxh+usmjS6Yc9GGZs4mGqdOYZW3m2qN4+ZvmHEyxQ7rf29svEOTMVuOa9u4czsJTa1PjLBFpxOsiTrlGI9WSXB/OtWm5qvvZ+8vA7BgivBaVNofoLXX3+V7rxzDt166xzR15gx59N++x0gvq8go+XNN0+mvn33TCspozJflBtECpc9TPfbb78RBlKUBPzlL0+i7bbbnmbPni4cIueff5FWWRnnGJLzQuWtxNMmPm0mnvEmvWpIINeUDuSiXnTReQKQYpN58cXFdOWV44X1F5Y4HFwo7YI6prl+QaGpra0Q+bNRgJAsHyNLgODA1mXndWPUNSk7HLIIl4VltbGxyZcNMw4WwqC5sNcZckMeFZMgZdq77DVOvF94S6AIYp2YKh0BYwbCZNEfSsc4iV+C5Bbldye7NvpCMfSzzz6dLr/8avrJT/bt7B416/D3hx9+QvwN38uAAf1o0aJXogwh0r2JwvHDBqhBiwd7O6ISAFax/2FvkaQ4rdTeviHods/fo5Rx0X0oe/OwJ2MOAEUARwB/khBKL6xY9/le7dlop5rzaoUzI/dWeogBavFvH9J23+Fm42xwkixhgCAVhBEks1eHYOuNCk4x5k8++VhEw/Ttu4eYwk03/YFqa7vQHnvs6Wu0RNsRI86gysoqYdDs3bsPXXjhWN/SMSyj9977N5177pkiSgdn/69+dQrV1NR0ppXgW503715qaWkR5JyTJ98cOZ82OS8yu0LtT0sAavZkH/uTcw2gPvbY3+mll14U1q1//estuvbaSYR6pX/+893Uo0dPUaR5xx17xy4XUw8AUyQ8qTgwAS51LvaoYZMF8IuSv8mhrUHEPDrj8yNp8utHteyLzli82gLYQwHzssSDrAiASPfdmBgb+mCvM9YHxmki7BhrDoXGofAgz7S5OfO1eZ0AFXnmCJk87LABIufHfuG3c84ZRvPnPy7+jPcxaFB/WrDgJVNi1u4nUTjSRZZrZ4X2S43pBgA9yQbsBKsASeplm2RIa6UIZ0WUR6YvNoTi3JFgtU2A7jhZzZ1z5FI6YXNerXzPIioslIzAkplZLd+TI45g1ANAzsbF5yPGDUOBzCGWeatRQLfaXOA5rRLPhOfUJIcGHA7nnjucZs2aK7ybuLyMlvjtsssuplNOGSqcEXPmzBCRNVdfPSFwGnBy/P73v6PjjjuR1q2rp5dffoH69z+M9txzb1G2EAbRv/zlzwKUnnXWOVRRgdJFemHLzkEk50Xga4mtQQJQYxNt9jvONaUDmzDqUMHzc8MNN9GyZR+KnDTkr/3iF4Np//0PEgy8yB0IkyuQDYkXFYG1tVyEbaoqHgixAnhB+6g153jOTMwT9vC3y06FpMlP1n5lX0y8I1WSIeldrhSKmCk5q4zfrXQME4KgFE44L2qHWDMIBYdiDK+pSQVDZV7cxg5QP//8MxEVMWTIyULhcF4c4vvkkwuExTsJ8dWRdOba5tpZkbmZqz8JoZGypmSh8LDijOJ8T/zbK7yevYZehjT1EYRvaScDkqGnkpEeAJVLpsQZ7sv7nwkjHaTg9BBb+cPuoNsqZZM9g6VbWK8zh1gXdKuviPjAKTyp4BlArufgwceIIfkZLZ1jhpPipJOOJ5wRKhdSwUCyidDdN998XaSGocoDwothuLjySlm9AbKNCk4xngSgqryVeNokADUeueZEr7mkdPBG0dTUSGVl5fT000/SokULxAYCK9huu/UVVOcAqKhb1b17j5yQocogiotRR66MGhoaxWHvdcVdk5MVobBKAEAumHChaMHCHA5Iydlz2RcQSZm6wpAM4Z7aWpBxtArvRdyX5dVtSlsL0otRHlhSwjlGsEbLUgj5ggSptTV8mKGJ+TNARWjV0KG/phEjRqUUQ3c+Y+zYC2jgwME0aNCRdM89c4WVe8yYS00MJVQficKRLrZcOitCvdQM3yTBqvSs4rtGuKkEq2DPtsAq6kN37941ayzn0msILxJSIBrTpIS8cEmyxHOw8iRNiZQNnuGNc8EjAejGczAPJ+hmQyWn0QT3Zr6FSs5pOuiWzMbRPd0dVFVVJaJuQIhk0rAJj+a4cZfS6NEXCRI8XEFGy4aGBnr88Uc6yfTq69fSqacOoccee8ZT8HaHBXJc//a3v9Jdd90viPvGj79KkO6tWPE9vf32m4JJvqam1thLTM4LY6LU7igBqNoi23xuyDWlgzeZdevW0ZQpk+jHP95dhAXeccdsOu203wrK/+XLl9M22/yosy6qCQtYJt5YaSmYVFHPriEt9CtsuGyYcXMYFYChjkUcBEM4REG2ZArIcdkX1fpyfvNlJQdj0yWEkiHQqE0KcBdPzo+qV1cnTxdKMIw58LhDSWloaA2ddxVmLXndwwB18eKFgohiu+126GyKklJnnTWS7PWJQUgzYcLVoiZyz569RCkAkHRk60oUjgSgml17HZ1eVYA9XIjY+MMfbqAXX3yRHnxwfiRjX9ix6gIzzpPEHoVL1loFqY96KLNzrBKYBdd5DTtHt/vsoBu/S1Zg7J/ZDesFQNcJqU71dEvSLiZZUpcXwClSQgqNg1NEwwwfPpSuvfZ6+ulP9xNDggMiyGgJne7EE4+iSZNupN1370t33XW78LiCm8R5oTRZly5d0/6OcGLok6tWrRLGzgMPPDgl6s6k3picF+qrzXTLBKCalmgO9ZdrABWiYZAKLwqsnStXrqAxY0bTbbfJPFQkt7/66kuiHcrOICxQZ7Nxoz0H29z06TcL7+zhhw8UHh/nZaJWY3l5EZWXl4gaqVxTL2q4bJjlBCUJYdQAqUEHIgMr5CUFkSCFGUvUeq3SqytrvsIDoAO67eOF9xEgFXOUHg4zVxivrlVewJuohN8LvNnr1jWnlI4xM/Ifbi+JwpH+7nPxrNg8V2gHdXRsoGuvvZJeffUVmjFjBu299z6d4CIssY+uLOR+h5zXtlDpDcyki7MEfXEYsE7eLbMF6wIz3bl6tZekVFWdbK+ZKl9jH4+K51RlvtJ4IMOycSYwWA16Hzh/cZYg59Q0kd4tt0yhxx9/VFRg4OuIIwYKwssgoyUIjKZOnSJ0MuSsjhsnw3Lt1zvv/Ivmzp1N1113g0j7wsW6IPhMpk+fKqLt9t13f2FEAQiP40rOizikqtZnAlDV5LRZttoclA7U0HriiUdpypRbCaEf2KQeeOB+UWQZ4AreFlx2SnGvl+FGe37MMf9Ds2ZNo+nTb6OePbcQuRJgfkPdLftlqlZjZaU8RJ588il64IG/0o033kgFBcUZt6DjYMQ/slZrR5rILK9uoWATBEFDXFdY1kTTXl0rTxekVNHna3l19UvHeJFJIcwLpWOwhhCW3NgYb+mYuN55LvebKByZBaiNjQ00cuSZNHnyLZ0lxBCWB6/LUUcdmzYYhOldccUlYr/G1afPLoIdenO5ENL+0Uf/oRtvvJV23XUXKikBuCgSnjwACijlktgnnhnBqIs9t7lZvWSZ30gAULnWqiT14Vqr3nso9m4AqmyxBVsA3SKlCjOPKG/IFDh1jkG1DA8MuwhDjwOcRpGLyr34RiZPnihIlA488Ge0fn27iKzjC97bM888jc4993w65pjjVboM3SY5L0KLLvKNCUCNLMLc7WBzAKiPPDKfvvnmazr00MPp+uuvo379DhGMbAjZmDlzKq1YsUKwu6l4Ub1oz6W1bpZ4Uai9+tZbb6QoPCZrNS5f/j3NmHEzLVy4gE4++RQ699zfCQt0Ni4oCVxSwK4MRQFWYeZh1Wtdr1QDNE6vrr02aZD12WuueJ8IX4bCGSVXF6FvWC8IO0bONZRA5KiiBiO8puvXx6TBhnmJ/0X3JApH5gAqcsQmT54g8tLmzZsv9qPJkyfRm2++RmPG/K8rQJ03789CIf3Nb4ZtlqsOOXIgbNlii14p4wehnmQEtsAq11o1BVZ1y7joChheSQBPAG48SwLuVAZa5h9Aaodu2TTd8bi1Z3DqxzuQOg9ZvoaBt4kxxwVOnfN1zuPBBx+gzz77nAYMGEB7770XrV3bbNxzauIdqfRx77130aOP/p1KSkro5puniwg7XOysADnS999/S//7v1cJ7ynO4ziu5LyIQ6pqfcbzRtWenbSKWQKbA0CFCOA5veOOWVRdXUPdunWnVatWCoUdJCxQViZOnCz+DiC5ZMm/aa+99gmUHNOeDxlyEn3xxed01VXjxT3wst5//5/o5ptndPZhqlYjEvdnz55B22+/A1133bW0224/3uTBDBxubA0AeGBxhbKQGi4bjQRJd8BcrxWWUS+2Y7tXF4yXJkNx7ePlPN0wZFLMwGwqV/fOO2+nRx55hO6++x7q3XsnampCjm3iNdVdXzrtE4UjcwAVuchg9oTHdNq0ObRw4bNUVVVNIFfZZ5+fugLUq6++jFavXk0gT+nVa0u66KJL08CezvvOxbYMVgH0ADIA9GTYZltoEhuA/6qq8owRMlllX4oFQADIw1xwSXCaecnLcj4gxVP3HvM88C4gQ+gZzM4MY6HulSlw6hwX5rF48SK69957BXkQIhDACTBo0FGdtUp155KN9pwGtnTph6J8GfgKEGGHvcAOQuF42GKLLalXr1RDkOkxJ+eFaYmq95cAVHVZbXYtNxeACsHOnTuHPvpoGV1//Y3ikAapCmqlHn/8L+nMM0cI0Irkeyg1kyb90fdd2GnPEe6EnNYrr2SA+grNm3cf3XTTtM4+TNRqxKE2evRIwVR67LEnCOsyaqTC2ocwJ68SBJlYVMhDgRygPKAcDvKSsnH5kRVlOlfXIpNSK/viVjrGhAwhk0svHUvLli2jmTPvECRCyRWvBBKFI3MAlZ/krJ07ceI1ngD1j3+cRPvvfyAdcsjh9Pe/P0T//OcTNGvWnfEuiiz2DpZuhAFjDwTAYrAKz6QqQOL9M4zRzcTUuYwLxo+zToI8yUBrwiOpMkYGp1HrgQOo8j/gPNBh0s0WOGX5SBb5Elq27BNatGghLV78PDU0rKO5c+9VEaFok00eDwan0Juam5uosbGR/vGPvwvgDRIlkCo5r7hLEibnhfLSMd4wAajGRZo7HW4OANW+uQCUotQMwNTHH38klJTTTz+TPvvsUzrnnDNo4MAj6eKLLxPWQVjN4FV1Xk7ac+Qz3X33XJo6daZo6hfia7pWIyJ7a2srxGGN+qTZuOxkO7AKgyQom5eTrIjDZQHUEC4LsqZMXVz2JYhMyiod02yMBZi92Vjrq1bV0ejR5xHYbgFSN6cSS5l6VyafkygcuQ1QnaM78shD6aGHHksjUTG5JnKlLwlWZfka7A0qYDUbTLlOeSHnFWc5n3NOkAewjfMniLQv7HuArEAKhfPNr9Sbbv9uTLro360EmwVOvcnvdJ+v0x41shHhg5xTJmnUuR9ts8njwbrg66+/Qs8/v1AQIu6zz0/oiCMG0d1330EvvriYRo8eQ3vv/RPdaUVqn5wXkcQX6eYEoEYSX27fvDkAVEjQnl86Y8ZUeu65p+mUU35Dv/rVyYQwjgsvHEVDh55Bw4adTf/f3pXA6Viu7/sbjDGGQeWUqDC+KO1HShKRQgnJlkhCZMsusu/7viSiJEWULGVLKm0nHX/VyTflVDpxnBYMY8b2/X/X/fWObz4zvu19v/V6fj8/Zd73Wa7nmfd5rue+7+vOyjopBw4ckD17dkuLFm1yTUBesudwKW3dupnMmrVABToGDHhWGjVqLPfeWy/Xu1blaixQAHk4k5XYwG01VMVTXRYkGSq2OCT4m6bF7D4bhwn0BQcZpGTIz+3X7LY963OlfUmSvJQmfU0d418fneI6SCT9lfogW136MjMzpW/f7nLttVWkd+/+/lWZz9Oe4jSI9169eqW6SVWufJ3mi4NLm3vZtGm9LFgwW0qWvET/GWJiXbo8Y0p/IqUSHjgunAmr9wpfLaggMIg9w/ce3wkUENS1azdJkSJFImUJhaQfBQsi3tMVswoPDnzDXUTvlMYV4u/ff/+fVKlSJWxiRIblFHt4fmlc3HOUuiySiPfEGM6ZgqPVcbdGJ3Mr6eZOwxMp5PToUQgABo5ruHU8oA8ydeoE6dSpq3z77Teamqxo0RTp1auvQDUY5765cxdJcrJL2T8UhftFKFDOuw0S1PBhb3nLVh86zByAQVKxCa9atVJat26r8UrDhz8nzz47QBo3bqqS5jt2bJMxYyZpGhXPkpfseZMmzaRs2atk9uzpmkQdB+4ePfroIT1UuRoRb5SamqzEEGTM6oI0JiBBnjlDMeYSJRCfk21artNAxoKNHm7HsJ5mZByXU6cCz7MXSPue73gq6rpiYZOlUKECeugKVEzJsx2Xm3DRv8SVsuTUqdzWYhzOT58+JYULJwU9LE9xGsSHQakarl7Y3OFiWamSPSdZutHg9OmTpGrVG9VbIVYLDxyRS1DRs44dH5c2bdoJUlbgwmTLlndl2rQ5sbocfRoXLjoNgSV8R44cOSrduz8jyCm+ZMmykLnRunfW3zyreNdlkYQLbaL22XCfzcsi6QswoSKnnn3B5QnG4UrDg4sUp+nWW1/Gj2dw2em6ZA2OnHq2F0odD6wFrIGRI4dKjRo1NW4d/7979xfqAQf33quvvkYFNcuUudJXaEx5jvuFKTAGVAkJakCwRcdL0URQgah7KhkcTMaNGyljx06W6tXvFOS9+vjjj+Tuu+9RsgoBDSRwtjr+wKyZTkyE9H8RzeVppguSe/+waUJdFiW/nKFW5QP1BSeI7IE443ACVyzMHYgqrJeBHlB8adeXZ7DJw5oKUo/NHnG6iGUyo7jGnSy4OEC9J05ki9Np7afXU5wGh8kDB36SatXu0CGtWPGK/PbbYXWZci+dOz8hKSnF9GdpaXa15kKkIpYKDxwXzqbVe4U3C+qLLy6QSy+9VJo0aS6w4iDFBMTzSpYsKUOHjsxXJCkQLwEzcl6H8/fh6NE/NHc4vIOWLFmiYjiGwFKgrp3+jsfIMYp2A/XI8bRIGrlWfQ3zMHQE4FZs1iWivzgYuV5h2YY3ihFDbLg0+1ufv88b5PTYMYgKmhceEw4dD4wdF6f33FNHszkYRgt40MGjDufAcJz3uF/4uyrNe97aU5J5/WRNASBg9aEjgC75/MrPP/8oR48elfLlK8q6dWs06TlcfiHfP3r086oE2bt3P7U2+ZKCxueGLXwwKamgpKQkqcKh2RsqiB8IENyIsTlerJzPBxq6jd2I93S5GJ/MufH3NQ7UwmnRqo3UBPgbMam+HpK89Qsueshrio31+PGsoNyvvLWV1889iQGe+fPPP6VTp3aaaunWW/+e67XBg/up9wLyzy1cOFfgNo80T7FUeOAIPUG1Yv0E6iVgVs5rK8bkS52wMOPCafLkmXLJJSXVigfrKggb9kJ/iZ4vbbo/k1eOUX/r8Hwel6tGrlWMzUW4T+e7T0YSOXVpGLjUfj2VjZEuyTUf5otFgRxj3zebnIZTxwN7DowTy5ev0phzpKd67rl+Mnr0BKlQIS3YZRbQ+9wvAoLNlJdIUE2BMTIriVaC6u7uC3VfqPl269ZTrryyrN6sHz58WKpUuU7j9oYMGaES9+7W18icDVevkpMLSXJyYdNIEG5tU1KK6EYOcuqrYqLhGmW16iNu2l2pbuAueyJP4nc+DjQ84hJG6hi4X8Ndy0jLE8w6gkAWiKkrxjZbTpwIT+oYT4IKxWpI99epU0+eeOKpiw7x2LFj0rJlE4F4WCwVHjhig6AG4iVgZs7rcP1OQPjv2msrXxCHh29ObrJ6Lidm1awLN7OUci+GHdowcq3iv0HuXLlWXaEgRjodq/eui/XRsJy6k1PP511kFS7Niaakr3GvH5fR2FfNJqeh0vHwPK/h9xLnOBRYUT///BOpUaOW/Otf38gTT3SU2rXrhuvXTbhfhA16IUENH/aWtxytBNUdmL179+hBHx8vxJiWL19B6tS5T/N64bbtl18O6O1aNJWUlEQ9SBw9eizgJNoG8QPRDDRO0tjoscmaJViRexPFDW+SEjRvsbfY8CGPj774SrKDnfP8UsfATRr4HjsWmPKykfIBmGZkZAU8x8GOD++7E1TcRvfp012aN2+lVlLPApfKDRvezolLhRt9mzbNZf36LWZ0JWLq4IEjNgiqMQp/vATMynkdMYs5n46ArLoEllyWVXxTXZa8bDl9OjBX0HDEe8Jaa8R64pLTuLyOdHKa17RcmL4mMLEog5xmZMBbKrC5zG/9hlLH4/Dh/8qiRfPVyIDiTlp37fpIw2JA7q+77sLUMqH8/eN+EUq0c7dFgho+7C1vORYIKkCCSyLiEFzB843kqquuUeyQHws58iZNmqEfs//85xf57rt/qbhGpJfixZMEKQVAUqHi6k+BqI8rTjI74Pgfoz0rrJdGLKzLrTXT59QCcFfCYQp5Y61O8u4tdQxiY1H8SQ8EUgsRJIwBcaYnT572Z1otedY4vKempmoe4c6du8kDDzTKsy0c/po1ayjjxk3VfHMvvbRIYHGFQEUsFR44YpugXsxLwIyc19H2u4AYeCN1TW6yet4q6W1M511qIcQTnu+a+8WfKwWPy3XWCvfZ/PDwxXLqDUv8PC+xKIzDm6UbF9vYY3DxmZ0dXnFBX8Z5sWdwXpszZ4Y8+2x/jaPGeQF/cCkRSYX7RfhmgwQ1fNhb3nKsEFQABUsqRJHKli2nuEHRd82aVZoyplmzR+XgwV9V3AUWoFatLrQOWQ623w04Nf0MDg8uq6H3Cs6LILmIn1lWTzOtlyH6CrgAACAASURBVP7EwuY1Ypf1MkHjdK0o/qSOQW4/3Ormlz7hfP+cfykpulytcXjw99LBirGiToOg7tz5vixYMEeuvrp8TlM1a9aSp556OpeaNdI6zZw5RQVYypW7SoYOHRVz+Sd54IhdgurNS8Bw8TU757VVv79m14v9xrCs4m+Xkq7Lkoe/JQ+nukiI93RdpCLe0uXtY8R6wioJT6DzKXjMj/U05sAscuo5py6xKJey8cXibw1yCi2DrKzoI6eGG69hKYXAGVR7kVqtY8cuZi910+rjfmEalH5XRILqN2TR80IsENS8VNtee2257Nr1oabCqF+/gXz22S4ZOnSgvPHG25rrFK6KmZkn9FYukovNBpJaVEkQNt68Dgfov6F+i03aFxGkQMZsWC9BlgMp/hA/b/UHYr30VqcrdYzLQuuPSzRyx2JjzS+HLazguNEGqT5+PDvqb7W94RgLP+eBIzYJqi9eAhi5VTmvo+13A/uPy33WRZBwSeoiq9l/WSVFIJhz99011VPHm3XPqvF7klPPdrA/gqTiOXzf0U+DdBviRcH2zSpy6tkvz/jbL7/cLXv27JFatWpJpUppKrQXjeQUFyAg4EePHpFXX31ZveFuvvlWFUFC3u2uXXvkeMYFO1dmv8/9wmxEfa+PBNV3rKLuyVggqJ6gb936nixfvkzatm2vUuRbt74rc+bMlB49npU77qihOVR//HG/VKp0bUTfyhnjgjcLSCpIUF7upIbKLdyZ/BFBCmSxBmK9BPHDe8HEwubVV9+tl95HariGBZI6xsj151Ifds9h61S3chxcENsFcuqLFdx7b/mE1QjwwBGbBNVXL4FDhw7KmDHD5ciRP6V06ctlxIixMZdKyd/fIRdZhaAP4lZBVp0yfvx4WblypaxatVouvbS0v1Wa8ryRoxqpyHCR60u5MNbzlH6jfX3fs41QkVPPdnHpiVjMyZMnCVIjQRgSZx4IBiEnaLQUqPJ+/PGH0r17bw3JQu7eLVs2qZZIkSJFlLTWq3e/KsqHI42MNxy5X3hDyLqfk6Bah23Ya45FggpQ4e4LAvrmm6/Lyy8vkZEjxys5Ra7UiRPH6u3cxInT/cJ/yZIXZPv2rfpOjRp3SbduveTtt9fI6tUr1e2mcuXrpH//5/Sm1r3g44sbwJIlL9F/vvPOu6RLl2f8ahtJ2OHuC6VCw1Lnrn6LnKFmp6XJr4OwXoJoQXHXWzlP/IKPhc2rLW/WS2/9wwZvCB5lZMAlOjBBCcw/LhI2bdok9erV15t6V75Zm95om5l/ztuY+PPgEeCBI7YIavArIu8aAsmxasZ+YNV4fK337NkzMnXqBNm6dbPMmzdP7rjjjlxuwKG6iDtPDH0np55jdMV6ukQJQVCNFDy+hscgzyhEiS6m1usrroE8hwsDeOh8+eU/ZfPmLbJz5w7NZ71u3XuSmlrC5yrd1zIu8BcunJfzLnJeQ4gIWh5mn21QHy7fhw4dIEgL1a7dk5ouEOq8iEHdvPldgSp1WlqantmKF0/1eUyhepD7RaiQvrAdEtTwYW95y7FGUN1V3laseFnmz58tixe/InZ7Zf3QrVq1QipWrKQuvr169ZXLLivt043cF198JkuWLJRZsxYqGe3bt4fmW12//m2tPzm5qEqfV6pkz1E4NSZv+vRJUrXqjepuHEwpVChBUlOT5b//PSwLFiyQKlUqy4MPNvaqfhtMm/m9m5qaom5S+bm1wg3pPEE7YVosrGd/DOslDhXeVIA933VPHQMV4WALxFXatGklTZs2laFDh0pWFiyqsJryExostqF+nwcOElRvay7QHKtm7Qfe+mflz5ctWywrV74qU6bMUrG0xETkKHVZV10xkmdyuQFb0RcQQ1wEIvTFLDddZAJw5Vo13Jldcbf5uS6Hm5yCXMOTCPtMZuZ5YSqEL+FM4mvxXMsIgzLK77//Jl27dpSpU2er5oB7CXYtz549TapUuV7q1q2v5yfoG0DgEnm1ixcvntPUp5/u0tynjz/eQdLSKvk6rJA9x/0iZFBf0BBPV+HD3vKWY42gugN25MgRycrKkssvv1zFkt56a7U0aPCQps/Yv/97eeutN+Wpp7r65Lq1f/8PmlMVqWtQpk2bKCVKlJQbbrhRqlW7Q/9txYpXBDeNPXv2zTVvnTs/oeJM+Flaml169+7vU5uekw/Xlp07t8n06VPUdXTEiFGa6y4c5WLEEOrBcLuCuytUhK0u6EuJEsU0VY0v7UFIqlixZD3U+KMg7G0cONhgo+/cubO0afO4dOz4tLdX+PMIRYAHjgsnJpb3ikCWYSA5VtGOWftBIH026x0IDqK4ExmjblykuhSBCylZhWcP4gvh/WOWZRV7jCte0bqUY3kJE+EiFNY+FCsIsj/zU6hQASle3LXvnTgRnGqy51p2n9fRo5/XS/02bdpd0L1g1zJceXGWwdnp8cefUNXl8eNHqTL8jBnzNDe6UUaMGCLVq98pDRo86A9MIXmW+0VIYM6zERLU8GFvecuxeugwcqEBwH/+c7eMGvW8DBw4VD9wKMOHD5Y//vhDpk+fm5P82VewDxz4WW8U589fnHOjiDQ3nTq1k+eeG65xEu5l8OB+SopvuOEmzcuKRNe4IfSn4B24Ju/e/YW0b99BevR45q+NP3xKfeeJIYjoKRWfQGJwYA+XY7NutX3BCa66cPfFJQIOEfkVb6ljfGnL8xmXq3VRtR7gJnvbtvdl0KC+6sad16YeSBt8J7QI8MBxId6xulcEu7L8ybGKtszYD4Ltc6jeN8gqLJL4ThpkFYTVx3DRC7oKsT58axFzGqp82IYwEUg39hq4/2I84XLrBXnGfnfyJEJ+Tpk2nZ5rGWedXr26ysqVa/VCwLMEupbdPd0QX/rYY831fDR+/FRNGQjLKtyUcYbo23egXHNNeWndupkMHPi8hmdFWuF+Eb4ZIUENH/aWtxwPh4709H3Sq1c3VfBNSUmRH374Xt11e/Toq9ZV94+l+3/nBT4sqQMG9FZxJeMm72I59TzrOHbsmLRs2USQwsCfAnflzz//VK2v+FgnJxeS5OTCukGGSzkR/TeIoXEhAGLqSkUQ+oJDBDZtCEl5xuOaqSDsPjIjITrmAKljzp515QJCrDLcy19/fa1pOds8493Wrl0tb775hog45c47a0q3bj3VYuFeIJyBG/A///xDrrrqahk2bIzeWLNcHAEeOEhQff0d8TzUh2I/8LVvkfQcyKohsIRvNb7RsKq6yKoPOdREVGUdbrhIMRYqcuqJIQgyXItxVsA4jDyrodr3rCKnGKfnWp47d6Z6e8G11lvx9WxjnBWA3y+/HNB96Y8/fteLm2LFiqnbODzfVq5cLgUKFFTLKgrIsqeLsbc+hern3C9ChfSF7ZCghg97y1uOdYJqKL6BpEI0CQUfPsQ6jBs3RYnEoUO/ajD+gAFDLoo35PSRqqZnzz6qKIfiLaceYl2Rd7Vly8f0+WPHjkqbNs1l/fotQc9tSopL2OHo0WM5xCjoSv2swBBBAjHCoSFUQk35dRObN2Jyjh07oa5YgaaO8QaDK8a2qLognTiRt6y/mWqDnjFCqLtPn+7y0ksr9Ga7e/dO0qFDZ7n9dpe7uVFwmYI0S1ivS5e+qBZmEFmWiyPAA8eF+MT6XhHo74T7oT6c+0Gg/Q/He0i9hdQ12L/wDXV3A86PrELTAM8i5tQsV2F/x2649RquxbCi4vsLCzGIM1xUQbrxtxV9BG5w63WpwptnOTVw8CSorVo1lWnT5kiZMldeAFUgZxtjTzT2L1zmlC9fUTp06CQlSpSQYcMG6xzPnDk/V3veDAf+zqPZz3O/MBtR3+sjQfUdq6h7Ml4OHbAglSxZShyO72TIkIFSuXIVufLKsrJjxzZ59NHWurk8/HCzfOcPLrYdO7ZVNeDbbqumz0GIoG3bFtK5czd54IFGeb6L28JmzRrKuHFTVUzipZcWaXyFNzLs60IqXjxJsGmBpAbqMuVrW+7PuavfIo4TarXFixdVt6tAlXAD6Ude7xhJ4xGbAyGkQFLH5N8Xp8reIwYKQiBQ6A0F7nnFCBlJzeEi1b17Zxk8eJgqLRoFP2/YsK5s3LhN1zfWcPfuXWTVqrfNgjpm6+GBgwTV18VtHOp9ybFq9X7ga58j6bmCBW1/CSyB5BXQi0XDsgqPFFyqHT36h1SuXPkvy2l4eu9JTj17gctQV87YxByyalhXzbD2Gh5CVpFTjMedoELDo0OHNrJ27UbTzzawzGJPglrvpElI4ZQqLVq0kUsvvUx69XpaGjVqrP+PYuZFr1Urh/uFVch6r5cE1TtGUftEPBBUqNB16tRerUu4iYP1tHHjplK69N80ZxgIh1Hy+xjOmDFFNmxYp6TWKHXr3idIPXP11eVz/q1mzVry1FNPCwgF/hv1o72ZM6dIdna2uqgMHTpKXY3NKU5NPwPPTtetrjm1XqyW/NRvsTnjlvvIEagq+paPzoregjyDLOMmNiPjuBJJMwoOT7Ca4tYcxDQ7O7CUNMH0xfOGe926tTJ37gxVQpw8eWauFEe//YZ13y7ngIGDX716NWXHjk+D6UJcvMsDBwmqrwvd+J30NceqtfuBr72OzOeQTs0QWML39vfff1fROezRM2bMDlunvZHTC8mq5FhWkXYO316XUBQsq/5v0gY5xV6WkWGd8KD7/vLtt18Lzj0vvLA01/ACOdt88MF2qVHjbt2f5s2bpZelXbv21BArEOHp0yeqO+8jj7SUihXTJCkpKWxzHUjD3C8CQc2cd0hQzcExImuJB4IK4D/77BP55ZeflUyWKlVKKlRIy5kPIybCsEjhB9Fwa2cMAAnUS5QoqqQQ7k+wZlpRXATt4uq3uD2GdTFc4hHu5BmuYmb0BfgibhPKxLDGnjgRvtQxeQmyYN2OHz9SSpe+PFd+XVjqu3TpIGvWbNDlgOfq168l27fvsmJ5xFSdPHCQoEbCgo7nuPOMjCPSu/czuq8tXbpUVfMNNWBfc5SaMYf+ktO82sTlrfEHfXdZiE/7dJEL0p6aWlwvWq0kp2ZglVcdv/76H/noow9yLKLQ00B6PlhI7733Po1xxTp//vnBUrv2vWo8QIl0t173sXK/sGr1eK/XmtOu93b5RAgQiBeC6g1K42OI4Hx8LEFQ4W4SLSUhQZSkgoRAJMjMAuusSzkxUdV5vYlBgCQWLuwScArktjiQvueXOgakEn8C7QtEPaDQCyEiiCCdPh0+yzBwMQgqrMS4hb7xxpsVrl27PtI0Su6J1A0XXwhyAR9fXXwhWIHDINqI18IDBwlquNd+vMedd+36pIrlTJ8+T0qVKpFjWUUIBy6VDTfgM2es+yabQU491xH6j4tcEFacO2BVBfHOi3TDWwfkFN/yY8eyLLt8tmqtI3cp9A9gOYWoHzIqPP/8KCWo27dvkSZNmsvf/367klTE7eK5aCzcL8I3aySo4cPe8pbjjaDmZRk1yOm//vWNDB/+nFSoUFGOHj0qjz3WTl10o8WaiptWuPtiwwORNKNgE0XqGGweJ06c9JlwGmqLIIZWF5BnqOmifzi0eBZXzjyISfnuAg1SDmIKEQ+XlD/cqsL/KTQI6smTmTJgwLMqkgR3ceSOK1fu6hzFQwOD/v17yX33NZD69R+QZcsWC9x+IdufX9m8eZNs27ZZLbHuXgZWz2Gk1c8DBwlquNdkvMedw+sJoQsgL+4F92b4LsMV+DxZdZE8MxXtQ5FrFf13WVYTdW/FGCA2CEKKfc1FTs/KsWMnI2L/8fd34tFHG+tl59y5i+Trr/9PEJKCnPC9e/cTkFfsN/ff31Dq1q2fE2oVTZZTAw/uF/6uDPOeD/+pzLyxsCYPBOKNoOa3AEBOn3mms6rJNW3aXH74IV3Gjx8tI0aMkcqVr4sakgrBJJDUzMwsOXkSN66BFVduT5dqIkSQjOTk/tQGd2DUA0VdK4o/qWNchLmAijh5Kzj8uPK5ntNY0zNn/I8Z8tZGoD93d/F96603ZfXqlTpHN954i/Tq1VeFJ9xjhA4dOihjxgyXI0f+VBfgESMgSJH7wIe+GIcCqEzjkgb5ghs1elhl/+Ox8MBBghop655x5/nPBMiqkbqmUKECuk8bltXTpwPXCAgFOfUcFfYnENVJkybI2rVrpWbNmlK3bj255ZbqSuqiqbiTTISZwBsHasA//fRvef31FZKUVET69Bkg69at0byn0O2I5sL9InyzR4IaPuwtb5kE1QXx4sULNVgf1iXj47pw4Vx1833kkRb6TLTc7CUmItVKESWWeVkUvS0quMRig4YKbjAkF+0g5Qtwcyn9mlMCTR0DgSNYRvNzgQaZxjMgvrCYnjwZnnyu5qDkey1GDLbxxvvvb5U1a1ZJu3YdpFq13GlrfK81up/kgYMENVJWMOPOfZsJfNtdAksuy6qLrLosq/6kPwsHOXUf4alTWbJ37//J5s2bZceOHermfNddd8uIEeOiwgXWcz/B2Hr06CInT56UWbPma+7TN954TU6cOCGjRo2PijF5W4HcL7whZN3PSVCtwzbsNZOguqZgwYI56mLSvn1H/f+DB3+VceNGSrNmj8o111TQn7333kYpVChR2rR5POzz5q0DSUkFJSUlyS8VW1jiYPVEvCUIpVlCFKmpxdQCCxfcYIuRdxXEO5D68iPMiJuFSxUOMog1DaMIcbAQBfQ+4q4/+minutQhcTqUFmF1xe+Du3J1QJVH4Us8cJCgRsqyDUXceaSM1ax+GGQV1lX8cbnPusiqS0Mh72NtuMkp+g23XvT3yJFM3Y++/PILSU93aMiRv7oAniJbONMgnzssmCjwGLvnnjq5YD906JCMHv28IDUf9oJhw8aoSKAvxf0S/9VXl4nNliC1atWWsmXLad5u1Dl79gsqWIl41Fat2vpSbcQ/w/0ifFNEgho+7C1vmQTVBfHXX++ViRNHy7Bho1Xafv/+7/Xfhg8fLatXvy5Ll74o1avXUAGlm2++NYfIWj5BQTSQnFxIkpNdAkHeYnO8xXEG0Q2BxRMkFWl2YJUNpHjmXfU2nou1AUzWrn1L6tSpKxDBgNUUMv6wmmZlmZOSJpAxhuudd9/dIFBWhMI1XHzhNdC37yAZMKC3xgYhx697KqZw9TOU7fLAQYIayvV2sbasjjuPlHFa1Q+osLvykxpkVf4iqufJKojV2bOn5bLLLgtYUC/Y/ruT06NHM8XpDO7o7SmydcUVZaRdu5YybRo8wy7Nt7v47tev30DFjXDuQR7abt16+jW8qVMnyoEDP+WkvevatbuGSg0a1EdjUd94421JTob4YPR4pl0MAO4Xfi0PUx8O7rfE1K6wMrMRIEE9n1Jm+/atsn79WyqQBKEkKMxdcsklMmhQXzlz5rTcfPNt6gKcnr5P7PbKZk+FJfWlpCSqoMTRo8cESc89iz9xnMF00KVGWExjY/11O84v72qg/QFRbtHiEbn11ttk+vRpAhXI48eROibQGqPnPU/3q//85xeZOnWC9OkzUG+54ebeunUz6ddvsIovrVjxigovQWkxngoPHCSokbLerYo7j5TxhbIfLrLqcgMGaUWBt9CgQQMF+dLnzl3gsxCgmf12kdNiugeZQU7RN0+RrZIlS8nDD98vVaveJL/9dlhq1aqjFlR3q6yh/L5x4zbVM/BV+d0di9dff1X27PmnjBs3WV5+eYns2LFNypQpK48/3kGuvbayvPTSIm03lgr3i/DNJglq+LC3vGUS1NwQwwUFbrw4nH/33bcqGAMrEoL4v/zyc03rUbiwf0mklyx5QUB+UWrUuEu6deul7sNWutq4j6p48cJ/CQQdy3FdhVUT7rwQZsAG7U+MTqCLEhthiRLFtD1vqWrQRn6pYwJt33gPYhogZu3bt5d7760nffsOVitvLBdPCX94AhQtijX+L5k2baKmp0lNTVUckA5g48Z1smjRyzJ4cD+1NONGPZ4KDxwkqPGy3gPJtQoF1gULZkvJkpcoTHfeeVeuHMzRgZ1TEhKcMmzYENm9+0vNtXrNNeVz3IBDdWGJrad48WL67T1y5ETQllNP7I0LDliJ58yZod4xON/AUgorqZF3FO9B5b1Tp3aydu1GrQaEtV69mrJjx6f5TqnnpSfiS6GAX6bMlbJnz1e6x44YMURDhp58Ei7F92pdecWqRse6ubCX3C/CN3OxfXILH64R0TIJau5pMFLKwJL60ksvSvPmreThh5vlGYPhS/qZL774TJYsWSizZi3UDahv3x7SrFkLWbx4QUhcbVyjc6qyLzbCQ4cOy3vvvSvNmjWVwoWLSGZm8HGh/ixkEGLEgULZ92LKwFa4HLvyuSZrSpqsrFPy2WdfSK9ez+h8+OvC5M+Yw/0sbrQ/+eRjmTFjnuzb953Mnj1NihdPlYYNH1JPgdmzp6uV9LrrqmpXsfa//z5devfur+5dvsYfhXucZrbPAwcJqpnrKVLrCjTX6vTpk6Rq1RvlvvseiNSh+dSvsWNH6Ldx1qx5Urly5Rw3YOzVp06dkVOnsvUy1Sqympucwq3Xp2779VBeIluo4IMP3heEd4wfPyWnvv/977BAdXfNmg05BLV+/Vqyffsur20ihczdd98jX321W8qXryCffPKR7h3wRJsyZYKGiTz9dHe9eI61wv0ifDNKgho+7C1vmQQ1b4ih6ov8XSCncHVRmud0Ksn0VPOFOl1+MXr79/+gh/yqVW/QOmCtKlv2KiWoVrvauI8Mrk179+6W0aNHKTFcuPBFjbcJR4FbcbFiRTXlC25R3ct5l+OzmssVmJtR4M4Fi/G5c04VQTKSu3/++adqJX/99bfyTL8SSNuRYpEw1uuxY8fUteuxx9qr5fjWW/8u2dlZKoT05pvrZfHiFyQj45hUq1ZdSpQoIYsWzZdHH20lDz7YJGrSKwUyTxd7hwcOElSz11Qk1hdIrlWMo3PnJzT1CVxF09LsepmVV/qqSByze5/eeGOFKpWDUOXehxL+UgQupHs+PIyM9DUmbUmCPRmYuSyn1pBTjMkgqDiHIC60du26OtQPPtguW7dultGjJ+QM3XDx3bRpuxLJi7n4OhzfydGjRxQ/KPOOHDlEvW5Q0Fbv3t2UkH7zzV755z+/UpffwoULR002BH/WLvcLf9Ay91kSVHPxjKjaSFBzT4e7VdT9v/HhNogq3oArMP7gA//VV1/K4MHDVPHuYuXAgZ+la9eOMm/eIpk/f47prjb5tf3HH7/LrFnTZNu2zdK6dRvp3r276W5E/i5qEEbkGoWAEwh/oKljvLWLPHlwN0J7mZnZkpl56gIFRzPTB0WKRcJwnzL+fvvtNTJlynjp0eNZadGijcI2cOCzqubYv/9zsnXruxo3BOl/WFNvuOEmb9DG9M954CBBtWqBG98bfJdB8pD7MtzFn1yr6Ctc/1u3bqvfCaRjA5EZPnxMuIdhSfuFCl1IVl1qwKeCUHsHOS2m8Z+IObVSNd6YW3zb4da7dOlratkcMOBZadCg0QVW8P79e8l99zWQ+vUfkGXLFqvbL7Q33Av2lcmTx8np06ekceNH5JprrlE33lGjJuTkzp47d6Z8/fUeVfJFCAncimPJrdcdD+4Xlvzq+VQpCapPMEXnQySo/s3bt99+rW6Sa9a8IeXKXa2JpyGqNHDgELn77tr5VgZLKjaHjh27SIMGD+Z6zmxXG89OtGnziMbVDhgwRG688QZ190V+OFgow1ngagsVXQgnFS1aRG+oA0kdk98YUD82YmyKsJrmJRJl9vjDbZFwv1RB3Om3334jlSrZFYc+fXroDbbh0oX8eg89dJ9aPxo1aqz59pKS/IuvNhu/SKmPBw4SVCvXIrwa8K3Ys2e3pt2Aq304iz+5Vj37ibG0bNlEYHWL9QKy6hJZKiQQ/oOaPET34AYM7xzfioucQjkellMrySn64z63yG+Nswsu3BEL2rVrD+0y1mLNmrWkZs175NChgzJmzHBNM1a69OUyYsTYXNbxvXv3yMGDBzV9DOKQsW/AQwyp+pA25s8//9S8rcWKFVOdg8suK625TmOVnAI/7he+rXwrniJBtQLVCKmTBNX7RMDyiVjSLVs2yeHDh9XK1L//YKlU6Vr54Yd0zefVpUv3fGP1IIY0dOhA6dmzj4oS/PDD96a62ngbAdw6//a3y3MswAULQqwoWYnhyZNZ3l637Oe4PUY8KjZquPteLCbVn04UKAABqBQVgELqmJMnkfcutCXcFgm4b0GcC4cD4HrvvfdJ7dr3yoMP3qexqHDzRVm1aqV88cWnesPtS0x1aFEMX2s8cJCgWrX6QGjmzp2hxOb997fJiy++rN43+E7D5RRqp0j1FMriT67V48ePy4YNb0vLlo9pF5Gaqk2b5rJ+/ZZQdjnsbWEfLVy4gCA3N/YwuAHDqoqL1vzJqkFOC6ggktXk1GyQYP3fvn2LklEIR9apU0/X8s8//6SikjgHwaMMl/ZHjvwhL7ywVEUlY31v4X5h9krzvT4SVN+xironSVC9TxliCqdNm6SuWFDxRYze6tXvqHtOixYPq4tMp05d86wIrk8dO7aVkSPHy223VdNnIEBjlquN997n/URiIsSKiqiirr9pXwJt0/0999QxwBFkEiQ1uOLUWGAkW4fAxfHjWWE7AITSIuF5Mw03YwghwXW3YsU02bZtix58e/fupxbVlSuXy6pV64KDOsbf5oGDBNXMJe5+QMf+8emnu/SAD5GaBx5oKHfeWVN27tyhv7fIEWloHaAP7mlAzOyTe13+5FrF96ZZs4YybtxUuf76qpo2BOI68NCJ11KwoC0ndQ32MoOsgrCe99xxSrFiuDgtGJXk1JhbaG58/vknAp2ORx9trR5hL7wwVz3LWrd+XO64o4Y+Cp0DfzMeROv64X4RvpkjQQ0f9pa3TIJ6cYiNeCH3j+1rry3XNBxwh8Gt4YQJU3N9iN0PIzNmTJENG9bJlVeWzWmoSZNmI6vy0QAAHApJREFUesMarKtNsIsjKamgpKQkSUbGcSV0oSgQXoBYETACOQa+KCkpRVVlOCPjREDdwKEA9eIwB2KanZ1bfCmgSoN4KVQWCff4WeTxu+SSS1WdcdeuDzUuGgUuWLCmIpdvz559pUGDe5Ws3n9/wyBGGNuv8sBBgmrmCjd+T5FX+NNPP9Y8kLfccpt06/aUula2adNOZsyYrL+rgwY9f4GQjNUWKH9zrSJ9yMyZU9QKXK7cVTJ06Cj1WmFBejQXWYUbMPYleLDABbhAgYKCFGdw6w1FuImZcwHyCU+bhx5qoroFCBXBPrN06SJp0OAhad68pcYiI+Tp4Ycf0bRDhrZErKdwA87cL8xcbf7VRYLqH15R9TQJqm/TZRwQDGvVihUvy/z5s+WRR1pIr1799MY7M/OEFCmCdC62qIm3SE4uJMnJhVWsCPE0VhZvqWPg7otNDcTV1wIlRGAOiyziao8fz7ZEqt/X/hjPhcIiYRx6f/75R5k5c5qcO3dWbr/9TlVf3Lx5k7oOGgWpZBCHihhoxIxFo+Kmv3MQzPM8cJCgBrN+8noXqqdPP91R8B1s1+5Jadr0UenZs4s0avSw3HHHXTJ4cB/p1Kmb3H77HZo3G3oHECG65546Wp27ijz+PxSWVbMxiLf63Mkq3ID//PNEVJFTrDmceaDanJ6+T269tZqULFlSatWqIzfeeJOGK4GkQhn4kUdayvLlS5Wg4pl4KtwvwjfbJKjhw97ylklQ/YPYIAVvvvm6vPPO2zJz5jxJTS0hr766TPOpITn1c88N10rNVIf1r5f+PZ2Skqi3vSCpSKZtdvEndUxqajF1j/IlP6tRL/oLEaTTp83ve6BYWGWRABl98cWFMmrUeO0abrYnTRqraWEqV75OoAyK+NLHHmsu1avfKfff30gvTmDJN5KkR8u6DBR7M97jgYME1Yx1ZNSxefO7smrVCqlYsZI0btxUcMHpcOxTQRoQVJBQXHguW/aaTJ06UX799T9yww03yv/93x659NJL1eMhObnoBV0yLkxhyYRVKxKLZ9oto4/YQxGDO2fOCxd0+9ChQzJ69POqlI/43GHDxsRlPmZPYDyxhDr76tUr9VIc33+EdUCQyL1s2rRexYxKlrxE/xnWzS5dnvFrqSCn6WeffSIVKqTJ4cP/FdRZuvTf5JprykvduvVl9OhhKrj0wAONours4xcIF3mY+4VZSPpfDwmq/5hFzRskqP5PFQ74/fv31oNDr159JTGxsLRq1VTVUL//3iEHD/6a416J2q12z/J/BBe+Ubx44b/iQI+ZFrcZSOoYvAOSigPXyZPZeQ4NrsBIHQNSjWdOnLgwdYwZmERiHf/+934ZN26E3lgjrykuRd555y3NMWcUuKN/+OEH8o9/fK4HPMQMtW37hFpmWHxDgAeOC3HiXuHb2snrKbhD/ve/BzV9h7t1CVoEUDrFwf9///uvxvQ9//wgGTDgObnuuqpaFaxXIB7QQFi7drVkZBzVmFUI1KDAY+LZZ59Ra+uTT3aOqP3GM+3WFVeU0T7jO9anT3cNfcmLoAKX+vUbqKjg0qUval7Nbt16Bj4BMfCmJ5ZQaQdOixe/opcXY8eOUMV2Q7zKGPL06ZOkatUbL0gn4w8k3333L0E90Nr4+99vl61b35NJk8ZJqVKltG0IRQ0aNEyuvvoaf6qNmWe5X4RvKklQw4e95S3z0BEYxLgBv+mmWzXZNW7E33zzDb25bN/+SRk4EK5aXeWmm27RyiGKlJZWKbCGQvaWU1JTEcMpakkNNhk5NqxAU8dAvh8kFSrDngJOIKXIn4oY3oyMk3LmjK/S/iED0vSGPvroAylePFUFumAx+fDDHSpQMWHCNIHbIGKchw8fqxYGHFaHDOmvB9gHH3xYfvvtfyFXBDUdgDBUyAMHCapVyw4XnPgDsRx4Npw8makWU5BLKPlCFR4q8SKIZSyshPPjj3cKtA/gHYGUNBBXgoo8hJZQ6tWrKfPnL1GCghIpl6J5pd2CcFDv3t2kYcOHdByeBBUxmw0b1pWNG7cpRhAa7N69i6xa9bZVUxIV9XpiicvcAwd+kmrVXBePiG/+7bfDqjPgXnDBgXy7+Flaml0v0gMJ8UCYCC7g27fvqKKRiKOuW/c+jU0tX76i7jOxnErmYouE+0X4foVIUMOHveUtk6D6B7H7xo9bXdwCw3oFWXWQVpBVpJXBLSY21169ugncMleuXBuxLlgGAojnLFGiqDid55Sk4oDkb0FclEusyKaxpIHGtSJeB2q8u3fvkUqVKml9EFKCW68rdUx8WE2//nqvdO36pJQsWUpjnW+++RYVQoJbL9bf0KEjpWPHx6Vhwwf1hhxEtl+/niq6AotppBxU/V1H4X6eBw4S1FCswf37v5dXX31ZXfWXLFmu5BTieWPHTtbLph9//Le6UeLS6fLLy0iPHs9qtxCfOm/eLBk7dpL8+OOP0r17JyUeILR16tRVq6x7CTdxcA95gFIxLMawpkK8zZOg/vbbb9KpUztZu3ajDgGEFQR8x45PQzElEd9GXgrxyD0KzBBeZKQQMwYyeHA/ad26rVrYIWQEwj98+Bifx2nsIYg3nTBhlOZAxTr0FNmL572G+4XPy8n0B/0/pZreBVZoFQIkqMEhi9gLkAe4UPbv3zNH5AK1grziZvyVV1zW1Wj4gMOCCpKKQ4G/irpJSYWVVCK3an7uuf6gDUXAtm0fkxEjRkmLFs3l9OmzqtAbbQqI/ozZ81nkGIS19PjxDLUaI9/c+PFTNBk6VDRx8ECu01deeUmysrIFSr716tXX9cgSOAI8cJCgBr56/H8T7prYIxBjOH78KLHZEpRorF//tnTo8JQsWrRAnn66u8YP4tuMOMCJE8doKAkI7mef7VKLFjx6MjIylKi4K8cbPQrXHmSQql9++VkQNzlmzCTZvfsfeRJUpKzp0qWDrFmzIYeg1q9fS7Zv3+U/sDH4hidBBV64lITL9xNPPHXREUMgr2XLJrJp0/aAkBk+fLDuQS+9tELfp56BC0buFwEtJ1NeIkE1BcbIrIQENbB5cf8wP/dcf5XYh+hFv36DpUKFCrrBQugBogEgDHD3jZaPOZQHS5RIVlXcEye8K+rmlzomMGTPvwUr6rp1b8vEiRNkypTpUq2aK79aPBXcdsO1CxbRa6+topZT/Fu1atXl2msry7JlS2T69Dkq1AWryuWXXyGlSrnEMFgCR4AHjgux414R+Hry5U2DPIKsbt++Rd33b7nl71Kt2u3qvgnXWEPcZt26tfLOO2tl0aKX5YEH6siIEWNz8k+CgMDN86677lYSiBABfBfc418RdoKLr2ee6SVly5bzpXtBPWOQKuRM/eabvVKoUKK6NkPUDeEIhugbGjFcfEGisLfQxTc39O4E9aefftSL8ObNW+llpWc5fvy4bNjwdk5cKi4827RpLuvXb/FrPo21iXUzYsQQGTp0hO5H8ZBCxheguF/4gpI1z5CgWoNrRNTKQ0fg02C4TWFDhQQ73CuLFSsu7du30nhBxKEeOXJEhg4dIGPGTFShgmgpBQsmKElFHCgsovkVb6ljAhuvU1MxFCmSpPnjZsyYJcuXvyzTp8+Vm266ObAqo/gtHEDKl68gPXr00VjnBQvmyOnTp6RFi9ayc+cHmkexe/feUTzCyOs6DxwkqJG0KuHqP3fuDN1fSpcuLfv3/6BpPcqXLy9du3aU9977QLsLElu37l2ybt1m+eCDbRqfjktSiBKBXPTpM0Ds9sqycuVygegOrLJ5WVrNHntebqn5WVDRdv/+vZRQ16//gCxbtljg9tu370CzuxWV9RlYpqamStu2LaRz52456rmeA8IZpVmzhjJu3FS5/vqqggsCWFwHDBgS0NhhuceF/LBho+Sqq+JTECkv4LhfBLScTHmJBNUUGCOzEhLU4ObF3SoKkvrkk22lSZPmuTbTyZPHydVXl9dUIP7eOCJGBznxUGrUuEuTuy9cOC+n0xA+gNrjpEkzcg3EDGn5xMQCUrx4EY0l9RQrMlK8IMYUP8cNqxkFicyh0Auc4M576tRZrXvq1Any8ccfqtuXvxherF+RnALBuLUGKd25830VoEDcKeKHYGVBzDOUpOHWlVcKCjPmI17r4IGDBDUS1/7OnTsEbrLVq9eQihXTBPGF0DoYPXqCdhfus/iD2FR8Mxs1apyj9gs13IyMY3rRNXhwX7n55lt1rwpFehpfCCo8RXDZVrPmPZp+Z8yY4XLkyJ9SuvTlaiEORNgnEucw2D4ZWGJPwGUlzhZGAX4QznLHcs+erzQcBMr45cpdJUOHjlKPr0AL9kzPGOdA64qV97hfhG8mSVDDh73lLZOgmgfxgQM/q8Iq3DGN8v77W2XYsMFKIBE/5E/54ovPZMmShTJr1kIlZX379pBmzVrkJG5HvCFuz6dOna0bj3sxQ1oe9SUlFZSUlCTJyDgup06d0X5AnRcEFcQUOUvNKEgdAxXapKREyco6pUJITuf5Tw/IGdL3mOmOFi0pEDZufEfj0vr0GShNmzbPgRv5TUlMzVh9F9bBAwcJqjUry9xa4fKPdCwgmygdOrSR+vUbqrXsjTdeU+sacnODxCJFzY4d22T06IkycOCzSmRuu62auR0KU22BXDSacYkbpuGGtdlwxTGHddBeGud+Eb7ZIUENH/aWt0yCag7EeakkwvI1a9ZUGTToeWnQ4EG/G4IbFyxmVaveoO9OmzZRypa9Sl07UZDIHInf3Qmx0YhZ0vKoLzm5kBQsaJM5c+bKa6+tkA0bNkrBghB98ntIeb6QmFhQrabY+GA1PX36nDkVe6klWlIgwE38yScf04sIuPrCpRwHThbrEOCBgwTVutVlTc3w5mncuL7Mm/eiXlwNGTJAhg0bnePCiz0BSt9QAUeMK/KKgrxGewn0otGsS9xox4/9Dx4B7hfBYxhoDSSogSIXBe+RoFozSXPnztQ4nylTZkn16ncG3Qiss7CWzp+/WK2l+P9evbpq+hokcPcswUrLu9eHtDlTpozTeNo+ffpqGgMzChSDQUwTEwtJZma2ZGaGJ3VMpKdAgGrigAHPysCBQ9RSYqaLsxnzGIt18MBBghrt6/rFFxfIP/7xuaabgur3V199KS+8sFRdf3HRBWGdpKSkaB+murPiAhiK+rNnL9T0Nd5yrWLQZl7iRj2IHEBQCHC/CAq+oF4mQQ0Kvsh+mQTVmvlBAvJy5a5WV6tgXWJgSR0woLd07NglxxILAoyYnMcf7+B1AIFKy6PfM2ZMljVrVqkIw+DBA+XSSy/RHKlIeRJMgSsvhJDOnj0nGRnhTR0TDSkQtm59T+rVuz8YyPmuHwjwwEGC6sdyidhH9+7dIx99tFNSUopJs2bNBaquELmBOBKUwGOp+HPRiHGbeYkbSzhyLP4jwP3Cf8zMeoME1SwkI7AeElRrJyVYcgrr5dChA6Vnzz65CEqrVk1l2rQ5ebpomSUtn5WVpW7EENJwHWackpqaLAkJNjl69FhALr5IYQOrKWJYEWd68uRpayfAh9qZAsEHkOLsER44SFBjccljP9my5T0NE/HULYj28fpz0eg51kAvcaMdM/bfHAS4X5iDYyC1kKAGglqUvEOCGrkThfxvHTu2lZEjx+cSs4CrLcQw1q7dmGfnzZaWd2/EZnNKiRKueFGQVBFfPw9OTRsDqymElWA1PReaUFOvE+yLwqR7JUyB4BXSqH+ABw4S1KhfxBcZQLAXp5GIjT8XjWZd4kYiDuxT6BHgfhF6zI0WfT2Bhq+HbDlgBEhQA4bO8hdnzJiieezc89Q1adJM89jhZ4gnci9WSsu7t4PYUZBUiPVkZJzwigNyqqakFJWEhAQ5fjxbsrPNUf712rCPD/hCUJkCwUcwY+QxHjhIUGNkKcfNMHz5jhtgWHmJGzeAc6A5CHC/CN9iIEENH/aWt0yCajnEMdkAXHVLlEiW7OzTcuJEZj5jdGrqmCJFCutzIKdmKf/GJKgcVMQgwAMHCWrELEZ2xCcEfCGoobrE9anDfChmEOB+Eb6pJEENH/aWt0yCajnEMdsALKMgqZmZWXLyZFaucSLGNCUlWV2AkTrm1KmzMYsDBxZ7CPDAQYIae6uaIyICRMAKBLhfWIGqb3WSoPqGU1Q+RYIaldMWMZ1OTCwgxYsXUStqVtYpsdmQOiZZChdOlJMnT2n6GKeTn5CImTB2xCcEeOAgQfVpofAhIkAE4h4B7hfhWwI8XYYPe8tbJkG1HOKYbyApCdbSJIHqb+HChTUFDUSQzpyJEBWkmJ8BDtBsBHjgIEE1e02xPiJABGITAe4X4ZtXEtTwYW95yySolkMcFw0ULVpIY01hMc3MPOWHum9cwMNBRhkCPHCQoEbZkmV3iQARCBMC3C/CBDxPmuEDni0TgWhCwOl0JttstvwUk6JpKOwrESACRIAIEAEiQASIQAQjQAtqBE8Ou0YEYh2BtLS04gkJCbsSEhIe/O677340xmu327vbbLbm+/btq+2Jgd1uby8iE0Tkv3/9bIPD4RgS61hxfESACBABIkAEiAARiAcESFDjYZY5RiIQgQhUqlSpus1mWyQilRMSEuwGQU1LS7suISFhs81m+z4fgjrb6XTuSk9Pfy0Ch8UuEQEiQASIABEgAkSACASBAAlqEODxVSJABAJHwG63vygiy0TklYSEhNogqGlpaYUTEhK22my2l0SkXT4E9VOn03lERK4UkT1JSUk99u7d+2fgPeGbRIAIEAEiQASIABEgApGCAAlqpMwE+0EE/ECgUqVKo+ACKyJOEVnscDimVapUqZ7NZpsmIkVsNtvr+/btG+pZZYUKFa4qWLDgchEp7XQ69xUqVOixb7/99rgfTZv+qN1u/9EgqHa7fZrT6dxboECBfzudzhH5ENS1Npttyr59+3bZ7fZxNpvtqn379j1mesdYIREgAkSACBABIkAEiEDIESBBDTnkbJAIBIdAWlraPQkJCWPLlClT+/vvvy+UnJz8rYg0EZF3bDbbPVdcccWBgwcPbnA6nTMcDscm99bsdvt6EVnucDhWXnvttc+fO3cuJT09fWBwPQrubYOgnj17tlJCQkKXffv2Na9cuXLt/Aiqe2s33HBDyezs7B8cDkep4HrBt4kAESACRIAIEAEiQAQiAQES1EiYBfaBCPiJwG233Vboyy+/PF2lSpWrz549+9G5c+faJiQkDHM4HHVRld1uf9xms9XZt2/fk0bVeCcjI+P3MmXKlNqxY8eZihUrlitQoMAHDoejgp/Nm/q4QVCdTucwp9N5p4hki0iKiFwuIhBAamk0WKFChdSCBQs+6XA4puPfrr/++lKnT5/+zuFwlDa1U6yMCBABIkAEiAARIAJEICwIkKCGBXY2SgSCR8But4+02Wz9nE7nKqfT+Z6INEpPT2+Lmv9y9x3gcDjqGy1VqVLlirNnz37hcDjK4t9q165d8Ndff810OByJwfcm8BrcXXyNWi5iQS1gt9t/cTqdTdLT0z+z2+3DEIvqcDi6BN4DvkkEiAARIAJEgAgQASIQKQiQoEbKTLAfRCAABMqUKZOckpLyjojsFJE0h8Px+F8E9T4R6Zuenv6AUa3dboeo0KcOh6OcG0E97nA4kgJo2rRXfCGoEFSy2Wzr9u3bt85ut98tIjMRa+t0Oh1nz55tt3///qOmdYgVEQEiQASIABEgAkSACIQNARLUsEHPholAYAjY7fbKTqczKT09/Z+owW63P+N0OpvbbLazDoej3l//lq+Lr8PhKCkiZyPFxTcwFPgWESACRIAIEAEiQASIQCwiQIIai7PKMcU0Ana7vaGIjDx37lzNxMRE55kzZyB8tEREJp89e7bODz/88G+IIdlstiX79u1b5Q6G3W6HeNKr6enpKypVqjTEZrOVcTgcz8Q0YBwcESACRIAIEAEiQASIQNQgQIIaNVPFjhKB8wjY7fYRItLC6XSetdlsbzocjhF2ux0CSUgzk+R0Ojemp6f3QRoad/dYiCqdO3dumdPpRJqZn5OSklozhyhXFhEgAkSACBABIkAEiECkIECCGikzwX4QASJABIgAESACRIAIEAEiQATiHAES1DhfABw+ESACRIAIEAEiQASIABEgAkQgUhAgQY2UmWA/iAARIAJEgAgQASJABIgAESACcY4ACWqcLwAOnwgQASJABIgAESACRIAIEAEiECkIkKBGykywH0SACBABIkAEiAARIAJEgAgQgThHgAQ1zhcAh08EiAARIAJEgAgQASJABIgAEYgUBEhQI2Um2A8iQASIABEgAkSACBABIkAEiECcI0CCGucLgMMnAkSACBABIkAEiAARIAJEgAhECgIkqJEyE+wHESACRIAIEAEiQASIABEgAkQgzhEgQY3zBcDhEwEiQASIABEgAkSACBABIkAEIgUBEtRImQn2gwgQASJABIgAESACRIAIEAEiEOcIkKDG+QLg8IkAESACRIAIEAEiQASIABEgApGCAAlqpMwE+0EEiAARIAJEgAgQASJABIgAEYhzBEhQ43wBcPhEgAgQASJABIgAESACRIAIEIFIQYAENVJmgv0gAkSACBABIkAEiAARIAJEgAjEOQIkqHG+ADh8IkAEiAARIAJEgAgQASJABIhApCBAghopM8F+EAEiQASIABEgAkSACBABIkAE4hwBEtQ4XwAcPhEgAkSACBABIkAEiAARIAJEIFIQIEGNlJlgP4gAESACRIAIEAEiQASIABEgAnGOAAlqnC8ADp8IEAEiQASIABEgAkSACBABIhApCJCgRspMsB9EgAgQASJABIgAESACRIAIEIE4R4AENc4XAIdPBIgAESACRIAIEAEiQASIABGIFARIUCNlJtgPIkAEiAARIAJEgAgQASJABIhAnCNAghrnC4DDJwJEgAgQASJABIgAESACRIAIRAoCJKiRMhPsBxEgAkSACBABIkAEiAARIAJEIM4RIEGN8wXA4RMBIkAEiAARIAJEgAgQASJABCIFARLUSJkJ9oMIEAEiQASIABEgAkSACBABIhDnCJCgxvkC4PCJABEgAkSACBABIkAEiAARIAKRggAJaqTMBPtBBIgAESACRIAIEAEiQASIABGIcwRIUON8AXD4RIAIEAEiQASIABEgAkSACBCBSEGABDVSZoL9IAJEgAgQASJABIgAESACRIAIxDkCJKhxvgA4fCJABIgAESACRIAIEAEiQASIQKQgQIIaKTPBfhABIkAEiAARIAJEgAgQASJABOIcARLUOF8AHD4RIAJEgAgQASJABIgAESACRCBSECBBjZSZYD+IABEgAkSACBABIkAEiAARIAJxjgAJapwvAA6fCBABIkAEiAARIAJEgAgQASIQKQiQoEbKTLAfRIAIEAEiQASIABEgAkSACBCBOEeABDXOFwCHTwSIABEgAkSACBABIkAEiAARiBQESFAjZSbYDyJABIgAESACRIAIEAEiQASIQJwjQIIa5wuAwycCRIAIEAEiQASIABEgAkSACEQKAiSokTIT7AcRIAJEgAgQASJABIgAESACRCDOESBBjfMFwOETASJABIgAESACRIAIEAEiQAQiBYH/B+gvZgeQxHgkAAAAAElFTkSuQmCC\" width=\"936\">"
            ],
            "text/plain": [
              "<IPython.core.display.HTML object>"
            ]
          },
          "metadata": {},
          "output_type": "display_data"
        },
        {
          "name": "stdout",
          "output_type": "stream",
          "text": [
            "\n",
            "\n",
            "\n"
          ]
        }
      ],
      "source": [
        "%matplotlib notebook\n",
        "# Create space for the plot\n",
        "print(\"\\n\\n\")\n",
        "\n",
        "# Get the Alcohol and Alkalinity of Ash values and seperate them\n",
        "p_alc_tst = [[x_tst[j][0] for j in range(len(x_tst)) if tst_preds[j] == i] for i in range(3)]\n",
        "p_aoa_tst = [[x_tst[j][3] for j in range(len(x_tst)) if tst_preds[j] == i] for i in range(3)]\n",
        "p_ash_tst = [[x_tst[j][2] for j in range(len(x_tst)) if tst_preds[j] == i] for i in range(3)]\n",
        "\n",
        "y_alc_tst = [[x_tst[j][0] for j in range(len(x_tst)) if y_tst[j] == i] for i in range(3)]\n",
        "y_aoa_tst = [[x_tst[j][3] for j in range(len(x_tst)) if y_tst[j] == i] for i in range(3)]\n",
        "y_ash_tst = [[x_tst[j][2] for j in range(len(x_tst)) if y_tst[j] == i] for i in range(3)]\n",
        "\n",
        "# Create the figure\n",
        "fig = plt.figure(figsize=(13, 6))\n",
        "\n",
        "# Create the subplots\n",
        "ax0 = fig.add_subplot(121, projection='3d')\n",
        "ax1 = fig.add_subplot(122, projection='3d')\n",
        "\n",
        "# Set the main title\n",
        "fig.suptitle(\"Logistic Regression Classification (Alcohol vs. Alkalinity of Ash vs. Ash)\", fontsize=20)\n",
        "\n",
        "# Plot the data\n",
        "for i in range(3):\n",
        "    ax0.scatter(p_alc_tst[i], p_aoa_tst[i], p_ash_tst[i])\n",
        "    ax1.scatter(y_alc_tst[i], y_aoa_tst[i], y_ash_tst[i])\n",
        "\n",
        "# Set the legend\n",
        "fig.legend(labels=[\"Class 0\", \"Class 1\", \"Class 2\"], loc='center right')\n",
        "\n",
        "# Set the legend, axis labels, and title \n",
        "ax0.set_xlabel(\"Alcohol\")\n",
        "ax0.set_ylabel(\"Alkalinity of Ash\")\n",
        "ax0.set_zlabel(\"Ash\")\n",
        "ax0.set_title(\"Predicted Classification\")\n",
        "ax1.set_xlabel(\"Alcohol\")\n",
        "ax1.set_ylabel(\"Alkalinity of Ash\")\n",
        "ax1.set_zlabel(\"Ash\")\n",
        "ax1.set_title(\"Real Classification\")\n",
        "\n",
        "# Show the plot and create space\n",
        "print(\"\\n\\n\")"
      ]
    },
    {
      "cell_type": "code",
      "execution_count": null,
      "metadata": {
        "id": "oTu-unuDk73l"
      },
      "outputs": [],
      "source": []
    }
  ],
  "metadata": {
    "colab": {
      "provenance": [],
      "include_colab_link": true
    },
    "kernelspec": {
      "display_name": "Python 3 (ipykernel)",
      "language": "python",
      "name": "python3"
    },
    "language_info": {
      "codemirror_mode": {
        "name": "ipython",
        "version": 3
      },
      "file_extension": ".py",
      "mimetype": "text/x-python",
      "name": "python",
      "nbconvert_exporter": "python",
      "pygments_lexer": "ipython3",
      "version": "3.9.7"
    }
  },
  "nbformat": 4,
  "nbformat_minor": 0
}